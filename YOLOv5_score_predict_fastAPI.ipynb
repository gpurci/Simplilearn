{
  "cells": [
    {
      "cell_type": "markdown",
      "metadata": {
        "id": "yNveqeA1KXGy"
      },
      "source": [
        "###Install Requirements"
      ]
    },
    {
      "cell_type": "code",
      "execution_count": null,
      "metadata": {
        "colab": {
          "base_uri": "https://localhost:8080/"
        },
        "id": "kTvDNSILZoN9",
        "outputId": "035b5470-8059-427f-887a-b3629581431c"
      },
      "outputs": [
        {
          "output_type": "stream",
          "name": "stdout",
          "text": [
            "Cloning into 'yolov5'...\n",
            "remote: Enumerating objects: 14302, done.\u001b[K\n",
            "remote: Counting objects: 100% (60/60), done.\u001b[K\n",
            "remote: Compressing objects: 100% (51/51), done.\u001b[K\n",
            "remote: Total 14302 (delta 26), reused 30 (delta 9), pack-reused 14242\u001b[K\n",
            "Receiving objects: 100% (14302/14302), 13.65 MiB | 18.86 MiB/s, done.\n",
            "Resolving deltas: 100% (9833/9833), done.\n",
            "/content/yolov5\n",
            "\u001b[K     |████████████████████████████████| 182 kB 4.4 MB/s \n",
            "\u001b[K     |████████████████████████████████| 62 kB 106 kB/s \n",
            "\u001b[K     |████████████████████████████████| 1.6 MB 9.4 MB/s \n",
            "\u001b[K     |████████████████████████████████| 42 kB 336 kB/s \n",
            "\u001b[K     |████████████████████████████████| 67 kB 2.1 MB/s \n",
            "\u001b[K     |████████████████████████████████| 145 kB 32.6 MB/s \n",
            "\u001b[K     |████████████████████████████████| 138 kB 57.4 MB/s \n",
            "\u001b[K     |████████████████████████████████| 178 kB 64.6 MB/s \n",
            "\u001b[K     |████████████████████████████████| 54 kB 2.8 MB/s \n",
            "\u001b[K     |████████████████████████████████| 62 kB 1.4 MB/s \n",
            "\u001b[?25h  Building wheel for wget (setup.py) ... \u001b[?25l\u001b[?25hdone\n"
          ]
        }
      ],
      "source": [
        "#clone YOLOv5 and\n",
        "!git clone https://github.com/ultralytics/yolov5  # clone repo\n",
        "%cd yolov5\n",
        "%pip install -qr requirements.txt # install dependencies\n",
        "%pip install -q roboflow\n",
        "\n",
        "import torch\n",
        "import os\n",
        "from IPython.display import Image, clear_output  # to display images\n",
        "\n",
        "#print(f\"Setup complete. Using torch {torch.__version__} ({torch.cuda.get_device_properties(0).name if torch.cuda.is_available() else 'CPU'})\")"
      ]
    },
    {
      "cell_type": "code",
      "execution_count": null,
      "metadata": {
        "colab": {
          "base_uri": "https://localhost:8080/"
        },
        "id": "o8VblZ58-cFP",
        "outputId": "bcb168f1-9fa3-4e6d-939b-4bd982257ac4"
      },
      "outputs": [
        {
          "output_type": "stream",
          "name": "stdout",
          "text": [
            "Looking in indexes: https://pypi.org/simple, https://us-python.pkg.dev/colab-wheels/public/simple/\n",
            "Collecting fastapi\n",
            "  Downloading fastapi-0.88.0-py3-none-any.whl (55 kB)\n",
            "\u001b[K     |████████████████████████████████| 55 kB 2.2 MB/s \n",
            "\u001b[?25hRequirement already satisfied: pydantic!=1.7,!=1.7.1,!=1.7.2,!=1.7.3,!=1.8,!=1.8.1,<2.0.0,>=1.6.2 in /usr/local/lib/python3.7/dist-packages (from fastapi) (1.10.2)\n",
            "Collecting starlette==0.22.0\n",
            "  Downloading starlette-0.22.0-py3-none-any.whl (64 kB)\n",
            "\u001b[K     |████████████████████████████████| 64 kB 3.1 MB/s \n",
            "\u001b[?25hCollecting anyio<5,>=3.4.0\n",
            "  Downloading anyio-3.6.2-py3-none-any.whl (80 kB)\n",
            "\u001b[K     |████████████████████████████████| 80 kB 8.3 MB/s \n",
            "\u001b[?25hRequirement already satisfied: typing-extensions>=3.10.0 in /usr/local/lib/python3.7/dist-packages (from starlette==0.22.0->fastapi) (4.1.1)\n",
            "Collecting sniffio>=1.1\n",
            "  Downloading sniffio-1.3.0-py3-none-any.whl (10 kB)\n",
            "Requirement already satisfied: idna>=2.8 in /usr/local/lib/python3.7/dist-packages (from anyio<5,>=3.4.0->starlette==0.22.0->fastapi) (2.10)\n",
            "Installing collected packages: sniffio, anyio, starlette, fastapi\n",
            "Successfully installed anyio-3.6.2 fastapi-0.88.0 sniffio-1.3.0 starlette-0.22.0\n"
          ]
        }
      ],
      "source": [
        "!pip install fastapi"
      ]
    },
    {
      "cell_type": "code",
      "execution_count": null,
      "metadata": {
        "colab": {
          "base_uri": "https://localhost:8080/"
        },
        "id": "Y7whKGKg-fzQ",
        "outputId": "7a057bfd-d6dc-4769-f04b-bf123526c948"
      },
      "outputs": [
        {
          "output_type": "stream",
          "name": "stdout",
          "text": [
            "Looking in indexes: https://pypi.org/simple, https://us-python.pkg.dev/colab-wheels/public/simple/\n",
            "Collecting uvicorn[standard]\n",
            "  Downloading uvicorn-0.20.0-py3-none-any.whl (56 kB)\n",
            "\u001b[K     |████████████████████████████████| 56 kB 2.7 MB/s \n",
            "\u001b[?25hRequirement already satisfied: click>=7.0 in /usr/local/lib/python3.7/dist-packages (from uvicorn[standard]) (7.1.2)\n",
            "Requirement already satisfied: typing-extensions in /usr/local/lib/python3.7/dist-packages (from uvicorn[standard]) (4.1.1)\n",
            "Collecting h11>=0.8\n",
            "  Downloading h11-0.14.0-py3-none-any.whl (58 kB)\n",
            "\u001b[K     |████████████████████████████████| 58 kB 5.2 MB/s \n",
            "\u001b[?25hRequirement already satisfied: python-dotenv>=0.13 in /usr/local/lib/python3.7/dist-packages (from uvicorn[standard]) (0.21.0)\n",
            "Requirement already satisfied: pyyaml>=5.1 in /usr/local/lib/python3.7/dist-packages (from uvicorn[standard]) (6.0)\n",
            "Collecting uvloop!=0.15.0,!=0.15.1,>=0.14.0\n",
            "  Downloading uvloop-0.17.0-cp37-cp37m-manylinux_2_17_x86_64.manylinux2014_x86_64.whl (4.2 MB)\n",
            "\u001b[K     |████████████████████████████████| 4.2 MB 36.7 MB/s \n",
            "\u001b[?25hCollecting watchfiles>=0.13\n",
            "  Downloading watchfiles-0.18.1-cp37-abi3-manylinux_2_17_x86_64.manylinux2014_x86_64.whl (1.2 MB)\n",
            "\u001b[K     |████████████████████████████████| 1.2 MB 36.2 MB/s \n",
            "\u001b[?25hCollecting websockets>=10.4\n",
            "  Downloading websockets-10.4-cp37-cp37m-manylinux_2_5_x86_64.manylinux1_x86_64.manylinux_2_17_x86_64.manylinux2014_x86_64.whl (106 kB)\n",
            "\u001b[K     |████████████████████████████████| 106 kB 65.5 MB/s \n",
            "\u001b[?25hCollecting httptools>=0.5.0\n",
            "  Downloading httptools-0.5.0-cp37-cp37m-manylinux_2_5_x86_64.manylinux1_x86_64.manylinux_2_17_x86_64.manylinux2014_x86_64.whl (404 kB)\n",
            "\u001b[K     |████████████████████████████████| 404 kB 38.2 MB/s \n",
            "\u001b[?25hRequirement already satisfied: anyio>=3.0.0 in /usr/local/lib/python3.7/dist-packages (from watchfiles>=0.13->uvicorn[standard]) (3.6.2)\n",
            "Requirement already satisfied: sniffio>=1.1 in /usr/local/lib/python3.7/dist-packages (from anyio>=3.0.0->watchfiles>=0.13->uvicorn[standard]) (1.3.0)\n",
            "Requirement already satisfied: idna>=2.8 in /usr/local/lib/python3.7/dist-packages (from anyio>=3.0.0->watchfiles>=0.13->uvicorn[standard]) (2.10)\n",
            "Installing collected packages: h11, websockets, watchfiles, uvloop, uvicorn, httptools\n",
            "Successfully installed h11-0.14.0 httptools-0.5.0 uvicorn-0.20.0 uvloop-0.17.0 watchfiles-0.18.1 websockets-10.4\n"
          ]
        }
      ],
      "source": [
        "!pip install \"uvicorn[standard]\""
      ]
    },
    {
      "cell_type": "code",
      "execution_count": null,
      "metadata": {
        "colab": {
          "base_uri": "https://localhost:8080/"
        },
        "id": "hA-DXkGxL0QW",
        "outputId": "0eb4bd1a-37f5-4023-ea23-6dc6a5f342d3"
      },
      "outputs": [
        {
          "output_type": "stream",
          "name": "stdout",
          "text": [
            "Looking in indexes: https://pypi.org/simple, https://us-python.pkg.dev/colab-wheels/public/simple/\n",
            "Requirement already satisfied: fastapi in /usr/local/lib/python3.7/dist-packages (0.88.0)\n",
            "Collecting nest-asyncio\n",
            "  Downloading nest_asyncio-1.5.6-py3-none-any.whl (5.2 kB)\n",
            "Collecting pyngrok\n",
            "  Downloading pyngrok-5.2.1.tar.gz (761 kB)\n",
            "\u001b[K     |████████████████████████████████| 761 kB 4.8 MB/s \n",
            "\u001b[?25hRequirement already satisfied: uvicorn in /usr/local/lib/python3.7/dist-packages (0.20.0)\n",
            "Requirement already satisfied: starlette==0.22.0 in /usr/local/lib/python3.7/dist-packages (from fastapi) (0.22.0)\n",
            "Requirement already satisfied: pydantic!=1.7,!=1.7.1,!=1.7.2,!=1.7.3,!=1.8,!=1.8.1,<2.0.0,>=1.6.2 in /usr/local/lib/python3.7/dist-packages (from fastapi) (1.10.2)\n",
            "Requirement already satisfied: typing-extensions>=3.10.0 in /usr/local/lib/python3.7/dist-packages (from starlette==0.22.0->fastapi) (4.1.1)\n",
            "Requirement already satisfied: anyio<5,>=3.4.0 in /usr/local/lib/python3.7/dist-packages (from starlette==0.22.0->fastapi) (3.6.2)\n",
            "Requirement already satisfied: sniffio>=1.1 in /usr/local/lib/python3.7/dist-packages (from anyio<5,>=3.4.0->starlette==0.22.0->fastapi) (1.3.0)\n",
            "Requirement already satisfied: idna>=2.8 in /usr/local/lib/python3.7/dist-packages (from anyio<5,>=3.4.0->starlette==0.22.0->fastapi) (2.10)\n",
            "Requirement already satisfied: PyYAML in /usr/local/lib/python3.7/dist-packages (from pyngrok) (6.0)\n",
            "Requirement already satisfied: h11>=0.8 in /usr/local/lib/python3.7/dist-packages (from uvicorn) (0.14.0)\n",
            "Requirement already satisfied: click>=7.0 in /usr/local/lib/python3.7/dist-packages (from uvicorn) (7.1.2)\n",
            "Building wheels for collected packages: pyngrok\n",
            "  Building wheel for pyngrok (setup.py) ... \u001b[?25l\u001b[?25hdone\n",
            "  Created wheel for pyngrok: filename=pyngrok-5.2.1-py3-none-any.whl size=19792 sha256=cee8ba66469ab983361488b797774fca88c0769aaedfe3ef386830539e9db6e4\n",
            "  Stored in directory: /root/.cache/pip/wheels/bd/77/d3/ebfe524b4ba66f80fe71ec1e3aae9301ed085effa1a3e23919\n",
            "Successfully built pyngrok\n",
            "Installing collected packages: pyngrok, nest-asyncio\n",
            "Successfully installed nest-asyncio-1.5.6 pyngrok-5.2.1\n"
          ]
        }
      ],
      "source": [
        "!pip install fastapi nest-asyncio pyngrok uvicorn"
      ]
    },
    {
      "cell_type": "code",
      "execution_count": null,
      "metadata": {
        "colab": {
          "base_uri": "https://localhost:8080/"
        },
        "id": "cpaXsoetdNJJ",
        "outputId": "6ccc0e99-a3cd-4c81-eb86-7ce2f90da98e"
      },
      "outputs": [
        {
          "output_type": "stream",
          "name": "stdout",
          "text": [
            "Looking in indexes: https://pypi.org/simple, https://us-python.pkg.dev/colab-wheels/public/simple/\n",
            "Collecting python-multipart\n",
            "  Downloading python-multipart-0.0.5.tar.gz (32 kB)\n",
            "Requirement already satisfied: six>=1.4.0 in /usr/local/lib/python3.7/dist-packages (from python-multipart) (1.15.0)\n",
            "Building wheels for collected packages: python-multipart\n",
            "  Building wheel for python-multipart (setup.py) ... \u001b[?25l\u001b[?25hdone\n",
            "  Created wheel for python-multipart: filename=python_multipart-0.0.5-py3-none-any.whl size=31678 sha256=3e82a130546af11f4abb7eb1ac5c28c26893a0393754e59df65ce4a2a2b757a5\n",
            "  Stored in directory: /root/.cache/pip/wheels/2c/41/7c/bfd1c180534ffdcc0972f78c5758f89881602175d48a8bcd2c\n",
            "Successfully built python-multipart\n",
            "Installing collected packages: python-multipart\n",
            "Successfully installed python-multipart-0.0.5\n"
          ]
        }
      ],
      "source": [
        "!pip install python-multipart"
      ]
    },
    {
      "cell_type": "code",
      "source": [
        "!ngrok help"
      ],
      "metadata": {
        "id": "8Bbph7HGy3tC",
        "colab": {
          "base_uri": "https://localhost:8080/"
        },
        "outputId": "73cfe5d9-1acb-4e21-bbd5-6e409cd39ea4"
      },
      "execution_count": null,
      "outputs": [
        {
          "output_type": "stream",
          "name": "stdout",
          "text": [
            "NAME:\n",
            "   ngrok - tunnel local ports to public URLs and inspect traffic\n",
            "\n",
            "DESCRIPTION:\n",
            "    ngrok exposes local networked services behinds NATs and firewalls to the\n",
            "    public internet over a secure tunnel. Share local websites, build/test\n",
            "    webhook consumers and self-host personal services.\n",
            "    Detailed help for each command is available with 'ngrok help <command>'.\n",
            "    Open http://localhost:4040 for ngrok's web interface to inspect traffic.\n",
            "\n",
            "EXAMPLES:\n",
            "    ngrok http 80                    # secure public URL for port 80 web server\n",
            "    ngrok http -subdomain=baz 8080   # port 8080 available at baz.ngrok.io\n",
            "    ngrok http foo.dev:80            # tunnel to host:port instead of localhost\n",
            "    ngrok http https://localhost     # expose a local https server\n",
            "    ngrok tcp 22                     # tunnel arbitrary TCP traffic to port 22\n",
            "    ngrok tls -hostname=foo.com 443  # TLS traffic for foo.com to port 443\n",
            "    ngrok start foo bar baz          # start tunnels from the configuration file\n",
            "\n",
            "VERSION:\n",
            "   2.3.40\n",
            "\n",
            "AUTHOR:\n",
            "  inconshreveable - <alan@ngrok.com>\n",
            "\n",
            "COMMANDS:\n",
            "   authtoken\tsave authtoken to configuration file\n",
            "   credits\tprints author and licensing information\n",
            "   http\t\tstart an HTTP tunnel\n",
            "   start\tstart tunnels by name from the configuration file\n",
            "   tcp\t\tstart a TCP tunnel\n",
            "   tls\t\tstart a TLS tunnel\n",
            "   update\tupdate ngrok to the latest version\n",
            "   version\tprint the version string\n",
            "   help\t\tShows a list of commands or help for one command\n",
            "\n",
            "PYNGROK VERSION:\n",
            "   5.2.1\n"
          ]
        }
      ]
    },
    {
      "cell_type": "markdown",
      "metadata": {
        "id": "4t0D3DKG93w4"
      },
      "source": [
        "###Import Library"
      ]
    },
    {
      "cell_type": "code",
      "execution_count": null,
      "metadata": {
        "id": "OnstVB3JR03u"
      },
      "outputs": [],
      "source": [
        "# importing cv2\n",
        "import cv2\n",
        "from matplotlib import pyplot as plt\n",
        "from numpy.fft import fft2, ifft2\n",
        "import math\n",
        "import numpy as np\n",
        "import pandas as pd\n",
        "import shutil\n"
      ]
    },
    {
      "cell_type": "code",
      "execution_count": null,
      "metadata": {
        "id": "3OBXExgnCglW"
      },
      "outputs": [],
      "source": [
        "\n",
        "import requests\n",
        "from PIL import Image\n",
        "from io import BytesIO"
      ]
    },
    {
      "cell_type": "code",
      "execution_count": null,
      "metadata": {
        "id": "jCifvieHcxcw"
      },
      "outputs": [],
      "source": [
        "from typing import List\n",
        "\n",
        "from typing import Union\n",
        "\n",
        "from fastapi import FastAPI, File, UploadFile\n",
        "from fastapi.responses import HTMLResponse, StreamingResponse"
      ]
    },
    {
      "cell_type": "markdown",
      "metadata": {
        "id": "jtmS7_TXFsT3"
      },
      "source": [
        "#Run Inference  With Trained Weights\n",
        "Run inference with a pretrained checkpoint on contents of `test/images` folder downloaded from Roboflow."
      ]
    },
    {
      "cell_type": "code",
      "execution_count": null,
      "metadata": {
        "id": "TWjjiBcic3Vz"
      },
      "outputs": [],
      "source": [
        "def score_detection():\n",
        "  !python detect.py --weights /content/best.pt --img 416 --conf 0.1 --source {dataset.location}/row --save-conf --save-txt"
      ]
    },
    {
      "cell_type": "code",
      "execution_count": null,
      "metadata": {
        "id": "rc5w1VE--Q6G"
      },
      "outputs": [],
      "source": [
        "\n",
        "app = FastAPI()"
      ]
    },
    {
      "cell_type": "code",
      "execution_count": null,
      "metadata": {
        "id": "LqG4Eh2MAndU"
      },
      "outputs": [],
      "source": [
        "def open_img(img_url, filename):\n",
        "  try:\n",
        "    img_content = requests.get(img_url).content\n",
        "  except Exception:\n",
        "    raise Exception('Error', 'The url #{}# ca not be opened'.format(img_url))\n",
        "  arr = np.asarray(bytearray(img_content), dtype=np.uint8)\n",
        "  img = cv2.imdecode(arr, -1) # 'Load it as it is'\n",
        "  img = cv2.resize(img, (416, 416))\n",
        "\n",
        "  try:\n",
        "    cv2.imwrite(filename, img)\n",
        "  except Exception:\n",
        "    raise Exception('spam', 'eggs')"
      ]
    },
    {
      "cell_type": "code",
      "execution_count": null,
      "metadata": {
        "id": "B5ARFjgVIK2J"
      },
      "outputs": [],
      "source": [
        "df = pd.read_csv(\"/content/yolov5/runs/detect/exp10/labels/name.txt\", sep=\" \", header=None,\n",
        "                 names=[\"class\", \"center_x\", \"center_y\", \"w\", \"h\", \"accurasy\"])"
      ]
    },
    {
      "cell_type": "code",
      "execution_count": null,
      "metadata": {
        "id": "k0INKHTZ8Hm1"
      },
      "outputs": [],
      "source": [
        "\n",
        "@app.get(\"/img={img_url}\")\n",
        "async def read_img(img_url: str, q: Union[str, None] = None):\n",
        "  img_filename = '/content/row'\n",
        "  open_img(img_url, img_filename)\n",
        "  score_detection()\n",
        "  pred_filename = \"/content/yolov5/runs/detect/exp10/labels/name.txt\"\n",
        "  df = pd.read_csv(pred_filename, sep=\" \", header=None,\n",
        "                 names=[\"class\", \"center_x\", \"center_y\", \"w\", \"h\", \"accurasy\"])\n",
        "  dict_data = {\"class\":df[\"class\"],\n",
        "          \"center_x\":df[\"center_x\"],\n",
        "          \"center_y\":df[\"center_y\"],\n",
        "          \"w\":df[\"w\"],\n",
        "          \"h\":df[\"h\"],\n",
        "          \"accurasy\":df[\"accurasy\"]}\n",
        "  return dict_data"
      ]
    },
    {
      "cell_type": "code",
      "execution_count": null,
      "metadata": {
        "id": "7pqFMg9VcbyO"
      },
      "outputs": [],
      "source": [
        "\n",
        "@app.post(\"/uploadfiles/\")\n",
        "async def create_upload_files(files: List[UploadFile] = File(...)):\n",
        "  \"\"\" Create API endpoint to send image to and specify\n",
        "    what type of file it'll take\n",
        "\n",
        "  :param files: Get image files, defaults to File(...)\n",
        "  :type files: List[UploadFile], optional\n",
        "  :return: A list of png images\n",
        "  :rtype: list(bytes)\n",
        "  \"\"\"\n",
        "\n",
        "  for image in files:\n",
        "    # Load image\n",
        "    img = cv2.imdecode(np.frombuffer(image.file.read(),\n",
        "                                      np.uint8),\n",
        "                        cv2.IMREAD_COLOR)\n",
        "\n",
        "    # convert it to the correct format\n",
        "    img = cv2.cvtColor(img, cv2.COLOR_BGR2RGB)\n",
        "    return StreamingResponse(io.BytesIO(img.tobytes()),\n",
        "                              media_type=\"image/png\")\n",
        "\n",
        "\n",
        "@app.get(\"/\")\n",
        "async def main():\n",
        "  \"\"\"Create a basic home page to upload a file\n",
        "\n",
        "  :return: HTML for homepage\n",
        "  :rtype: HTMLResponse\n",
        "  \"\"\"\n",
        "\n",
        "  content = \"\"\"<body>\n",
        "        <h3>Upload an image to get it's depth map from the MiDaS model</h3>\n",
        "        <form action=\"/uploadfiles/\" enctype=\"multipart/form-data\" method=\"post\">\n",
        "            <input name=\"files\" type=\"file\" multiple>\n",
        "            <input type=\"submit\">\n",
        "        </form>\n",
        "    </body>\n",
        "    \"\"\"\n",
        "  return HTMLResponse(content=content)\n"
      ]
    },
    {
      "cell_type": "code",
      "execution_count": null,
      "metadata": {
        "colab": {
          "base_uri": "https://localhost:8080/"
        },
        "id": "AnJav4Iopgep",
        "outputId": "1ee1faea-db4a-4276-8ab1-26308a4ffcc5"
      },
      "outputs": [
        {
          "output_type": "stream",
          "name": "stdout",
          "text": [
            "Authtoken saved to configuration file: /root/.ngrok2/ngrok.yml\n"
          ]
        }
      ],
      "source": [
        "!ngrok authtoken 2GdgOqFkxQDxoYH431s7q0I14ZI_4tLrThs9dHVfTCxsxoTH5"
      ]
    },
    {
      "cell_type": "code",
      "execution_count": null,
      "metadata": {
        "colab": {
          "background_save": true,
          "base_uri": "https://localhost:8080/"
        },
        "id": "Bacs_i2ILtyF",
        "outputId": "383bade8-568a-4e0a-df81-293b93d72c6d"
      },
      "outputs": [
        {
          "name": "stdout",
          "output_type": "stream",
          "text": [
            "Public URL: https://49ee-35-247-151-215.ngrok.io\n"
          ]
        },
        {
          "name": "stderr",
          "output_type": "stream",
          "text": [
            "INFO:     Started server process [76]\n",
            "INFO:     Waiting for application startup.\n",
            "INFO:     Application startup complete.\n",
            "INFO:     Uvicorn running on http://127.0.0.1:8000 (Press CTRL+C to quit)\n"
          ]
        },
        {
          "name": "stdout",
          "output_type": "stream",
          "text": [
            "INFO:     95.65.76.115:0 - \"GET / HTTP/1.1\" 200 OK\n",
            "INFO:     95.65.76.115:0 - \"GET /favicon.ico HTTP/1.1\" 404 Not Found\n",
            "INFO:     95.65.76.115:0 - \"GET /items/ HTTP/1.1\" 404 Not Found\n",
            "INFO:     95.65.76.115:0 - \"GET /items/0 HTTP/1.1\" 200 OK\n",
            "INFO:     95.65.76.115:0 - \"GET /img/0 HTTP/1.1\" 404 Not Found\n",
            "INFO:     95.65.76.115:0 - \"GET /img%3D0 HTTP/1.1\" 500 Internal Server Error\n"
          ]
        },
        {
          "name": "stderr",
          "output_type": "stream",
          "text": [
            "ERROR:    Exception in ASGI application\n",
            "Traceback (most recent call last):\n",
            "  File \"/usr/local/lib/python3.7/dist-packages/fastapi/encoders.py\", line 152, in jsonable_encoder\n",
            "    data = dict(obj)\n",
            "TypeError: 'numpy.int64' object is not iterable\n",
            "\n",
            "During handling of the above exception, another exception occurred:\n",
            "\n",
            "Traceback (most recent call last):\n",
            "  File \"/usr/local/lib/python3.7/dist-packages/fastapi/encoders.py\", line 157, in jsonable_encoder\n",
            "    data = vars(obj)\n",
            "TypeError: vars() argument must have __dict__ attribute\n",
            "\n",
            "During handling of the above exception, another exception occurred:\n",
            "\n",
            "Traceback (most recent call last):\n",
            "  File \"/usr/local/lib/python3.7/dist-packages/uvicorn/protocols/http/httptools_impl.py\", line 420, in run_asgi\n",
            "    self.scope, self.receive, self.send\n",
            "  File \"/usr/local/lib/python3.7/dist-packages/uvicorn/middleware/proxy_headers.py\", line 78, in __call__\n",
            "    return await self.app(scope, receive, send)\n",
            "  File \"/usr/local/lib/python3.7/dist-packages/fastapi/applications.py\", line 270, in __call__\n",
            "    await super().__call__(scope, receive, send)\n",
            "  File \"/usr/local/lib/python3.7/dist-packages/starlette/applications.py\", line 124, in __call__\n",
            "    await self.middleware_stack(scope, receive, send)\n",
            "  File \"/usr/local/lib/python3.7/dist-packages/starlette/middleware/errors.py\", line 184, in __call__\n",
            "    raise exc\n",
            "  File \"/usr/local/lib/python3.7/dist-packages/starlette/middleware/errors.py\", line 162, in __call__\n",
            "    await self.app(scope, receive, _send)\n",
            "  File \"/usr/local/lib/python3.7/dist-packages/starlette/middleware/exceptions.py\", line 75, in __call__\n",
            "    raise exc\n",
            "  File \"/usr/local/lib/python3.7/dist-packages/starlette/middleware/exceptions.py\", line 64, in __call__\n",
            "    await self.app(scope, receive, sender)\n",
            "  File \"/usr/local/lib/python3.7/dist-packages/fastapi/middleware/asyncexitstack.py\", line 21, in __call__\n",
            "    raise e\n",
            "  File \"/usr/local/lib/python3.7/dist-packages/fastapi/middleware/asyncexitstack.py\", line 18, in __call__\n",
            "    await self.app(scope, receive, send)\n",
            "  File \"/usr/local/lib/python3.7/dist-packages/starlette/routing.py\", line 680, in __call__\n",
            "    await route.handle(scope, receive, send)\n",
            "  File \"/usr/local/lib/python3.7/dist-packages/starlette/routing.py\", line 275, in handle\n",
            "    await self.app(scope, receive, send)\n",
            "  File \"/usr/local/lib/python3.7/dist-packages/starlette/routing.py\", line 65, in app\n",
            "    response = await func(request)\n",
            "  File \"/usr/local/lib/python3.7/dist-packages/fastapi/routing.py\", line 258, in app\n",
            "    is_coroutine=is_coroutine,\n",
            "  File \"/usr/local/lib/python3.7/dist-packages/fastapi/routing.py\", line 149, in serialize_response\n",
            "    return jsonable_encoder(response_content)\n",
            "  File \"/usr/local/lib/python3.7/dist-packages/fastapi/encoders.py\", line 123, in jsonable_encoder\n",
            "    sqlalchemy_safe=sqlalchemy_safe,\n",
            "  File \"/usr/local/lib/python3.7/dist-packages/fastapi/encoders.py\", line 170, in jsonable_encoder\n",
            "    sqlalchemy_safe=sqlalchemy_safe,\n",
            "  File \"/usr/local/lib/python3.7/dist-packages/fastapi/encoders.py\", line 123, in jsonable_encoder\n",
            "    sqlalchemy_safe=sqlalchemy_safe,\n",
            "  File \"/usr/local/lib/python3.7/dist-packages/fastapi/encoders.py\", line 160, in jsonable_encoder\n",
            "    raise ValueError(errors)\n",
            "ValueError: [TypeError(\"'numpy.int64' object is not iterable\"), TypeError('vars() argument must have __dict__ attribute')]\n"
          ]
        },
        {
          "name": "stdout",
          "output_type": "stream",
          "text": [
            "INFO:     95.65.76.115:0 - \"GET /img/0 HTTP/1.1\" 404 Not Found\n",
            "INFO:     95.65.76.115:0 - \"GET /items/0 HTTP/1.1\" 200 OK\n",
            "INFO:     95.65.76.115:0 - \"GET /img/0 HTTP/1.1\" 404 Not Found\n",
            "INFO:     95.65.76.115:0 - \"GET /img/4 HTTP/1.1\" 404 Not Found\n",
            "INFO:     95.65.76.115:0 - \"GET /items/4 HTTP/1.1\" 200 OK\n",
            "INFO:     95.65.76.115:0 - \"GET /img/4 HTTP/1.1\" 404 Not Found\n"
          ]
        },
        {
          "name": "stderr",
          "output_type": "stream",
          "text": [
            "INFO:     Shutting down\n",
            "INFO:     Waiting for application shutdown.\n",
            "INFO:     Application shutdown complete.\n",
            "INFO:     Finished server process [76]\n"
          ]
        }
      ],
      "source": [
        "import nest_asyncio\n",
        "from pyngrok import ngrok\n",
        "import uvicorn\n",
        "\n",
        "ngrok_tunnel = ngrok.connect(8000, port='8000', bind_tls=True)\n",
        "print('Public URL:', ngrok_tunnel.public_url)\n",
        "nest_asyncio.apply()\n",
        "uvicorn.run(app, port=8000)"
      ]
    },
    {
      "cell_type": "code",
      "execution_count": null,
      "metadata": {
        "id": "_PQxPsZHa7-i"
      },
      "outputs": [],
      "source": [
        "# Kill tunnel\n",
        "ngrok.disconnect(public_url=ngrok_tunnel.public_url)"
      ]
    }
  ],
  "metadata": {
    "accelerator": "GPU",
    "colab": {
      "provenance": []
    },
    "kernelspec": {
      "display_name": "Python 3",
      "name": "python3"
    },
    "language_info": {
      "name": "python"
    }
  },
  "nbformat": 4,
  "nbformat_minor": 0
}