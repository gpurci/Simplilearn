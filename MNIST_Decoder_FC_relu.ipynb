{
  "cells": [
    {
      "cell_type": "markdown",
      "source": [
        "#Install library"
      ],
      "metadata": {
        "id": "D56ejW-Dx84u"
      }
    },
    {
      "cell_type": "code",
      "source": [
        "!pip install livelossplot"
      ],
      "metadata": {
        "id": "CmYyyqtMyEFT"
      },
      "execution_count": null,
      "outputs": []
    },
    {
      "cell_type": "markdown",
      "source": [
        "#Import"
      ],
      "metadata": {
        "id": "_Cc4GC0Ex9Zd"
      }
    },
    {
      "cell_type": "code",
      "source": [
        "from livelossplot import PlotLossesKerasTF\n",
        "from keras.datasets import mnist\n",
        "%config Completer.use_jedi = False\n",
        "from matplotlib import pyplot as plt\n",
        "import numpy as np\n",
        "from tensorflow.keras.utils import to_categorical"
      ],
      "metadata": {
        "id": "WzmJa5JHx8kr"
      },
      "execution_count": null,
      "outputs": []
    },
    {
      "cell_type": "markdown",
      "source": [
        "#Data aquisition"
      ],
      "metadata": {
        "id": "kYo3EVu6yRz_"
      }
    },
    {
      "cell_type": "code",
      "execution_count": null,
      "metadata": {
        "colab": {
          "base_uri": "https://localhost:8080/"
        },
        "id": "3bNkoT17wjSE",
        "outputId": "a3587554-c266-4731-e91f-353e25d05144"
      },
      "outputs": [
        {
          "output_type": "stream",
          "name": "stdout",
          "text": [
            "Downloading data from https://storage.googleapis.com/tensorflow/tf-keras-datasets/mnist.npz\n",
            "11493376/11490434 [==============================] - 0s 0us/step\n",
            "11501568/11490434 [==============================] - 0s 0us/step\n"
          ]
        }
      ],
      "source": [
        "#load MNIST dataset\n",
        "(x_train,y_train),(x_test,y_test) = mnist.load_data()"
      ]
    },
    {
      "cell_type": "markdown",
      "metadata": {
        "id": "gaqizii9wjSG"
      },
      "source": [
        "## Scale data"
      ]
    },
    {
      "cell_type": "code",
      "execution_count": null,
      "metadata": {
        "id": "sCKnchp6wjSJ"
      },
      "outputs": [],
      "source": [
        "x_train = x_train/255\n",
        "x_test  = x_test/255"
      ]
    },
    {
      "cell_type": "code",
      "execution_count": null,
      "metadata": {
        "colab": {
          "base_uri": "https://localhost:8080/"
        },
        "id": "-rjE3zhlwjSM",
        "outputId": "837cb939-5fbc-4d52-9348-ca299e1c878a"
      },
      "outputs": [
        {
          "output_type": "stream",
          "name": "stdout",
          "text": [
            "(60000, 28, 28)\n",
            "(10000, 28, 28)\n"
          ]
        }
      ],
      "source": [
        "print(x_train.shape)\n",
        "print(x_test.shape)"
      ]
    },
    {
      "cell_type": "markdown",
      "metadata": {
        "id": "A6eJQj6LwjSP"
      },
      "source": [
        "## Reshape data"
      ]
    },
    {
      "cell_type": "code",
      "execution_count": null,
      "metadata": {
        "id": "7Tx2E4bCwjSR"
      },
      "outputs": [],
      "source": [
        "x_train = x_train.reshape((x_train.shape[0],np.prod(x_train.shape[1:])))\n",
        "\n",
        "x_test  = x_test.reshape( (x_test.shape[0] ,np.prod(x_test.shape[1:])))"
      ]
    },
    {
      "cell_type": "code",
      "execution_count": null,
      "metadata": {
        "colab": {
          "base_uri": "https://localhost:8080/"
        },
        "id": "dS01l_A2wjSR",
        "outputId": "b72401da-00a5-43a9-8dac-364bf1865ddb"
      },
      "outputs": [
        {
          "output_type": "stream",
          "name": "stdout",
          "text": [
            "(60000, 784)\n",
            "(10000, 784)\n"
          ]
        }
      ],
      "source": [
        "print(x_train.shape)\n",
        "print(x_test.shape)"
      ]
    },
    {
      "cell_type": "markdown",
      "source": [
        "##Convert data"
      ],
      "metadata": {
        "id": "y_f1NYojxqF4"
      }
    },
    {
      "cell_type": "code",
      "source": [
        "# one hot encoding outcome\n",
        "target_train = to_categorical(y_train)\n",
        "target_test  = to_categorical(y_test)"
      ],
      "metadata": {
        "id": "P9FxqT9KxpHD"
      },
      "execution_count": null,
      "outputs": []
    },
    {
      "cell_type": "markdown",
      "metadata": {
        "id": "_UhPuUsxwjST"
      },
      "source": [
        "# Build network"
      ]
    },
    {
      "cell_type": "code",
      "execution_count": null,
      "metadata": {
        "id": "AB7ok6DhwjST"
      },
      "outputs": [],
      "source": [
        "from tensorflow.keras import Input\n",
        "from tensorflow.keras.layers import Dense, Reshape, BatchNormalization, Conv2D, MaxPool2D, Flatten\n",
        "from tensorflow.keras import Model"
      ]
    },
    {
      "cell_type": "code",
      "execution_count": null,
      "metadata": {
        "id": "uo4m79KswjSU"
      },
      "outputs": [],
      "source": [
        "input_img=Input(shape=(10,))\n",
        "decoder=Dense(128,activation=\"relu\")(input_img)\n",
        "decoder=Dense(256,activation=\"relu\")(decoder)\n",
        "decoder=Dense(512,activation='relu')(decoder)\n",
        "decoder=Dense(784,activation='relu')(decoder)"
      ]
    },
    {
      "cell_type": "code",
      "execution_count": null,
      "metadata": {
        "id": "lwlHenS5wjSV"
      },
      "outputs": [],
      "source": [
        "#build decoder\n",
        "decoder_model = Model(input_img,decoder)"
      ]
    },
    {
      "cell_type": "code",
      "execution_count": null,
      "metadata": {
        "id": "sUZ45_SdwjSY"
      },
      "outputs": [],
      "source": [
        "#compile model\n",
        "decoder_model.compile(optimizer='adam',loss='mse', metrics=['accuracy'])"
      ]
    },
    {
      "cell_type": "code",
      "execution_count": null,
      "metadata": {
        "colab": {
          "base_uri": "https://localhost:8080/",
          "height": 672
        },
        "id": "jpcXW3CZwjSZ",
        "outputId": "f96e6432-eaf2-48e0-9f20-c06d7b2e7cb8"
      },
      "outputs": [
        {
          "output_type": "display_data",
          "data": {
            "text/plain": [
              "<Figure size 864x576 with 2 Axes>"
            ],
            "image/png": "[encoded data removed]"
          },
          "metadata": {
            "needs_background": "light"
          }
        },
        {
          "output_type": "stream",
          "name": "stdout",
          "text": [
            "Loss\n",
            "\ttraining         \t (min:    0.055, max:    0.055, cur:    0.055)\n",
            "\tvalidation       \t (min:    0.055, max:    0.055, cur:    0.055)\n",
            "\b\b\b\b\b\b\b\b\b\b\b\b\b\b\b\b\b\b\b\b\b\b\b\b\b\b\b\b\b\b\b\b\b\b\b\b\b\b\b\b\b\b\b\b\b\b\b\b\b\b\b\b\b\b\b\b\b\b\b\b\b\b\b\b\b\r154/154 [==============================] - 5s 36ms/step - loss: 0.0552 - val_loss: 0.0549\n"
          ]
        },
        {
          "output_type": "execute_result",
          "data": {
            "text/plain": [
              "<keras.callbacks.History at 0x7f0040e24150>"
            ]
          },
          "metadata": {},
          "execution_count": 62
        }
      ],
      "source": [
        "decoder_model.fit(target_train,x_train,\n",
        "                  epochs=10,\n",
        "                  batch_size=390,\n",
        "                  validation_data=(target_test,x_test),\n",
        "                  callbacks=[PlotLossesKerasTF()])"
      ]
    },
    {
      "cell_type": "markdown",
      "source": [
        "#Show result"
      ],
      "metadata": {
        "id": "NiABw6NCCZdj"
      }
    },
    {
      "cell_type": "code",
      "source": [
        "test_pred = to_categorical(np.arange(10))\n",
        "test_pred = test_pred + np.random.uniform(0, 0.1, 10)"
      ],
      "metadata": {
        "id": "bjoIS0Aa5-TN"
      },
      "execution_count": null,
      "outputs": []
    },
    {
      "cell_type": "code",
      "source": [
        "test_pred"
      ],
      "metadata": {
        "colab": {
          "base_uri": "https://localhost:8080/"
        },
        "id": "0ai2OuJB6Xfr",
        "outputId": "afdeb0e6-ac7b-40ff-8f18-aea3205ac929"
      },
      "execution_count": null,
      "outputs": [
        {
          "output_type": "execute_result",
          "data": {
            "text/plain": [
              "array([[1.02849038e+00, 4.15082831e-02, 5.91334288e-02, 8.44718594e-02,\n",
              "        3.43103199e-02, 1.42289127e-02, 7.31490905e-04, 5.90403498e-04,\n",
              "        2.31418187e-02, 8.50725048e-02],\n",
              "       [2.84903817e-02, 1.04150828e+00, 5.91334288e-02, 8.44718594e-02,\n",
              "        3.43103199e-02, 1.42289127e-02, 7.31490905e-04, 5.90403498e-04,\n",
              "        2.31418187e-02, 8.50725048e-02],\n",
              "       [2.84903817e-02, 4.15082831e-02, 1.05913343e+00, 8.44718594e-02,\n",
              "        3.43103199e-02, 1.42289127e-02, 7.31490905e-04, 5.90403498e-04,\n",
              "        2.31418187e-02, 8.50725048e-02],\n",
              "       [2.84903817e-02, 4.15082831e-02, 5.91334288e-02, 1.08447186e+00,\n",
              "        3.43103199e-02, 1.42289127e-02, 7.31490905e-04, 5.90403498e-04,\n",
              "        2.31418187e-02, 8.50725048e-02],\n",
              "       [2.84903817e-02, 4.15082831e-02, 5.91334288e-02, 8.44718594e-02,\n",
              "        1.03431032e+00, 1.42289127e-02, 7.31490905e-04, 5.90403498e-04,\n",
              "        2.31418187e-02, 8.50725048e-02],\n",
              "       [2.84903817e-02, 4.15082831e-02, 5.91334288e-02, 8.44718594e-02,\n",
              "        3.43103199e-02, 1.01422891e+00, 7.31490905e-04, 5.90403498e-04,\n",
              "        2.31418187e-02, 8.50725048e-02],\n",
              "       [2.84903817e-02, 4.15082831e-02, 5.91334288e-02, 8.44718594e-02,\n",
              "        3.43103199e-02, 1.42289127e-02, 1.00073149e+00, 5.90403498e-04,\n",
              "        2.31418187e-02, 8.50725048e-02],\n",
              "       [2.84903817e-02, 4.15082831e-02, 5.91334288e-02, 8.44718594e-02,\n",
              "        3.43103199e-02, 1.42289127e-02, 7.31490905e-04, 1.00059040e+00,\n",
              "        2.31418187e-02, 8.50725048e-02],\n",
              "       [2.84903817e-02, 4.15082831e-02, 5.91334288e-02, 8.44718594e-02,\n",
              "        3.43103199e-02, 1.42289127e-02, 7.31490905e-04, 5.90403498e-04,\n",
              "        1.02314182e+00, 8.50725048e-02],\n",
              "       [2.84903817e-02, 4.15082831e-02, 5.91334288e-02, 8.44718594e-02,\n",
              "        3.43103199e-02, 1.42289127e-02, 7.31490905e-04, 5.90403498e-04,\n",
              "        2.31418187e-02, 1.08507250e+00]])"
            ]
          },
          "metadata": {},
          "execution_count": 64
        }
      ]
    },
    {
      "cell_type": "code",
      "execution_count": null,
      "metadata": {
        "id": "J39GLqvDwjSa"
      },
      "outputs": [],
      "source": [
        "img_pred = decoder_model.predict(test_pred)"
      ]
    },
    {
      "cell_type": "code",
      "execution_count": null,
      "metadata": {
        "colab": {
          "base_uri": "https://localhost:8080/"
        },
        "id": "D5xqyu3gwjSb",
        "outputId": "8d726fb0-1b51-4b6b-a98f-067cec38e0ef"
      },
      "outputs": [
        {
          "output_type": "execute_result",
          "data": {
            "text/plain": [
              "(10, 784)"
            ]
          },
          "metadata": {},
          "execution_count": 40
        }
      ],
      "source": [
        "img_pred.shape"
      ]
    },
    {
      "cell_type": "code",
      "execution_count": null,
      "metadata": {
        "colab": {
          "base_uri": "https://localhost:8080/",
          "height": 98
        },
        "id": "NarrTrCxwjSc",
        "outputId": "7d0c9a08-9191-46a3-cc3c-ee463d0c0eea"
      },
      "outputs": [
        {
          "output_type": "display_data",
          "data": {
            "text/plain": [
              "<Figure size 1440x288 with 10 Axes>"
            ],
            "image/png": "[encoded data removed]"
          },
          "metadata": {
            "needs_background": "light"
          }
        }
      ],
      "source": [
        "n=10\n",
        "plt.figure(figsize=(20,4))\n",
        "for i in range(n):\n",
        "    ax=plt.subplot(3,n,i+1)\n",
        "    plt.imshow(img_pred[i].reshape(28,28))\n",
        "    plt.gray()\n",
        "    ax.get_xaxis().set_visible(False)\n",
        "    ax.get_yaxis().set_visible(False)\n",
        ""
      ]
    }
  ],
  "metadata": {
    "kernelspec": {
      "display_name": "Python 3",
      "language": "python",
      "name": "python3"
    },
    "language_info": {
      "codemirror_mode": {
        "name": "ipython",
        "version": 3
      },
      "file_extension": ".py",
      "mimetype": "text/x-python",
      "name": "python",
      "nbconvert_exporter": "python",
      "pygments_lexer": "ipython3",
      "version": "3.7.6"
    },
    "colab": {
      "provenance": []
    }
  },
  "nbformat": 4,
  "nbformat_minor": 0
}