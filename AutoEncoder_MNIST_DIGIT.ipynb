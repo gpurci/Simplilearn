{
  "cells": [
    {
      "cell_type": "code",
      "execution_count": null,
      "id": "13f19174",
      "metadata": {
        "ExecuteTime": {
          "end_time": "2022-01-25T10:16:29.583942Z",
          "start_time": "2022-01-25T10:16:29.303137Z"
        },
        "id": "13f19174"
      },
      "outputs": [],
      "source": [
        "import numpy as np\n",
        "import matplotlib.pyplot as plt"
      ]
    },
    {
      "cell_type": "code",
      "execution_count": null,
      "id": "c5567f2e",
      "metadata": {
        "ExecuteTime": {
          "end_time": "2022-01-25T10:16:53.976586Z",
          "start_time": "2022-01-25T10:16:53.962637Z"
        },
        "id": "c5567f2e"
      },
      "outputs": [],
      "source": [
        "from keras.datasets import mnist"
      ]
    },
    {
      "cell_type": "code",
      "execution_count": null,
      "id": "a365abeb",
      "metadata": {
        "ExecuteTime": {
          "end_time": "2022-01-25T10:17:11.567370Z",
          "start_time": "2022-01-25T10:17:11.552419Z"
        },
        "id": "a365abeb"
      },
      "outputs": [],
      "source": [
        "from keras.models import Model"
      ]
    },
    {
      "cell_type": "code",
      "execution_count": null,
      "id": "94a7ce0e",
      "metadata": {
        "ExecuteTime": {
          "end_time": "2022-01-25T10:17:43.227749Z",
          "start_time": "2022-01-25T10:17:43.213795Z"
        },
        "id": "94a7ce0e"
      },
      "outputs": [],
      "source": [
        "from keras.layers import Input, Dense"
      ]
    },
    {
      "cell_type": "markdown",
      "id": "719c2fb1",
      "metadata": {
        "id": "719c2fb1"
      },
      "source": [
        "# Load MNIST data set & unpack into train & test"
      ]
    },
    {
      "cell_type": "code",
      "execution_count": null,
      "id": "db77267a",
      "metadata": {
        "ExecuteTime": {
          "end_time": "2022-01-25T10:19:23.242947Z",
          "start_time": "2022-01-25T10:19:23.033498Z"
        },
        "colab": {
          "base_uri": "https://localhost:8080/"
        },
        "id": "db77267a",
        "outputId": "54a2946e-2394-4d00-b842-91cedb57a46f"
      },
      "outputs": [
        {
          "output_type": "stream",
          "name": "stdout",
          "text": [
            "Downloading data from https://storage.googleapis.com/tensorflow/tf-keras-datasets/mnist.npz\n",
            "11493376/11490434 [==============================] - 0s 0us/step\n",
            "11501568/11490434 [==============================] - 0s 0us/step\n"
          ]
        }
      ],
      "source": [
        "(X_Train,_), (X_Test, _) = mnist.load_data()"
      ]
    },
    {
      "cell_type": "code",
      "execution_count": null,
      "id": "bfbb95a2",
      "metadata": {
        "ExecuteTime": {
          "end_time": "2022-01-25T10:19:35.667215Z",
          "start_time": "2022-01-25T10:19:35.657248Z"
        },
        "colab": {
          "base_uri": "https://localhost:8080/"
        },
        "id": "bfbb95a2",
        "outputId": "3ecf7b16-c1b0-407b-b727-200d6819fcee"
      },
      "outputs": [
        {
          "output_type": "execute_result",
          "data": {
            "text/plain": [
              "(60000, 28, 28)"
            ]
          },
          "metadata": {},
          "execution_count": 6
        }
      ],
      "source": [
        "X_Train.shape"
      ]
    },
    {
      "cell_type": "code",
      "execution_count": null,
      "id": "fcd0b825",
      "metadata": {
        "ExecuteTime": {
          "end_time": "2022-01-25T10:19:41.040600Z",
          "start_time": "2022-01-25T10:19:41.022659Z"
        },
        "colab": {
          "base_uri": "https://localhost:8080/"
        },
        "id": "fcd0b825",
        "outputId": "12dfae49-d3b2-439f-a8c7-13b1b96b8e26"
      },
      "outputs": [
        {
          "output_type": "execute_result",
          "data": {
            "text/plain": [
              "(10000, 28, 28)"
            ]
          },
          "metadata": {},
          "execution_count": 7
        }
      ],
      "source": [
        "X_Test.shape"
      ]
    },
    {
      "cell_type": "markdown",
      "id": "22df0b3f",
      "metadata": {
        "id": "22df0b3f"
      },
      "source": [
        "# Scale the data"
      ]
    },
    {
      "cell_type": "code",
      "execution_count": null,
      "id": "1be23ef0",
      "metadata": {
        "ExecuteTime": {
          "end_time": "2022-01-25T10:20:25.547621Z",
          "start_time": "2022-01-25T10:20:25.427174Z"
        },
        "id": "1be23ef0"
      },
      "outputs": [],
      "source": [
        "X_Train = X_Train/255"
      ]
    },
    {
      "cell_type": "code",
      "execution_count": null,
      "id": "2b7e20cf",
      "metadata": {
        "ExecuteTime": {
          "end_time": "2022-01-25T10:20:35.738201Z",
          "start_time": "2022-01-25T10:20:35.698167Z"
        },
        "id": "2b7e20cf"
      },
      "outputs": [],
      "source": [
        "X_Test = X_Test/255"
      ]
    },
    {
      "cell_type": "code",
      "execution_count": null,
      "id": "653202a5",
      "metadata": {
        "ExecuteTime": {
          "end_time": "2022-01-25T10:21:33.147559Z",
          "start_time": "2022-01-25T10:21:33.133604Z"
        },
        "id": "653202a5"
      },
      "outputs": [],
      "source": [
        "X_Train = X_Train.reshape(60000, 784)"
      ]
    },
    {
      "cell_type": "code",
      "execution_count": null,
      "id": "99739462",
      "metadata": {
        "ExecuteTime": {
          "end_time": "2022-01-25T10:22:04.531403Z",
          "start_time": "2022-01-25T10:22:04.524426Z"
        },
        "id": "99739462"
      },
      "outputs": [],
      "source": [
        "X_Test = X_Test.reshape(10000, 784)"
      ]
    },
    {
      "cell_type": "code",
      "execution_count": null,
      "id": "0787cf24",
      "metadata": {
        "ExecuteTime": {
          "end_time": "2022-01-25T10:22:19.182344Z",
          "start_time": "2022-01-25T10:22:19.174364Z"
        },
        "colab": {
          "base_uri": "https://localhost:8080/"
        },
        "id": "0787cf24",
        "outputId": "e940456d-30d2-458e-cbd0-ef61fb001f2f"
      },
      "outputs": [
        {
          "output_type": "execute_result",
          "data": {
            "text/plain": [
              "((60000, 784), (10000, 784))"
            ]
          },
          "metadata": {},
          "execution_count": 12
        }
      ],
      "source": [
        "X_Train.shape, X_Test.shape"
      ]
    },
    {
      "cell_type": "code",
      "execution_count": null,
      "id": "b8f25356",
      "metadata": {
        "ExecuteTime": {
          "end_time": "2022-01-25T10:23:13.235853Z",
          "start_time": "2022-01-25T10:23:13.212734Z"
        },
        "id": "b8f25356"
      },
      "outputs": [],
      "source": [
        "input_image = Input(shape = (784,))"
      ]
    },
    {
      "cell_type": "code",
      "execution_count": null,
      "id": "086cdedc",
      "metadata": {
        "ExecuteTime": {
          "end_time": "2022-01-25T10:23:19.534422Z",
          "start_time": "2022-01-25T10:23:19.515485Z"
        },
        "colab": {
          "base_uri": "https://localhost:8080/"
        },
        "id": "086cdedc",
        "outputId": "21250ec7-63f4-4eb7-c6e4-ed52d7f3001c"
      },
      "outputs": [
        {
          "output_type": "execute_result",
          "data": {
            "text/plain": [
              "<KerasTensor: shape=(None, 784) dtype=float32 (created by layer 'input_1')>"
            ]
          },
          "metadata": {},
          "execution_count": 14
        }
      ],
      "source": [
        "input_image"
      ]
    },
    {
      "cell_type": "code",
      "execution_count": null,
      "id": "607749b1",
      "metadata": {
        "ExecuteTime": {
          "end_time": "2022-01-25T10:24:30.487736Z",
          "start_time": "2022-01-25T10:24:29.602647Z"
        },
        "id": "607749b1"
      },
      "outputs": [],
      "source": [
        "encoded = Dense(units=128, activation='relu')(input_image)"
      ]
    },
    {
      "cell_type": "code",
      "execution_count": null,
      "id": "89218821",
      "metadata": {
        "ExecuteTime": {
          "end_time": "2022-01-25T10:25:09.580292Z",
          "start_time": "2022-01-25T10:25:09.558360Z"
        },
        "id": "89218821"
      },
      "outputs": [],
      "source": [
        "encoded = Dense(64, activation='relu')(encoded)"
      ]
    },
    {
      "cell_type": "code",
      "execution_count": null,
      "id": "e7f8d1fb",
      "metadata": {
        "ExecuteTime": {
          "end_time": "2022-01-25T10:25:18.463637Z",
          "start_time": "2022-01-25T10:25:18.454666Z"
        },
        "id": "e7f8d1fb"
      },
      "outputs": [],
      "source": [
        "encoded = Dense(32, activation='relu')(encoded)"
      ]
    },
    {
      "cell_type": "code",
      "execution_count": null,
      "id": "e4187ff1",
      "metadata": {
        "ExecuteTime": {
          "end_time": "2022-01-25T10:26:07.665862Z",
          "start_time": "2022-01-25T10:26:07.643592Z"
        },
        "id": "e4187ff1"
      },
      "outputs": [],
      "source": [
        "decoded = Dense(64, activation='relu')(encoded)"
      ]
    },
    {
      "cell_type": "code",
      "execution_count": null,
      "id": "0160c567",
      "metadata": {
        "ExecuteTime": {
          "end_time": "2022-01-25T10:26:22.357136Z",
          "start_time": "2022-01-25T10:26:22.344621Z"
        },
        "id": "0160c567"
      },
      "outputs": [],
      "source": [
        "decoded = Dense(128, activation='relu')(decoded)"
      ]
    },
    {
      "cell_type": "code",
      "execution_count": null,
      "id": "1c861d8c",
      "metadata": {
        "ExecuteTime": {
          "end_time": "2022-01-25T10:26:54.343948Z",
          "start_time": "2022-01-25T10:26:54.329996Z"
        },
        "id": "1c861d8c"
      },
      "outputs": [],
      "source": [
        "output = Dense(784, activation='sigmoid')(decoded)"
      ]
    },
    {
      "cell_type": "code",
      "execution_count": null,
      "id": "198e2688",
      "metadata": {
        "ExecuteTime": {
          "end_time": "2022-01-25T10:27:44.817357Z",
          "start_time": "2022-01-25T10:27:44.809384Z"
        },
        "id": "198e2688"
      },
      "outputs": [],
      "source": [
        "autoecoder = Model(input_image, output)"
      ]
    },
    {
      "cell_type": "code",
      "execution_count": null,
      "id": "c7908bb5",
      "metadata": {
        "ExecuteTime": {
          "end_time": "2022-01-25T10:28:13.304842Z",
          "start_time": "2022-01-25T10:28:13.298866Z"
        },
        "id": "c7908bb5"
      },
      "outputs": [],
      "source": [
        "encoderModel = Model(input_image, encoded)"
      ]
    },
    {
      "cell_type": "code",
      "execution_count": null,
      "id": "6c19bfe6",
      "metadata": {
        "ExecuteTime": {
          "end_time": "2022-01-25T10:28:23.548082Z",
          "start_time": "2022-01-25T10:28:23.526616Z"
        },
        "colab": {
          "base_uri": "https://localhost:8080/"
        },
        "id": "6c19bfe6",
        "outputId": "8ddf8227-50ca-479a-bbbc-80f639ae8c85"
      },
      "outputs": [
        {
          "output_type": "stream",
          "name": "stdout",
          "text": [
            "Model: \"model\"\n",
            "_________________________________________________________________\n",
            " Layer (type)                Output Shape              Param #   \n",
            "=================================================================\n",
            " input_1 (InputLayer)        [(None, 784)]             0         \n",
            "                                                                 \n",
            " dense (Dense)               (None, 128)               100480    \n",
            "                                                                 \n",
            " dense_1 (Dense)             (None, 64)                8256      \n",
            "                                                                 \n",
            " dense_2 (Dense)             (None, 32)                2080      \n",
            "                                                                 \n",
            " dense_3 (Dense)             (None, 64)                2112      \n",
            "                                                                 \n",
            " dense_4 (Dense)             (None, 128)               8320      \n",
            "                                                                 \n",
            " dense_5 (Dense)             (None, 784)               101136    \n",
            "                                                                 \n",
            "=================================================================\n",
            "Total params: 222,384\n",
            "Trainable params: 222,384\n",
            "Non-trainable params: 0\n",
            "_________________________________________________________________\n"
          ]
        }
      ],
      "source": [
        "autoecoder.summary()"
      ]
    },
    {
      "cell_type": "code",
      "execution_count": null,
      "id": "cc417229",
      "metadata": {
        "ExecuteTime": {
          "end_time": "2022-01-25T10:28:35.605977Z",
          "start_time": "2022-01-25T10:28:35.592019Z"
        },
        "colab": {
          "base_uri": "https://localhost:8080/"
        },
        "id": "cc417229",
        "outputId": "10b0f6db-7652-4bb4-ec40-39e518be5012"
      },
      "outputs": [
        {
          "output_type": "stream",
          "name": "stdout",
          "text": [
            "Model: \"model_1\"\n",
            "_________________________________________________________________\n",
            " Layer (type)                Output Shape              Param #   \n",
            "=================================================================\n",
            " input_1 (InputLayer)        [(None, 784)]             0         \n",
            "                                                                 \n",
            " dense (Dense)               (None, 128)               100480    \n",
            "                                                                 \n",
            " dense_1 (Dense)             (None, 64)                8256      \n",
            "                                                                 \n",
            " dense_2 (Dense)             (None, 32)                2080      \n",
            "                                                                 \n",
            "=================================================================\n",
            "Total params: 110,816\n",
            "Trainable params: 110,816\n",
            "Non-trainable params: 0\n",
            "_________________________________________________________________\n"
          ]
        }
      ],
      "source": [
        "encoderModel.summary()"
      ]
    },
    {
      "cell_type": "code",
      "execution_count": null,
      "id": "3b9010e2",
      "metadata": {
        "ExecuteTime": {
          "end_time": "2022-01-25T10:57:21.351585Z",
          "start_time": "2022-01-25T10:57:21.332561Z"
        },
        "id": "3b9010e2"
      },
      "outputs": [],
      "source": [
        "autoecoder.compile(optimizer = 'adam', loss = 'mse', metrics = 'mae')"
      ]
    },
    {
      "cell_type": "code",
      "execution_count": null,
      "id": "8eb5ee8f",
      "metadata": {
        "ExecuteTime": {
          "end_time": "2022-01-25T10:58:10.535936Z",
          "start_time": "2022-01-25T10:58:10.523503Z"
        },
        "id": "8eb5ee8f"
      },
      "outputs": [],
      "source": [
        "#from livelossplot import PlotLossesKeras"
      ]
    },
    {
      "cell_type": "code",
      "execution_count": null,
      "id": "2c762158",
      "metadata": {
        "ExecuteTime": {
          "end_time": "2022-01-25T11:04:35.312756Z",
          "start_time": "2022-01-25T11:02:26.522647Z"
        },
        "colab": {
          "base_uri": "https://localhost:8080/"
        },
        "id": "2c762158",
        "outputId": "f1b09c2d-ccb4-4b71-f4a9-d1e1f553e690"
      },
      "outputs": [
        {
          "output_type": "stream",
          "name": "stdout",
          "text": [
            "Epoch 1/100\n",
            "469/469 [==============================] - 5s 4ms/step - loss: 0.0504 - mae: 0.1123 - val_loss: 0.0277 - val_mae: 0.0700\n",
            "Epoch 2/100\n",
            "469/469 [==============================] - 2s 4ms/step - loss: 0.0243 - mae: 0.0637 - val_loss: 0.0213 - val_mae: 0.0578\n",
            "Epoch 3/100\n",
            "469/469 [==============================] - 2s 4ms/step - loss: 0.0200 - mae: 0.0548 - val_loss: 0.0180 - val_mae: 0.0504\n",
            "Epoch 4/100\n",
            "469/469 [==============================] - 2s 4ms/step - loss: 0.0175 - mae: 0.0495 - val_loss: 0.0163 - val_mae: 0.0469\n",
            "Epoch 5/100\n",
            "469/469 [==============================] - 2s 4ms/step - loss: 0.0161 - mae: 0.0465 - val_loss: 0.0154 - val_mae: 0.0447\n",
            "Epoch 6/100\n",
            "469/469 [==============================] - 2s 4ms/step - loss: 0.0151 - mae: 0.0444 - val_loss: 0.0143 - val_mae: 0.0426\n",
            "Epoch 7/100\n",
            "469/469 [==============================] - 2s 4ms/step - loss: 0.0142 - mae: 0.0424 - val_loss: 0.0135 - val_mae: 0.0411\n",
            "Epoch 8/100\n",
            "469/469 [==============================] - 2s 4ms/step - loss: 0.0134 - mae: 0.0408 - val_loss: 0.0128 - val_mae: 0.0393\n",
            "Epoch 9/100\n",
            "469/469 [==============================] - 2s 4ms/step - loss: 0.0128 - mae: 0.0395 - val_loss: 0.0122 - val_mae: 0.0382\n",
            "Epoch 10/100\n",
            "469/469 [==============================] - 2s 4ms/step - loss: 0.0123 - mae: 0.0385 - val_loss: 0.0118 - val_mae: 0.0374\n",
            "Epoch 11/100\n",
            "469/469 [==============================] - 2s 4ms/step - loss: 0.0119 - mae: 0.0375 - val_loss: 0.0114 - val_mae: 0.0363\n",
            "Epoch 12/100\n",
            "469/469 [==============================] - 2s 4ms/step - loss: 0.0115 - mae: 0.0367 - val_loss: 0.0111 - val_mae: 0.0359\n",
            "Epoch 13/100\n",
            "469/469 [==============================] - 2s 4ms/step - loss: 0.0112 - mae: 0.0360 - val_loss: 0.0108 - val_mae: 0.0349\n",
            "Epoch 14/100\n",
            "469/469 [==============================] - 2s 4ms/step - loss: 0.0109 - mae: 0.0355 - val_loss: 0.0106 - val_mae: 0.0347\n",
            "Epoch 15/100\n",
            "469/469 [==============================] - 2s 4ms/step - loss: 0.0107 - mae: 0.0350 - val_loss: 0.0103 - val_mae: 0.0340\n",
            "Epoch 16/100\n",
            "469/469 [==============================] - 2s 4ms/step - loss: 0.0105 - mae: 0.0346 - val_loss: 0.0103 - val_mae: 0.0339\n",
            "Epoch 17/100\n",
            "469/469 [==============================] - 2s 4ms/step - loss: 0.0104 - mae: 0.0342 - val_loss: 0.0101 - val_mae: 0.0334\n",
            "Epoch 18/100\n",
            "469/469 [==============================] - 2s 4ms/step - loss: 0.0102 - mae: 0.0339 - val_loss: 0.0100 - val_mae: 0.0335\n",
            "Epoch 19/100\n",
            "469/469 [==============================] - 2s 4ms/step - loss: 0.0101 - mae: 0.0336 - val_loss: 0.0099 - val_mae: 0.0330\n",
            "Epoch 20/100\n",
            "469/469 [==============================] - 2s 4ms/step - loss: 0.0099 - mae: 0.0333 - val_loss: 0.0096 - val_mae: 0.0326\n",
            "Epoch 21/100\n",
            "469/469 [==============================] - 2s 4ms/step - loss: 0.0098 - mae: 0.0330 - val_loss: 0.0095 - val_mae: 0.0322\n",
            "Epoch 22/100\n",
            "469/469 [==============================] - 2s 4ms/step - loss: 0.0097 - mae: 0.0328 - val_loss: 0.0094 - val_mae: 0.0322\n",
            "Epoch 23/100\n",
            "469/469 [==============================] - 2s 4ms/step - loss: 0.0096 - mae: 0.0326 - val_loss: 0.0093 - val_mae: 0.0318\n",
            "Epoch 24/100\n",
            "469/469 [==============================] - 2s 4ms/step - loss: 0.0095 - mae: 0.0324 - val_loss: 0.0093 - val_mae: 0.0319\n",
            "Epoch 25/100\n",
            "469/469 [==============================] - 2s 4ms/step - loss: 0.0094 - mae: 0.0322 - val_loss: 0.0093 - val_mae: 0.0319\n",
            "Epoch 26/100\n",
            "469/469 [==============================] - 2s 4ms/step - loss: 0.0093 - mae: 0.0320 - val_loss: 0.0092 - val_mae: 0.0316\n",
            "Epoch 27/100\n",
            "469/469 [==============================] - 2s 4ms/step - loss: 0.0093 - mae: 0.0319 - val_loss: 0.0091 - val_mae: 0.0312\n",
            "Epoch 28/100\n",
            "469/469 [==============================] - 2s 5ms/step - loss: 0.0092 - mae: 0.0317 - val_loss: 0.0091 - val_mae: 0.0313\n",
            "Epoch 29/100\n",
            "469/469 [==============================] - 2s 4ms/step - loss: 0.0091 - mae: 0.0316 - val_loss: 0.0090 - val_mae: 0.0312\n",
            "Epoch 30/100\n",
            "469/469 [==============================] - 2s 4ms/step - loss: 0.0090 - mae: 0.0314 - val_loss: 0.0089 - val_mae: 0.0308\n",
            "Epoch 31/100\n",
            "469/469 [==============================] - 2s 4ms/step - loss: 0.0090 - mae: 0.0312 - val_loss: 0.0088 - val_mae: 0.0308\n",
            "Epoch 32/100\n",
            "469/469 [==============================] - 2s 4ms/step - loss: 0.0089 - mae: 0.0310 - val_loss: 0.0087 - val_mae: 0.0306\n",
            "Epoch 33/100\n",
            "469/469 [==============================] - 2s 4ms/step - loss: 0.0088 - mae: 0.0308 - val_loss: 0.0087 - val_mae: 0.0305\n",
            "Epoch 34/100\n",
            "469/469 [==============================] - 2s 4ms/step - loss: 0.0087 - mae: 0.0306 - val_loss: 0.0085 - val_mae: 0.0302\n",
            "Epoch 35/100\n",
            "469/469 [==============================] - 2s 4ms/step - loss: 0.0086 - mae: 0.0304 - val_loss: 0.0085 - val_mae: 0.0300\n",
            "Epoch 36/100\n",
            "469/469 [==============================] - 2s 4ms/step - loss: 0.0085 - mae: 0.0301 - val_loss: 0.0084 - val_mae: 0.0297\n",
            "Epoch 37/100\n",
            "469/469 [==============================] - 2s 4ms/step - loss: 0.0084 - mae: 0.0299 - val_loss: 0.0082 - val_mae: 0.0296\n",
            "Epoch 38/100\n",
            "469/469 [==============================] - 2s 4ms/step - loss: 0.0082 - mae: 0.0297 - val_loss: 0.0081 - val_mae: 0.0291\n",
            "Epoch 39/100\n",
            "469/469 [==============================] - 2s 4ms/step - loss: 0.0081 - mae: 0.0295 - val_loss: 0.0081 - val_mae: 0.0291\n",
            "Epoch 40/100\n",
            "469/469 [==============================] - 2s 4ms/step - loss: 0.0081 - mae: 0.0293 - val_loss: 0.0079 - val_mae: 0.0287\n",
            "Epoch 41/100\n",
            "469/469 [==============================] - 2s 4ms/step - loss: 0.0080 - mae: 0.0291 - val_loss: 0.0079 - val_mae: 0.0287\n",
            "Epoch 42/100\n",
            "469/469 [==============================] - 2s 4ms/step - loss: 0.0079 - mae: 0.0290 - val_loss: 0.0079 - val_mae: 0.0286\n",
            "Epoch 43/100\n",
            "469/469 [==============================] - 2s 4ms/step - loss: 0.0079 - mae: 0.0289 - val_loss: 0.0079 - val_mae: 0.0286\n",
            "Epoch 44/100\n",
            "469/469 [==============================] - 2s 4ms/step - loss: 0.0078 - mae: 0.0288 - val_loss: 0.0077 - val_mae: 0.0282\n",
            "Epoch 45/100\n",
            "469/469 [==============================] - 2s 4ms/step - loss: 0.0078 - mae: 0.0286 - val_loss: 0.0077 - val_mae: 0.0284\n",
            "Epoch 46/100\n",
            "469/469 [==============================] - 2s 4ms/step - loss: 0.0078 - mae: 0.0286 - val_loss: 0.0077 - val_mae: 0.0282\n",
            "Epoch 47/100\n",
            "469/469 [==============================] - 2s 4ms/step - loss: 0.0077 - mae: 0.0284 - val_loss: 0.0076 - val_mae: 0.0280\n",
            "Epoch 48/100\n",
            "469/469 [==============================] - 2s 4ms/step - loss: 0.0077 - mae: 0.0284 - val_loss: 0.0076 - val_mae: 0.0281\n",
            "Epoch 49/100\n",
            "469/469 [==============================] - 2s 4ms/step - loss: 0.0076 - mae: 0.0283 - val_loss: 0.0076 - val_mae: 0.0281\n",
            "Epoch 50/100\n",
            "469/469 [==============================] - 2s 4ms/step - loss: 0.0076 - mae: 0.0282 - val_loss: 0.0075 - val_mae: 0.0278\n",
            "Epoch 51/100\n",
            "469/469 [==============================] - 2s 4ms/step - loss: 0.0076 - mae: 0.0282 - val_loss: 0.0076 - val_mae: 0.0280\n",
            "Epoch 52/100\n",
            "469/469 [==============================] - 2s 4ms/step - loss: 0.0076 - mae: 0.0281 - val_loss: 0.0076 - val_mae: 0.0281\n",
            "Epoch 53/100\n",
            "469/469 [==============================] - 2s 4ms/step - loss: 0.0075 - mae: 0.0280 - val_loss: 0.0075 - val_mae: 0.0277\n",
            "Epoch 54/100\n",
            "469/469 [==============================] - 2s 4ms/step - loss: 0.0075 - mae: 0.0280 - val_loss: 0.0076 - val_mae: 0.0278\n",
            "Epoch 55/100\n",
            "469/469 [==============================] - 2s 4ms/step - loss: 0.0075 - mae: 0.0279 - val_loss: 0.0075 - val_mae: 0.0280\n",
            "Epoch 56/100\n",
            "469/469 [==============================] - 2s 4ms/step - loss: 0.0075 - mae: 0.0279 - val_loss: 0.0074 - val_mae: 0.0275\n",
            "Epoch 57/100\n",
            "469/469 [==============================] - 2s 4ms/step - loss: 0.0074 - mae: 0.0278 - val_loss: 0.0075 - val_mae: 0.0278\n",
            "Epoch 58/100\n",
            "469/469 [==============================] - 2s 4ms/step - loss: 0.0074 - mae: 0.0277 - val_loss: 0.0074 - val_mae: 0.0275\n",
            "Epoch 59/100\n",
            "469/469 [==============================] - 2s 4ms/step - loss: 0.0074 - mae: 0.0277 - val_loss: 0.0074 - val_mae: 0.0275\n",
            "Epoch 60/100\n",
            "469/469 [==============================] - 2s 4ms/step - loss: 0.0074 - mae: 0.0277 - val_loss: 0.0073 - val_mae: 0.0273\n",
            "Epoch 61/100\n",
            "469/469 [==============================] - 2s 4ms/step - loss: 0.0073 - mae: 0.0276 - val_loss: 0.0073 - val_mae: 0.0273\n",
            "Epoch 62/100\n",
            "469/469 [==============================] - 2s 4ms/step - loss: 0.0073 - mae: 0.0276 - val_loss: 0.0073 - val_mae: 0.0273\n",
            "Epoch 63/100\n",
            "469/469 [==============================] - 2s 4ms/step - loss: 0.0073 - mae: 0.0275 - val_loss: 0.0074 - val_mae: 0.0274\n",
            "Epoch 64/100\n",
            "469/469 [==============================] - 2s 4ms/step - loss: 0.0073 - mae: 0.0275 - val_loss: 0.0073 - val_mae: 0.0274\n",
            "Epoch 65/100\n",
            "469/469 [==============================] - 2s 4ms/step - loss: 0.0073 - mae: 0.0275 - val_loss: 0.0072 - val_mae: 0.0272\n",
            "Epoch 66/100\n",
            "469/469 [==============================] - 2s 4ms/step - loss: 0.0073 - mae: 0.0274 - val_loss: 0.0072 - val_mae: 0.0271\n",
            "Epoch 67/100\n",
            "469/469 [==============================] - 2s 4ms/step - loss: 0.0072 - mae: 0.0274 - val_loss: 0.0072 - val_mae: 0.0271\n",
            "Epoch 68/100\n",
            "469/469 [==============================] - 2s 4ms/step - loss: 0.0072 - mae: 0.0273 - val_loss: 0.0072 - val_mae: 0.0271\n",
            "Epoch 69/100\n",
            "469/469 [==============================] - 2s 4ms/step - loss: 0.0072 - mae: 0.0273 - val_loss: 0.0073 - val_mae: 0.0275\n",
            "Epoch 70/100\n",
            "469/469 [==============================] - 2s 4ms/step - loss: 0.0072 - mae: 0.0273 - val_loss: 0.0072 - val_mae: 0.0271\n",
            "Epoch 71/100\n",
            "469/469 [==============================] - 2s 4ms/step - loss: 0.0072 - mae: 0.0272 - val_loss: 0.0071 - val_mae: 0.0271\n",
            "Epoch 72/100\n",
            "469/469 [==============================] - 2s 4ms/step - loss: 0.0072 - mae: 0.0272 - val_loss: 0.0072 - val_mae: 0.0271\n",
            "Epoch 73/100\n",
            "469/469 [==============================] - 2s 4ms/step - loss: 0.0072 - mae: 0.0272 - val_loss: 0.0071 - val_mae: 0.0270\n",
            "Epoch 74/100\n",
            "469/469 [==============================] - 2s 4ms/step - loss: 0.0071 - mae: 0.0272 - val_loss: 0.0071 - val_mae: 0.0269\n",
            "Epoch 75/100\n",
            "469/469 [==============================] - 2s 4ms/step - loss: 0.0071 - mae: 0.0271 - val_loss: 0.0072 - val_mae: 0.0269\n",
            "Epoch 76/100\n",
            "469/469 [==============================] - 2s 4ms/step - loss: 0.0071 - mae: 0.0271 - val_loss: 0.0072 - val_mae: 0.0270\n",
            "Epoch 77/100\n",
            "469/469 [==============================] - 2s 4ms/step - loss: 0.0071 - mae: 0.0271 - val_loss: 0.0072 - val_mae: 0.0268\n",
            "Epoch 78/100\n",
            "469/469 [==============================] - 2s 4ms/step - loss: 0.0071 - mae: 0.0271 - val_loss: 0.0073 - val_mae: 0.0274\n",
            "Epoch 79/100\n",
            "469/469 [==============================] - 2s 4ms/step - loss: 0.0071 - mae: 0.0270 - val_loss: 0.0072 - val_mae: 0.0271\n",
            "Epoch 80/100\n",
            "469/469 [==============================] - 2s 4ms/step - loss: 0.0071 - mae: 0.0270 - val_loss: 0.0071 - val_mae: 0.0269\n",
            "Epoch 81/100\n",
            "469/469 [==============================] - 2s 4ms/step - loss: 0.0071 - mae: 0.0270 - val_loss: 0.0072 - val_mae: 0.0270\n",
            "Epoch 82/100\n",
            "469/469 [==============================] - 2s 4ms/step - loss: 0.0071 - mae: 0.0270 - val_loss: 0.0071 - val_mae: 0.0268\n",
            "Epoch 83/100\n",
            "469/469 [==============================] - 2s 4ms/step - loss: 0.0070 - mae: 0.0269 - val_loss: 0.0071 - val_mae: 0.0269\n",
            "Epoch 84/100\n",
            "469/469 [==============================] - 2s 4ms/step - loss: 0.0070 - mae: 0.0269 - val_loss: 0.0071 - val_mae: 0.0268\n",
            "Epoch 85/100\n",
            "469/469 [==============================] - 2s 4ms/step - loss: 0.0070 - mae: 0.0269 - val_loss: 0.0071 - val_mae: 0.0268\n",
            "Epoch 86/100\n",
            "469/469 [==============================] - 2s 4ms/step - loss: 0.0070 - mae: 0.0269 - val_loss: 0.0072 - val_mae: 0.0270\n",
            "Epoch 87/100\n",
            "469/469 [==============================] - 2s 4ms/step - loss: 0.0070 - mae: 0.0268 - val_loss: 0.0071 - val_mae: 0.0268\n",
            "Epoch 88/100\n",
            "469/469 [==============================] - 2s 4ms/step - loss: 0.0070 - mae: 0.0268 - val_loss: 0.0070 - val_mae: 0.0266\n",
            "Epoch 89/100\n",
            "469/469 [==============================] - 2s 4ms/step - loss: 0.0070 - mae: 0.0268 - val_loss: 0.0070 - val_mae: 0.0266\n",
            "Epoch 90/100\n",
            "469/469 [==============================] - 2s 4ms/step - loss: 0.0070 - mae: 0.0268 - val_loss: 0.0070 - val_mae: 0.0267\n",
            "Epoch 91/100\n",
            "469/469 [==============================] - 2s 4ms/step - loss: 0.0070 - mae: 0.0267 - val_loss: 0.0071 - val_mae: 0.0268\n",
            "Epoch 92/100\n",
            "469/469 [==============================] - 2s 4ms/step - loss: 0.0070 - mae: 0.0267 - val_loss: 0.0070 - val_mae: 0.0266\n",
            "Epoch 93/100\n",
            "469/469 [==============================] - 2s 4ms/step - loss: 0.0070 - mae: 0.0267 - val_loss: 0.0070 - val_mae: 0.0266\n",
            "Epoch 94/100\n",
            "469/469 [==============================] - 2s 4ms/step - loss: 0.0069 - mae: 0.0267 - val_loss: 0.0070 - val_mae: 0.0266\n",
            "Epoch 95/100\n",
            "469/469 [==============================] - 2s 4ms/step - loss: 0.0069 - mae: 0.0267 - val_loss: 0.0070 - val_mae: 0.0266\n",
            "Epoch 96/100\n",
            "469/469 [==============================] - 2s 4ms/step - loss: 0.0069 - mae: 0.0267 - val_loss: 0.0070 - val_mae: 0.0264\n",
            "Epoch 97/100\n",
            "469/469 [==============================] - 2s 4ms/step - loss: 0.0069 - mae: 0.0266 - val_loss: 0.0070 - val_mae: 0.0266\n",
            "Epoch 98/100\n",
            "469/469 [==============================] - 2s 4ms/step - loss: 0.0069 - mae: 0.0266 - val_loss: 0.0070 - val_mae: 0.0265\n",
            "Epoch 99/100\n",
            "469/469 [==============================] - 2s 4ms/step - loss: 0.0069 - mae: 0.0266 - val_loss: 0.0070 - val_mae: 0.0266\n",
            "Epoch 100/100\n",
            "469/469 [==============================] - 2s 4ms/step - loss: 0.0069 - mae: 0.0266 - val_loss: 0.0069 - val_mae: 0.0264\n"
          ]
        },
        {
          "output_type": "execute_result",
          "data": {
            "text/plain": [
              "<keras.callbacks.History at 0x7f8d3a64dc90>"
            ]
          },
          "metadata": {},
          "execution_count": 28
        }
      ],
      "source": [
        "autoecoder.fit(X_Train,\n",
        "               X_Train,\n",
        "               epochs=100,\n",
        "               batch_size = 128,\n",
        "               validation_data=(X_Test, X_Test),\n",
        "               shuffle=True)\n",
        "               #callbacks = PlotLossesKeras())"
      ]
    },
    {
      "cell_type": "code",
      "execution_count": null,
      "id": "18b5d7a4",
      "metadata": {
        "ExecuteTime": {
          "end_time": "2022-01-25T11:06:55.649856Z",
          "start_time": "2022-01-25T11:06:54.988437Z"
        },
        "id": "18b5d7a4"
      },
      "outputs": [],
      "source": [
        "encoded_test_imgs = encoderModel.predict(X_Test)\n",
        "recreated_test_imgs = autoecoder.predict(X_Test)"
      ]
    },
    {
      "cell_type": "code",
      "execution_count": null,
      "id": "520f3435",
      "metadata": {
        "ExecuteTime": {
          "end_time": "2022-01-25T11:06:58.725513Z",
          "start_time": "2022-01-25T11:06:58.078860Z"
        },
        "colab": {
          "base_uri": "https://localhost:8080/",
          "height": 252
        },
        "id": "520f3435",
        "outputId": "c1cd3511-190c-4386-d477-3e855a776b7b"
      },
      "outputs": [
        {
          "output_type": "display_data",
          "data": {
            "text/plain": [
              "<Figure size 2880x288 with 30 Axes>"
            ],
            "image/png": "[encoded data removed]"
          },
          "metadata": {
            "needs_background": "light"
          }
        }
      ],
      "source": [
        "plt.figure(figsize=(40,4))\n",
        "for i in range(10):\n",
        "    #original images\n",
        "    ax=plt.subplot(3,20,i+1)\n",
        "    plt.imshow(X_Test[i].reshape(28,28))\n",
        "    plt.gray()\n",
        "    ax.get_xaxis().set_visible(False)\n",
        "    ax.get_yaxis().set_visible(False)\n",
        "\n",
        "    #Compressed Representation\n",
        "    ax=plt.subplot(3,20,i+1+20)\n",
        "    plt.imshow(encoded_test_imgs[i].reshape(16,2))\n",
        "    plt.gray()\n",
        "    ax.get_xaxis().set_visible(False)\n",
        "    ax.get_yaxis().set_visible(False)\n",
        "\n",
        "    #Recreated Images\n",
        "    ax=plt.subplot(3,20,i+1+20+20)\n",
        "    plt.imshow(recreated_test_imgs[i].reshape(28,28))\n",
        "    plt.gray()\n",
        "    ax.get_xaxis().set_visible(False)\n",
        "    ax.get_yaxis().set_visible(False)"
      ]
    },
    {
      "cell_type": "code",
      "execution_count": null,
      "id": "6a9e0628",
      "metadata": {
        "id": "6a9e0628"
      },
      "outputs": [],
      "source": []
    }
  ],
  "metadata": {
    "kernelspec": {
      "display_name": "Python 3 (ipykernel)",
      "language": "python",
      "name": "python3"
    },
    "language_info": {
      "codemirror_mode": {
        "name": "ipython",
        "version": 3
      },
      "file_extension": ".py",
      "mimetype": "text/x-python",
      "name": "python",
      "nbconvert_exporter": "python",
      "pygments_lexer": "ipython3",
      "version": "3.9.7"
    },
    "colab": {
      "provenance": []
    },
    "accelerator": "GPU"
  },
  "nbformat": 4,
  "nbformat_minor": 5
}