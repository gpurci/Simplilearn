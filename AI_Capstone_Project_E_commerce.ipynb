{
  "cells": [
    {
      "cell_type": "markdown",
      "metadata": {
        "id": "1yyI1I49-A8-"
      },
      "source": [
        "**DESCRIPTION**\n",
        "\n",
        "**Problem Statement**\n",
        "\n",
        "Amazon is an online shopping website that now caters to millions of people everywhere. Over 34,000 consumer reviews for Amazon brand products like Kindle, Fire TV Stick and more are provided.\n",
        "\n",
        "The dataset has attributes like brand, categories, primary categories, reviews.title, reviews.text, and the sentiment. Sentiment is a categorical variable with three levels \"Positive\", \"Negative“, and \"Neutral\". For a given unseen data, the sentiment needs to be predicted.\n",
        "\n",
        "You are required to predict Sentiment or Satisfaction of a purchase based on multiple features and review text."
      ]
    },
    {
      "cell_type": "markdown",
      "metadata": {
        "id": "6rcqJtC5huvt"
      },
      "source": [
        "###Install library"
      ]
    },
    {
      "cell_type": "code",
      "execution_count": null,
      "metadata": {
        "colab": {
          "base_uri": "https://localhost:8080/"
        },
        "id": "jdi5jo-uhzFd",
        "outputId": "50522219-b5bb-48be-a7ea-2220ba65218b"
      },
      "outputs": [
        {
          "output_type": "stream",
          "name": "stdout",
          "text": [
            "Looking in indexes: https://pypi.org/simple, https://us-python.pkg.dev/colab-wheels/public/simple/\n",
            "Collecting livelossplot\n",
            "  Downloading livelossplot-0.5.5-py3-none-any.whl (22 kB)\n",
            "Requirement already satisfied: ipython==7.* in /usr/local/lib/python3.7/dist-packages (from livelossplot) (7.9.0)\n",
            "Requirement already satisfied: matplotlib in /usr/local/lib/python3.7/dist-packages (from livelossplot) (3.2.2)\n",
            "Requirement already satisfied: bokeh in /usr/local/lib/python3.7/dist-packages (from livelossplot) (2.3.3)\n",
            "Requirement already satisfied: numpy<1.22 in /usr/local/lib/python3.7/dist-packages (from livelossplot) (1.21.6)\n",
            "Requirement already satisfied: prompt-toolkit<2.1.0,>=2.0.0 in /usr/local/lib/python3.7/dist-packages (from ipython==7.*->livelossplot) (2.0.10)\n",
            "Requirement already satisfied: pygments in /usr/local/lib/python3.7/dist-packages (from ipython==7.*->livelossplot) (2.6.1)\n",
            "Requirement already satisfied: decorator in /usr/local/lib/python3.7/dist-packages (from ipython==7.*->livelossplot) (4.4.2)\n",
            "Requirement already satisfied: setuptools>=18.5 in /usr/local/lib/python3.7/dist-packages (from ipython==7.*->livelossplot) (57.4.0)\n",
            "Requirement already satisfied: backcall in /usr/local/lib/python3.7/dist-packages (from ipython==7.*->livelossplot) (0.2.0)\n",
            "Requirement already satisfied: pickleshare in /usr/local/lib/python3.7/dist-packages (from ipython==7.*->livelossplot) (0.7.5)\n",
            "Collecting jedi>=0.10\n",
            "  Downloading jedi-0.18.1-py2.py3-none-any.whl (1.6 MB)\n",
            "\u001b[K     |████████████████████████████████| 1.6 MB 9.0 MB/s \n",
            "\u001b[?25hRequirement already satisfied: pexpect in /usr/local/lib/python3.7/dist-packages (from ipython==7.*->livelossplot) (4.8.0)\n",
            "Requirement already satisfied: traitlets>=4.2 in /usr/local/lib/python3.7/dist-packages (from ipython==7.*->livelossplot) (5.1.1)\n",
            "Requirement already satisfied: parso<0.9.0,>=0.8.0 in /usr/local/lib/python3.7/dist-packages (from jedi>=0.10->ipython==7.*->livelossplot) (0.8.3)\n",
            "Requirement already satisfied: six>=1.9.0 in /usr/local/lib/python3.7/dist-packages (from prompt-toolkit<2.1.0,>=2.0.0->ipython==7.*->livelossplot) (1.15.0)\n",
            "Requirement already satisfied: wcwidth in /usr/local/lib/python3.7/dist-packages (from prompt-toolkit<2.1.0,>=2.0.0->ipython==7.*->livelossplot) (0.2.5)\n",
            "Requirement already satisfied: python-dateutil>=2.1 in /usr/local/lib/python3.7/dist-packages (from bokeh->livelossplot) (2.8.2)\n",
            "Requirement already satisfied: tornado>=5.1 in /usr/local/lib/python3.7/dist-packages (from bokeh->livelossplot) (5.1.1)\n",
            "Requirement already satisfied: PyYAML>=3.10 in /usr/local/lib/python3.7/dist-packages (from bokeh->livelossplot) (6.0)\n",
            "Requirement already satisfied: pillow>=7.1.0 in /usr/local/lib/python3.7/dist-packages (from bokeh->livelossplot) (7.1.2)\n",
            "Requirement already satisfied: typing-extensions>=3.7.4 in /usr/local/lib/python3.7/dist-packages (from bokeh->livelossplot) (4.1.1)\n",
            "Requirement already satisfied: Jinja2>=2.9 in /usr/local/lib/python3.7/dist-packages (from bokeh->livelossplot) (2.11.3)\n",
            "Requirement already satisfied: packaging>=16.8 in /usr/local/lib/python3.7/dist-packages (from bokeh->livelossplot) (21.3)\n",
            "Requirement already satisfied: MarkupSafe>=0.23 in /usr/local/lib/python3.7/dist-packages (from Jinja2>=2.9->bokeh->livelossplot) (2.0.1)\n",
            "Requirement already satisfied: pyparsing!=3.0.5,>=2.0.2 in /usr/local/lib/python3.7/dist-packages (from packaging>=16.8->bokeh->livelossplot) (3.0.9)\n",
            "Requirement already satisfied: kiwisolver>=1.0.1 in /usr/local/lib/python3.7/dist-packages (from matplotlib->livelossplot) (1.4.4)\n",
            "Requirement already satisfied: cycler>=0.10 in /usr/local/lib/python3.7/dist-packages (from matplotlib->livelossplot) (0.11.0)\n",
            "Requirement already satisfied: ptyprocess>=0.5 in /usr/local/lib/python3.7/dist-packages (from pexpect->ipython==7.*->livelossplot) (0.7.0)\n",
            "Installing collected packages: jedi, livelossplot\n",
            "Successfully installed jedi-0.18.1 livelossplot-0.5.5\n"
          ]
        }
      ],
      "source": [
        "!pip install livelossplot"
      ]
    },
    {
      "cell_type": "code",
      "execution_count": null,
      "metadata": {
        "colab": {
          "base_uri": "https://localhost:8080/"
        },
        "id": "vlkcAF5wlgUW",
        "outputId": "65c54102-1af6-4c3b-ccfa-f82f303ec6b7"
      },
      "outputs": [
        {
          "output_type": "stream",
          "name": "stdout",
          "text": [
            "Looking in indexes: https://pypi.org/simple, https://us-python.pkg.dev/colab-wheels/public/simple/\n",
            "Collecting scikeras\n",
            "  Downloading scikeras-0.9.0-py3-none-any.whl (27 kB)\n",
            "Requirement already satisfied: packaging>=0.21 in /usr/local/lib/python3.7/dist-packages (from scikeras) (21.3)\n",
            "Requirement already satisfied: importlib-metadata>=3 in /usr/local/lib/python3.7/dist-packages (from scikeras) (5.0.0)\n",
            "Requirement already satisfied: scikit-learn>=1.0.0 in /usr/local/lib/python3.7/dist-packages (from scikeras) (1.0.2)\n",
            "Requirement already satisfied: typing-extensions>=3.6.4 in /usr/local/lib/python3.7/dist-packages (from importlib-metadata>=3->scikeras) (4.1.1)\n",
            "Requirement already satisfied: zipp>=0.5 in /usr/local/lib/python3.7/dist-packages (from importlib-metadata>=3->scikeras) (3.9.0)\n",
            "Requirement already satisfied: pyparsing!=3.0.5,>=2.0.2 in /usr/local/lib/python3.7/dist-packages (from packaging>=0.21->scikeras) (3.0.9)\n",
            "Requirement already satisfied: joblib>=0.11 in /usr/local/lib/python3.7/dist-packages (from scikit-learn>=1.0.0->scikeras) (1.2.0)\n",
            "Requirement already satisfied: threadpoolctl>=2.0.0 in /usr/local/lib/python3.7/dist-packages (from scikit-learn>=1.0.0->scikeras) (3.1.0)\n",
            "Requirement already satisfied: scipy>=1.1.0 in /usr/local/lib/python3.7/dist-packages (from scikit-learn>=1.0.0->scikeras) (1.7.3)\n",
            "Requirement already satisfied: numpy>=1.14.6 in /usr/local/lib/python3.7/dist-packages (from scikit-learn>=1.0.0->scikeras) (1.21.6)\n",
            "Installing collected packages: scikeras\n",
            "Successfully installed scikeras-0.9.0\n"
          ]
        }
      ],
      "source": [
        "!pip install scikeras"
      ]
    },
    {
      "cell_type": "markdown",
      "metadata": {
        "id": "doa2gSCNhi-x"
      },
      "source": [
        "###Import library"
      ]
    },
    {
      "cell_type": "code",
      "execution_count": null,
      "metadata": {
        "id": "F8rtzB-Bhmyu"
      },
      "outputs": [],
      "source": [
        "#Import the necessary library\n",
        "import matplotlib.pyplot as plt\n",
        "from itertools import cycle\n",
        "\n",
        "import pandas as pd\n",
        "import numpy as np\n",
        "import re\n",
        "# import required libraries\n",
        "import os"
      ]
    },
    {
      "cell_type": "code",
      "execution_count": null,
      "metadata": {
        "id": "FmT4XKVYhK8l"
      },
      "outputs": [],
      "source": [
        "from sklearn import metrics, svm\n",
        "from sklearn.naive_bayes import MultinomialNB\n",
        "from sklearn.feature_extraction.text import TfidfTransformer, CountVectorizer\n",
        "from sklearn.metrics import accuracy_score, precision_score, recall_score, confusion_matrix\n",
        "from sklearn.metrics import roc_curve, auc\n",
        "from sklearn.preprocessing import label_binarize, OneHotEncoder\n",
        "from sklearn.ensemble import RandomForestClassifier\n",
        "from sklearn.model_selection import RandomizedSearchCV\n",
        "\n",
        "from scikeras.wrappers import KerasClassifier"
      ]
    },
    {
      "cell_type": "code",
      "execution_count": null,
      "metadata": {
        "id": "I72Gls__XWLK"
      },
      "outputs": [],
      "source": [
        "from xgboost import XGBClassifier"
      ]
    },
    {
      "cell_type": "code",
      "execution_count": null,
      "metadata": {
        "id": "NFYvbs_sJKs_"
      },
      "outputs": [],
      "source": [
        "from scipy import stats as st"
      ]
    },
    {
      "cell_type": "code",
      "execution_count": null,
      "metadata": {
        "colab": {
          "base_uri": "https://localhost:8080/"
        },
        "id": "xx4HeU3UDOw3",
        "outputId": "e685f926-4e91-4238-9f7b-dc65a461e25e"
      },
      "outputs": [
        {
          "output_type": "stream",
          "name": "stderr",
          "text": [
            "[nltk_data] Downloading package stopwords to /root/nltk_data...\n",
            "[nltk_data]   Unzipping corpora/stopwords.zip.\n",
            "[nltk_data] Downloading package averaged_perceptron_tagger to\n",
            "[nltk_data]     /root/nltk_data...\n",
            "[nltk_data]   Unzipping taggers/averaged_perceptron_tagger.zip.\n",
            "[nltk_data] Downloading package wordnet to /root/nltk_data...\n",
            "[nltk_data] Downloading package punkt to /root/nltk_data...\n",
            "[nltk_data]   Unzipping tokenizers/punkt.zip.\n",
            "[nltk_data] Downloading package omw-1.4 to /root/nltk_data...\n"
          ]
        }
      ],
      "source": [
        "import string\n",
        "from string import punctuation\n",
        "import nltk\n",
        "nltk.download('stopwords')\n",
        "nltk.download('averaged_perceptron_tagger')\n",
        "nltk.download('wordnet')\n",
        "nltk.download('punkt')\n",
        "nltk.download('omw-1.4')\n",
        "from nltk.corpus import stopwords\n",
        "from nltk.stem import WordNetLemmatizer\n",
        "from nltk import sent_tokenize, word_tokenize"
      ]
    },
    {
      "cell_type": "code",
      "execution_count": null,
      "metadata": {
        "id": "MV6LZ0XsDO1-"
      },
      "outputs": [],
      "source": [
        "import warnings\n",
        "warnings.filterwarnings(\"ignore\")"
      ]
    },
    {
      "cell_type": "code",
      "execution_count": null,
      "metadata": {
        "id": "q-tJ0fOZAsZX"
      },
      "outputs": [],
      "source": [
        "from imblearn.over_sampling import SMOTE, SMOTEN"
      ]
    },
    {
      "cell_type": "code",
      "execution_count": null,
      "metadata": {
        "id": "qX8rPNst9fzN"
      },
      "outputs": [],
      "source": [
        "from livelossplot import PlotLossesKerasTF\n",
        "\n",
        "import tensorflow as tf\n",
        "from tensorflow import keras\n",
        "from tensorflow.keras import layers\n",
        "from tensorflow.keras import Input, Model"
      ]
    },
    {
      "cell_type": "markdown",
      "metadata": {
        "id": "JnNz6asOgw6z"
      },
      "source": [
        "###Import the data"
      ]
    },
    {
      "cell_type": "code",
      "execution_count": null,
      "metadata": {
        "id": "rvBJu0-pgx-Y"
      },
      "outputs": [],
      "source": [
        "pd_df_test_data = pd.read_csv('/content/test_data.csv')\n",
        "pd_df_test_data_hidden = pd.read_csv('/content/test_data_hidden.csv')\n",
        "pd_df_train_data = pd.read_csv('/content/train_data.csv')"
      ]
    },
    {
      "cell_type": "code",
      "execution_count": null,
      "metadata": {
        "colab": {
          "base_uri": "https://localhost:8080/"
        },
        "id": "vndnjqPGlGVr",
        "outputId": "d4b15fbe-ac60-44c7-85c4-a5c63ac4df8f"
      },
      "outputs": [
        {
          "output_type": "execute_result",
          "data": {
            "text/plain": [
              "                                                name   brand  \\\n",
              "0  Fire Tablet, 7 Display, Wi-Fi, 16 GB - Include...  Amazon   \n",
              "1  Amazon Echo Show Alexa-enabled Bluetooth Speak...  Amazon   \n",
              "2  All-New Fire HD 8 Tablet, 8\" HD Display, Wi-Fi...  Amazon   \n",
              "3  Brand New Amazon Kindle Fire 16gb 7\" Ips Displ...  Amazon   \n",
              "4  Amazon Echo Show Alexa-enabled Bluetooth Speak...  Amazon   \n",
              "\n",
              "                                          categories     primaryCategories  \\\n",
              "0  Fire Tablets,Computers/Tablets & Networking,Ta...           Electronics   \n",
              "1  Computers,Amazon Echo,Virtual Assistant Speake...  Electronics,Hardware   \n",
              "2  Electronics,iPad & Tablets,All Tablets,Fire Ta...           Electronics   \n",
              "3  Computers/Tablets & Networking,Tablets & eBook...           Electronics   \n",
              "4  Computers,Amazon Echo,Virtual Assistant Speake...  Electronics,Hardware   \n",
              "\n",
              "               reviews.date  \\\n",
              "0  2016-05-23T00:00:00.000Z   \n",
              "1  2018-01-02T00:00:00.000Z   \n",
              "2  2017-01-02T00:00:00.000Z   \n",
              "3  2017-03-25T00:00:00.000Z   \n",
              "4  2017-11-15T00:00:00.000Z   \n",
              "\n",
              "                                        reviews.text  \\\n",
              "0  Amazon kindle fire has a lot of free app and c...   \n",
              "1  The Echo Show is a great addition to the Amazo...   \n",
              "2  Great value from Best Buy. Bought at Christmas...   \n",
              "3  I use mine for email, Facebook ,games and to g...   \n",
              "4  This is a fantastic item & the person I bought...   \n",
              "\n",
              "                       reviews.title  \n",
              "0                  very handy device  \n",
              "1         Another winner from Amazon  \n",
              "2  simple to use and reliable so far  \n",
              "3                         Love it!!!  \n",
              "4                         Fantastic!  "
            ],
            "text/html": [
              "\n",
              "  <div id=\"df-a83458c7-87f8-4fd7-adf6-4e77e5104e82\">\n",
              "    <div class=\"colab-df-container\">\n",
              "      <div>\n",
              "<style scoped>\n",
              "    .dataframe tbody tr th:only-of-type {\n",
              "        vertical-align: middle;\n",
              "    }\n",
              "\n",
              "    .dataframe tbody tr th {\n",
              "        vertical-align: top;\n",
              "    }\n",
              "\n",
              "    .dataframe thead th {\n",
              "        text-align: right;\n",
              "    }\n",
              "</style>\n",
              "<table border=\"1\" class=\"dataframe\">\n",
              "  <thead>\n",
              "    <tr style=\"text-align: right;\">\n",
              "      <th></th>\n",
              "      <th>name</th>\n",
              "      <th>brand</th>\n",
              "      <th>categories</th>\n",
              "      <th>primaryCategories</th>\n",
              "      <th>reviews.date</th>\n",
              "      <th>reviews.text</th>\n",
              "      <th>reviews.title</th>\n",
              "    </tr>\n",
              "  </thead>\n",
              "  <tbody>\n",
              "    <tr>\n",
              "      <th>0</th>\n",
              "      <td>Fire Tablet, 7 Display, Wi-Fi, 16 GB - Include...</td>\n",
              "      <td>Amazon</td>\n",
              "      <td>Fire Tablets,Computers/Tablets &amp; Networking,Ta...</td>\n",
              "      <td>Electronics</td>\n",
              "      <td>2016-05-23T00:00:00.000Z</td>\n",
              "      <td>Amazon kindle fire has a lot of free app and c...</td>\n",
              "      <td>very handy device</td>\n",
              "    </tr>\n",
              "    <tr>\n",
              "      <th>1</th>\n",
              "      <td>Amazon Echo Show Alexa-enabled Bluetooth Speak...</td>\n",
              "      <td>Amazon</td>\n",
              "      <td>Computers,Amazon Echo,Virtual Assistant Speake...</td>\n",
              "      <td>Electronics,Hardware</td>\n",
              "      <td>2018-01-02T00:00:00.000Z</td>\n",
              "      <td>The Echo Show is a great addition to the Amazo...</td>\n",
              "      <td>Another winner from Amazon</td>\n",
              "    </tr>\n",
              "    <tr>\n",
              "      <th>2</th>\n",
              "      <td>All-New Fire HD 8 Tablet, 8\" HD Display, Wi-Fi...</td>\n",
              "      <td>Amazon</td>\n",
              "      <td>Electronics,iPad &amp; Tablets,All Tablets,Fire Ta...</td>\n",
              "      <td>Electronics</td>\n",
              "      <td>2017-01-02T00:00:00.000Z</td>\n",
              "      <td>Great value from Best Buy. Bought at Christmas...</td>\n",
              "      <td>simple to use and reliable so far</td>\n",
              "    </tr>\n",
              "    <tr>\n",
              "      <th>3</th>\n",
              "      <td>Brand New Amazon Kindle Fire 16gb 7\" Ips Displ...</td>\n",
              "      <td>Amazon</td>\n",
              "      <td>Computers/Tablets &amp; Networking,Tablets &amp; eBook...</td>\n",
              "      <td>Electronics</td>\n",
              "      <td>2017-03-25T00:00:00.000Z</td>\n",
              "      <td>I use mine for email, Facebook ,games and to g...</td>\n",
              "      <td>Love it!!!</td>\n",
              "    </tr>\n",
              "    <tr>\n",
              "      <th>4</th>\n",
              "      <td>Amazon Echo Show Alexa-enabled Bluetooth Speak...</td>\n",
              "      <td>Amazon</td>\n",
              "      <td>Computers,Amazon Echo,Virtual Assistant Speake...</td>\n",
              "      <td>Electronics,Hardware</td>\n",
              "      <td>2017-11-15T00:00:00.000Z</td>\n",
              "      <td>This is a fantastic item &amp; the person I bought...</td>\n",
              "      <td>Fantastic!</td>\n",
              "    </tr>\n",
              "  </tbody>\n",
              "</table>\n",
              "</div>\n",
              "      <button class=\"colab-df-convert\" onclick=\"convertToInteractive('df-a83458c7-87f8-4fd7-adf6-4e77e5104e82')\"\n",
              "              title=\"Convert this dataframe to an interactive table.\"\n",
              "              style=\"display:none;\">\n",
              "        \n",
              "  <svg xmlns=\"http://www.w3.org/2000/svg\" height=\"24px\"viewBox=\"0 0 24 24\"\n",
              "       width=\"24px\">\n",
              "    <path d=\"M0 0h24v24H0V0z\" fill=\"none\"/>\n",
              "    <path d=\"M18.56 5.44l.94 2.06.94-2.06 2.06-.94-2.06-.94-.94-2.06-.94 2.06-2.06.94zm-11 1L8.5 8.5l.94-2.06 2.06-.94-2.06-.94L8.5 2.5l-.94 2.06-2.06.94zm10 10l.94 2.06.94-2.06 2.06-.94-2.06-.94-.94-2.06-.94 2.06-2.06.94z\"/><path d=\"M17.41 7.96l-1.37-1.37c-.4-.4-.92-.59-1.43-.59-.52 0-1.04.2-1.43.59L10.3 9.45l-7.72 7.72c-.78.78-.78 2.05 0 2.83L4 21.41c.39.39.9.59 1.41.59.51 0 1.02-.2 1.41-.59l7.78-7.78 2.81-2.81c.8-.78.8-2.07 0-2.86zM5.41 20L4 18.59l7.72-7.72 1.47 1.35L5.41 20z\"/>\n",
              "  </svg>\n",
              "      </button>\n",
              "      \n",
              "  <style>\n",
              "    .colab-df-container {\n",
              "      display:flex;\n",
              "      flex-wrap:wrap;\n",
              "      gap: 12px;\n",
              "    }\n",
              "\n",
              "    .colab-df-convert {\n",
              "      background-color: #E8F0FE;\n",
              "      border: none;\n",
              "      border-radius: 50%;\n",
              "      cursor: pointer;\n",
              "      display: none;\n",
              "      fill: #1967D2;\n",
              "      height: 32px;\n",
              "      padding: 0 0 0 0;\n",
              "      width: 32px;\n",
              "    }\n",
              "\n",
              "    .colab-df-convert:hover {\n",
              "      background-color: #E2EBFA;\n",
              "      box-shadow: 0px 1px 2px rgba(60, 64, 67, 0.3), 0px 1px 3px 1px rgba(60, 64, 67, 0.15);\n",
              "      fill: #174EA6;\n",
              "    }\n",
              "\n",
              "    [theme=dark] .colab-df-convert {\n",
              "      background-color: #3B4455;\n",
              "      fill: #D2E3FC;\n",
              "    }\n",
              "\n",
              "    [theme=dark] .colab-df-convert:hover {\n",
              "      background-color: #434B5C;\n",
              "      box-shadow: 0px 1px 3px 1px rgba(0, 0, 0, 0.15);\n",
              "      filter: drop-shadow(0px 1px 2px rgba(0, 0, 0, 0.3));\n",
              "      fill: #FFFFFF;\n",
              "    }\n",
              "  </style>\n",
              "\n",
              "      <script>\n",
              "        const buttonEl =\n",
              "          document.querySelector('#df-a83458c7-87f8-4fd7-adf6-4e77e5104e82 button.colab-df-convert');\n",
              "        buttonEl.style.display =\n",
              "          google.colab.kernel.accessAllowed ? 'block' : 'none';\n",
              "\n",
              "        async function convertToInteractive(key) {\n",
              "          const element = document.querySelector('#df-a83458c7-87f8-4fd7-adf6-4e77e5104e82');\n",
              "          const dataTable =\n",
              "            await google.colab.kernel.invokeFunction('convertToInteractive',\n",
              "                                                     [key], {});\n",
              "          if (!dataTable) return;\n",
              "\n",
              "          const docLinkHtml = 'Like what you see? Visit the ' +\n",
              "            '<a target=\"_blank\" href=https://colab.research.google.com/notebooks/data_table.ipynb>data table notebook</a>'\n",
              "            + ' to learn more about interactive tables.';\n",
              "          element.innerHTML = '';\n",
              "          dataTable['output_type'] = 'display_data';\n",
              "          await google.colab.output.renderOutput(dataTable, element);\n",
              "          const docLink = document.createElement('div');\n",
              "          docLink.innerHTML = docLinkHtml;\n",
              "          element.appendChild(docLink);\n",
              "        }\n",
              "      </script>\n",
              "    </div>\n",
              "  </div>\n",
              "  "
            ]
          },
          "metadata": {},
          "execution_count": 12
        }
      ],
      "source": [
        "pd_df_test_data.head()"
      ]
    },
    {
      "cell_type": "code",
      "execution_count": null,
      "metadata": {
        "colab": {
          "base_uri": "https://localhost:8080/"
        },
        "id": "dYY-3vAulRj8",
        "outputId": "8f8bcf6c-9d0e-49a7-b552-f291d907c17d"
      },
      "outputs": [
        {
          "output_type": "execute_result",
          "data": {
            "text/plain": [
              "                                                name   brand  \\\n",
              "0  Fire Tablet, 7 Display, Wi-Fi, 16 GB - Include...  Amazon   \n",
              "1  Amazon Echo Show Alexa-enabled Bluetooth Speak...  Amazon   \n",
              "2  All-New Fire HD 8 Tablet, 8\" HD Display, Wi-Fi...  Amazon   \n",
              "3  Brand New Amazon Kindle Fire 16gb 7\" Ips Displ...  Amazon   \n",
              "4  Amazon Echo Show Alexa-enabled Bluetooth Speak...  Amazon   \n",
              "\n",
              "                                          categories     primaryCategories  \\\n",
              "0  Fire Tablets,Computers/Tablets & Networking,Ta...           Electronics   \n",
              "1  Computers,Amazon Echo,Virtual Assistant Speake...  Electronics,Hardware   \n",
              "2  Electronics,iPad & Tablets,All Tablets,Fire Ta...           Electronics   \n",
              "3  Computers/Tablets & Networking,Tablets & eBook...           Electronics   \n",
              "4  Computers,Amazon Echo,Virtual Assistant Speake...  Electronics,Hardware   \n",
              "\n",
              "               reviews.date  \\\n",
              "0  2016-05-23T00:00:00.000Z   \n",
              "1  2018-01-02T00:00:00.000Z   \n",
              "2  2017-01-02T00:00:00.000Z   \n",
              "3  2017-03-25T00:00:00.000Z   \n",
              "4  2017-11-15T00:00:00.000Z   \n",
              "\n",
              "                                        reviews.text  \\\n",
              "0  Amazon kindle fire has a lot of free app and c...   \n",
              "1  The Echo Show is a great addition to the Amazo...   \n",
              "2  Great value from Best Buy. Bought at Christmas...   \n",
              "3  I use mine for email, Facebook ,games and to g...   \n",
              "4  This is a fantastic item & the person I bought...   \n",
              "\n",
              "                       reviews.title sentiment  \n",
              "0                  very handy device  Positive  \n",
              "1         Another winner from Amazon  Positive  \n",
              "2  simple to use and reliable so far  Positive  \n",
              "3                         Love it!!!  Positive  \n",
              "4                         Fantastic!  Positive  "
            ],
            "text/html": [
              "\n",
              "  <div id=\"df-f7814e97-8a51-4d5d-8753-b07000959940\">\n",
              "    <div class=\"colab-df-container\">\n",
              "      <div>\n",
              "<style scoped>\n",
              "    .dataframe tbody tr th:only-of-type {\n",
              "        vertical-align: middle;\n",
              "    }\n",
              "\n",
              "    .dataframe tbody tr th {\n",
              "        vertical-align: top;\n",
              "    }\n",
              "\n",
              "    .dataframe thead th {\n",
              "        text-align: right;\n",
              "    }\n",
              "</style>\n",
              "<table border=\"1\" class=\"dataframe\">\n",
              "  <thead>\n",
              "    <tr style=\"text-align: right;\">\n",
              "      <th></th>\n",
              "      <th>name</th>\n",
              "      <th>brand</th>\n",
              "      <th>categories</th>\n",
              "      <th>primaryCategories</th>\n",
              "      <th>reviews.date</th>\n",
              "      <th>reviews.text</th>\n",
              "      <th>reviews.title</th>\n",
              "      <th>sentiment</th>\n",
              "    </tr>\n",
              "  </thead>\n",
              "  <tbody>\n",
              "    <tr>\n",
              "      <th>0</th>\n",
              "      <td>Fire Tablet, 7 Display, Wi-Fi, 16 GB - Include...</td>\n",
              "      <td>Amazon</td>\n",
              "      <td>Fire Tablets,Computers/Tablets &amp; Networking,Ta...</td>\n",
              "      <td>Electronics</td>\n",
              "      <td>2016-05-23T00:00:00.000Z</td>\n",
              "      <td>Amazon kindle fire has a lot of free app and c...</td>\n",
              "      <td>very handy device</td>\n",
              "      <td>Positive</td>\n",
              "    </tr>\n",
              "    <tr>\n",
              "      <th>1</th>\n",
              "      <td>Amazon Echo Show Alexa-enabled Bluetooth Speak...</td>\n",
              "      <td>Amazon</td>\n",
              "      <td>Computers,Amazon Echo,Virtual Assistant Speake...</td>\n",
              "      <td>Electronics,Hardware</td>\n",
              "      <td>2018-01-02T00:00:00.000Z</td>\n",
              "      <td>The Echo Show is a great addition to the Amazo...</td>\n",
              "      <td>Another winner from Amazon</td>\n",
              "      <td>Positive</td>\n",
              "    </tr>\n",
              "    <tr>\n",
              "      <th>2</th>\n",
              "      <td>All-New Fire HD 8 Tablet, 8\" HD Display, Wi-Fi...</td>\n",
              "      <td>Amazon</td>\n",
              "      <td>Electronics,iPad &amp; Tablets,All Tablets,Fire Ta...</td>\n",
              "      <td>Electronics</td>\n",
              "      <td>2017-01-02T00:00:00.000Z</td>\n",
              "      <td>Great value from Best Buy. Bought at Christmas...</td>\n",
              "      <td>simple to use and reliable so far</td>\n",
              "      <td>Positive</td>\n",
              "    </tr>\n",
              "    <tr>\n",
              "      <th>3</th>\n",
              "      <td>Brand New Amazon Kindle Fire 16gb 7\" Ips Displ...</td>\n",
              "      <td>Amazon</td>\n",
              "      <td>Computers/Tablets &amp; Networking,Tablets &amp; eBook...</td>\n",
              "      <td>Electronics</td>\n",
              "      <td>2017-03-25T00:00:00.000Z</td>\n",
              "      <td>I use mine for email, Facebook ,games and to g...</td>\n",
              "      <td>Love it!!!</td>\n",
              "      <td>Positive</td>\n",
              "    </tr>\n",
              "    <tr>\n",
              "      <th>4</th>\n",
              "      <td>Amazon Echo Show Alexa-enabled Bluetooth Speak...</td>\n",
              "      <td>Amazon</td>\n",
              "      <td>Computers,Amazon Echo,Virtual Assistant Speake...</td>\n",
              "      <td>Electronics,Hardware</td>\n",
              "      <td>2017-11-15T00:00:00.000Z</td>\n",
              "      <td>This is a fantastic item &amp; the person I bought...</td>\n",
              "      <td>Fantastic!</td>\n",
              "      <td>Positive</td>\n",
              "    </tr>\n",
              "  </tbody>\n",
              "</table>\n",
              "</div>\n",
              "      <button class=\"colab-df-convert\" onclick=\"convertToInteractive('df-f7814e97-8a51-4d5d-8753-b07000959940')\"\n",
              "              title=\"Convert this dataframe to an interactive table.\"\n",
              "              style=\"display:none;\">\n",
              "        \n",
              "  <svg xmlns=\"http://www.w3.org/2000/svg\" height=\"24px\"viewBox=\"0 0 24 24\"\n",
              "       width=\"24px\">\n",
              "    <path d=\"M0 0h24v24H0V0z\" fill=\"none\"/>\n",
              "    <path d=\"M18.56 5.44l.94 2.06.94-2.06 2.06-.94-2.06-.94-.94-2.06-.94 2.06-2.06.94zm-11 1L8.5 8.5l.94-2.06 2.06-.94-2.06-.94L8.5 2.5l-.94 2.06-2.06.94zm10 10l.94 2.06.94-2.06 2.06-.94-2.06-.94-.94-2.06-.94 2.06-2.06.94z\"/><path d=\"M17.41 7.96l-1.37-1.37c-.4-.4-.92-.59-1.43-.59-.52 0-1.04.2-1.43.59L10.3 9.45l-7.72 7.72c-.78.78-.78 2.05 0 2.83L4 21.41c.39.39.9.59 1.41.59.51 0 1.02-.2 1.41-.59l7.78-7.78 2.81-2.81c.8-.78.8-2.07 0-2.86zM5.41 20L4 18.59l7.72-7.72 1.47 1.35L5.41 20z\"/>\n",
              "  </svg>\n",
              "      </button>\n",
              "      \n",
              "  <style>\n",
              "    .colab-df-container {\n",
              "      display:flex;\n",
              "      flex-wrap:wrap;\n",
              "      gap: 12px;\n",
              "    }\n",
              "\n",
              "    .colab-df-convert {\n",
              "      background-color: #E8F0FE;\n",
              "      border: none;\n",
              "      border-radius: 50%;\n",
              "      cursor: pointer;\n",
              "      display: none;\n",
              "      fill: #1967D2;\n",
              "      height: 32px;\n",
              "      padding: 0 0 0 0;\n",
              "      width: 32px;\n",
              "    }\n",
              "\n",
              "    .colab-df-convert:hover {\n",
              "      background-color: #E2EBFA;\n",
              "      box-shadow: 0px 1px 2px rgba(60, 64, 67, 0.3), 0px 1px 3px 1px rgba(60, 64, 67, 0.15);\n",
              "      fill: #174EA6;\n",
              "    }\n",
              "\n",
              "    [theme=dark] .colab-df-convert {\n",
              "      background-color: #3B4455;\n",
              "      fill: #D2E3FC;\n",
              "    }\n",
              "\n",
              "    [theme=dark] .colab-df-convert:hover {\n",
              "      background-color: #434B5C;\n",
              "      box-shadow: 0px 1px 3px 1px rgba(0, 0, 0, 0.15);\n",
              "      filter: drop-shadow(0px 1px 2px rgba(0, 0, 0, 0.3));\n",
              "      fill: #FFFFFF;\n",
              "    }\n",
              "  </style>\n",
              "\n",
              "      <script>\n",
              "        const buttonEl =\n",
              "          document.querySelector('#df-f7814e97-8a51-4d5d-8753-b07000959940 button.colab-df-convert');\n",
              "        buttonEl.style.display =\n",
              "          google.colab.kernel.accessAllowed ? 'block' : 'none';\n",
              "\n",
              "        async function convertToInteractive(key) {\n",
              "          const element = document.querySelector('#df-f7814e97-8a51-4d5d-8753-b07000959940');\n",
              "          const dataTable =\n",
              "            await google.colab.kernel.invokeFunction('convertToInteractive',\n",
              "                                                     [key], {});\n",
              "          if (!dataTable) return;\n",
              "\n",
              "          const docLinkHtml = 'Like what you see? Visit the ' +\n",
              "            '<a target=\"_blank\" href=https://colab.research.google.com/notebooks/data_table.ipynb>data table notebook</a>'\n",
              "            + ' to learn more about interactive tables.';\n",
              "          element.innerHTML = '';\n",
              "          dataTable['output_type'] = 'display_data';\n",
              "          await google.colab.output.renderOutput(dataTable, element);\n",
              "          const docLink = document.createElement('div');\n",
              "          docLink.innerHTML = docLinkHtml;\n",
              "          element.appendChild(docLink);\n",
              "        }\n",
              "      </script>\n",
              "    </div>\n",
              "  </div>\n",
              "  "
            ]
          },
          "metadata": {},
          "execution_count": 13
        }
      ],
      "source": [
        "pd_df_test_data_hidden.head()"
      ]
    },
    {
      "cell_type": "code",
      "execution_count": null,
      "metadata": {
        "colab": {
          "base_uri": "https://localhost:8080/"
        },
        "id": "m15CpSEZmQbH",
        "outputId": "8edfee92-4ac1-4050-b7f8-118ae2d0e93e"
      },
      "outputs": [
        {
          "output_type": "execute_result",
          "data": {
            "text/plain": [
              "                                                name   brand  \\\n",
              "0  All-New Fire HD 8 Tablet, 8\" HD Display, Wi-Fi...  Amazon   \n",
              "1        Amazon - Echo Plus w/ Built-In Hub - Silver  Amazon   \n",
              "2  Amazon Echo Show Alexa-enabled Bluetooth Speak...  Amazon   \n",
              "3  Fire HD 10 Tablet, 10.1 HD Display, Wi-Fi, 16 ...  Amazon   \n",
              "4  Brand New Amazon Kindle Fire 16gb 7\" Ips Displ...  Amazon   \n",
              "\n",
              "                                          categories  \\\n",
              "0  Electronics,iPad & Tablets,All Tablets,Fire Ta...   \n",
              "1  Amazon Echo,Smart Home,Networking,Home & Tools...   \n",
              "2  Amazon Echo,Virtual Assistant Speakers,Electro...   \n",
              "3  eBook Readers,Fire Tablets,Electronics Feature...   \n",
              "4  Computers/Tablets & Networking,Tablets & eBook...   \n",
              "\n",
              "             primaryCategories              reviews.date  \\\n",
              "0                  Electronics  2016-12-26T00:00:00.000Z   \n",
              "1         Electronics,Hardware  2018-01-17T00:00:00.000Z   \n",
              "2         Electronics,Hardware  2017-12-20T00:00:00.000Z   \n",
              "3  Office Supplies,Electronics  2017-08-04T00:00:00.000Z   \n",
              "4                  Electronics  2017-01-23T00:00:00.000Z   \n",
              "\n",
              "                                        reviews.text  \\\n",
              "0  Purchased on Black FridayPros - Great Price (e...   \n",
              "1  I purchased two Amazon in Echo Plus and two do...   \n",
              "2  Just an average Alexa option. Does show a few ...   \n",
              "3  very good product. Exactly what I wanted, and ...   \n",
              "4  This is the 3rd one I've purchased. I've bough...   \n",
              "\n",
              "              reviews.title sentiment  \n",
              "0           Powerful tablet  Positive  \n",
              "1  Amazon Echo Plus AWESOME  Positive  \n",
              "2                   Average   Neutral  \n",
              "3               Greattttttt  Positive  \n",
              "4             Very durable!  Positive  "
            ],
            "text/html": [
              "\n",
              "  <div id=\"df-08b5e0ef-28f5-42cb-9e31-dd3addfddbce\">\n",
              "    <div class=\"colab-df-container\">\n",
              "      <div>\n",
              "<style scoped>\n",
              "    .dataframe tbody tr th:only-of-type {\n",
              "        vertical-align: middle;\n",
              "    }\n",
              "\n",
              "    .dataframe tbody tr th {\n",
              "        vertical-align: top;\n",
              "    }\n",
              "\n",
              "    .dataframe thead th {\n",
              "        text-align: right;\n",
              "    }\n",
              "</style>\n",
              "<table border=\"1\" class=\"dataframe\">\n",
              "  <thead>\n",
              "    <tr style=\"text-align: right;\">\n",
              "      <th></th>\n",
              "      <th>name</th>\n",
              "      <th>brand</th>\n",
              "      <th>categories</th>\n",
              "      <th>primaryCategories</th>\n",
              "      <th>reviews.date</th>\n",
              "      <th>reviews.text</th>\n",
              "      <th>reviews.title</th>\n",
              "      <th>sentiment</th>\n",
              "    </tr>\n",
              "  </thead>\n",
              "  <tbody>\n",
              "    <tr>\n",
              "      <th>0</th>\n",
              "      <td>All-New Fire HD 8 Tablet, 8\" HD Display, Wi-Fi...</td>\n",
              "      <td>Amazon</td>\n",
              "      <td>Electronics,iPad &amp; Tablets,All Tablets,Fire Ta...</td>\n",
              "      <td>Electronics</td>\n",
              "      <td>2016-12-26T00:00:00.000Z</td>\n",
              "      <td>Purchased on Black FridayPros - Great Price (e...</td>\n",
              "      <td>Powerful tablet</td>\n",
              "      <td>Positive</td>\n",
              "    </tr>\n",
              "    <tr>\n",
              "      <th>1</th>\n",
              "      <td>Amazon - Echo Plus w/ Built-In Hub - Silver</td>\n",
              "      <td>Amazon</td>\n",
              "      <td>Amazon Echo,Smart Home,Networking,Home &amp; Tools...</td>\n",
              "      <td>Electronics,Hardware</td>\n",
              "      <td>2018-01-17T00:00:00.000Z</td>\n",
              "      <td>I purchased two Amazon in Echo Plus and two do...</td>\n",
              "      <td>Amazon Echo Plus AWESOME</td>\n",
              "      <td>Positive</td>\n",
              "    </tr>\n",
              "    <tr>\n",
              "      <th>2</th>\n",
              "      <td>Amazon Echo Show Alexa-enabled Bluetooth Speak...</td>\n",
              "      <td>Amazon</td>\n",
              "      <td>Amazon Echo,Virtual Assistant Speakers,Electro...</td>\n",
              "      <td>Electronics,Hardware</td>\n",
              "      <td>2017-12-20T00:00:00.000Z</td>\n",
              "      <td>Just an average Alexa option. Does show a few ...</td>\n",
              "      <td>Average</td>\n",
              "      <td>Neutral</td>\n",
              "    </tr>\n",
              "    <tr>\n",
              "      <th>3</th>\n",
              "      <td>Fire HD 10 Tablet, 10.1 HD Display, Wi-Fi, 16 ...</td>\n",
              "      <td>Amazon</td>\n",
              "      <td>eBook Readers,Fire Tablets,Electronics Feature...</td>\n",
              "      <td>Office Supplies,Electronics</td>\n",
              "      <td>2017-08-04T00:00:00.000Z</td>\n",
              "      <td>very good product. Exactly what I wanted, and ...</td>\n",
              "      <td>Greattttttt</td>\n",
              "      <td>Positive</td>\n",
              "    </tr>\n",
              "    <tr>\n",
              "      <th>4</th>\n",
              "      <td>Brand New Amazon Kindle Fire 16gb 7\" Ips Displ...</td>\n",
              "      <td>Amazon</td>\n",
              "      <td>Computers/Tablets &amp; Networking,Tablets &amp; eBook...</td>\n",
              "      <td>Electronics</td>\n",
              "      <td>2017-01-23T00:00:00.000Z</td>\n",
              "      <td>This is the 3rd one I've purchased. I've bough...</td>\n",
              "      <td>Very durable!</td>\n",
              "      <td>Positive</td>\n",
              "    </tr>\n",
              "  </tbody>\n",
              "</table>\n",
              "</div>\n",
              "      <button class=\"colab-df-convert\" onclick=\"convertToInteractive('df-08b5e0ef-28f5-42cb-9e31-dd3addfddbce')\"\n",
              "              title=\"Convert this dataframe to an interactive table.\"\n",
              "              style=\"display:none;\">\n",
              "        \n",
              "  <svg xmlns=\"http://www.w3.org/2000/svg\" height=\"24px\"viewBox=\"0 0 24 24\"\n",
              "       width=\"24px\">\n",
              "    <path d=\"M0 0h24v24H0V0z\" fill=\"none\"/>\n",
              "    <path d=\"M18.56 5.44l.94 2.06.94-2.06 2.06-.94-2.06-.94-.94-2.06-.94 2.06-2.06.94zm-11 1L8.5 8.5l.94-2.06 2.06-.94-2.06-.94L8.5 2.5l-.94 2.06-2.06.94zm10 10l.94 2.06.94-2.06 2.06-.94-2.06-.94-.94-2.06-.94 2.06-2.06.94z\"/><path d=\"M17.41 7.96l-1.37-1.37c-.4-.4-.92-.59-1.43-.59-.52 0-1.04.2-1.43.59L10.3 9.45l-7.72 7.72c-.78.78-.78 2.05 0 2.83L4 21.41c.39.39.9.59 1.41.59.51 0 1.02-.2 1.41-.59l7.78-7.78 2.81-2.81c.8-.78.8-2.07 0-2.86zM5.41 20L4 18.59l7.72-7.72 1.47 1.35L5.41 20z\"/>\n",
              "  </svg>\n",
              "      </button>\n",
              "      \n",
              "  <style>\n",
              "    .colab-df-container {\n",
              "      display:flex;\n",
              "      flex-wrap:wrap;\n",
              "      gap: 12px;\n",
              "    }\n",
              "\n",
              "    .colab-df-convert {\n",
              "      background-color: #E8F0FE;\n",
              "      border: none;\n",
              "      border-radius: 50%;\n",
              "      cursor: pointer;\n",
              "      display: none;\n",
              "      fill: #1967D2;\n",
              "      height: 32px;\n",
              "      padding: 0 0 0 0;\n",
              "      width: 32px;\n",
              "    }\n",
              "\n",
              "    .colab-df-convert:hover {\n",
              "      background-color: #E2EBFA;\n",
              "      box-shadow: 0px 1px 2px rgba(60, 64, 67, 0.3), 0px 1px 3px 1px rgba(60, 64, 67, 0.15);\n",
              "      fill: #174EA6;\n",
              "    }\n",
              "\n",
              "    [theme=dark] .colab-df-convert {\n",
              "      background-color: #3B4455;\n",
              "      fill: #D2E3FC;\n",
              "    }\n",
              "\n",
              "    [theme=dark] .colab-df-convert:hover {\n",
              "      background-color: #434B5C;\n",
              "      box-shadow: 0px 1px 3px 1px rgba(0, 0, 0, 0.15);\n",
              "      filter: drop-shadow(0px 1px 2px rgba(0, 0, 0, 0.3));\n",
              "      fill: #FFFFFF;\n",
              "    }\n",
              "  </style>\n",
              "\n",
              "      <script>\n",
              "        const buttonEl =\n",
              "          document.querySelector('#df-08b5e0ef-28f5-42cb-9e31-dd3addfddbce button.colab-df-convert');\n",
              "        buttonEl.style.display =\n",
              "          google.colab.kernel.accessAllowed ? 'block' : 'none';\n",
              "\n",
              "        async function convertToInteractive(key) {\n",
              "          const element = document.querySelector('#df-08b5e0ef-28f5-42cb-9e31-dd3addfddbce');\n",
              "          const dataTable =\n",
              "            await google.colab.kernel.invokeFunction('convertToInteractive',\n",
              "                                                     [key], {});\n",
              "          if (!dataTable) return;\n",
              "\n",
              "          const docLinkHtml = 'Like what you see? Visit the ' +\n",
              "            '<a target=\"_blank\" href=https://colab.research.google.com/notebooks/data_table.ipynb>data table notebook</a>'\n",
              "            + ' to learn more about interactive tables.';\n",
              "          element.innerHTML = '';\n",
              "          dataTable['output_type'] = 'display_data';\n",
              "          await google.colab.output.renderOutput(dataTable, element);\n",
              "          const docLink = document.createElement('div');\n",
              "          docLink.innerHTML = docLinkHtml;\n",
              "          element.appendChild(docLink);\n",
              "        }\n",
              "      </script>\n",
              "    </div>\n",
              "  </div>\n",
              "  "
            ]
          },
          "metadata": {},
          "execution_count": 14
        }
      ],
      "source": [
        "pd_df_train_data.head()"
      ]
    },
    {
      "cell_type": "markdown",
      "metadata": {
        "id": "G5gjMyJfjNxp"
      },
      "source": [
        "###Functions"
      ]
    },
    {
      "cell_type": "code",
      "execution_count": null,
      "metadata": {
        "id": "RYTgfZfzjUKL"
      },
      "outputs": [],
      "source": [
        "def print_stats(labels, predictions):\n",
        "  print(\"Accuracy = {}\".format(accuracy_score(labels, predictions)))\n",
        "  print(\"Precision = {}\".format(precision_score(labels, predictions)))\n",
        "  print(\"Recall = {}\".format(recall_score(labels, predictions)))\n",
        "  (tp, fp), (fn, tn)  = confusion_matrix(labels, predictions)\n",
        "  print(\"Confusion matrix: tp {}, fp {}, fn {}, tn {}\".format(tp, fp, fn, tn))\n",
        "\n",
        ""
      ]
    },
    {
      "cell_type": "code",
      "execution_count": null,
      "metadata": {
        "id": "4SCUMfDTIIDY"
      },
      "outputs": [],
      "source": [
        "def pd_df_multi_class_confusion_matrix(pd_s_target, pd_s_predict):\n",
        "  class_sample_ = pd_s_target.unique()\n",
        "  cm = confusion_matrix(pd_s_target, pd_s_predict, labels=class_sample_)\n",
        "  multi_columns = zip(['Predicted label']*(len(class_sample_)), class_sample_)\n",
        "  multi_index = zip(['Actual label']*(len(class_sample_)), class_sample_)\n",
        "  multi_columns = pd.MultiIndex.from_tuples(list(multi_columns))\n",
        "  multi_index = pd.MultiIndex.from_tuples(list(multi_index))\n",
        "  return pd.DataFrame(cm, columns=multi_columns, index=multi_index)"
      ]
    },
    {
      "cell_type": "code",
      "execution_count": null,
      "metadata": {
        "id": "T0qKG9G-_732"
      },
      "outputs": [],
      "source": [
        "# Compute ROC curve and ROC area for each class\n",
        "def roc_curve_multiclass(pd_s_target, pd_s_predict):\n",
        "  fpr = dict()\n",
        "  tpr = dict()\n",
        "  roc_auc = dict()\n",
        "  class_samples_ = pd_s_target.unique()\n",
        "  # Binarize the output\n",
        "  np_target = label_binarize(pd_s_target, classes=class_samples_)\n",
        "  np_predict = label_binarize(pd_s_predict, classes=class_samples_)\n",
        "\n",
        "  for sample, unique in zip(class_samples_, range(len(class_samples_))):\n",
        "    fpr[sample], tpr[sample], _ = roc_curve(np_target[:, unique], np_predict[:, unique])\n",
        "    roc_auc[sample] = auc(fpr[sample], tpr[sample])\n",
        "  return fpr, tpr, roc_auc"
      ]
    },
    {
      "cell_type": "code",
      "execution_count": null,
      "metadata": {
        "id": "yqZysGpPABXO"
      },
      "outputs": [],
      "source": [
        "def plot_auc_roc_multiclass(fpr, tpr, roc_auc, class_samples_):\n",
        "  plt.figure()\n",
        "  lw = len(class_samples_)\n",
        "  for i in class_samples_:\n",
        "      plt.plot(\n",
        "          fpr[i],\n",
        "          tpr[i],\n",
        "          lw=lw,\n",
        "          label=\"ROC curve of class {0} (area = {1:0.2f})\".format(i, roc_auc[i]),\n",
        "      )\n",
        "\n",
        "  plt.plot([0, 1], [0, 1], color=\"navy\", lw=lw, linestyle=\"--\")\n",
        "  plt.xlim([0.0, 1.0])\n",
        "  plt.ylim([0.0, 1.05])\n",
        "  plt.xlabel(\"False Positive Rate\")\n",
        "  plt.ylabel(\"True Positive Rate\")\n",
        "  plt.title(\"Receiver operating characteristic example\")\n",
        "  plt.legend(loc=\"lower right\")\n",
        "  plt.show()"
      ]
    },
    {
      "cell_type": "code",
      "source": [
        "class MyTextProcess():\n",
        "  def __init__(self):\n",
        "    re_exp_punctuation = '[{}]'.format('\\\\'.join([char_ for char_ in punctuation]))\n",
        "    self.reObjPunct = re.compile(re_exp_punctuation)\n",
        "    self.reObjWhiteSpace = re.compile(r'\\s{2, 10}')\n",
        "\n",
        "    self.wnl = WordNetLemmatizer()\n",
        "\n",
        "  def txt_vectorization(self, sequence):\n",
        "    sequence = sequence.lower()\n",
        "    sequence = self.reObjPunct.sub(' ', sequence)\n",
        "    sequence = self.reObjWhiteSpace.sub(' ', sequence)\n",
        "    wordslist = nltk.word_tokenize(sequence)\n",
        "    wordslist = [self.wnl.lemmatize(word) for word in wordslist if word not in stopwords.words('english')]\n",
        "    return wordslist\n"
      ],
      "metadata": {
        "id": "VEDm9w0ZE4Ju"
      },
      "execution_count": null,
      "outputs": []
    },
    {
      "cell_type": "markdown",
      "metadata": {
        "id": "ak53Cc5gBGZB"
      },
      "source": [
        "##**Project Task: Week 1**"
      ]
    },
    {
      "cell_type": "markdown",
      "metadata": {
        "id": "tuZZPjhvAoyp"
      },
      "source": [
        "**Class Imbalance Problem:**\n",
        "\n",
        "1.   Perform an EDA on the dataset.\n",
        "   *   See what a positive, negative, and neutral review looks like\n",
        "   *   Check the class count for each class. It’s a class imbalance problem.\n",
        "\n",
        "2.   Convert the reviews in Tf-Idf score.\n",
        "\n",
        "3.   Run multinomial Naive Bayes classifier. Everything will be classified as positive because of the class imbalance.\n",
        "\n",
        "**Tackling Class Imbalance Problem:**\n",
        "\n",
        "4.   Oversampling or undersampling can be used to tackle the class imbalance problem.\n",
        "\n",
        "5.   In case of class imbalance criteria, use the following metrices for evaluating model performance: precision, recall, F1-score, AUC-ROC curve. Use F1-Score as the evaluation criteria for this project.\n",
        "\n",
        "6.   Use Tree-based classifiers like Random Forest and XGBoost.\n",
        "\n",
        "**Note:** Tree-based classifiers work on two ideologies namely, Bagging or Boosting and have fine-tuning parameter which takes care of the imbalanced class.\n"
      ]
    },
    {
      "cell_type": "markdown",
      "metadata": {
        "id": "oZCB-u8kgrgs"
      },
      "source": [
        "###Perform an EDA on the dataset"
      ]
    },
    {
      "cell_type": "markdown",
      "metadata": {
        "id": "QPN71Sjvi2-Z"
      },
      "source": [
        "####Data preprocesing"
      ]
    },
    {
      "cell_type": "markdown",
      "metadata": {
        "id": "IEAJ_O_ljCKy"
      },
      "source": [
        "#####Managing null values"
      ]
    },
    {
      "cell_type": "code",
      "execution_count": null,
      "metadata": {
        "colab": {
          "base_uri": "https://localhost:8080/"
        },
        "id": "E35kvuvv94mn",
        "outputId": "20fb787c-5511-4ab2-da48-e14561ba5584"
      },
      "outputs": [
        {
          "output_type": "execute_result",
          "data": {
            "text/plain": [
              "name                 0\n",
              "brand                0\n",
              "categories           0\n",
              "primaryCategories    0\n",
              "reviews.date         0\n",
              "reviews.text         0\n",
              "reviews.title        3\n",
              "dtype: int64"
            ]
          },
          "metadata": {},
          "execution_count": 19
        }
      ],
      "source": [
        "#check test data to null values\n",
        "pd_df_test_data.isnull().sum()"
      ]
    },
    {
      "cell_type": "code",
      "execution_count": null,
      "metadata": {
        "id": "oDVVMZbbYq4l"
      },
      "outputs": [],
      "source": [
        "#drop null value of test data\n",
        "pd_df_test_data = pd_df_test_data.dropna()"
      ]
    },
    {
      "cell_type": "code",
      "execution_count": null,
      "metadata": {
        "colab": {
          "base_uri": "https://localhost:8080/"
        },
        "id": "EcORcyN9jbTZ",
        "outputId": "166fd7b2-7d9d-490e-b563-5d103208fcb3"
      },
      "outputs": [
        {
          "output_type": "execute_result",
          "data": {
            "text/plain": [
              "name                 0\n",
              "brand                0\n",
              "categories           0\n",
              "primaryCategories    0\n",
              "reviews.date         0\n",
              "reviews.text         0\n",
              "reviews.title        3\n",
              "sentiment            0\n",
              "dtype: int64"
            ]
          },
          "metadata": {},
          "execution_count": 21
        }
      ],
      "source": [
        "#check test data hidden to null values\n",
        "pd_df_test_data_hidden.isnull().sum()"
      ]
    },
    {
      "cell_type": "code",
      "execution_count": null,
      "metadata": {
        "id": "5sSUx7jDY4cS"
      },
      "outputs": [],
      "source": [
        "#drop null value of test hidden data\n",
        "pd_df_test_data_hidden = pd_df_test_data_hidden.dropna()"
      ]
    },
    {
      "cell_type": "code",
      "execution_count": null,
      "metadata": {
        "colab": {
          "base_uri": "https://localhost:8080/"
        },
        "id": "F1RtN4aujg71",
        "outputId": "8834407a-d01b-4cc0-85f6-e48979d22049"
      },
      "outputs": [
        {
          "output_type": "execute_result",
          "data": {
            "text/plain": [
              "name                  0\n",
              "brand                 0\n",
              "categories            0\n",
              "primaryCategories     0\n",
              "reviews.date          0\n",
              "reviews.text          0\n",
              "reviews.title        10\n",
              "sentiment             0\n",
              "dtype: int64"
            ]
          },
          "metadata": {},
          "execution_count": 23
        }
      ],
      "source": [
        "#check train data to null values\n",
        "pd_df_train_data.isnull().sum()"
      ]
    },
    {
      "cell_type": "code",
      "execution_count": null,
      "metadata": {
        "id": "evlqnfcqZE8Y"
      },
      "outputs": [],
      "source": [
        "#drop null value of train data\n",
        "pd_df_train_data = pd_df_train_data.dropna()"
      ]
    },
    {
      "cell_type": "markdown",
      "metadata": {
        "id": "7mL90LlCjury"
      },
      "source": [
        "#####Duplicated"
      ]
    },
    {
      "cell_type": "code",
      "execution_count": null,
      "metadata": {
        "id": "f5IF9SXQjwr1"
      },
      "outputs": [],
      "source": [
        "#check test data if is duplicated\n",
        "pd_s_index_dubl = pd_df_test_data.duplicated()"
      ]
    },
    {
      "cell_type": "code",
      "execution_count": null,
      "metadata": {
        "colab": {
          "base_uri": "https://localhost:8080/"
        },
        "id": "mI2nEvw1l6V0",
        "outputId": "3205f492-baa7-448c-fda4-791736f9c1c1"
      },
      "outputs": [
        {
          "output_type": "execute_result",
          "data": {
            "text/plain": [
              "                                                  name   brand  \\\n",
              "389  Brand New Amazon Kindle Fire 16gb 7\" Ips Displ...  Amazon   \n",
              "420  Brand New Amazon Kindle Fire 16gb 7\" Ips Displ...  Amazon   \n",
              "886  All-New Fire HD 8 Tablet, 8 HD Display, Wi-Fi,...  Amazon   \n",
              "\n",
              "                                            categories primaryCategories  \\\n",
              "389  Computers/Tablets & Networking,Tablets & eBook...       Electronics   \n",
              "420  Computers/Tablets & Networking,Tablets & eBook...       Electronics   \n",
              "886    Fire Tablets,Tablets,All Tablets,Amazon Tablets       Electronics   \n",
              "\n",
              "                 reviews.date  \\\n",
              "389  2016-06-23T00:00:00.000Z   \n",
              "420  2016-10-18T00:00:00.000Z   \n",
              "886  2016-12-14T00:00:00.000Z   \n",
              "\n",
              "                                          reviews.text  \\\n",
              "389  This tablet does a great deal! From surfing th...   \n",
              "420  I wanted to get something nice for my wife and...   \n",
              "886  I bought one for my boyfriend and one for his ...   \n",
              "\n",
              "                   reviews.title  \n",
              "389                   Does a lot  \n",
              "420                Wife loved it  \n",
              "886  Great tablet for normal use  "
            ],
            "text/html": [
              "\n",
              "  <div id=\"df-f80d9bc2-493e-4378-a137-1d6f0dc35b49\">\n",
              "    <div class=\"colab-df-container\">\n",
              "      <div>\n",
              "<style scoped>\n",
              "    .dataframe tbody tr th:only-of-type {\n",
              "        vertical-align: middle;\n",
              "    }\n",
              "\n",
              "    .dataframe tbody tr th {\n",
              "        vertical-align: top;\n",
              "    }\n",
              "\n",
              "    .dataframe thead th {\n",
              "        text-align: right;\n",
              "    }\n",
              "</style>\n",
              "<table border=\"1\" class=\"dataframe\">\n",
              "  <thead>\n",
              "    <tr style=\"text-align: right;\">\n",
              "      <th></th>\n",
              "      <th>name</th>\n",
              "      <th>brand</th>\n",
              "      <th>categories</th>\n",
              "      <th>primaryCategories</th>\n",
              "      <th>reviews.date</th>\n",
              "      <th>reviews.text</th>\n",
              "      <th>reviews.title</th>\n",
              "    </tr>\n",
              "  </thead>\n",
              "  <tbody>\n",
              "    <tr>\n",
              "      <th>389</th>\n",
              "      <td>Brand New Amazon Kindle Fire 16gb 7\" Ips Displ...</td>\n",
              "      <td>Amazon</td>\n",
              "      <td>Computers/Tablets &amp; Networking,Tablets &amp; eBook...</td>\n",
              "      <td>Electronics</td>\n",
              "      <td>2016-06-23T00:00:00.000Z</td>\n",
              "      <td>This tablet does a great deal! From surfing th...</td>\n",
              "      <td>Does a lot</td>\n",
              "    </tr>\n",
              "    <tr>\n",
              "      <th>420</th>\n",
              "      <td>Brand New Amazon Kindle Fire 16gb 7\" Ips Displ...</td>\n",
              "      <td>Amazon</td>\n",
              "      <td>Computers/Tablets &amp; Networking,Tablets &amp; eBook...</td>\n",
              "      <td>Electronics</td>\n",
              "      <td>2016-10-18T00:00:00.000Z</td>\n",
              "      <td>I wanted to get something nice for my wife and...</td>\n",
              "      <td>Wife loved it</td>\n",
              "    </tr>\n",
              "    <tr>\n",
              "      <th>886</th>\n",
              "      <td>All-New Fire HD 8 Tablet, 8 HD Display, Wi-Fi,...</td>\n",
              "      <td>Amazon</td>\n",
              "      <td>Fire Tablets,Tablets,All Tablets,Amazon Tablets</td>\n",
              "      <td>Electronics</td>\n",
              "      <td>2016-12-14T00:00:00.000Z</td>\n",
              "      <td>I bought one for my boyfriend and one for his ...</td>\n",
              "      <td>Great tablet for normal use</td>\n",
              "    </tr>\n",
              "  </tbody>\n",
              "</table>\n",
              "</div>\n",
              "      <button class=\"colab-df-convert\" onclick=\"convertToInteractive('df-f80d9bc2-493e-4378-a137-1d6f0dc35b49')\"\n",
              "              title=\"Convert this dataframe to an interactive table.\"\n",
              "              style=\"display:none;\">\n",
              "        \n",
              "  <svg xmlns=\"http://www.w3.org/2000/svg\" height=\"24px\"viewBox=\"0 0 24 24\"\n",
              "       width=\"24px\">\n",
              "    <path d=\"M0 0h24v24H0V0z\" fill=\"none\"/>\n",
              "    <path d=\"M18.56 5.44l.94 2.06.94-2.06 2.06-.94-2.06-.94-.94-2.06-.94 2.06-2.06.94zm-11 1L8.5 8.5l.94-2.06 2.06-.94-2.06-.94L8.5 2.5l-.94 2.06-2.06.94zm10 10l.94 2.06.94-2.06 2.06-.94-2.06-.94-.94-2.06-.94 2.06-2.06.94z\"/><path d=\"M17.41 7.96l-1.37-1.37c-.4-.4-.92-.59-1.43-.59-.52 0-1.04.2-1.43.59L10.3 9.45l-7.72 7.72c-.78.78-.78 2.05 0 2.83L4 21.41c.39.39.9.59 1.41.59.51 0 1.02-.2 1.41-.59l7.78-7.78 2.81-2.81c.8-.78.8-2.07 0-2.86zM5.41 20L4 18.59l7.72-7.72 1.47 1.35L5.41 20z\"/>\n",
              "  </svg>\n",
              "      </button>\n",
              "      \n",
              "  <style>\n",
              "    .colab-df-container {\n",
              "      display:flex;\n",
              "      flex-wrap:wrap;\n",
              "      gap: 12px;\n",
              "    }\n",
              "\n",
              "    .colab-df-convert {\n",
              "      background-color: #E8F0FE;\n",
              "      border: none;\n",
              "      border-radius: 50%;\n",
              "      cursor: pointer;\n",
              "      display: none;\n",
              "      fill: #1967D2;\n",
              "      height: 32px;\n",
              "      padding: 0 0 0 0;\n",
              "      width: 32px;\n",
              "    }\n",
              "\n",
              "    .colab-df-convert:hover {\n",
              "      background-color: #E2EBFA;\n",
              "      box-shadow: 0px 1px 2px rgba(60, 64, 67, 0.3), 0px 1px 3px 1px rgba(60, 64, 67, 0.15);\n",
              "      fill: #174EA6;\n",
              "    }\n",
              "\n",
              "    [theme=dark] .colab-df-convert {\n",
              "      background-color: #3B4455;\n",
              "      fill: #D2E3FC;\n",
              "    }\n",
              "\n",
              "    [theme=dark] .colab-df-convert:hover {\n",
              "      background-color: #434B5C;\n",
              "      box-shadow: 0px 1px 3px 1px rgba(0, 0, 0, 0.15);\n",
              "      filter: drop-shadow(0px 1px 2px rgba(0, 0, 0, 0.3));\n",
              "      fill: #FFFFFF;\n",
              "    }\n",
              "  </style>\n",
              "\n",
              "      <script>\n",
              "        const buttonEl =\n",
              "          document.querySelector('#df-f80d9bc2-493e-4378-a137-1d6f0dc35b49 button.colab-df-convert');\n",
              "        buttonEl.style.display =\n",
              "          google.colab.kernel.accessAllowed ? 'block' : 'none';\n",
              "\n",
              "        async function convertToInteractive(key) {\n",
              "          const element = document.querySelector('#df-f80d9bc2-493e-4378-a137-1d6f0dc35b49');\n",
              "          const dataTable =\n",
              "            await google.colab.kernel.invokeFunction('convertToInteractive',\n",
              "                                                     [key], {});\n",
              "          if (!dataTable) return;\n",
              "\n",
              "          const docLinkHtml = 'Like what you see? Visit the ' +\n",
              "            '<a target=\"_blank\" href=https://colab.research.google.com/notebooks/data_table.ipynb>data table notebook</a>'\n",
              "            + ' to learn more about interactive tables.';\n",
              "          element.innerHTML = '';\n",
              "          dataTable['output_type'] = 'display_data';\n",
              "          await google.colab.output.renderOutput(dataTable, element);\n",
              "          const docLink = document.createElement('div');\n",
              "          docLink.innerHTML = docLinkHtml;\n",
              "          element.appendChild(docLink);\n",
              "        }\n",
              "      </script>\n",
              "    </div>\n",
              "  </div>\n",
              "  "
            ]
          },
          "metadata": {},
          "execution_count": 26
        }
      ],
      "source": [
        "#show duplicated record, test data\n",
        "pd_df_test_data[pd_s_index_dubl]"
      ]
    },
    {
      "cell_type": "code",
      "execution_count": null,
      "metadata": {
        "id": "WKf_Viaglg1G"
      },
      "outputs": [],
      "source": [
        "#check test data hidden if is duplicated\n",
        "pd_s_index_dubl = pd_df_test_data_hidden.duplicated()"
      ]
    },
    {
      "cell_type": "code",
      "execution_count": null,
      "metadata": {
        "colab": {
          "base_uri": "https://localhost:8080/"
        },
        "id": "iheVUZN9m0J2",
        "outputId": "04556cc1-879c-43c4-caed-2961932650b9"
      },
      "outputs": [
        {
          "output_type": "execute_result",
          "data": {
            "text/plain": [
              "                                                  name   brand  \\\n",
              "389  Brand New Amazon Kindle Fire 16gb 7\" Ips Displ...  Amazon   \n",
              "420  Brand New Amazon Kindle Fire 16gb 7\" Ips Displ...  Amazon   \n",
              "886  All-New Fire HD 8 Tablet, 8 HD Display, Wi-Fi,...  Amazon   \n",
              "\n",
              "                                            categories primaryCategories  \\\n",
              "389  Computers/Tablets & Networking,Tablets & eBook...       Electronics   \n",
              "420  Computers/Tablets & Networking,Tablets & eBook...       Electronics   \n",
              "886    Fire Tablets,Tablets,All Tablets,Amazon Tablets       Electronics   \n",
              "\n",
              "                 reviews.date  \\\n",
              "389  2016-06-23T00:00:00.000Z   \n",
              "420  2016-10-18T00:00:00.000Z   \n",
              "886  2016-12-14T00:00:00.000Z   \n",
              "\n",
              "                                          reviews.text  \\\n",
              "389  This tablet does a great deal! From surfing th...   \n",
              "420  I wanted to get something nice for my wife and...   \n",
              "886  I bought one for my boyfriend and one for his ...   \n",
              "\n",
              "                   reviews.title sentiment  \n",
              "389                   Does a lot  Positive  \n",
              "420                Wife loved it  Positive  \n",
              "886  Great tablet for normal use  Positive  "
            ],
            "text/html": [
              "\n",
              "  <div id=\"df-29a11028-0dec-4263-9a04-211994a93d90\">\n",
              "    <div class=\"colab-df-container\">\n",
              "      <div>\n",
              "<style scoped>\n",
              "    .dataframe tbody tr th:only-of-type {\n",
              "        vertical-align: middle;\n",
              "    }\n",
              "\n",
              "    .dataframe tbody tr th {\n",
              "        vertical-align: top;\n",
              "    }\n",
              "\n",
              "    .dataframe thead th {\n",
              "        text-align: right;\n",
              "    }\n",
              "</style>\n",
              "<table border=\"1\" class=\"dataframe\">\n",
              "  <thead>\n",
              "    <tr style=\"text-align: right;\">\n",
              "      <th></th>\n",
              "      <th>name</th>\n",
              "      <th>brand</th>\n",
              "      <th>categories</th>\n",
              "      <th>primaryCategories</th>\n",
              "      <th>reviews.date</th>\n",
              "      <th>reviews.text</th>\n",
              "      <th>reviews.title</th>\n",
              "      <th>sentiment</th>\n",
              "    </tr>\n",
              "  </thead>\n",
              "  <tbody>\n",
              "    <tr>\n",
              "      <th>389</th>\n",
              "      <td>Brand New Amazon Kindle Fire 16gb 7\" Ips Displ...</td>\n",
              "      <td>Amazon</td>\n",
              "      <td>Computers/Tablets &amp; Networking,Tablets &amp; eBook...</td>\n",
              "      <td>Electronics</td>\n",
              "      <td>2016-06-23T00:00:00.000Z</td>\n",
              "      <td>This tablet does a great deal! From surfing th...</td>\n",
              "      <td>Does a lot</td>\n",
              "      <td>Positive</td>\n",
              "    </tr>\n",
              "    <tr>\n",
              "      <th>420</th>\n",
              "      <td>Brand New Amazon Kindle Fire 16gb 7\" Ips Displ...</td>\n",
              "      <td>Amazon</td>\n",
              "      <td>Computers/Tablets &amp; Networking,Tablets &amp; eBook...</td>\n",
              "      <td>Electronics</td>\n",
              "      <td>2016-10-18T00:00:00.000Z</td>\n",
              "      <td>I wanted to get something nice for my wife and...</td>\n",
              "      <td>Wife loved it</td>\n",
              "      <td>Positive</td>\n",
              "    </tr>\n",
              "    <tr>\n",
              "      <th>886</th>\n",
              "      <td>All-New Fire HD 8 Tablet, 8 HD Display, Wi-Fi,...</td>\n",
              "      <td>Amazon</td>\n",
              "      <td>Fire Tablets,Tablets,All Tablets,Amazon Tablets</td>\n",
              "      <td>Electronics</td>\n",
              "      <td>2016-12-14T00:00:00.000Z</td>\n",
              "      <td>I bought one for my boyfriend and one for his ...</td>\n",
              "      <td>Great tablet for normal use</td>\n",
              "      <td>Positive</td>\n",
              "    </tr>\n",
              "  </tbody>\n",
              "</table>\n",
              "</div>\n",
              "      <button class=\"colab-df-convert\" onclick=\"convertToInteractive('df-29a11028-0dec-4263-9a04-211994a93d90')\"\n",
              "              title=\"Convert this dataframe to an interactive table.\"\n",
              "              style=\"display:none;\">\n",
              "        \n",
              "  <svg xmlns=\"http://www.w3.org/2000/svg\" height=\"24px\"viewBox=\"0 0 24 24\"\n",
              "       width=\"24px\">\n",
              "    <path d=\"M0 0h24v24H0V0z\" fill=\"none\"/>\n",
              "    <path d=\"M18.56 5.44l.94 2.06.94-2.06 2.06-.94-2.06-.94-.94-2.06-.94 2.06-2.06.94zm-11 1L8.5 8.5l.94-2.06 2.06-.94-2.06-.94L8.5 2.5l-.94 2.06-2.06.94zm10 10l.94 2.06.94-2.06 2.06-.94-2.06-.94-.94-2.06-.94 2.06-2.06.94z\"/><path d=\"M17.41 7.96l-1.37-1.37c-.4-.4-.92-.59-1.43-.59-.52 0-1.04.2-1.43.59L10.3 9.45l-7.72 7.72c-.78.78-.78 2.05 0 2.83L4 21.41c.39.39.9.59 1.41.59.51 0 1.02-.2 1.41-.59l7.78-7.78 2.81-2.81c.8-.78.8-2.07 0-2.86zM5.41 20L4 18.59l7.72-7.72 1.47 1.35L5.41 20z\"/>\n",
              "  </svg>\n",
              "      </button>\n",
              "      \n",
              "  <style>\n",
              "    .colab-df-container {\n",
              "      display:flex;\n",
              "      flex-wrap:wrap;\n",
              "      gap: 12px;\n",
              "    }\n",
              "\n",
              "    .colab-df-convert {\n",
              "      background-color: #E8F0FE;\n",
              "      border: none;\n",
              "      border-radius: 50%;\n",
              "      cursor: pointer;\n",
              "      display: none;\n",
              "      fill: #1967D2;\n",
              "      height: 32px;\n",
              "      padding: 0 0 0 0;\n",
              "      width: 32px;\n",
              "    }\n",
              "\n",
              "    .colab-df-convert:hover {\n",
              "      background-color: #E2EBFA;\n",
              "      box-shadow: 0px 1px 2px rgba(60, 64, 67, 0.3), 0px 1px 3px 1px rgba(60, 64, 67, 0.15);\n",
              "      fill: #174EA6;\n",
              "    }\n",
              "\n",
              "    [theme=dark] .colab-df-convert {\n",
              "      background-color: #3B4455;\n",
              "      fill: #D2E3FC;\n",
              "    }\n",
              "\n",
              "    [theme=dark] .colab-df-convert:hover {\n",
              "      background-color: #434B5C;\n",
              "      box-shadow: 0px 1px 3px 1px rgba(0, 0, 0, 0.15);\n",
              "      filter: drop-shadow(0px 1px 2px rgba(0, 0, 0, 0.3));\n",
              "      fill: #FFFFFF;\n",
              "    }\n",
              "  </style>\n",
              "\n",
              "      <script>\n",
              "        const buttonEl =\n",
              "          document.querySelector('#df-29a11028-0dec-4263-9a04-211994a93d90 button.colab-df-convert');\n",
              "        buttonEl.style.display =\n",
              "          google.colab.kernel.accessAllowed ? 'block' : 'none';\n",
              "\n",
              "        async function convertToInteractive(key) {\n",
              "          const element = document.querySelector('#df-29a11028-0dec-4263-9a04-211994a93d90');\n",
              "          const dataTable =\n",
              "            await google.colab.kernel.invokeFunction('convertToInteractive',\n",
              "                                                     [key], {});\n",
              "          if (!dataTable) return;\n",
              "\n",
              "          const docLinkHtml = 'Like what you see? Visit the ' +\n",
              "            '<a target=\"_blank\" href=https://colab.research.google.com/notebooks/data_table.ipynb>data table notebook</a>'\n",
              "            + ' to learn more about interactive tables.';\n",
              "          element.innerHTML = '';\n",
              "          dataTable['output_type'] = 'display_data';\n",
              "          await google.colab.output.renderOutput(dataTable, element);\n",
              "          const docLink = document.createElement('div');\n",
              "          docLink.innerHTML = docLinkHtml;\n",
              "          element.appendChild(docLink);\n",
              "        }\n",
              "      </script>\n",
              "    </div>\n",
              "  </div>\n",
              "  "
            ]
          },
          "metadata": {},
          "execution_count": 28
        }
      ],
      "source": [
        "#show duplicated record, test data hidden\n",
        "pd_df_test_data_hidden[pd_s_index_dubl]"
      ]
    },
    {
      "cell_type": "code",
      "execution_count": null,
      "metadata": {
        "id": "Xtj_JqUYlmVk"
      },
      "outputs": [],
      "source": [
        "#check train data if is duplicated\n",
        "pd_s_index_dubl = pd_df_train_data.duplicated()"
      ]
    },
    {
      "cell_type": "code",
      "execution_count": null,
      "metadata": {
        "colab": {
          "base_uri": "https://localhost:8080/"
        },
        "id": "iJXJkMYQm9kS",
        "outputId": "18648b23-530b-468b-a56a-1edc2eaed375"
      },
      "outputs": [
        {
          "output_type": "execute_result",
          "data": {
            "text/plain": [
              "58"
            ]
          },
          "metadata": {},
          "execution_count": 30
        }
      ],
      "source": [
        "#print sum of duplicated record, train data\n",
        "pd_s_index_dubl.sum()"
      ]
    },
    {
      "cell_type": "code",
      "execution_count": null,
      "metadata": {
        "colab": {
          "base_uri": "https://localhost:8080/"
        },
        "id": "ROhfhE2HnBIP",
        "outputId": "8988ecea-c7b0-4ead-80db-474ce06deee0"
      },
      "outputs": [
        {
          "output_type": "execute_result",
          "data": {
            "text/plain": [
              "                                                   name   brand  \\\n",
              "709   Brand New Amazon Kindle Fire 16gb 7\" Ips Displ...  Amazon   \n",
              "866   Kindle E-reader - White, 6 Glare-Free Touchscr...  Amazon   \n",
              "1085  Brand New Amazon Kindle Fire 16gb 7\" Ips Displ...  Amazon   \n",
              "1116  Kindle E-reader - White, 6 Glare-Free Touchscr...  Amazon   \n",
              "1131  Brand New Amazon Kindle Fire 16gb 7\" Ips Displ...  Amazon   \n",
              "\n",
              "                                             categories  \\\n",
              "709   Computers/Tablets & Networking,Tablets & eBook...   \n",
              "866   Office,eBook Readers,Electronics Features,Walm...   \n",
              "1085  Computers/Tablets & Networking,Tablets & eBook...   \n",
              "1116  Office,eBook Readers,Electronics Features,Walm...   \n",
              "1131  Computers/Tablets & Networking,Tablets & eBook...   \n",
              "\n",
              "                primaryCategories              reviews.date  \\\n",
              "709                   Electronics  2017-01-23T00:00:00.000Z   \n",
              "866   Office Supplies,Electronics  2017-09-01T00:00:00.000Z   \n",
              "1085                  Electronics  2017-02-15T00:00:00.000Z   \n",
              "1116  Office Supplies,Electronics  2016-12-24T00:00:00.000Z   \n",
              "1131                  Electronics  2016-05-27T00:00:00.000Z   \n",
              "\n",
              "                                           reviews.text  \\\n",
              "709   This is the 3rd one I've purchased. I've bough...   \n",
              "866   This is really good if you read a lot, doesn't...   \n",
              "1085  Great for kids. Simple and inexpensive. 16G mu...   \n",
              "1116  Item work well and was easy to read from in da...   \n",
              "1131  Good tablet for my daughter! She loves it ,but...   \n",
              "\n",
              "                    reviews.title sentiment  \n",
              "709                 Very durable!  Positive  \n",
              "866   Great buy if you read a lot  Positive  \n",
              "1085                Simple tablet  Positive  \n",
              "1116                         Work  Positive  \n",
              "1131                       Great!  Positive  "
            ],
            "text/html": [
              "\n",
              "  <div id=\"df-6da83873-3671-4b83-a634-eb0cf7158d55\">\n",
              "    <div class=\"colab-df-container\">\n",
              "      <div>\n",
              "<style scoped>\n",
              "    .dataframe tbody tr th:only-of-type {\n",
              "        vertical-align: middle;\n",
              "    }\n",
              "\n",
              "    .dataframe tbody tr th {\n",
              "        vertical-align: top;\n",
              "    }\n",
              "\n",
              "    .dataframe thead th {\n",
              "        text-align: right;\n",
              "    }\n",
              "</style>\n",
              "<table border=\"1\" class=\"dataframe\">\n",
              "  <thead>\n",
              "    <tr style=\"text-align: right;\">\n",
              "      <th></th>\n",
              "      <th>name</th>\n",
              "      <th>brand</th>\n",
              "      <th>categories</th>\n",
              "      <th>primaryCategories</th>\n",
              "      <th>reviews.date</th>\n",
              "      <th>reviews.text</th>\n",
              "      <th>reviews.title</th>\n",
              "      <th>sentiment</th>\n",
              "    </tr>\n",
              "  </thead>\n",
              "  <tbody>\n",
              "    <tr>\n",
              "      <th>709</th>\n",
              "      <td>Brand New Amazon Kindle Fire 16gb 7\" Ips Displ...</td>\n",
              "      <td>Amazon</td>\n",
              "      <td>Computers/Tablets &amp; Networking,Tablets &amp; eBook...</td>\n",
              "      <td>Electronics</td>\n",
              "      <td>2017-01-23T00:00:00.000Z</td>\n",
              "      <td>This is the 3rd one I've purchased. I've bough...</td>\n",
              "      <td>Very durable!</td>\n",
              "      <td>Positive</td>\n",
              "    </tr>\n",
              "    <tr>\n",
              "      <th>866</th>\n",
              "      <td>Kindle E-reader - White, 6 Glare-Free Touchscr...</td>\n",
              "      <td>Amazon</td>\n",
              "      <td>Office,eBook Readers,Electronics Features,Walm...</td>\n",
              "      <td>Office Supplies,Electronics</td>\n",
              "      <td>2017-09-01T00:00:00.000Z</td>\n",
              "      <td>This is really good if you read a lot, doesn't...</td>\n",
              "      <td>Great buy if you read a lot</td>\n",
              "      <td>Positive</td>\n",
              "    </tr>\n",
              "    <tr>\n",
              "      <th>1085</th>\n",
              "      <td>Brand New Amazon Kindle Fire 16gb 7\" Ips Displ...</td>\n",
              "      <td>Amazon</td>\n",
              "      <td>Computers/Tablets &amp; Networking,Tablets &amp; eBook...</td>\n",
              "      <td>Electronics</td>\n",
              "      <td>2017-02-15T00:00:00.000Z</td>\n",
              "      <td>Great for kids. Simple and inexpensive. 16G mu...</td>\n",
              "      <td>Simple tablet</td>\n",
              "      <td>Positive</td>\n",
              "    </tr>\n",
              "    <tr>\n",
              "      <th>1116</th>\n",
              "      <td>Kindle E-reader - White, 6 Glare-Free Touchscr...</td>\n",
              "      <td>Amazon</td>\n",
              "      <td>Office,eBook Readers,Electronics Features,Walm...</td>\n",
              "      <td>Office Supplies,Electronics</td>\n",
              "      <td>2016-12-24T00:00:00.000Z</td>\n",
              "      <td>Item work well and was easy to read from in da...</td>\n",
              "      <td>Work</td>\n",
              "      <td>Positive</td>\n",
              "    </tr>\n",
              "    <tr>\n",
              "      <th>1131</th>\n",
              "      <td>Brand New Amazon Kindle Fire 16gb 7\" Ips Displ...</td>\n",
              "      <td>Amazon</td>\n",
              "      <td>Computers/Tablets &amp; Networking,Tablets &amp; eBook...</td>\n",
              "      <td>Electronics</td>\n",
              "      <td>2016-05-27T00:00:00.000Z</td>\n",
              "      <td>Good tablet for my daughter! She loves it ,but...</td>\n",
              "      <td>Great!</td>\n",
              "      <td>Positive</td>\n",
              "    </tr>\n",
              "  </tbody>\n",
              "</table>\n",
              "</div>\n",
              "      <button class=\"colab-df-convert\" onclick=\"convertToInteractive('df-6da83873-3671-4b83-a634-eb0cf7158d55')\"\n",
              "              title=\"Convert this dataframe to an interactive table.\"\n",
              "              style=\"display:none;\">\n",
              "        \n",
              "  <svg xmlns=\"http://www.w3.org/2000/svg\" height=\"24px\"viewBox=\"0 0 24 24\"\n",
              "       width=\"24px\">\n",
              "    <path d=\"M0 0h24v24H0V0z\" fill=\"none\"/>\n",
              "    <path d=\"M18.56 5.44l.94 2.06.94-2.06 2.06-.94-2.06-.94-.94-2.06-.94 2.06-2.06.94zm-11 1L8.5 8.5l.94-2.06 2.06-.94-2.06-.94L8.5 2.5l-.94 2.06-2.06.94zm10 10l.94 2.06.94-2.06 2.06-.94-2.06-.94-.94-2.06-.94 2.06-2.06.94z\"/><path d=\"M17.41 7.96l-1.37-1.37c-.4-.4-.92-.59-1.43-.59-.52 0-1.04.2-1.43.59L10.3 9.45l-7.72 7.72c-.78.78-.78 2.05 0 2.83L4 21.41c.39.39.9.59 1.41.59.51 0 1.02-.2 1.41-.59l7.78-7.78 2.81-2.81c.8-.78.8-2.07 0-2.86zM5.41 20L4 18.59l7.72-7.72 1.47 1.35L5.41 20z\"/>\n",
              "  </svg>\n",
              "      </button>\n",
              "      \n",
              "  <style>\n",
              "    .colab-df-container {\n",
              "      display:flex;\n",
              "      flex-wrap:wrap;\n",
              "      gap: 12px;\n",
              "    }\n",
              "\n",
              "    .colab-df-convert {\n",
              "      background-color: #E8F0FE;\n",
              "      border: none;\n",
              "      border-radius: 50%;\n",
              "      cursor: pointer;\n",
              "      display: none;\n",
              "      fill: #1967D2;\n",
              "      height: 32px;\n",
              "      padding: 0 0 0 0;\n",
              "      width: 32px;\n",
              "    }\n",
              "\n",
              "    .colab-df-convert:hover {\n",
              "      background-color: #E2EBFA;\n",
              "      box-shadow: 0px 1px 2px rgba(60, 64, 67, 0.3), 0px 1px 3px 1px rgba(60, 64, 67, 0.15);\n",
              "      fill: #174EA6;\n",
              "    }\n",
              "\n",
              "    [theme=dark] .colab-df-convert {\n",
              "      background-color: #3B4455;\n",
              "      fill: #D2E3FC;\n",
              "    }\n",
              "\n",
              "    [theme=dark] .colab-df-convert:hover {\n",
              "      background-color: #434B5C;\n",
              "      box-shadow: 0px 1px 3px 1px rgba(0, 0, 0, 0.15);\n",
              "      filter: drop-shadow(0px 1px 2px rgba(0, 0, 0, 0.3));\n",
              "      fill: #FFFFFF;\n",
              "    }\n",
              "  </style>\n",
              "\n",
              "      <script>\n",
              "        const buttonEl =\n",
              "          document.querySelector('#df-6da83873-3671-4b83-a634-eb0cf7158d55 button.colab-df-convert');\n",
              "        buttonEl.style.display =\n",
              "          google.colab.kernel.accessAllowed ? 'block' : 'none';\n",
              "\n",
              "        async function convertToInteractive(key) {\n",
              "          const element = document.querySelector('#df-6da83873-3671-4b83-a634-eb0cf7158d55');\n",
              "          const dataTable =\n",
              "            await google.colab.kernel.invokeFunction('convertToInteractive',\n",
              "                                                     [key], {});\n",
              "          if (!dataTable) return;\n",
              "\n",
              "          const docLinkHtml = 'Like what you see? Visit the ' +\n",
              "            '<a target=\"_blank\" href=https://colab.research.google.com/notebooks/data_table.ipynb>data table notebook</a>'\n",
              "            + ' to learn more about interactive tables.';\n",
              "          element.innerHTML = '';\n",
              "          dataTable['output_type'] = 'display_data';\n",
              "          await google.colab.output.renderOutput(dataTable, element);\n",
              "          const docLink = document.createElement('div');\n",
              "          docLink.innerHTML = docLinkHtml;\n",
              "          element.appendChild(docLink);\n",
              "        }\n",
              "      </script>\n",
              "    </div>\n",
              "  </div>\n",
              "  "
            ]
          },
          "metadata": {},
          "execution_count": 31
        }
      ],
      "source": [
        "#show first 5 duplicated record, train data\n",
        "pd_df_train_data[pd_s_index_dubl].head()"
      ]
    },
    {
      "cell_type": "markdown",
      "metadata": {
        "id": "7n72fYju5J69"
      },
      "source": [
        "####Encoding Techniques"
      ]
    },
    {
      "cell_type": "code",
      "execution_count": null,
      "metadata": {
        "id": "oOr4zCXg5d-A"
      },
      "outputs": [],
      "source": [
        "from sklearn import preprocessing"
      ]
    },
    {
      "cell_type": "code",
      "execution_count": null,
      "metadata": {
        "id": "I9TLUvCo5i6q"
      },
      "outputs": [],
      "source": [
        "#le_sentiment = preprocessing.LabelEncoder()\n",
        "#le_sentiment.fit(pd_df_train_data['sentiment'])\n",
        "\n",
        "#pd_df_train_data['sentiment'] = le_sentiment.transform(pd_df_train_data['sentiment'])"
      ]
    },
    {
      "cell_type": "markdown",
      "metadata": {
        "id": "PrRbXzIbo1Jm"
      },
      "source": [
        "####See what a positive, negative, and neutral review looks like"
      ]
    },
    {
      "cell_type": "code",
      "execution_count": null,
      "metadata": {
        "colab": {
          "base_uri": "https://localhost:8080/"
        },
        "id": "lw33Lc9fG6E_",
        "outputId": "775d749d-2008-47d9-da46-2499b67ca859"
      },
      "outputs": [
        {
          "output_type": "execute_result",
          "data": {
            "text/plain": [
              "Positive    934\n",
              "Neutral      39\n",
              "Negative     24\n",
              "Name: sentiment, dtype: int64"
            ]
          },
          "metadata": {},
          "execution_count": 34
        }
      ],
      "source": [
        "#Check the class count of test data hidden for each target data\n",
        "pd_df_test_data_hidden['sentiment'].value_counts()"
      ]
    },
    {
      "cell_type": "code",
      "execution_count": null,
      "metadata": {
        "colab": {
          "base_uri": "https://localhost:8080/"
        },
        "id": "d8ycrunypl72",
        "outputId": "faa90a37-18b6-4f59-adf0-14714f24a798"
      },
      "outputs": [
        {
          "output_type": "execute_result",
          "data": {
            "text/plain": [
              "<matplotlib.axes._subplots.AxesSubplot at 0x7f99af7beb50>"
            ]
          },
          "metadata": {},
          "execution_count": 35
        },
        {
          "output_type": "display_data",
          "data": {
            "text/plain": [
              "<Figure size 432x288 with 1 Axes>"
            ],
            "image/png": "[encoded data removed]"
          },
          "metadata": {
            "needs_background": "light"
          }
        }
      ],
      "source": [
        "#Check the class count of test data hidden for each target data\n",
        "pd_df_test_data_hidden['sentiment'].value_counts().plot.bar()"
      ]
    },
    {
      "cell_type": "code",
      "execution_count": null,
      "metadata": {
        "colab": {
          "base_uri": "https://localhost:8080/"
        },
        "id": "gagLI7wyHBfK",
        "outputId": "fdfd1ada-6ec0-4f4f-e1bd-50d680171889"
      },
      "outputs": [
        {
          "output_type": "execute_result",
          "data": {
            "text/plain": [
              "Positive    3739\n",
              "Neutral      158\n",
              "Negative      93\n",
              "Name: sentiment, dtype: int64"
            ]
          },
          "metadata": {},
          "execution_count": 36
        }
      ],
      "source": [
        "#Check the class count of train data for each target data. It’s a class imbalance problem\n",
        "pd_df_train_data['sentiment'].value_counts()"
      ]
    },
    {
      "cell_type": "code",
      "execution_count": null,
      "metadata": {
        "colab": {
          "base_uri": "https://localhost:8080/"
        },
        "id": "1Chk1A3Oo7eP",
        "outputId": "16d62e6a-9b0c-4431-f2f5-b693d4c4f88f"
      },
      "outputs": [
        {
          "output_type": "execute_result",
          "data": {
            "text/plain": [
              "<matplotlib.axes._subplots.AxesSubplot at 0x7f99af708a90>"
            ]
          },
          "metadata": {},
          "execution_count": 37
        },
        {
          "output_type": "display_data",
          "data": {
            "text/plain": [
              "<Figure size 432x288 with 1 Axes>"
            ],
            "image/png": "[encoded data removed]"
          },
          "metadata": {
            "needs_background": "light"
          }
        }
      ],
      "source": [
        "#Check the class count of train data for each target data\n",
        "pd_df_train_data['sentiment'].value_counts().plot.bar()"
      ]
    },
    {
      "cell_type": "markdown",
      "metadata": {
        "id": "N8L4dbZO9q5y"
      },
      "source": [
        "####Data organisation"
      ]
    },
    {
      "cell_type": "code",
      "execution_count": null,
      "metadata": {
        "id": "00dXaOldbGDn"
      },
      "outputs": [],
      "source": [
        "#feature selection for train data\n",
        "pd_s_feature_train = pd_df_train_data['reviews.title'] + ' ' + pd_df_train_data['reviews.text']\n",
        "pd_s_target_train = pd_df_train_data['sentiment']\n",
        "\n",
        "#feature selection for test data\n",
        "pd_s_feature_test = pd_df_test_data['reviews.title'] + ' ' + pd_df_test_data['reviews.text']\n",
        "\n",
        "#feature selection for test data hidden\n",
        "pd_s_feature_test_hidden = pd_df_test_data_hidden['reviews.title'] + ' ' + pd_df_test_data_hidden['reviews.text']\n",
        "pd_s_target_test_hidden = pd_df_test_data_hidden['sentiment']"
      ]
    },
    {
      "cell_type": "code",
      "execution_count": null,
      "metadata": {
        "id": "cre2qUGDcMOa"
      },
      "outputs": [],
      "source": [
        "#copy train feature, all feature for bag of words\n",
        "pd_s_feature = pd_s_feature_train.copy()\n",
        "#add test feature\n",
        "pd_s_feature = pd_s_feature.append(pd_s_feature_test, ignore_index=True)\n",
        "#add test hidden feature\n",
        "pd_s_feature = pd_s_feature.append(pd_s_feature_test_hidden, ignore_index=True)"
      ]
    },
    {
      "cell_type": "code",
      "execution_count": null,
      "metadata": {
        "colab": {
          "base_uri": "https://localhost:8080/"
        },
        "id": "8fU4NS4A1093",
        "outputId": "4eaf18b5-3c5b-46e4-e3a2-bfee40182017"
      },
      "outputs": [
        {
          "output_type": "execute_result",
          "data": {
            "text/plain": [
              "5984"
            ]
          },
          "metadata": {},
          "execution_count": 40
        }
      ],
      "source": [
        "#print total number of record\n",
        "pd_s_feature_train.shape[0] + pd_s_feature_test.shape[0] + pd_s_feature_test_hidden.shape[0]"
      ]
    },
    {
      "cell_type": "code",
      "execution_count": null,
      "metadata": {
        "colab": {
          "base_uri": "https://localhost:8080/"
        },
        "id": "SGrYm1CVjK_R",
        "outputId": "2f7cbe7c-4f24-45a8-b8a4-f026e5c2c071"
      },
      "outputs": [
        {
          "output_type": "execute_result",
          "data": {
            "text/plain": [
              "(5984,)"
            ]
          },
          "metadata": {},
          "execution_count": 41
        }
      ],
      "source": [
        "#print total number of record of final data frame\n",
        "pd_s_feature.shape"
      ]
    },
    {
      "cell_type": "markdown",
      "metadata": {
        "id": "tPssdNWOSzpq"
      },
      "source": [
        "###Convert the reviews in Tf-Idf score"
      ]
    },
    {
      "cell_type": "code",
      "execution_count": null,
      "metadata": {
        "id": "xqm0cxIjdZq7"
      },
      "outputs": [],
      "source": [
        "#text process object\n",
        "my_txt_process = MyTextProcess()\n",
        "# bag of words by applying the function and fit the data (comment) into it\n",
        "obj_bag_of_words = CountVectorizer(analyzer=my_txt_process.txt_vectorization).fit(pd_s_feature)\n",
        "# apply transform method for the bag of words for all feature\n",
        "all_bag_of_words = obj_bag_of_words.transform(pd_s_feature)\n",
        "# apply tfidf fit method for all bag of words\n",
        "obj_tfidf = TfidfTransformer().fit(all_bag_of_words)"
      ]
    },
    {
      "cell_type": "code",
      "execution_count": null,
      "metadata": {
        "id": "Nu7ZQ928e3mQ"
      },
      "outputs": [],
      "source": [
        "# apply transform method for the bag of words of train data\n",
        "train_bag_of_words = obj_bag_of_words.transform(pd_s_feature_train)\n",
        "# apply tfidf transformer for train bag of words into it (transformed version)\n",
        "train_tfidf = obj_tfidf.transform(train_bag_of_words)\n",
        "\n",
        "# apply transform method for the bag of words of test data hidden\n",
        "test_hidden_bag_of_words = obj_bag_of_words.transform(pd_s_feature_test_hidden)\n",
        "# apply tfidf transformer for train bag of words into it (transformed version)\n",
        "test_hidden_tfidf = obj_tfidf.transform(test_hidden_bag_of_words)"
      ]
    },
    {
      "cell_type": "markdown",
      "metadata": {
        "id": "sv_C1O9icS0x"
      },
      "source": [
        "###Run multinomial Naive Bayes classifier"
      ]
    },
    {
      "cell_type": "code",
      "execution_count": null,
      "metadata": {
        "id": "6ixX75AHdBRH"
      },
      "outputs": [],
      "source": [
        "#choose naive Bayes model to detect the sentiment and fit the tfidf data into it\n",
        "sentiment_NB_detection_model = MultinomialNB().fit(train_tfidf, pd_s_target_train)"
      ]
    },
    {
      "cell_type": "code",
      "execution_count": null,
      "metadata": {
        "id": "s6UrWpQ5hXny"
      },
      "outputs": [],
      "source": [
        "#check model for prediction\n",
        "predict_sentiment = sentiment_NB_detection_model.predict(test_hidden_tfidf)"
      ]
    },
    {
      "cell_type": "code",
      "source": [
        "#delete object\n",
        "del sentiment_NB_detection_model"
      ],
      "metadata": {
        "id": "yvV6YaeTIf6A"
      },
      "execution_count": null,
      "outputs": []
    },
    {
      "cell_type": "markdown",
      "metadata": {
        "id": "4iyU4qVqAcCA"
      },
      "source": [
        "####Evaluation metrics"
      ]
    },
    {
      "cell_type": "code",
      "execution_count": null,
      "metadata": {
        "colab": {
          "base_uri": "https://localhost:8080/"
        },
        "id": "HHGisebRgang",
        "outputId": "c85d6217-3f43-406c-ebab-aafd5cb9e1ad"
      },
      "outputs": [
        {
          "output_type": "stream",
          "name": "stdout",
          "text": [
            "              precision    recall  f1-score   support\n",
            "\n",
            "    Negative       0.00      0.00      0.00        24\n",
            "     Neutral       0.00      0.00      0.00        39\n",
            "    Positive       0.94      1.00      0.97       934\n",
            "\n",
            "    accuracy                           0.94       997\n",
            "   macro avg       0.31      0.33      0.32       997\n",
            "weighted avg       0.88      0.94      0.91       997\n",
            "\n"
          ]
        }
      ],
      "source": [
        "#Evaluation Metrics\n",
        "print(metrics.classification_report(pd_s_target_test_hidden, predict_sentiment))"
      ]
    },
    {
      "cell_type": "code",
      "execution_count": null,
      "metadata": {
        "id": "A5PS1UZUIyyK"
      },
      "outputs": [],
      "source": [
        "#Perform confusion matrix on pandas data frame\n",
        "pd_df_conf_matrix = pd_df_multi_class_confusion_matrix(pd_s_target_test_hidden, predict_sentiment)"
      ]
    },
    {
      "cell_type": "code",
      "execution_count": null,
      "metadata": {
        "colab": {
          "base_uri": "https://localhost:8080/"
        },
        "id": "NoxZd1A6nnDj",
        "outputId": "02ee536d-fabf-4c4d-b47a-f2241d4d34b7"
      },
      "outputs": [
        {
          "output_type": "execute_result",
          "data": {
            "text/plain": [
              "                      Predicted label                 \n",
              "                             Positive Negative Neutral\n",
              "Actual label Positive             934        0       0\n",
              "             Negative              24        0       0\n",
              "             Neutral               39        0       0"
            ],
            "text/html": [
              "\n",
              "  <div id=\"df-113f4dd9-0e38-4f6e-8f0d-25be060098c2\">\n",
              "    <div class=\"colab-df-container\">\n",
              "      <div>\n",
              "<style scoped>\n",
              "    .dataframe tbody tr th:only-of-type {\n",
              "        vertical-align: middle;\n",
              "    }\n",
              "\n",
              "    .dataframe tbody tr th {\n",
              "        vertical-align: top;\n",
              "    }\n",
              "\n",
              "    .dataframe thead tr th {\n",
              "        text-align: left;\n",
              "    }\n",
              "</style>\n",
              "<table border=\"1\" class=\"dataframe\">\n",
              "  <thead>\n",
              "    <tr>\n",
              "      <th></th>\n",
              "      <th></th>\n",
              "      <th colspan=\"3\" halign=\"left\">Predicted label</th>\n",
              "    </tr>\n",
              "    <tr>\n",
              "      <th></th>\n",
              "      <th></th>\n",
              "      <th>Positive</th>\n",
              "      <th>Negative</th>\n",
              "      <th>Neutral</th>\n",
              "    </tr>\n",
              "  </thead>\n",
              "  <tbody>\n",
              "    <tr>\n",
              "      <th rowspan=\"3\" valign=\"top\">Actual label</th>\n",
              "      <th>Positive</th>\n",
              "      <td>934</td>\n",
              "      <td>0</td>\n",
              "      <td>0</td>\n",
              "    </tr>\n",
              "    <tr>\n",
              "      <th>Negative</th>\n",
              "      <td>24</td>\n",
              "      <td>0</td>\n",
              "      <td>0</td>\n",
              "    </tr>\n",
              "    <tr>\n",
              "      <th>Neutral</th>\n",
              "      <td>39</td>\n",
              "      <td>0</td>\n",
              "      <td>0</td>\n",
              "    </tr>\n",
              "  </tbody>\n",
              "</table>\n",
              "</div>\n",
              "      <button class=\"colab-df-convert\" onclick=\"convertToInteractive('df-113f4dd9-0e38-4f6e-8f0d-25be060098c2')\"\n",
              "              title=\"Convert this dataframe to an interactive table.\"\n",
              "              style=\"display:none;\">\n",
              "        \n",
              "  <svg xmlns=\"http://www.w3.org/2000/svg\" height=\"24px\"viewBox=\"0 0 24 24\"\n",
              "       width=\"24px\">\n",
              "    <path d=\"M0 0h24v24H0V0z\" fill=\"none\"/>\n",
              "    <path d=\"M18.56 5.44l.94 2.06.94-2.06 2.06-.94-2.06-.94-.94-2.06-.94 2.06-2.06.94zm-11 1L8.5 8.5l.94-2.06 2.06-.94-2.06-.94L8.5 2.5l-.94 2.06-2.06.94zm10 10l.94 2.06.94-2.06 2.06-.94-2.06-.94-.94-2.06-.94 2.06-2.06.94z\"/><path d=\"M17.41 7.96l-1.37-1.37c-.4-.4-.92-.59-1.43-.59-.52 0-1.04.2-1.43.59L10.3 9.45l-7.72 7.72c-.78.78-.78 2.05 0 2.83L4 21.41c.39.39.9.59 1.41.59.51 0 1.02-.2 1.41-.59l7.78-7.78 2.81-2.81c.8-.78.8-2.07 0-2.86zM5.41 20L4 18.59l7.72-7.72 1.47 1.35L5.41 20z\"/>\n",
              "  </svg>\n",
              "      </button>\n",
              "      \n",
              "  <style>\n",
              "    .colab-df-container {\n",
              "      display:flex;\n",
              "      flex-wrap:wrap;\n",
              "      gap: 12px;\n",
              "    }\n",
              "\n",
              "    .colab-df-convert {\n",
              "      background-color: #E8F0FE;\n",
              "      border: none;\n",
              "      border-radius: 50%;\n",
              "      cursor: pointer;\n",
              "      display: none;\n",
              "      fill: #1967D2;\n",
              "      height: 32px;\n",
              "      padding: 0 0 0 0;\n",
              "      width: 32px;\n",
              "    }\n",
              "\n",
              "    .colab-df-convert:hover {\n",
              "      background-color: #E2EBFA;\n",
              "      box-shadow: 0px 1px 2px rgba(60, 64, 67, 0.3), 0px 1px 3px 1px rgba(60, 64, 67, 0.15);\n",
              "      fill: #174EA6;\n",
              "    }\n",
              "\n",
              "    [theme=dark] .colab-df-convert {\n",
              "      background-color: #3B4455;\n",
              "      fill: #D2E3FC;\n",
              "    }\n",
              "\n",
              "    [theme=dark] .colab-df-convert:hover {\n",
              "      background-color: #434B5C;\n",
              "      box-shadow: 0px 1px 3px 1px rgba(0, 0, 0, 0.15);\n",
              "      filter: drop-shadow(0px 1px 2px rgba(0, 0, 0, 0.3));\n",
              "      fill: #FFFFFF;\n",
              "    }\n",
              "  </style>\n",
              "\n",
              "      <script>\n",
              "        const buttonEl =\n",
              "          document.querySelector('#df-113f4dd9-0e38-4f6e-8f0d-25be060098c2 button.colab-df-convert');\n",
              "        buttonEl.style.display =\n",
              "          google.colab.kernel.accessAllowed ? 'block' : 'none';\n",
              "\n",
              "        async function convertToInteractive(key) {\n",
              "          const element = document.querySelector('#df-113f4dd9-0e38-4f6e-8f0d-25be060098c2');\n",
              "          const dataTable =\n",
              "            await google.colab.kernel.invokeFunction('convertToInteractive',\n",
              "                                                     [key], {});\n",
              "          if (!dataTable) return;\n",
              "\n",
              "          const docLinkHtml = 'Like what you see? Visit the ' +\n",
              "            '<a target=\"_blank\" href=https://colab.research.google.com/notebooks/data_table.ipynb>data table notebook</a>'\n",
              "            + ' to learn more about interactive tables.';\n",
              "          element.innerHTML = '';\n",
              "          dataTable['output_type'] = 'display_data';\n",
              "          await google.colab.output.renderOutput(dataTable, element);\n",
              "          const docLink = document.createElement('div');\n",
              "          docLink.innerHTML = docLinkHtml;\n",
              "          element.appendChild(docLink);\n",
              "        }\n",
              "      </script>\n",
              "    </div>\n",
              "  </div>\n",
              "  "
            ]
          },
          "metadata": {},
          "execution_count": 49
        }
      ],
      "source": [
        "#Show confusion matrix for test data hidden\n",
        "pd_df_conf_matrix.head()"
      ]
    },
    {
      "cell_type": "code",
      "execution_count": null,
      "metadata": {
        "colab": {
          "base_uri": "https://localhost:8080/"
        },
        "id": "HX17Ii2JBrVs",
        "outputId": "c67281f2-726f-45a0-96c4-ad2460d99b0d"
      },
      "outputs": [
        {
          "output_type": "display_data",
          "data": {
            "text/plain": [
              "<Figure size 432x288 with 1 Axes>"
            ],
            "image/png": "[encoded data removed]"
          },
          "metadata": {
            "needs_background": "light"
          }
        }
      ],
      "source": [
        "fpr, tpr, roc_auc = roc_curve_multiclass(pd_s_target_test_hidden, predict_sentiment)\n",
        "plot_auc_roc_multiclass(fpr, tpr, roc_auc, pd_s_target_test_hidden.unique())"
      ]
    },
    {
      "cell_type": "markdown",
      "metadata": {
        "id": "b4aYt-h_dNhu"
      },
      "source": [
        "###SMOTE (Synthetic Minority Over-sampling Technique)"
      ]
    },
    {
      "cell_type": "code",
      "execution_count": null,
      "metadata": {
        "id": "T39kbRpJdbuU"
      },
      "outputs": [],
      "source": [
        "#Oversampling is used to tackle the class imbalance problem.\n",
        "smote = SMOTE(random_state=42)\n",
        "X_sm, y_sm = smote.fit_resample(train_tfidf, pd_s_target_train)\n",
        "del smote"
      ]
    },
    {
      "cell_type": "code",
      "execution_count": null,
      "metadata": {
        "colab": {
          "base_uri": "https://localhost:8080/",
          "height": 317
        },
        "id": "cjpR5KfZDf2M",
        "outputId": "62f15f03-06d7-4e19-b1b8-4a39666f458c"
      },
      "outputs": [
        {
          "output_type": "execute_result",
          "data": {
            "text/plain": [
              "<matplotlib.axes._subplots.AxesSubplot at 0x7f99af015250>"
            ]
          },
          "metadata": {},
          "execution_count": 71
        },
        {
          "output_type": "display_data",
          "data": {
            "text/plain": [
              "<Figure size 432x288 with 1 Axes>"
            ],
            "image/png": "[encoded data removed]"
          },
          "metadata": {
            "needs_background": "light"
          }
        }
      ],
      "source": [
        "#Check the class count of test data hidden for each target data\n",
        "pd_s_target_train.value_counts().plot.bar()"
      ]
    },
    {
      "cell_type": "code",
      "execution_count": null,
      "metadata": {
        "colab": {
          "base_uri": "https://localhost:8080/",
          "height": 317
        },
        "id": "Z3_2uOYvDHB7",
        "outputId": "9166a604-b591-4349-92c1-0c38d77842d8"
      },
      "outputs": [
        {
          "output_type": "execute_result",
          "data": {
            "text/plain": [
              "<matplotlib.axes._subplots.AxesSubplot at 0x7f99a96d8090>"
            ]
          },
          "metadata": {},
          "execution_count": 72
        },
        {
          "output_type": "display_data",
          "data": {
            "text/plain": [
              "<Figure size 432x288 with 1 Axes>"
            ],
            "image/png": "[encoded data removed]"
          },
          "metadata": {
            "needs_background": "light"
          }
        }
      ],
      "source": [
        "y_sm.value_counts().plot.bar()"
      ]
    },
    {
      "cell_type": "markdown",
      "metadata": {
        "id": "A3ge2WC1WX_w"
      },
      "source": [
        "###Classifiers"
      ]
    },
    {
      "cell_type": "markdown",
      "metadata": {
        "id": "c2wxc1e1D5wm"
      },
      "source": [
        "####Naive Bayes classifier"
      ]
    },
    {
      "cell_type": "code",
      "execution_count": null,
      "metadata": {
        "id": "0i_v7-1KECvV"
      },
      "outputs": [],
      "source": [
        "#choose naive Bayes model to detect the sentiment and fit the tfidf data into it\n",
        "sentiment_NB_detection_model = MultinomialNB().fit(X_sm, y_sm)"
      ]
    },
    {
      "cell_type": "code",
      "execution_count": null,
      "metadata": {
        "id": "kSFeDv8RET7X"
      },
      "outputs": [],
      "source": [
        "#check model for prediction\n",
        "predict_NB = sentiment_NB_detection_model.predict(test_hidden_tfidf)"
      ]
    },
    {
      "cell_type": "code",
      "source": [
        "del sentiment_NB_detection_model"
      ],
      "metadata": {
        "id": "OymiLk1TI5lL"
      },
      "execution_count": null,
      "outputs": []
    },
    {
      "cell_type": "markdown",
      "metadata": {
        "id": "EfYOTE8iEbwQ"
      },
      "source": [
        "#####Evaluation metrics"
      ]
    },
    {
      "cell_type": "code",
      "execution_count": null,
      "metadata": {
        "colab": {
          "base_uri": "https://localhost:8080/"
        },
        "id": "Z--REE1KEesB",
        "outputId": "4292ccb1-7a1b-4ceb-e556-ba88cb3ad992"
      },
      "outputs": [
        {
          "output_type": "stream",
          "name": "stdout",
          "text": [
            "              precision    recall  f1-score   support\n",
            "\n",
            "    Negative       0.50      0.54      0.52        24\n",
            "     Neutral       0.26      0.51      0.34        39\n",
            "    Positive       0.98      0.93      0.96       934\n",
            "\n",
            "    accuracy                           0.91       997\n",
            "   macro avg       0.58      0.66      0.61       997\n",
            "weighted avg       0.94      0.91      0.92       997\n",
            "\n"
          ]
        }
      ],
      "source": [
        "#Evaluation Metrics\n",
        "print(metrics.classification_report(pd_s_target_test_hidden, predict_NB))"
      ]
    },
    {
      "cell_type": "code",
      "execution_count": null,
      "metadata": {
        "colab": {
          "base_uri": "https://localhost:8080/",
          "height": 175
        },
        "id": "7KgmrFOgErJg",
        "outputId": "c4174e81-7930-4104-e0fe-2ccdb865f769"
      },
      "outputs": [
        {
          "output_type": "execute_result",
          "data": {
            "text/plain": [
              "                      Predicted label                 \n",
              "                             Positive Negative Neutral\n",
              "Actual label Positive             873        9      52\n",
              "             Negative               6       13       5\n",
              "             Neutral               15        4      20"
            ],
            "text/html": [
              "\n",
              "  <div id=\"df-ae971cfc-c80f-4cac-8481-995a38031190\">\n",
              "    <div class=\"colab-df-container\">\n",
              "      <div>\n",
              "<style scoped>\n",
              "    .dataframe tbody tr th:only-of-type {\n",
              "        vertical-align: middle;\n",
              "    }\n",
              "\n",
              "    .dataframe tbody tr th {\n",
              "        vertical-align: top;\n",
              "    }\n",
              "\n",
              "    .dataframe thead tr th {\n",
              "        text-align: left;\n",
              "    }\n",
              "</style>\n",
              "<table border=\"1\" class=\"dataframe\">\n",
              "  <thead>\n",
              "    <tr>\n",
              "      <th></th>\n",
              "      <th></th>\n",
              "      <th colspan=\"3\" halign=\"left\">Predicted label</th>\n",
              "    </tr>\n",
              "    <tr>\n",
              "      <th></th>\n",
              "      <th></th>\n",
              "      <th>Positive</th>\n",
              "      <th>Negative</th>\n",
              "      <th>Neutral</th>\n",
              "    </tr>\n",
              "  </thead>\n",
              "  <tbody>\n",
              "    <tr>\n",
              "      <th rowspan=\"3\" valign=\"top\">Actual label</th>\n",
              "      <th>Positive</th>\n",
              "      <td>873</td>\n",
              "      <td>9</td>\n",
              "      <td>52</td>\n",
              "    </tr>\n",
              "    <tr>\n",
              "      <th>Negative</th>\n",
              "      <td>6</td>\n",
              "      <td>13</td>\n",
              "      <td>5</td>\n",
              "    </tr>\n",
              "    <tr>\n",
              "      <th>Neutral</th>\n",
              "      <td>15</td>\n",
              "      <td>4</td>\n",
              "      <td>20</td>\n",
              "    </tr>\n",
              "  </tbody>\n",
              "</table>\n",
              "</div>\n",
              "      <button class=\"colab-df-convert\" onclick=\"convertToInteractive('df-ae971cfc-c80f-4cac-8481-995a38031190')\"\n",
              "              title=\"Convert this dataframe to an interactive table.\"\n",
              "              style=\"display:none;\">\n",
              "        \n",
              "  <svg xmlns=\"http://www.w3.org/2000/svg\" height=\"24px\"viewBox=\"0 0 24 24\"\n",
              "       width=\"24px\">\n",
              "    <path d=\"M0 0h24v24H0V0z\" fill=\"none\"/>\n",
              "    <path d=\"M18.56 5.44l.94 2.06.94-2.06 2.06-.94-2.06-.94-.94-2.06-.94 2.06-2.06.94zm-11 1L8.5 8.5l.94-2.06 2.06-.94-2.06-.94L8.5 2.5l-.94 2.06-2.06.94zm10 10l.94 2.06.94-2.06 2.06-.94-2.06-.94-.94-2.06-.94 2.06-2.06.94z\"/><path d=\"M17.41 7.96l-1.37-1.37c-.4-.4-.92-.59-1.43-.59-.52 0-1.04.2-1.43.59L10.3 9.45l-7.72 7.72c-.78.78-.78 2.05 0 2.83L4 21.41c.39.39.9.59 1.41.59.51 0 1.02-.2 1.41-.59l7.78-7.78 2.81-2.81c.8-.78.8-2.07 0-2.86zM5.41 20L4 18.59l7.72-7.72 1.47 1.35L5.41 20z\"/>\n",
              "  </svg>\n",
              "      </button>\n",
              "      \n",
              "  <style>\n",
              "    .colab-df-container {\n",
              "      display:flex;\n",
              "      flex-wrap:wrap;\n",
              "      gap: 12px;\n",
              "    }\n",
              "\n",
              "    .colab-df-convert {\n",
              "      background-color: #E8F0FE;\n",
              "      border: none;\n",
              "      border-radius: 50%;\n",
              "      cursor: pointer;\n",
              "      display: none;\n",
              "      fill: #1967D2;\n",
              "      height: 32px;\n",
              "      padding: 0 0 0 0;\n",
              "      width: 32px;\n",
              "    }\n",
              "\n",
              "    .colab-df-convert:hover {\n",
              "      background-color: #E2EBFA;\n",
              "      box-shadow: 0px 1px 2px rgba(60, 64, 67, 0.3), 0px 1px 3px 1px rgba(60, 64, 67, 0.15);\n",
              "      fill: #174EA6;\n",
              "    }\n",
              "\n",
              "    [theme=dark] .colab-df-convert {\n",
              "      background-color: #3B4455;\n",
              "      fill: #D2E3FC;\n",
              "    }\n",
              "\n",
              "    [theme=dark] .colab-df-convert:hover {\n",
              "      background-color: #434B5C;\n",
              "      box-shadow: 0px 1px 3px 1px rgba(0, 0, 0, 0.15);\n",
              "      filter: drop-shadow(0px 1px 2px rgba(0, 0, 0, 0.3));\n",
              "      fill: #FFFFFF;\n",
              "    }\n",
              "  </style>\n",
              "\n",
              "      <script>\n",
              "        const buttonEl =\n",
              "          document.querySelector('#df-ae971cfc-c80f-4cac-8481-995a38031190 button.colab-df-convert');\n",
              "        buttonEl.style.display =\n",
              "          google.colab.kernel.accessAllowed ? 'block' : 'none';\n",
              "\n",
              "        async function convertToInteractive(key) {\n",
              "          const element = document.querySelector('#df-ae971cfc-c80f-4cac-8481-995a38031190');\n",
              "          const dataTable =\n",
              "            await google.colab.kernel.invokeFunction('convertToInteractive',\n",
              "                                                     [key], {});\n",
              "          if (!dataTable) return;\n",
              "\n",
              "          const docLinkHtml = 'Like what you see? Visit the ' +\n",
              "            '<a target=\"_blank\" href=https://colab.research.google.com/notebooks/data_table.ipynb>data table notebook</a>'\n",
              "            + ' to learn more about interactive tables.';\n",
              "          element.innerHTML = '';\n",
              "          dataTable['output_type'] = 'display_data';\n",
              "          await google.colab.output.renderOutput(dataTable, element);\n",
              "          const docLink = document.createElement('div');\n",
              "          docLink.innerHTML = docLinkHtml;\n",
              "          element.appendChild(docLink);\n",
              "        }\n",
              "      </script>\n",
              "    </div>\n",
              "  </div>\n",
              "  "
            ]
          },
          "metadata": {},
          "execution_count": 57
        }
      ],
      "source": [
        "#Perform confusion matrix on pandas data frame\n",
        "pd_df_conf_matrix = pd_df_multi_class_confusion_matrix(pd_s_target_test_hidden, predict_NB)\n",
        "#Show confusion matrix for test data hidden\n",
        "pd_df_conf_matrix.head()"
      ]
    },
    {
      "cell_type": "code",
      "execution_count": null,
      "metadata": {
        "colab": {
          "base_uri": "https://localhost:8080/",
          "height": 295
        },
        "id": "5a8tmZnEEy8v",
        "outputId": "b8ead203-7b0d-4fea-f7b1-86e8823e0cdf"
      },
      "outputs": [
        {
          "output_type": "display_data",
          "data": {
            "text/plain": [
              "<Figure size 432x288 with 1 Axes>"
            ],
            "image/png": "[encoded data removed]"
          },
          "metadata": {
            "needs_background": "light"
          }
        }
      ],
      "source": [
        "fpr, tpr, roc_auc = roc_curve_multiclass(pd_s_target_test_hidden, predict_NB)\n",
        "plot_auc_roc_multiclass(fpr, tpr, roc_auc, pd_s_target_test_hidden.unique())"
      ]
    },
    {
      "cell_type": "markdown",
      "metadata": {
        "id": "GGFdL5KeWmAu"
      },
      "source": [
        "####Random Forests Classifier"
      ]
    },
    {
      "cell_type": "code",
      "execution_count": null,
      "metadata": {
        "id": "nw7Y44qqWqtC"
      },
      "outputs": [],
      "source": [
        "#create random forest classifier object\n",
        "sentiment_RF_detection_model = RandomForestClassifier(n_jobs=-1,random_state=51)"
      ]
    },
    {
      "cell_type": "code",
      "execution_count": null,
      "metadata": {
        "colab": {
          "base_uri": "https://localhost:8080/"
        },
        "id": "hKMm85pMXyW-",
        "outputId": "aea5d7e3-ee1d-4321-8329-6301e72276a9"
      },
      "outputs": [
        {
          "output_type": "execute_result",
          "data": {
            "text/plain": [
              "RandomForestClassifier(n_jobs=-1, random_state=51)"
            ]
          },
          "metadata": {},
          "execution_count": 65
        }
      ],
      "source": [
        "#choose random forest model to detect the sentiment and fit the tfidf data into it\n",
        "sentiment_RF_detection_model.fit(X_sm, y_sm)"
      ]
    },
    {
      "cell_type": "code",
      "execution_count": null,
      "metadata": {
        "id": "R4Lfdt1yYUk3"
      },
      "outputs": [],
      "source": [
        "#check model for prediction\n",
        "predict_RF = sentiment_RF_detection_model.predict(test_hidden_tfidf)"
      ]
    },
    {
      "cell_type": "code",
      "source": [
        "#delete object\n",
        "del sentiment_RF_detection_model"
      ],
      "metadata": {
        "id": "SMS1ke5dJA8P"
      },
      "execution_count": null,
      "outputs": []
    },
    {
      "cell_type": "markdown",
      "metadata": {
        "id": "1KKcEoDiYY4C"
      },
      "source": [
        "#####Evaluation metrics"
      ]
    },
    {
      "cell_type": "code",
      "execution_count": null,
      "metadata": {
        "colab": {
          "base_uri": "https://localhost:8080/"
        },
        "id": "Qox3VpoGYbYq",
        "outputId": "be9e3226-0c84-461e-9b5a-a89215a9e755"
      },
      "outputs": [
        {
          "output_type": "stream",
          "name": "stdout",
          "text": [
            "              precision    recall  f1-score   support\n",
            "\n",
            "    Negative       1.00      0.29      0.45        24\n",
            "     Neutral       0.85      0.28      0.42        39\n",
            "    Positive       0.95      1.00      0.98       934\n",
            "\n",
            "    accuracy                           0.95       997\n",
            "   macro avg       0.93      0.52      0.62       997\n",
            "weighted avg       0.95      0.95      0.94       997\n",
            "\n"
          ]
        }
      ],
      "source": [
        "#Evaluation Metrics\n",
        "print(metrics.classification_report(pd_s_target_test_hidden, predict_RF))"
      ]
    },
    {
      "cell_type": "code",
      "execution_count": null,
      "metadata": {
        "colab": {
          "base_uri": "https://localhost:8080/"
        },
        "id": "R0hJEFRaYr4y",
        "outputId": "034c48e6-6e4b-4f41-e364-b9dbcdbbe3b4"
      },
      "outputs": [
        {
          "output_type": "execute_result",
          "data": {
            "text/plain": [
              "                      Predicted label                 \n",
              "                             Positive Negative Neutral\n",
              "Actual label Positive             932        0       2\n",
              "             Negative              17        7       0\n",
              "             Neutral               28        0      11"
            ],
            "text/html": [
              "\n",
              "  <div id=\"df-d67b7948-4c24-4c23-843d-523cb6a9a307\">\n",
              "    <div class=\"colab-df-container\">\n",
              "      <div>\n",
              "<style scoped>\n",
              "    .dataframe tbody tr th:only-of-type {\n",
              "        vertical-align: middle;\n",
              "    }\n",
              "\n",
              "    .dataframe tbody tr th {\n",
              "        vertical-align: top;\n",
              "    }\n",
              "\n",
              "    .dataframe thead tr th {\n",
              "        text-align: left;\n",
              "    }\n",
              "</style>\n",
              "<table border=\"1\" class=\"dataframe\">\n",
              "  <thead>\n",
              "    <tr>\n",
              "      <th></th>\n",
              "      <th></th>\n",
              "      <th colspan=\"3\" halign=\"left\">Predicted label</th>\n",
              "    </tr>\n",
              "    <tr>\n",
              "      <th></th>\n",
              "      <th></th>\n",
              "      <th>Positive</th>\n",
              "      <th>Negative</th>\n",
              "      <th>Neutral</th>\n",
              "    </tr>\n",
              "  </thead>\n",
              "  <tbody>\n",
              "    <tr>\n",
              "      <th rowspan=\"3\" valign=\"top\">Actual label</th>\n",
              "      <th>Positive</th>\n",
              "      <td>932</td>\n",
              "      <td>0</td>\n",
              "      <td>2</td>\n",
              "    </tr>\n",
              "    <tr>\n",
              "      <th>Negative</th>\n",
              "      <td>17</td>\n",
              "      <td>7</td>\n",
              "      <td>0</td>\n",
              "    </tr>\n",
              "    <tr>\n",
              "      <th>Neutral</th>\n",
              "      <td>28</td>\n",
              "      <td>0</td>\n",
              "      <td>11</td>\n",
              "    </tr>\n",
              "  </tbody>\n",
              "</table>\n",
              "</div>\n",
              "      <button class=\"colab-df-convert\" onclick=\"convertToInteractive('df-d67b7948-4c24-4c23-843d-523cb6a9a307')\"\n",
              "              title=\"Convert this dataframe to an interactive table.\"\n",
              "              style=\"display:none;\">\n",
              "        \n",
              "  <svg xmlns=\"http://www.w3.org/2000/svg\" height=\"24px\"viewBox=\"0 0 24 24\"\n",
              "       width=\"24px\">\n",
              "    <path d=\"M0 0h24v24H0V0z\" fill=\"none\"/>\n",
              "    <path d=\"M18.56 5.44l.94 2.06.94-2.06 2.06-.94-2.06-.94-.94-2.06-.94 2.06-2.06.94zm-11 1L8.5 8.5l.94-2.06 2.06-.94-2.06-.94L8.5 2.5l-.94 2.06-2.06.94zm10 10l.94 2.06.94-2.06 2.06-.94-2.06-.94-.94-2.06-.94 2.06-2.06.94z\"/><path d=\"M17.41 7.96l-1.37-1.37c-.4-.4-.92-.59-1.43-.59-.52 0-1.04.2-1.43.59L10.3 9.45l-7.72 7.72c-.78.78-.78 2.05 0 2.83L4 21.41c.39.39.9.59 1.41.59.51 0 1.02-.2 1.41-.59l7.78-7.78 2.81-2.81c.8-.78.8-2.07 0-2.86zM5.41 20L4 18.59l7.72-7.72 1.47 1.35L5.41 20z\"/>\n",
              "  </svg>\n",
              "      </button>\n",
              "      \n",
              "  <style>\n",
              "    .colab-df-container {\n",
              "      display:flex;\n",
              "      flex-wrap:wrap;\n",
              "      gap: 12px;\n",
              "    }\n",
              "\n",
              "    .colab-df-convert {\n",
              "      background-color: #E8F0FE;\n",
              "      border: none;\n",
              "      border-radius: 50%;\n",
              "      cursor: pointer;\n",
              "      display: none;\n",
              "      fill: #1967D2;\n",
              "      height: 32px;\n",
              "      padding: 0 0 0 0;\n",
              "      width: 32px;\n",
              "    }\n",
              "\n",
              "    .colab-df-convert:hover {\n",
              "      background-color: #E2EBFA;\n",
              "      box-shadow: 0px 1px 2px rgba(60, 64, 67, 0.3), 0px 1px 3px 1px rgba(60, 64, 67, 0.15);\n",
              "      fill: #174EA6;\n",
              "    }\n",
              "\n",
              "    [theme=dark] .colab-df-convert {\n",
              "      background-color: #3B4455;\n",
              "      fill: #D2E3FC;\n",
              "    }\n",
              "\n",
              "    [theme=dark] .colab-df-convert:hover {\n",
              "      background-color: #434B5C;\n",
              "      box-shadow: 0px 1px 3px 1px rgba(0, 0, 0, 0.15);\n",
              "      filter: drop-shadow(0px 1px 2px rgba(0, 0, 0, 0.3));\n",
              "      fill: #FFFFFF;\n",
              "    }\n",
              "  </style>\n",
              "\n",
              "      <script>\n",
              "        const buttonEl =\n",
              "          document.querySelector('#df-d67b7948-4c24-4c23-843d-523cb6a9a307 button.colab-df-convert');\n",
              "        buttonEl.style.display =\n",
              "          google.colab.kernel.accessAllowed ? 'block' : 'none';\n",
              "\n",
              "        async function convertToInteractive(key) {\n",
              "          const element = document.querySelector('#df-d67b7948-4c24-4c23-843d-523cb6a9a307');\n",
              "          const dataTable =\n",
              "            await google.colab.kernel.invokeFunction('convertToInteractive',\n",
              "                                                     [key], {});\n",
              "          if (!dataTable) return;\n",
              "\n",
              "          const docLinkHtml = 'Like what you see? Visit the ' +\n",
              "            '<a target=\"_blank\" href=https://colab.research.google.com/notebooks/data_table.ipynb>data table notebook</a>'\n",
              "            + ' to learn more about interactive tables.';\n",
              "          element.innerHTML = '';\n",
              "          dataTable['output_type'] = 'display_data';\n",
              "          await google.colab.output.renderOutput(dataTable, element);\n",
              "          const docLink = document.createElement('div');\n",
              "          docLink.innerHTML = docLinkHtml;\n",
              "          element.appendChild(docLink);\n",
              "        }\n",
              "      </script>\n",
              "    </div>\n",
              "  </div>\n",
              "  "
            ]
          },
          "metadata": {},
          "execution_count": 69
        }
      ],
      "source": [
        "#Perform confusion matrix on pandas data frame\n",
        "pd_df_conf_matrix = pd_df_multi_class_confusion_matrix(pd_s_target_test_hidden, predict_RF)\n",
        "#Show confusion matrix for test data hidden\n",
        "pd_df_conf_matrix.head()"
      ]
    },
    {
      "cell_type": "code",
      "execution_count": null,
      "metadata": {
        "colab": {
          "base_uri": "https://localhost:8080/"
        },
        "id": "bfKaDnw-Y6jp",
        "outputId": "b0ca8e4e-e20a-418f-aa43-9989fb3d1202"
      },
      "outputs": [
        {
          "output_type": "display_data",
          "data": {
            "text/plain": [
              "<Figure size 432x288 with 1 Axes>"
            ],
            "image/png": "[encoded data removed]"
          },
          "metadata": {
            "needs_background": "light"
          }
        }
      ],
      "source": [
        "fpr, tpr, roc_auc = roc_curve_multiclass(pd_s_target_test_hidden, predict_RF)\n",
        "plot_auc_roc_multiclass(fpr, tpr, roc_auc, pd_s_target_test_hidden.unique())"
      ]
    },
    {
      "cell_type": "markdown",
      "metadata": {
        "id": "58dpf__FezPh"
      },
      "source": [
        "#####Fine-tuning"
      ]
    },
    {
      "cell_type": "code",
      "execution_count": null,
      "metadata": {
        "id": "ZiY9zsD6e2th"
      },
      "outputs": [],
      "source": [
        "# Number of trees in random forest\n",
        "n_estimators = [int(x) for x in np.linspace(start = 200, stop = 2000, num = 10)]\n",
        "# Number of features to consider at every split\n",
        "max_features = ['auto', 'sqrt']\n",
        "# Maximum number of levels in tree\n",
        "max_depth = [int(x) for x in np.linspace(10, 110, num = 11)]\n",
        "max_depth.append(None)\n",
        "# Minimum number of samples required to split a node\n",
        "min_samples_split = [2, 5, 10]\n",
        "# Minimum number of samples required at each leaf node\n",
        "min_samples_leaf = [1, 2, 4]\n",
        "# Method of selecting samples for training each tree\n",
        "bootstrap = [True, False]\n",
        "# Create the random grid\n",
        "random_grid = {'n_estimators': n_estimators,\n",
        "               'max_features': max_features,\n",
        "               'max_depth': max_depth,\n",
        "               'min_samples_split': min_samples_split,\n",
        "               'min_samples_leaf': min_samples_leaf,\n",
        "               'bootstrap': bootstrap}"
      ]
    },
    {
      "cell_type": "code",
      "execution_count": null,
      "metadata": {
        "colab": {
          "base_uri": "https://localhost:8080/"
        },
        "id": "xGBXtSXpg0uX",
        "outputId": "7eb1def6-d68d-4e88-bc7e-66f53dc373ce"
      },
      "outputs": [
        {
          "output_type": "stream",
          "name": "stdout",
          "text": [
            "Fitting 3 folds for each of 10 candidates, totalling 30 fits\n"
          ]
        },
        {
          "output_type": "execute_result",
          "data": {
            "text/plain": [
              "RandomizedSearchCV(cv=3,\n",
              "                   estimator=RandomForestClassifier(n_jobs=-1, random_state=51),\n",
              "                   n_jobs=-1,\n",
              "                   param_distributions={'bootstrap': [True, False],\n",
              "                                        'max_depth': [10, 20, 30, 40, 50, 60,\n",
              "                                                      70, 80, 90, 100, 110,\n",
              "                                                      None],\n",
              "                                        'max_features': ['auto', 'sqrt'],\n",
              "                                        'min_samples_leaf': [1, 2, 4],\n",
              "                                        'min_samples_split': [2, 5, 10],\n",
              "                                        'n_estimators': [200, 400, 600, 800,\n",
              "                                                         1000, 1200, 1400, 1600,\n",
              "                                                         1800, 2000]},\n",
              "                   random_state=42, verbose=2)"
            ]
          },
          "metadata": {},
          "execution_count": 72
        }
      ],
      "source": [
        "# Use the random grid to search for best hyperparameters\n",
        "# First create the base model to tune\n",
        "rf = RandomForestClassifier(n_jobs=-1,random_state=51)\n",
        "# Random search of parameters, using 3 fold cross validation,\n",
        "# search across 10 different combinations, and use all available cores\n",
        "rf_random = RandomizedSearchCV(estimator = rf, param_distributions = random_grid, n_iter = 10, cv = 3, verbose=2, random_state=42, n_jobs = -1)\n",
        "# Fit the random search model\n",
        "rf_random.fit(X_sm, y_sm)"
      ]
    },
    {
      "cell_type": "markdown",
      "metadata": {
        "id": "BHpUGOkC6GXy"
      },
      "source": [
        "The most important arguments in RandomizedSearchCV are n_iter, which controls the number of different combinations to try, and cv which is the number of folds to use for cross validation (we use 100 and 3 respectively). More iterations will cover a wider search space and more cv folds reduces the chances of overfitting, but raising each will increase the run time. Machine learning is a field of trade-offs, and performance vs time is one of the most fundamental."
      ]
    },
    {
      "cell_type": "code",
      "execution_count": null,
      "metadata": {
        "colab": {
          "base_uri": "https://localhost:8080/"
        },
        "id": "zVqBTIAj5c4R",
        "outputId": "9adedbb3-6893-4291-8e7a-dc54c857f928"
      },
      "outputs": [
        {
          "output_type": "execute_result",
          "data": {
            "text/plain": [
              "{'n_estimators': 1000,\n",
              " 'min_samples_split': 10,\n",
              " 'min_samples_leaf': 1,\n",
              " 'max_features': 'auto',\n",
              " 'max_depth': 80,\n",
              " 'bootstrap': False}"
            ]
          },
          "metadata": {},
          "execution_count": 73
        }
      ],
      "source": [
        "#show best pamameters\n",
        "rf_random.best_params_"
      ]
    },
    {
      "cell_type": "code",
      "execution_count": null,
      "metadata": {
        "id": "0_sDq2h55tmO"
      },
      "outputs": [],
      "source": [
        "#predict sentiment with best random paramenters\n",
        "predict_RF_best_rand_params = rf_random.best_estimator_.predict(test_hidden_tfidf)\n",
        "#delete\n",
        "del rf_random"
      ]
    },
    {
      "cell_type": "markdown",
      "metadata": {
        "id": "__U7YS5162lh"
      },
      "source": [
        "Evaluation metrics"
      ]
    },
    {
      "cell_type": "code",
      "execution_count": null,
      "metadata": {
        "colab": {
          "base_uri": "https://localhost:8080/"
        },
        "id": "EtHvhpBc66Te",
        "outputId": "f27d8e5c-6c4a-4206-aa78-ac337dd7b367"
      },
      "outputs": [
        {
          "output_type": "stream",
          "name": "stdout",
          "text": [
            "              precision    recall  f1-score   support\n",
            "\n",
            "    Negative       1.00      0.29      0.45        24\n",
            "     Neutral       1.00      0.28      0.44        39\n",
            "    Positive       0.95      1.00      0.98       934\n",
            "\n",
            "    accuracy                           0.95       997\n",
            "   macro avg       0.98      0.52      0.62       997\n",
            "weighted avg       0.96      0.95      0.94       997\n",
            "\n"
          ]
        }
      ],
      "source": [
        "#Evaluation Metrics\n",
        "print(metrics.classification_report(pd_s_target_test_hidden, predict_RF_best_rand_params))"
      ]
    },
    {
      "cell_type": "markdown",
      "metadata": {
        "id": "8bHZHPXMY-is"
      },
      "source": [
        "####XGBoost Classifier"
      ]
    },
    {
      "cell_type": "code",
      "execution_count": null,
      "metadata": {
        "id": "2N3DbemiZDPc"
      },
      "outputs": [],
      "source": [
        "#create eXtreme Gradient Boosting classifier object\n",
        "sentiment_XGB_detection_model = XGBClassifier(n_jobs=-1,random_state=51)"
      ]
    },
    {
      "cell_type": "code",
      "execution_count": null,
      "metadata": {
        "colab": {
          "base_uri": "https://localhost:8080/"
        },
        "id": "CLBql8K20Zur",
        "outputId": "37be5f63-d80e-4511-ab9e-8e0c0853bfa8"
      },
      "outputs": [
        {
          "data": {
            "text/plain": [
              "XGBClassifier(n_jobs=-1, objective='multi:softprob', random_state=51)"
            ]
          },
          "execution_count": 127,
          "metadata": {},
          "output_type": "execute_result"
        }
      ],
      "source": [
        "#choose eXtreme Gradient Boosting model to detect the sentiment and fit the tfidf data into it\n",
        "sentiment_XGB_detection_model.fit(X_sm, y_sm)"
      ]
    },
    {
      "cell_type": "code",
      "execution_count": null,
      "metadata": {
        "id": "Oc5FmgXP0weG"
      },
      "outputs": [],
      "source": [
        "#check model for prediction\n",
        "predict_XGB = sentiment_XGB_detection_model.predict(test_hidden_tfidf)\n",
        "#delete object\n",
        "del sentiment_XGB_detection_model"
      ]
    },
    {
      "cell_type": "markdown",
      "metadata": {
        "id": "K37edybA02pF"
      },
      "source": [
        "#####Evaluation metrics"
      ]
    },
    {
      "cell_type": "code",
      "execution_count": null,
      "metadata": {
        "colab": {
          "base_uri": "https://localhost:8080/"
        },
        "id": "bxpvtEsw07bU",
        "outputId": "11fbf331-ccf8-426f-e944-3c50d142cb7a"
      },
      "outputs": [
        {
          "name": "stdout",
          "output_type": "stream",
          "text": [
            "              precision    recall  f1-score   support\n",
            "\n",
            "    Negative       0.24      0.25      0.24        24\n",
            "     Neutral       0.15      0.15      0.15        39\n",
            "    Positive       0.95      0.95      0.95       934\n",
            "\n",
            "    accuracy                           0.90       997\n",
            "   macro avg       0.45      0.45      0.45       997\n",
            "weighted avg       0.90      0.90      0.90       997\n",
            "\n"
          ]
        }
      ],
      "source": [
        "#Evaluation Metrics\n",
        "print(metrics.classification_report(pd_s_target_test_hidden, predict_XGB))"
      ]
    },
    {
      "cell_type": "code",
      "execution_count": null,
      "metadata": {
        "colab": {
          "base_uri": "https://localhost:8080/",
          "height": 175
        },
        "id": "_prfByrh1Jxc",
        "outputId": "2498b218-44c1-428a-ffa1-2bd62aad5570"
      },
      "outputs": [
        {
          "data": {
            "text/html": [
              "\n",
              "  <div id=\"df-ce909b94-e22e-4e39-94bf-3cb7bac1ff32\">\n",
              "    <div class=\"colab-df-container\">\n",
              "      <div>\n",
              "<style scoped>\n",
              "    .dataframe tbody tr th:only-of-type {\n",
              "        vertical-align: middle;\n",
              "    }\n",
              "\n",
              "    .dataframe tbody tr th {\n",
              "        vertical-align: top;\n",
              "    }\n",
              "\n",
              "    .dataframe thead tr th {\n",
              "        text-align: left;\n",
              "    }\n",
              "</style>\n",
              "<table border=\"1\" class=\"dataframe\">\n",
              "  <thead>\n",
              "    <tr>\n",
              "      <th></th>\n",
              "      <th></th>\n",
              "      <th colspan=\"3\" halign=\"left\">Predicted label</th>\n",
              "    </tr>\n",
              "    <tr>\n",
              "      <th></th>\n",
              "      <th></th>\n",
              "      <th>Positive</th>\n",
              "      <th>Negative</th>\n",
              "      <th>Neutral</th>\n",
              "    </tr>\n",
              "  </thead>\n",
              "  <tbody>\n",
              "    <tr>\n",
              "      <th rowspan=\"3\" valign=\"top\">Actual label</th>\n",
              "      <th>Positive</th>\n",
              "      <td>887</td>\n",
              "      <td>16</td>\n",
              "      <td>31</td>\n",
              "    </tr>\n",
              "    <tr>\n",
              "      <th>Negative</th>\n",
              "      <td>16</td>\n",
              "      <td>6</td>\n",
              "      <td>2</td>\n",
              "    </tr>\n",
              "    <tr>\n",
              "      <th>Neutral</th>\n",
              "      <td>30</td>\n",
              "      <td>3</td>\n",
              "      <td>6</td>\n",
              "    </tr>\n",
              "  </tbody>\n",
              "</table>\n",
              "</div>\n",
              "      <button class=\"colab-df-convert\" onclick=\"convertToInteractive('df-ce909b94-e22e-4e39-94bf-3cb7bac1ff32')\"\n",
              "              title=\"Convert this dataframe to an interactive table.\"\n",
              "              style=\"display:none;\">\n",
              "        \n",
              "  <svg xmlns=\"http://www.w3.org/2000/svg\" height=\"24px\"viewBox=\"0 0 24 24\"\n",
              "       width=\"24px\">\n",
              "    <path d=\"M0 0h24v24H0V0z\" fill=\"none\"/>\n",
              "    <path d=\"M18.56 5.44l.94 2.06.94-2.06 2.06-.94-2.06-.94-.94-2.06-.94 2.06-2.06.94zm-11 1L8.5 8.5l.94-2.06 2.06-.94-2.06-.94L8.5 2.5l-.94 2.06-2.06.94zm10 10l.94 2.06.94-2.06 2.06-.94-2.06-.94-.94-2.06-.94 2.06-2.06.94z\"/><path d=\"M17.41 7.96l-1.37-1.37c-.4-.4-.92-.59-1.43-.59-.52 0-1.04.2-1.43.59L10.3 9.45l-7.72 7.72c-.78.78-.78 2.05 0 2.83L4 21.41c.39.39.9.59 1.41.59.51 0 1.02-.2 1.41-.59l7.78-7.78 2.81-2.81c.8-.78.8-2.07 0-2.86zM5.41 20L4 18.59l7.72-7.72 1.47 1.35L5.41 20z\"/>\n",
              "  </svg>\n",
              "      </button>\n",
              "      \n",
              "  <style>\n",
              "    .colab-df-container {\n",
              "      display:flex;\n",
              "      flex-wrap:wrap;\n",
              "      gap: 12px;\n",
              "    }\n",
              "\n",
              "    .colab-df-convert {\n",
              "      background-color: #E8F0FE;\n",
              "      border: none;\n",
              "      border-radius: 50%;\n",
              "      cursor: pointer;\n",
              "      display: none;\n",
              "      fill: #1967D2;\n",
              "      height: 32px;\n",
              "      padding: 0 0 0 0;\n",
              "      width: 32px;\n",
              "    }\n",
              "\n",
              "    .colab-df-convert:hover {\n",
              "      background-color: #E2EBFA;\n",
              "      box-shadow: 0px 1px 2px rgba(60, 64, 67, 0.3), 0px 1px 3px 1px rgba(60, 64, 67, 0.15);\n",
              "      fill: #174EA6;\n",
              "    }\n",
              "\n",
              "    [theme=dark] .colab-df-convert {\n",
              "      background-color: #3B4455;\n",
              "      fill: #D2E3FC;\n",
              "    }\n",
              "\n",
              "    [theme=dark] .colab-df-convert:hover {\n",
              "      background-color: #434B5C;\n",
              "      box-shadow: 0px 1px 3px 1px rgba(0, 0, 0, 0.15);\n",
              "      filter: drop-shadow(0px 1px 2px rgba(0, 0, 0, 0.3));\n",
              "      fill: #FFFFFF;\n",
              "    }\n",
              "  </style>\n",
              "\n",
              "      <script>\n",
              "        const buttonEl =\n",
              "          document.querySelector('#df-ce909b94-e22e-4e39-94bf-3cb7bac1ff32 button.colab-df-convert');\n",
              "        buttonEl.style.display =\n",
              "          google.colab.kernel.accessAllowed ? 'block' : 'none';\n",
              "\n",
              "        async function convertToInteractive(key) {\n",
              "          const element = document.querySelector('#df-ce909b94-e22e-4e39-94bf-3cb7bac1ff32');\n",
              "          const dataTable =\n",
              "            await google.colab.kernel.invokeFunction('convertToInteractive',\n",
              "                                                     [key], {});\n",
              "          if (!dataTable) return;\n",
              "\n",
              "          const docLinkHtml = 'Like what you see? Visit the ' +\n",
              "            '<a target=\"_blank\" href=https://colab.research.google.com/notebooks/data_table.ipynb>data table notebook</a>'\n",
              "            + ' to learn more about interactive tables.';\n",
              "          element.innerHTML = '';\n",
              "          dataTable['output_type'] = 'display_data';\n",
              "          await google.colab.output.renderOutput(dataTable, element);\n",
              "          const docLink = document.createElement('div');\n",
              "          docLink.innerHTML = docLinkHtml;\n",
              "          element.appendChild(docLink);\n",
              "        }\n",
              "      </script>\n",
              "    </div>\n",
              "  </div>\n",
              "  "
            ],
            "text/plain": [
              "                      Predicted label                 \n",
              "                             Positive Negative Neutral\n",
              "Actual label Positive             887       16      31\n",
              "             Negative              16        6       2\n",
              "             Neutral               30        3       6"
            ]
          },
          "execution_count": 130,
          "metadata": {},
          "output_type": "execute_result"
        }
      ],
      "source": [
        "#Perform confusion matrix on pandas data frame\n",
        "pd_df_conf_matrix = pd_df_multi_class_confusion_matrix(pd_s_target_test_hidden, predict_XGB)\n",
        "#Show confusion matrix for test data hidden\n",
        "pd_df_conf_matrix.head()"
      ]
    },
    {
      "cell_type": "code",
      "execution_count": null,
      "metadata": {
        "colab": {
          "base_uri": "https://localhost:8080/",
          "height": 295
        },
        "id": "UIADFAZ01M2s",
        "outputId": "845a7243-024f-4709-d9ff-6117febf8e14"
      },
      "outputs": [
        {
          "data": {
            "image/png": "[encoded data removed]",
            "text/plain": [
              "<Figure size 432x288 with 1 Axes>"
            ]
          },
          "metadata": {},
          "output_type": "display_data"
        }
      ],
      "source": [
        "fpr, tpr, roc_auc = roc_curve_multiclass(pd_s_target_test_hidden, predict_XGB)\n",
        "plot_auc_roc_multiclass(fpr, tpr, roc_auc, pd_s_target_test_hidden.unique())"
      ]
    },
    {
      "cell_type": "markdown",
      "metadata": {
        "id": "ug5iXO4n13Cj"
      },
      "source": [
        "#####Fine-tuning"
      ]
    },
    {
      "cell_type": "code",
      "execution_count": null,
      "metadata": {
        "id": "0fw5b7qj17TC"
      },
      "outputs": [],
      "source": [
        "# Number of trees in random forest\n",
        "n_estimators = [int(x) for x in np.linspace(start = 90, stop = 2000, num = 10)]\n",
        "# Maximum number of levels in tree\n",
        "max_depth = [int(x) for x in np.linspace(10, 110, num = 11)]\n",
        "max_depth.append(None)\n",
        "# Step size at each iteration\n",
        "eta = [.1, .2, .5, .7, 1]\n",
        "# Fraction of observations that need to be sampled for each tree\n",
        "subsample = [.1, .2, .5, .7, 1]\n",
        "# Create the random grid\n",
        "random_xgb_grid = {# Parameters that we are going to tune.\n",
        "                'max_depth':max_depth,\n",
        "                'n_estimators': n_estimators,\n",
        "                'eta':eta,\n",
        "                'subsample': subsample,\n",
        "              }"
      ]
    },
    {
      "cell_type": "code",
      "execution_count": null,
      "metadata": {
        "colab": {
          "base_uri": "https://localhost:8080/"
        },
        "id": "hJLgZM0l2Jvj",
        "outputId": "75cfb4d9-d19f-45b2-f308-caa0d4d3af8e"
      },
      "outputs": [
        {
          "name": "stdout",
          "output_type": "stream",
          "text": [
            "Fitting 3 folds for each of 10 candidates, totalling 30 fits\n"
          ]
        },
        {
          "data": {
            "text/plain": [
              "RandomizedSearchCV(cv=3, estimator=XGBClassifier(n_jobs=-1, random_state=51),\n",
              "                   n_jobs=-1,\n",
              "                   param_distributions={'eta': [0.1, 0.2, 0.5, 0.7, 1],\n",
              "                                        'max_depth': [10, 20, 30, 40, 50, 60,\n",
              "                                                      70, 80, 90, 100, 110,\n",
              "                                                      None],\n",
              "                                        'n_estimators': [90, 302, 514, 726, 938,\n",
              "                                                         1151, 1363, 1575, 1787,\n",
              "                                                         2000],\n",
              "                                        'subsample': [0.1, 0.2, 0.5, 0.7, 1]},\n",
              "                   random_state=42, verbose=2)"
            ]
          },
          "execution_count": 133,
          "metadata": {},
          "output_type": "execute_result"
        }
      ],
      "source": [
        "# Use the random grid to search for best hyperparameters\n",
        "# First create the base model to tune\n",
        "xgb = XGBClassifier(n_jobs=-1, random_state=51)\n",
        "# Random search of parameters, using 3 fold cross validation,\n",
        "# search across 10 different combinations, and use all available cores\n",
        "xgb_random = RandomizedSearchCV(estimator = xgb,\n",
        "                                param_distributions = random_xgb_grid,\n",
        "                                n_iter = 10, cv = 3,\n",
        "                                verbose=2, random_state=42,\n",
        "                                n_jobs = -1)\n",
        "# Fit the random search model\n",
        "xgb_random.fit(X_sm, y_sm)"
      ]
    },
    {
      "cell_type": "code",
      "execution_count": null,
      "metadata": {
        "colab": {
          "base_uri": "https://localhost:8080/"
        },
        "id": "crbmQA0GUznD",
        "outputId": "93539701-cb0c-41f2-88b0-062ae1398122"
      },
      "outputs": [
        {
          "data": {
            "text/plain": [
              "{'subsample': 1, 'n_estimators': 1787, 'max_depth': 20, 'eta': 0.5}"
            ]
          },
          "execution_count": 134,
          "metadata": {},
          "output_type": "execute_result"
        }
      ],
      "source": [
        "#show best pamameters\n",
        "xgb_random.best_params_"
      ]
    },
    {
      "cell_type": "code",
      "execution_count": null,
      "metadata": {
        "id": "Y2uV6NtTsOZn"
      },
      "outputs": [],
      "source": [
        "#predict sentiment with best random paramenters\n",
        "predict_XGB_best_rand_params = xgb_random.best_estimator_.predict(test_hidden_tfidf)\n",
        "\n",
        "#delete object\n",
        "del xgb_random"
      ]
    },
    {
      "cell_type": "markdown",
      "metadata": {
        "id": "52NazznRsUqK"
      },
      "source": [
        "Evaluation metrics"
      ]
    },
    {
      "cell_type": "code",
      "execution_count": null,
      "metadata": {
        "colab": {
          "base_uri": "https://localhost:8080/"
        },
        "id": "fhS1WMPosYco",
        "outputId": "25bee17d-1b73-4d52-f541-64aef5ebd304"
      },
      "outputs": [
        {
          "name": "stdout",
          "output_type": "stream",
          "text": [
            "              precision    recall  f1-score   support\n",
            "\n",
            "    Negative       0.50      0.42      0.45        24\n",
            "     Neutral       0.50      0.38      0.43        39\n",
            "    Positive       0.96      0.98      0.97       934\n",
            "\n",
            "    accuracy                           0.94       997\n",
            "   macro avg       0.65      0.59      0.62       997\n",
            "weighted avg       0.93      0.94      0.94       997\n",
            "\n"
          ]
        }
      ],
      "source": [
        "#Evaluation Metrics\n",
        "print(metrics.classification_report(pd_s_target_test_hidden, predict_XGB_best_rand_params))"
      ]
    },
    {
      "cell_type": "markdown",
      "metadata": {
        "id": "Px4_YSMpDohQ"
      },
      "source": [
        "###Evaluation of Naive Bayes vs Random Forest vs Xgboost"
      ]
    },
    {
      "cell_type": "code",
      "execution_count": null,
      "metadata": {
        "colab": {
          "base_uri": "https://localhost:8080/"
        },
        "id": "_0pc4UDHEDp9",
        "outputId": "40c44f77-7451-4171-cca2-507fe8838ed5"
      },
      "outputs": [
        {
          "name": "stdout",
          "output_type": "stream",
          "text": [
            "              precision    recall  f1-score   support\n",
            "\n",
            "    Negative       0.50      0.54      0.52        24\n",
            "     Neutral       0.26      0.51      0.34        39\n",
            "    Positive       0.98      0.93      0.96       934\n",
            "\n",
            "    accuracy                           0.91       997\n",
            "   macro avg       0.58      0.66      0.61       997\n",
            "weighted avg       0.94      0.91      0.92       997\n",
            "\n"
          ]
        }
      ],
      "source": [
        "#Evaluation Metrics of Naive Bayes Classificator\n",
        "print(metrics.classification_report(pd_s_target_test_hidden, predict_NB))"
      ]
    },
    {
      "cell_type": "code",
      "execution_count": null,
      "metadata": {
        "colab": {
          "base_uri": "https://localhost:8080/"
        },
        "id": "tIPYGmvADzXR",
        "outputId": "36fd467e-9987-4e00-baee-830c645debe0"
      },
      "outputs": [
        {
          "name": "stdout",
          "output_type": "stream",
          "text": [
            "              precision    recall  f1-score   support\n",
            "\n",
            "    Negative       1.00      0.29      0.45        24\n",
            "     Neutral       1.00      0.28      0.44        39\n",
            "    Positive       0.95      1.00      0.98       934\n",
            "\n",
            "    accuracy                           0.95       997\n",
            "   macro avg       0.98      0.52      0.62       997\n",
            "weighted avg       0.96      0.95      0.94       997\n",
            "\n"
          ]
        }
      ],
      "source": [
        "#Evaluation Metrics of Random Forest Classificator\n",
        "print(metrics.classification_report(pd_s_target_test_hidden, predict_RF_best_rand_params))"
      ]
    },
    {
      "cell_type": "code",
      "execution_count": null,
      "metadata": {
        "colab": {
          "base_uri": "https://localhost:8080/"
        },
        "id": "ReZ-58jUDwey",
        "outputId": "f9e115cd-1716-4976-d023-ea9038c419d6"
      },
      "outputs": [
        {
          "name": "stdout",
          "output_type": "stream",
          "text": [
            "              precision    recall  f1-score   support\n",
            "\n",
            "    Negative       0.50      0.42      0.45        24\n",
            "     Neutral       0.50      0.38      0.43        39\n",
            "    Positive       0.96      0.98      0.97       934\n",
            "\n",
            "    accuracy                           0.94       997\n",
            "   macro avg       0.65      0.59      0.62       997\n",
            "weighted avg       0.93      0.94      0.94       997\n",
            "\n"
          ]
        }
      ],
      "source": [
        "#Evaluation Metrics eXtreme Gradient Boosting\n",
        "print(metrics.classification_report(pd_s_target_test_hidden, predict_XGB_best_rand_params))"
      ]
    },
    {
      "cell_type": "code",
      "execution_count": null,
      "metadata": {
        "id": "yPKhys5hJoR7"
      },
      "outputs": [],
      "source": [
        "dict_pred = {'NB': predict_NB,\n",
        "             'RF': predict_RF_best_rand_params,\n",
        "             'XGB': predict_XGB_best_rand_params,\n",
        "             }"
      ]
    },
    {
      "cell_type": "code",
      "execution_count": null,
      "metadata": {
        "id": "YGRG4mNjJ5yb"
      },
      "outputs": [],
      "source": [
        "#\n",
        "pd_s_pred_mode = pd.DataFrame(dict_pred).T.mode().T[0]"
      ]
    },
    {
      "cell_type": "code",
      "execution_count": null,
      "metadata": {
        "colab": {
          "base_uri": "https://localhost:8080/"
        },
        "id": "dS1n2LgIFh5q",
        "outputId": "38375afa-59b3-41d1-989a-36946d84b550"
      },
      "outputs": [
        {
          "name": "stdout",
          "output_type": "stream",
          "text": [
            "              precision    recall  f1-score   support\n",
            "\n",
            "    Negative       0.80      0.50      0.62        24\n",
            "     Neutral       0.76      0.33      0.46        39\n",
            "    Positive       0.96      1.00      0.98       934\n",
            "\n",
            "    accuracy                           0.96       997\n",
            "   macro avg       0.84      0.61      0.69       997\n",
            "weighted avg       0.95      0.96      0.95       997\n",
            "\n"
          ]
        }
      ],
      "source": [
        "#Evaluation Metrics mode of Naive Bayes, Random Forest and Xgboost\n",
        "print(metrics.classification_report(pd_s_target_test_hidden, pd_s_pred_mode))"
      ]
    },
    {
      "cell_type": "markdown",
      "metadata": {
        "id": "7YRZmHyYBJdE"
      },
      "source": [
        "##**Project Task: Week 2**"
      ]
    },
    {
      "cell_type": "markdown",
      "metadata": {
        "id": "sdYCo3kpA9wd"
      },
      "source": [
        "**Model Selection:**\n",
        "\n",
        "1.   Apply multi-class SVM’s and neural nets.\n",
        "\n",
        "2.   Use possible ensemble techniques like: XGboost + oversampled_multinomial_NB.\n",
        "\n",
        "3.   Assign a score to the sentence sentiment (engineer a feature called sentiment score). Use this engineered feature in the model and check for improvements. Draw insights on the same.\n",
        "\n",
        "**Applying LSTM:**\n",
        "\n",
        "4.   Use LSTM for the previous problem (use parameters of LSTM like top-word, embedding-length, Dropout, epochs, number of layers, etc.)\n",
        "\n",
        "**Hint:** Another variation of LSTM, GRU (Gated Recurrent Units) can be tried as well.\n",
        "\n",
        "5.   Compare the accuracy of neural nets with traditional ML based algorithms.\n",
        "\n",
        "6.   Find the best setting of LSTM (Neural Net) and GRU that can best classify the reviews as positive, negative, and neutral.\n",
        "\n",
        "**Hint:** Use techniques like Grid Search, Cross-Validation and Random Search\n",
        "\n",
        "**Topic Modeling:**\n",
        "\n",
        "7.   Cluster similar reviews.\n",
        "\n",
        "**Note:** Some reviews may talk about the device as a gift-option. Other reviews may be about product looks and some may highlight about its battery and performance. Try naming the clusters.\n",
        "\n",
        "8.   Perform Topic Modeling\n",
        "\n",
        "**Hint:** Use scikit-learn provided Latent Dirchlette Allocation (LDA) and Non-Negative Matrix Factorization (NMF)."
      ]
    },
    {
      "cell_type": "markdown",
      "metadata": {
        "id": "NIvLeIWZacnk"
      },
      "source": [
        "\n",
        "###Apply multi-class SVM’s"
      ]
    },
    {
      "cell_type": "markdown",
      "metadata": {
        "id": "Nc18SL0meO0H"
      },
      "source": [
        "####Multi-class SVM’s"
      ]
    },
    {
      "cell_type": "markdown",
      "metadata": {
        "id": "lB5UuT2ZcH4W"
      },
      "source": [
        "Source link: https://www.baeldung.com/cs/svm-multiclass-classification"
      ]
    },
    {
      "cell_type": "markdown",
      "metadata": {
        "id": "0DLqK5v-cEZl"
      },
      "source": [
        "We’ll create two objects from SVM, to create two different classifiers; one with Polynomial kernel, and another one with RBF kernel:"
      ]
    },
    {
      "cell_type": "code",
      "execution_count": null,
      "metadata": {
        "id": "NgyL4gyPBCwG"
      },
      "outputs": [],
      "source": [
        "#SVM object, with RBF kernel\n",
        "sentiment_SVC_rbf_detection_model = svm.SVC(kernel='rbf', gamma=0.5, C=0.1).fit(X_sm, y_sm)"
      ]
    },
    {
      "cell_type": "code",
      "execution_count": null,
      "metadata": {
        "id": "aM7WjF1tcSNN"
      },
      "outputs": [],
      "source": [
        "#SVM object, with Polynomial kernel\n",
        "sentiment_SVC_poly_detection_model = svm.SVC(kernel='poly', degree=3, C=1).fit(X_sm, y_sm)"
      ]
    },
    {
      "cell_type": "code",
      "execution_count": null,
      "metadata": {
        "id": "TuKuT7Yxc_rc"
      },
      "outputs": [],
      "source": [
        "#check SVM with RBF kernel model for prediction\n",
        "predict_SVC_rbf = sentiment_SVC_rbf_detection_model.predict(test_hidden_tfidf)\n",
        "\n",
        "#delete object\n",
        "del sentiment_SVC_rbf_detection_model"
      ]
    },
    {
      "cell_type": "code",
      "execution_count": null,
      "metadata": {
        "id": "bbbCgprvdUx2"
      },
      "outputs": [],
      "source": [
        "#check SVM with Polynomial kernel model for prediction\n",
        "predict_SVC_poly = sentiment_SVC_poly_detection_model.predict(test_hidden_tfidf)\n",
        "\n",
        "#delete object\n",
        "del sentiment_SVC_poly_detection_model"
      ]
    },
    {
      "cell_type": "markdown",
      "metadata": {
        "id": "UdjV3stddnt_"
      },
      "source": [
        "#####Evaluation metrics"
      ]
    },
    {
      "cell_type": "code",
      "execution_count": null,
      "metadata": {
        "colab": {
          "base_uri": "https://localhost:8080/"
        },
        "id": "sSO6PC_-dotF",
        "outputId": "41e81737-20c1-4eef-be7c-20cd6c7eb806"
      },
      "outputs": [
        {
          "output_type": "stream",
          "name": "stdout",
          "text": [
            "              precision    recall  f1-score   support\n",
            "\n",
            "    Negative       0.89      0.33      0.48        24\n",
            "     Neutral       1.00      0.28      0.44        39\n",
            "    Positive       0.96      1.00      0.98       934\n",
            "\n",
            "    accuracy                           0.96       997\n",
            "   macro avg       0.95      0.54      0.63       997\n",
            "weighted avg       0.96      0.96      0.94       997\n",
            "\n"
          ]
        }
      ],
      "source": [
        "#Evaluation Metrics for SVM with RBF kernel model\n",
        "print(metrics.classification_report(pd_s_target_test_hidden, predict_SVC_rbf))"
      ]
    },
    {
      "cell_type": "code",
      "execution_count": null,
      "metadata": {
        "colab": {
          "base_uri": "https://localhost:8080/"
        },
        "id": "K346qDMPd5g8",
        "outputId": "faa4f93a-245c-4ef8-b4a9-46034b97a06f"
      },
      "outputs": [
        {
          "output_type": "stream",
          "name": "stdout",
          "text": [
            "              precision    recall  f1-score   support\n",
            "\n",
            "    Negative       1.00      0.29      0.45        24\n",
            "     Neutral       1.00      0.28      0.44        39\n",
            "    Positive       0.95      1.00      0.98       934\n",
            "\n",
            "    accuracy                           0.95       997\n",
            "   macro avg       0.98      0.52      0.62       997\n",
            "weighted avg       0.96      0.95      0.94       997\n",
            "\n"
          ]
        }
      ],
      "source": [
        "#Evaluation Metrics for SVM with Polynomial kernel model\n",
        "print(metrics.classification_report(pd_s_target_test_hidden, predict_SVC_poly))"
      ]
    },
    {
      "cell_type": "markdown",
      "metadata": {
        "id": "qNurcc7leWTB"
      },
      "source": [
        "###Multi-class neural nets"
      ]
    },
    {
      "cell_type": "markdown",
      "metadata": {
        "id": "DTXxxiite_eZ"
      },
      "source": [
        "Source link: https://www.tensorflow.org/text/tutorials/text_classification_rnn#create_the_text_encoder"
      ]
    },
    {
      "cell_type": "markdown",
      "metadata": {
        "id": "CGLVuPJ2fNRw"
      },
      "source": [
        "####**Create the text encoder**\n",
        "\n",
        "The raw text loaded from *pd_s_feature* needs to be processed before it can be used in a model. The simplest way to process text for training is using the TextVectorization layer."
      ]
    },
    {
      "cell_type": "markdown",
      "metadata": {
        "id": "4Z4q01sd-1db"
      },
      "source": [
        "#####Calculate paramenter for encoder layer"
      ]
    },
    {
      "cell_type": "code",
      "execution_count": null,
      "metadata": {
        "id": "a4R9N9Ss385c"
      },
      "outputs": [],
      "source": [
        "#get vocabulary from bag of words object\n",
        "lst_bag_of_words_vacabulary = list(obj_bag_of_words.vocabulary_.keys())\n",
        "np_bag_of_words_vacabulary = np.array(lst_bag_of_words_vacabulary)"
      ]
    },
    {
      "cell_type": "code",
      "execution_count": null,
      "metadata": {
        "colab": {
          "base_uri": "https://localhost:8080/"
        },
        "id": "peqwI1Lw4ZnZ",
        "outputId": "bee698df-5e58-419f-9b84-f5f6902848ba"
      },
      "outputs": [
        {
          "output_type": "execute_result",
          "data": {
            "text/plain": [
              "array(['powerful', 'tablet', 'purchased', 'black', 'fridaypros', 'great',\n",
              "       'price', 'even', 'sale', 'fast'], dtype='<U51')"
            ]
          },
          "metadata": {},
          "execution_count": 80
        }
      ],
      "source": [
        "#show first 10 words\n",
        "np_bag_of_words_vacabulary[:10]"
      ]
    },
    {
      "cell_type": "code",
      "execution_count": null,
      "metadata": {
        "id": "T5tb-vG34vwb"
      },
      "outputs": [],
      "source": [
        "#find max number of words per review\n",
        "max_nbr_wors_per_review = 0\n",
        "#find index of max number of words per review\n",
        "idx_max_nbr_wors_per_review = 0\n",
        "i = 0\n",
        "for nbr_row_words in all_bag_of_words:\n",
        "  tmp_nbr_words_per_review = nbr_row_words.sum()\n",
        "  if (max_nbr_wors_per_review < tmp_nbr_words_per_review):\n",
        "    max_nbr_wors_per_review = tmp_nbr_words_per_review\n",
        "    idx_max_nbr_wors_per_review = i\n",
        "  i+=1"
      ]
    },
    {
      "cell_type": "code",
      "execution_count": null,
      "metadata": {
        "colab": {
          "base_uri": "https://localhost:8080/"
        },
        "id": "2wNIxuRo5wAl",
        "outputId": "747b4dfd-889d-44b0-ec91-c7bc3ab962a4"
      },
      "outputs": [
        {
          "output_type": "execute_result",
          "data": {
            "text/plain": [
              "718"
            ]
          },
          "metadata": {},
          "execution_count": 82
        }
      ],
      "source": [
        "#Show max number of words per review\n",
        "max_nbr_wors_per_review"
      ]
    },
    {
      "cell_type": "code",
      "execution_count": null,
      "metadata": {
        "colab": {
          "base_uri": "https://localhost:8080/"
        },
        "id": "JOuKAadz61Cl",
        "outputId": "fb9f10ab-8d37-4d55-ea82-05ccfb91958e"
      },
      "outputs": [
        {
          "output_type": "execute_result",
          "data": {
            "text/plain": [
              "'Positive'"
            ],
            "application/vnd.google.colaboratory.intrinsic+json": {
              "type": "string"
            }
          },
          "metadata": {},
          "execution_count": 83
        }
      ],
      "source": [
        "#Show sentiment of index of max number of words per review\n",
        "pd_s_target_train[idx_max_nbr_wors_per_review]"
      ]
    },
    {
      "cell_type": "code",
      "execution_count": null,
      "metadata": {
        "colab": {
          "base_uri": "https://localhost:8080/"
        },
        "id": "F-Q7YjVD6urp",
        "outputId": "34bf413e-0e25-42d6-efc8-9537c9848b88"
      },
      "outputs": [
        {
          "output_type": "execute_result",
          "data": {
            "text/plain": [
              "'Great price on an awesome little tablet I\\'ve had lots of tablets in the past, mostly from the Samsung line, but this is my first Amazon Fire, so I want to write this review for others who have never tried one of these. At the time that this was written, Alexa had not been added to the tablet.First, while this device runs an Android type of operating system, Amazon puts its own spin on the operating system. I don\\'t feel like I\\'m using Android. This feels different to me. It doesn\\'t have the same level of customization that Android users have come to appreciate. That being said, if you are an Amazon Prime member, this device has been tailored to be your content entertainment machine. It\\'s simply a fun way to consume your magazines, books, etc.There are 3 on-screen buttons on the bottom of the device. The middle button immediately takes you to your home screen. The button to the left acts as a sort of \"back\" button. It also lets me get rid of my keyboard when I don\\'t need it on screen, but it\\'s open. The button to the right is super important. It took me a couple of days to realize what it does. That square shaped button is what you press you see what apps you have open. It lets you switch between apps, but it also lets you see which apps you have open and close them out. You can close them by pressing the \"X\" button in the corner of the window that appears or by touching the app window and swiping to the right. If you leave all of those apps open and you never close them, you\\'ll drain your battery. Make sure you use that little square button to clear your apps.The device has several menus that you swipe left to view. First, you start with your home screen. You literally can stay on this screen and do anything you need to do on the tablet. All of your apps are housed here. You swipe up to view all of them. The tablet comes with several apps pre-installed such as Slik, Amazon\\'s own internet browser, Audible, Good Reads, the Amazon app store, a weather app, etc. You can go to the Amazon app store to download other apps such as Twitter, Facebook, etc. You can combine the apps on this page into folders. You just drag one app to another app and a folder appears. This made my home screen much more manageable. You can change the size of the font on the home screen from normal to large or small in the device settings. This feature doesn\\'t necessarily increase the size of the font within your apps, however. I believe it only changes the font on your main screens.If you have a magazine or newspaper subscription that is connected to your device, when you have a new issues, it will show up at the top of your home page screen under the heading of \"new items.\" The device comes with a free 6 month subscription to the Washington Post. You\\'ll see that under \"new items\" when you initially activate your tablet.You can change the wallpaper on the screen to use one of your own photos. You can do this through the settings menu on the device. If you want to use one of your own photos, however, you need to either take it on the device or move it into Amazon\\'s Photos app, which is a cloud-based app.So far, I haven\\'t found a way to effectively use a different photo management app that will let me change my wallpaper. I\\'m not crazy about the Amazon Photo app. I found it annoying to move my photos from my phone into Amazon\\'s cloud just so I could view them on my tablet. That being said, I\\'m not planning to take photos on this device. I just wanted a few pet photos on there and the ability to change my wallpaper.Beyond the home screen, you can swipe to the right to view your other screen. They are pre-arranged to be: books, videos, games, shop, apps, music, audiobooks, and newstand. All of those screens are connected to your Amazon account. For example, if you have Kindle books you\\'ve already purchased, they automatically will appear under the Books menu. Your magazines and newspaper subscriptions will appear under the newstand menu. There doesn\\'t seem to be a way to change the order of the menu pages. That bugs me, but it\\'s not the end of the world. There\\'s also one menu to the left of the \"home\" menu. It\\'s the \"recent\" page. It shows you what you\\'ve received looked at on the tablet. I never use it, but it might be handy for some people.One of my favorite features of this tablet is Amazon\\'s \"On Deck\" capability. If you\\'re an Amazon Prime member, Amazon will periodically download a video to your device that it thinks you might like. The items don\\'t count against your pre-installed memory and they automatically deleted off if your memory starts getting full. You can turn off the \"on deck\" feature if you don\\'t like it. I\\'ve been content with the video playback capability. This isn\\'t my major use of the device, but the images look fine and the audio is OK. I\\'ll talk more about the speakers later. My other favorite feature of this tablet is viewing magazine content through the Newstand. I\\'ve tried 3 magazines on here and they all look gorgeous. Now, I can always have my magazines with me so if I\\'m stuck at the airport or at the doctor\\'s office, I always have them. One of my regular magazines includes a free digital version of the magazine for free. I just had to connect my account to the device. This allows me to download the back issues of the magazine for as long as I\\'ve had an account. My other magazine didn\\'t include a digital edition so I canceled the print edition of it and switched to the digital version. (It was an inexpensive magazine, anyway.) There are several magazines that you can try free for 30 days on the device. I did this with a third magazine and decided to keep it for a year. Viewing magazines on this gadget is a pleasure.The Kindle Fire doesn\\'t come with the Google Play store installed. You can side load it to the device without rooting it (and breaking your warranty.) You can Google to find the instructions to do this. It\\'s not difficult to do if you\\'re fairly comfortable with technology. It probably took me 10 minutes. Most of the apps I wanted were in the Amazon store, but there were a handful that I had paid for through Google Play. The only way I could have them was to go back to access that store. They have worked fine so far. I despise the keyboard that Amazon pre-installed on this device. There are no lines between the letters on the keyboard. I suppose it designed to be better for swyping through keys, but I hate it. I fixed that problem by going to Google Play and downloading a new keyboard. It was a pretty easy problem to solve so I can\\'t complain.Apps that are connecting to the Internet can be a little slow to load on this device compared to my other gadgets, but that generally doesn\\'t bother me. If you were using this tablet to replace your personal laptop, however, that might drive you crazy. The screen on this device isn\\'t bad. If I compare it to my fancy phone, it\\'s not as shape, but when you think about the price of this device compared to my smartphone, the screen is outstanding.The speakers are OK. There are two of them located on the bottom of the screen. I won\\'t say that they are fantastic. They aren\\'t. In my opinion, they are fine for watching YouTube or a television show. They are not OK for listening to music if you are an audiophile. You can make it a little better by downloading a different music app instead of relying on the pre-install app, but still your music will sound tinny. That being said, you can always connect your tablet to a bluetooth speaker, use a pair of headphones, etc.This device wasn\\'t made for taking pictures. It has a front and back camera, but they aren\\'t designed to be spectacular. I\\'m not using them.I find this device a little difficult to hold in my hands. I think that\\'s partly because of the size and partly because it feels very slick. Also, I do have some hand problems (similar to someone who has Carpal Tunnel syndrome). I think it will be easier to handle once my case arrives. I\\'m still waiting for it. I\\'m greatly enjoying this device. It\\'s simply fun to use the tablet. There are weaknesses that come with that lower price tag, but you legitimately get a lot of bang for your buck, particularly if you regularly use Amazon services. If you don\\'t typically use Amazon and you are just looking for a tablet for viewing the Internet and you\\'re looking for a low price tag, this device may be OK for you.'"
            ],
            "application/vnd.google.colaboratory.intrinsic+json": {
              "type": "string"
            }
          },
          "metadata": {},
          "execution_count": 84
        }
      ],
      "source": [
        "#Show review of index of max number of words per review\n",
        "pd_s_feature[idx_max_nbr_wors_per_review]"
      ]
    },
    {
      "cell_type": "markdown",
      "metadata": {
        "id": "PFzEFTyP_CRF"
      },
      "source": [
        "#####Create text vectorization layer"
      ]
    },
    {
      "cell_type": "code",
      "execution_count": null,
      "metadata": {
        "id": "0XaAza6xecmD"
      },
      "outputs": [],
      "source": [
        "#Create text vectorization layer\n",
        "\n",
        "#Note: that this vocabulary contains 1 OOV token,\n",
        "#so the effective number of tokens is (max_tokens - 1 - (1 if output_mode == \"int\" else 0))\n",
        "VOCAB_SIZE = np_bag_of_words_vacabulary.shape[0] + 2\n",
        "# max number of words per review is 749, but we put 2000 for rezerv and stop words\n",
        "OUTPUT_SESUENCE_LENGTH = 2000\n",
        "encoder_layer_review = layers.TextVectorization(\n",
        "    max_tokens=VOCAB_SIZE,\n",
        "    output_mode='int',\n",
        "    standardize='strip_punctuation',\n",
        "    output_sequence_length=OUTPUT_SESUENCE_LENGTH,\n",
        "    pad_to_max_tokens=False,\n",
        "    vocabulary=np_bag_of_words_vacabulary,# is vocabulary used for machine learning models\n",
        ")"
      ]
    },
    {
      "cell_type": "code",
      "execution_count": null,
      "metadata": {
        "colab": {
          "base_uri": "https://localhost:8080/"
        },
        "id": "D7dEYCh2_M6R",
        "outputId": "32b71fbb-d6da-47f3-ce0a-23f3192536f9"
      },
      "outputs": [
        {
          "output_type": "execute_result",
          "data": {
            "text/plain": [
              "array(['', '[UNK]', 'powerful', 'tablet', 'purchased', 'black',\n",
              "       'fridaypros', 'great', 'price', 'even'], dtype='<U51')"
            ]
          },
          "metadata": {},
          "execution_count": 86
        }
      ],
      "source": [
        "#show first 10 words from layer vacabulary\n",
        "np.array(encoder_layer_review.get_vocabulary())[:10]"
      ]
    },
    {
      "cell_type": "code",
      "execution_count": null,
      "metadata": {
        "colab": {
          "base_uri": "https://localhost:8080/"
        },
        "id": "ljYiqm3tASRR",
        "outputId": "515a9187-875a-4c64-b72e-ceec4cfc5a4a"
      },
      "outputs": [
        {
          "output_type": "execute_result",
          "data": {
            "text/plain": [
              "array([1, 8, 1, ..., 0, 0, 0])"
            ]
          },
          "metadata": {},
          "execution_count": 87
        }
      ],
      "source": [
        "#Show encoded review with the biggest number of words\n",
        "enc_review_big_nbr_words = encoder_layer_review(pd_s_feature[idx_max_nbr_wors_per_review]).numpy()\n",
        "enc_review_big_nbr_words"
      ]
    },
    {
      "cell_type": "code",
      "execution_count": null,
      "metadata": {
        "colab": {
          "base_uri": "https://localhost:8080/"
        },
        "id": "tdp1J-WKAz5_",
        "outputId": "113c7013-659b-408a-b99e-cfe7b916fd96"
      },
      "outputs": [
        {
          "output_type": "stream",
          "name": "stdout",
          "text": [
            "[UNK] price [UNK] [UNK] awesome little tablet [UNK] [UNK] [UNK] [UNK] [UNK] [UNK] [UNK] past mostly [UNK] [UNK] [UNK] line [UNK] [UNK] [UNK] [UNK] first [UNK] [UNK] [UNK] [UNK] want [UNK] write [UNK] review [UNK] others [UNK] [UNK] never tried one [UNK] [UNK] [UNK] [UNK] time [UNK] [UNK] [UNK] written [UNK] [UNK] [UNK] [UNK] added [UNK] [UNK] [UNK] [UNK] [UNK] device [UNK] [UNK] [UNK] type [UNK] operating system [UNK] [UNK] [UNK] [UNK] spin [UNK] [UNK] operating system [UNK] dont feel like [UNK] using [UNK] [UNK] [UNK] different [UNK] [UNK] [UNK] doesnt [UNK] [UNK] [UNK] level [UNK] customization [UNK] [UNK] [UNK] [UNK] come [UNK] appreciate [UNK] [UNK] said [UNK] [UNK] [UNK] [UNK] [UNK] [UNK] member [UNK] device [UNK] [UNK] tailored [UNK] [UNK] [UNK] content entertainment machine [UNK] simply [UNK] fun way [UNK] consume [UNK] [UNK] [UNK] [UNK] [UNK] 3 onscreen [UNK] [UNK] [UNK] bottom [UNK] [UNK] device [UNK] middle button immediately [UNK] [UNK] [UNK] [UNK] home screen [UNK] button [UNK] [UNK] left [UNK] [UNK] [UNK] sort [UNK] back button [UNK] also [UNK] [UNK] get rid [UNK] [UNK] keyboard [UNK] [UNK] dont need [UNK] [UNK] screen [UNK] [UNK] open [UNK] button [UNK] [UNK] right [UNK] super important [UNK] took [UNK] [UNK] couple [UNK] [UNK] [UNK] realize [UNK] [UNK] [UNK] [UNK] square shaped button [UNK] [UNK] [UNK] press [UNK] see [UNK] apps [UNK] [UNK] open [UNK] [UNK] [UNK] switch [UNK] apps [UNK] [UNK] also [UNK] [UNK] see [UNK] apps [UNK] [UNK] open [UNK] close [UNK] [UNK] [UNK] [UNK] close [UNK] [UNK] pressing [UNK] [UNK] button [UNK] [UNK] corner [UNK] [UNK] window [UNK] appears [UNK] [UNK] touching [UNK] app window [UNK] swiping [UNK] [UNK] right [UNK] [UNK] leave [UNK] [UNK] [UNK] apps open [UNK] [UNK] never close [UNK] [UNK] drain [UNK] battery [UNK] sure [UNK] use [UNK] little square button [UNK] clear [UNK] [UNK] device [UNK] several [UNK] [UNK] [UNK] swipe left [UNK] view [UNK] [UNK] start [UNK] [UNK] home screen [UNK] literally [UNK] stay [UNK] [UNK] screen [UNK] [UNK] anything [UNK] need [UNK] [UNK] [UNK] [UNK] tablet [UNK] [UNK] [UNK] apps [UNK] housed [UNK] [UNK] swipe [UNK] [UNK] view [UNK] [UNK] [UNK] [UNK] tablet [UNK] [UNK] several apps preinstalled [UNK] [UNK] [UNK] [UNK] [UNK] internet browser [UNK] [UNK] [UNK] [UNK] [UNK] app store [UNK] weather app etc [UNK] [UNK] go [UNK] [UNK] [UNK] app store [UNK] download [UNK] apps [UNK] [UNK] [UNK] [UNK] etc [UNK] [UNK] combine [UNK] apps [UNK] [UNK] page [UNK] [UNK] [UNK] [UNK] drag one app [UNK] another app [UNK] [UNK] folder appears [UNK] made [UNK] home screen much [UNK] manageable [UNK] [UNK] change [UNK] size [UNK] [UNK] font [UNK] [UNK] home screen [UNK] normal [UNK] large [UNK] small [UNK] [UNK] device [UNK] [UNK] feature doesnt necessarily increase [UNK] size [UNK] [UNK] font within [UNK] apps however [UNK] believe [UNK] [UNK] [UNK] [UNK] font [UNK] [UNK] main [UNK] [UNK] [UNK] [UNK] magazine [UNK] newspaper subscription [UNK] [UNK] connected [UNK] [UNK] device [UNK] [UNK] [UNK] [UNK] new [UNK] [UNK] [UNK] show [UNK] [UNK] [UNK] top [UNK] [UNK] home page screen [UNK] [UNK] heading [UNK] new [UNK] [UNK] device [UNK] [UNK] [UNK] free 6 month subscription [UNK] [UNK] [UNK] [UNK] [UNK] see [UNK] [UNK] new [UNK] [UNK] [UNK] initially activate [UNK] [UNK] [UNK] change [UNK] wallpaper [UNK] [UNK] screen [UNK] use one [UNK] [UNK] [UNK] [UNK] [UNK] [UNK] [UNK] [UNK] [UNK] [UNK] [UNK] menu [UNK] [UNK] device [UNK] [UNK] want [UNK] use one [UNK] [UNK] [UNK] [UNK] however [UNK] need [UNK] either take [UNK] [UNK] [UNK] device [UNK] move [UNK] [UNK] [UNK] [UNK] app [UNK] [UNK] [UNK] [UNK] [UNK] far [UNK] [UNK] found [UNK] way [UNK] effectively use [UNK] different photo management app [UNK] [UNK] let [UNK] change [UNK] wallpaper [UNK] [UNK] crazy [UNK] [UNK] [UNK] [UNK] app [UNK] found [UNK] annoying [UNK] move [UNK] [UNK] [UNK] [UNK] phone [UNK] [UNK] cloud [UNK] [UNK] [UNK] could view [UNK] [UNK] [UNK] tablet [UNK] [UNK] said [UNK] [UNK] planning [UNK] take [UNK] [UNK] [UNK] device [UNK] [UNK] wanted [UNK] [UNK] pet [UNK] [UNK] [UNK] [UNK] [UNK] ability [UNK] change [UNK] [UNK] [UNK] home screen [UNK] [UNK] swipe [UNK] [UNK] right [UNK] view [UNK] [UNK] screen [UNK] [UNK] [UNK] [UNK] [UNK] [UNK] [UNK] [UNK] shop apps music audiobooks [UNK] newstand [UNK] [UNK] [UNK] [UNK] [UNK] connected [UNK] [UNK] [UNK] account [UNK] example [UNK] [UNK] [UNK] [UNK] [UNK] [UNK] already purchased [UNK] automatically [UNK] appear [UNK] [UNK] [UNK] menu [UNK] [UNK] [UNK] newspaper [UNK] [UNK] appear [UNK] [UNK] newstand menu [UNK] doesnt seem [UNK] [UNK] [UNK] way [UNK] change [UNK] order [UNK] [UNK] menu [UNK] [UNK] [UNK] [UNK] [UNK] [UNK] [UNK] [UNK] end [UNK] [UNK] world [UNK] also one menu [UNK] [UNK] left [UNK] [UNK] home menu [UNK] [UNK] recent page [UNK] [UNK] [UNK] [UNK] [UNK] received looked [UNK] [UNK] [UNK] tablet [UNK] never use [UNK] [UNK] [UNK] might [UNK] handy [UNK] [UNK] [UNK] [UNK] [UNK] favorite [UNK] [UNK] [UNK] tablet [UNK] [UNK] [UNK] [UNK] capability [UNK] [UNK] [UNK] [UNK] [UNK] member [UNK] [UNK] periodically download [UNK] video [UNK] [UNK] device [UNK] [UNK] [UNK] [UNK] might like [UNK] [UNK] dont count [UNK] [UNK] preinstalled memory [UNK] [UNK] automatically deleted [UNK] [UNK] [UNK] memory [UNK] getting full [UNK] [UNK] turn [UNK] [UNK] [UNK] deck feature [UNK] [UNK] dont like [UNK] [UNK] [UNK] content [UNK] [UNK] video playback capability [UNK] isnt [UNK] major use [UNK] [UNK] device [UNK] [UNK] [UNK] look fine [UNK] [UNK] audio [UNK] [UNK] [UNK] talk [UNK] [UNK] [UNK] [UNK] later [UNK] [UNK] favorite feature [UNK] [UNK] tablet [UNK] viewing magazine content [UNK] [UNK] [UNK] [UNK] tried 3 [UNK] [UNK] [UNK] [UNK] [UNK] [UNK] look gorgeous [UNK] [UNK] [UNK] always [UNK] [UNK] [UNK] [UNK] [UNK] [UNK] [UNK] [UNK] stuck [UNK] [UNK] airport [UNK] [UNK] [UNK] [UNK] office [UNK] always [UNK] [UNK] [UNK] [UNK] [UNK] regular [UNK] includes [UNK] free digital version [UNK] [UNK] magazine [UNK] free [UNK] [UNK] [UNK] [UNK] connect [UNK] account [UNK] [UNK] device [UNK] allows [UNK] [UNK] download [UNK] back [UNK] [UNK] [UNK] magazine [UNK] [UNK] long [UNK] [UNK] [UNK] [UNK] account [UNK] [UNK] magazine didnt include [UNK] digital edition [UNK] [UNK] canceled [UNK] print edition [UNK] [UNK] [UNK] switched [UNK] [UNK] digital version [UNK] [UNK] [UNK] inexpensive magazine anyway [UNK] [UNK] several [UNK] [UNK] [UNK] [UNK] try free [UNK] 30 [UNK] [UNK] [UNK] device [UNK] [UNK] [UNK] [UNK] [UNK] third magazine [UNK] decided [UNK] keep [UNK] [UNK] [UNK] year [UNK] [UNK] [UNK] [UNK] gadget [UNK] [UNK] [UNK] [UNK] [UNK] doesnt come [UNK] [UNK] [UNK] [UNK] store installed [UNK] [UNK] side load [UNK] [UNK] [UNK] device without rooting [UNK] [UNK] breaking [UNK] warranty [UNK] [UNK] [UNK] [UNK] find [UNK] [UNK] [UNK] [UNK] [UNK] [UNK] [UNK] difficult [UNK] [UNK] [UNK] [UNK] fairly comfortable [UNK] technology [UNK] probably took [UNK] 10 [UNK] [UNK] [UNK] [UNK] apps [UNK] wanted [UNK] [UNK] [UNK] [UNK] store [UNK] [UNK] [UNK] [UNK] handful [UNK] [UNK] [UNK] paid [UNK] [UNK] [UNK] [UNK] [UNK] [UNK] way [UNK] could [UNK] [UNK] [UNK] [UNK] go back [UNK] access [UNK] store [UNK] [UNK] worked fine [UNK] far [UNK] despise [UNK] keyboard [UNK] [UNK] preinstalled [UNK] [UNK] device [UNK] [UNK] [UNK] [UNK] [UNK] [UNK] [UNK] [UNK] [UNK] keyboard [UNK] suppose [UNK] designed [UNK] [UNK] better [UNK] swyping [UNK] [UNK] [UNK] [UNK] hate [UNK] [UNK] fixed [UNK] problem [UNK] going [UNK] [UNK] [UNK] [UNK] downloading [UNK] new keyboard [UNK] [UNK] [UNK] pretty easy problem [UNK] solve [UNK] [UNK] cant [UNK] [UNK] [UNK] connecting [UNK] [UNK] [UNK] [UNK] [UNK] [UNK] little slow [UNK] load [UNK] [UNK] device compared [UNK] [UNK] [UNK] [UNK] [UNK] [UNK] generally doesnt bother [UNK] [UNK] [UNK] [UNK] using [UNK] tablet [UNK] replace [UNK] personal laptop however [UNK] might drive [UNK] crazy [UNK] screen [UNK] [UNK] device isnt bad [UNK] [UNK] compare [UNK] [UNK] [UNK] fancy phone [UNK] [UNK] [UNK] shape [UNK] [UNK] [UNK] think [UNK] [UNK] price [UNK] [UNK] device compared [UNK] [UNK] smartphone [UNK] screen [UNK] [UNK] [UNK] [UNK] [UNK] [UNK] [UNK] two [UNK] [UNK] located [UNK] [UNK] bottom [UNK] [UNK] screen [UNK] wont say [UNK] [UNK] [UNK] fantastic [UNK] [UNK] [UNK] [UNK] opinion [UNK] [UNK] fine [UNK] watching [UNK] [UNK] [UNK] television show [UNK] [UNK] [UNK] [UNK] [UNK] listening [UNK] music [UNK] [UNK] [UNK] [UNK] audiophile [UNK] [UNK] make [UNK] [UNK] little better [UNK] downloading [UNK] different music app instead [UNK] relying [UNK] [UNK] [UNK] app [UNK] still [UNK] music [UNK] sound tinny [UNK] [UNK] said [UNK] [UNK] always connect [UNK] tablet [UNK] [UNK] bluetooth speaker use [UNK] pair [UNK] [UNK] [UNK] device wasnt made [UNK] taking [UNK] [UNK] [UNK] [UNK] front [UNK] back camera [UNK] [UNK] [UNK] designed [UNK] [UNK] spectacular [UNK] [UNK] using [UNK] find [UNK] device [UNK] little difficult [UNK] hold [UNK] [UNK] [UNK] [UNK] think thats partly [UNK] [UNK] [UNK] size [UNK] partly [UNK] [UNK] [UNK] [UNK] slick [UNK] [UNK] [UNK] [UNK] [UNK] hand [UNK] similar [UNK] someone [UNK] [UNK] [UNK] [UNK] syndrome [UNK] think [UNK] [UNK] [UNK] easier [UNK] handle [UNK] [UNK] case arrives [UNK] still waiting [UNK] [UNK] [UNK] greatly enjoying [UNK] device [UNK] simply fun [UNK] use [UNK] tablet [UNK] [UNK] [UNK] [UNK] come [UNK] [UNK] lower price tag [UNK] [UNK] legitimately get [UNK] lot [UNK] bang [UNK] [UNK] buck particularly [UNK] [UNK] regularly use [UNK] [UNK] [UNK] [UNK] dont typically use [UNK] [UNK] [UNK] [UNK] [UNK] looking [UNK] [UNK] tablet [UNK] viewing [UNK] [UNK] [UNK] [UNK] looking [UNK] [UNK] low price tag [UNK] device may [UNK] [UNK] [UNK] [UNK]                                                                                                                                                                                                                                                                                                                                                                                                                                                                      \n"
          ]
        }
      ],
      "source": [
        "#Show decoded review with the biggest number of words\n",
        "print(\" \".join(np.array(encoder_layer_review.get_vocabulary())[enc_review_big_nbr_words]))"
      ]
    },
    {
      "cell_type": "markdown",
      "metadata": {
        "id": "tx63YAj8K07h"
      },
      "source": [
        "####Create the neural network model\n"
      ]
    },
    {
      "cell_type": "code",
      "execution_count": null,
      "metadata": {
        "id": "eKLd8E2MK7PO"
      },
      "outputs": [],
      "source": [
        "input_embeding_layer_nn = Input(shape=(2000,), dtype=np.uint32)\n",
        "x = layers.Embedding(\n",
        "                    input_dim=VOCAB_SIZE,\n",
        "                    output_dim=64,\n",
        "                    mask_zero=True,\n",
        "                    # Use masking to handle the variable sequence lengths\n",
        "                    input_length=OUTPUT_SESUENCE_LENGTH,\n",
        "                )(input_embeding_layer_nn)\n",
        "x = layers.Dense(512, activation='relu')(x)\n",
        "x = layers.BatchNormalization()(x)\n",
        "x = layers.MaxPooling1D(pool_size=2,\n",
        "   strides=2, padding='valid')(x)\n",
        "x = layers.Dense(256, activation='relu')(x)\n",
        "x = layers.BatchNormalization()(x)\n",
        "x = layers.MaxPooling1D(pool_size=2,\n",
        "   strides=2, padding='valid')(x)\n",
        "x = layers.Dense(32, activation='relu')(x)\n",
        "x = layers.BatchNormalization()(x)\n",
        "x = layers.Dense(1, activation='relu')(x)\n",
        "x = layers.Flatten()(x)\n",
        "x = layers.BatchNormalization()(x)\n",
        "x = layers.Dropout(rate=0.4)(x)\n",
        "out_layer_nn = layers.Dense(len(pd_s_target_train.unique()), activation='sigmoid')(x)"
      ]
    },
    {
      "cell_type": "code",
      "execution_count": null,
      "metadata": {
        "id": "uDqLWGT5KjeE"
      },
      "outputs": [],
      "source": [
        "#create neural network model\n",
        "embeding_model_nn = Model(input_embeding_layer_nn, out_layer_nn)"
      ]
    },
    {
      "cell_type": "markdown",
      "metadata": {
        "id": "5p-THcJGRJab"
      },
      "source": [
        "#### Compile the model\n",
        "\n",
        "We will, use the `tf.keras.optimizers.Adam` optimizer and `categorical_crossentropy` loss function."
      ]
    },
    {
      "cell_type": "code",
      "execution_count": null,
      "metadata": {
        "id": "4Mw0-sxpQ-ZD"
      },
      "outputs": [],
      "source": [
        "embeding_model_nn.compile(optimizer='adam',\n",
        "              loss='categorical_crossentropy', metrics=['accuracy'])"
      ]
    },
    {
      "cell_type": "markdown",
      "metadata": {
        "id": "6ERzjKTiRTsR"
      },
      "source": [
        "#### Model summary\n",
        "\n",
        "View all the layers of the network using the Keras `Model.summary` method:"
      ]
    },
    {
      "cell_type": "code",
      "execution_count": null,
      "metadata": {
        "colab": {
          "base_uri": "https://localhost:8080/"
        },
        "id": "1hUGzMUORXg_",
        "outputId": "040cf459-c811-4acd-8fa3-02c403539981"
      },
      "outputs": [
        {
          "output_type": "stream",
          "name": "stdout",
          "text": [
            "Model: \"model\"\n",
            "_________________________________________________________________\n",
            " Layer (type)                Output Shape              Param #   \n",
            "=================================================================\n",
            " input_1 (InputLayer)        [(None, 2000)]            0         \n",
            "                                                                 \n",
            " embedding (Embedding)       (None, 2000, 64)          316672    \n",
            "                                                                 \n",
            " dense (Dense)               (None, 2000, 512)         33280     \n",
            "                                                                 \n",
            " batch_normalization (BatchN  (None, 2000, 512)        2048      \n",
            " ormalization)                                                   \n",
            "                                                                 \n",
            " max_pooling1d (MaxPooling1D  (None, 1000, 512)        0         \n",
            " )                                                               \n",
            "                                                                 \n",
            " dense_1 (Dense)             (None, 1000, 256)         131328    \n",
            "                                                                 \n",
            " batch_normalization_1 (Batc  (None, 1000, 256)        1024      \n",
            " hNormalization)                                                 \n",
            "                                                                 \n",
            " max_pooling1d_1 (MaxPooling  (None, 500, 256)         0         \n",
            " 1D)                                                             \n",
            "                                                                 \n",
            " dense_2 (Dense)             (None, 500, 32)           8224      \n",
            "                                                                 \n",
            " batch_normalization_2 (Batc  (None, 500, 32)          128       \n",
            " hNormalization)                                                 \n",
            "                                                                 \n",
            " dense_3 (Dense)             (None, 500, 1)            33        \n",
            "                                                                 \n",
            " flatten (Flatten)           (None, 500)               0         \n",
            "                                                                 \n",
            " batch_normalization_3 (Batc  (None, 500)              2000      \n",
            " hNormalization)                                                 \n",
            "                                                                 \n",
            " dropout (Dropout)           (None, 500)               0         \n",
            "                                                                 \n",
            " dense_4 (Dense)             (None, 3)                 1503      \n",
            "                                                                 \n",
            "=================================================================\n",
            "Total params: 496,240\n",
            "Trainable params: 493,640\n",
            "Non-trainable params: 2,600\n",
            "_________________________________________________________________\n"
          ]
        }
      ],
      "source": [
        "embeding_model_nn.summary()"
      ]
    },
    {
      "cell_type": "markdown",
      "metadata": {
        "id": "5HBD6IfZSs9Z"
      },
      "source": [
        "#### Train and visualize the model results"
      ]
    },
    {
      "cell_type": "code",
      "execution_count": null,
      "metadata": {
        "id": "9hazXoKb_y-m"
      },
      "outputs": [],
      "source": [
        "#encode train data\n",
        "encode_feature_train = encoder_layer_review(pd_s_feature_train)\n",
        "#encode test data hidden\n",
        "encode_feature_test_hidden = encoder_layer_review(pd_s_target_test_hidden)"
      ]
    },
    {
      "cell_type": "code",
      "execution_count": null,
      "metadata": {
        "id": "k527wHV8AHZI"
      },
      "outputs": [],
      "source": [
        "#Oversampling is used to tackle the class imbalance problem.\n",
        "smote = SMOTE(random_state=42)\n",
        "X_sm_encode, y_sm_encode = smote.fit_resample(encode_feature_train, pd_s_target_train)\n",
        "\n",
        "#delete object\n",
        "del smote\n",
        "\n",
        "#binary encode target data\n",
        "class_samples_ = pd_s_target_train.unique()\n",
        "#binary encode target train data\n",
        "np_target_train = label_binarize(y_sm_encode, classes=class_samples_)\n",
        "#binary encode target test data hidden\n",
        "np_target_test_hidden = label_binarize(pd_s_target_test_hidden, classes=class_samples_)"
      ]
    },
    {
      "cell_type": "code",
      "execution_count": null,
      "metadata": {
        "id": "IfNEMb1-SzHK"
      },
      "outputs": [],
      "source": [
        "epochs=20\n",
        "history = embeding_model_nn.fit(\n",
        "                        x = X_sm_encode,\n",
        "                        y = np_target_train,\n",
        "                        validation_data=(encode_feature_test_hidden, np_target_test_hidden),\n",
        "                        epochs=epochs,\n",
        "                        batch_size=20,\n",
        "                        callbacks=[PlotLossesKerasTF()]\n",
        "                      )"
      ]
    },
    {
      "cell_type": "code",
      "source": [
        "#embeding_model_nn.load_weights(\"nn_model_weights.h5\", by_name=True)"
      ],
      "metadata": {
        "id": "l6_SZyPoz8j_"
      },
      "execution_count": null,
      "outputs": []
    },
    {
      "cell_type": "code",
      "execution_count": null,
      "metadata": {
        "id": "x0LzF1pfYRza"
      },
      "outputs": [],
      "source": [
        "filepath = 'nn_model_weights.h5'\n",
        "embeding_model_nn.save_weights(filepath, overwrite=True)"
      ]
    },
    {
      "cell_type": "markdown",
      "source": [
        "####Predict neural network"
      ],
      "metadata": {
        "id": "ZaA97I2pQBI0"
      }
    },
    {
      "cell_type": "code",
      "execution_count": null,
      "metadata": {
        "id": "SBMAtjBIQNu7"
      },
      "outputs": [],
      "source": [
        "input_layer_nn = Input(shape=(1,), dtype=tf.string)\n",
        "input_encoder_layer_nn = encoder_layer_review(input_layer_nn)"
      ]
    },
    {
      "cell_type": "code",
      "execution_count": null,
      "metadata": {
        "id": "puDCx8gUQHvp"
      },
      "outputs": [],
      "source": [
        "model_nn = Model(input_layer_nn, embeding_model_nn(input_encoder_layer_nn))"
      ]
    },
    {
      "cell_type": "code",
      "execution_count": null,
      "metadata": {
        "colab": {
          "base_uri": "https://localhost:8080/"
        },
        "id": "ue5evvBtqP2M",
        "outputId": "09a33e50-2dca-4a46-8528-52a61d5b8a1a"
      },
      "outputs": [
        {
          "output_type": "stream",
          "name": "stdout",
          "text": [
            "32/32 [==============================] - 13s 420ms/step\n"
          ]
        }
      ],
      "source": [
        "predict_nn = model_nn.predict(pd_s_feature_test_hidden)\n",
        "predict_nn = class_samples_[[np.argmax(i) for i in predict_nn]]\n",
        "\n",
        "#delete models\n",
        "del embeding_model_nn\n",
        "del model_nn"
      ]
    },
    {
      "cell_type": "code",
      "execution_count": null,
      "metadata": {
        "colab": {
          "base_uri": "https://localhost:8080/"
        },
        "id": "qEuuvO0-qo6P",
        "outputId": "287971a0-21d9-4bd8-8fa9-cba89987705b"
      },
      "outputs": [
        {
          "output_type": "stream",
          "name": "stdout",
          "text": [
            "              precision    recall  f1-score   support\n",
            "\n",
            "    Negative       0.00      0.00      0.00        24\n",
            "     Neutral       0.00      0.00      0.00        39\n",
            "    Positive       0.94      1.00      0.97       934\n",
            "\n",
            "    accuracy                           0.94       997\n",
            "   macro avg       0.31      0.33      0.32       997\n",
            "weighted avg       0.88      0.94      0.91       997\n",
            "\n"
          ]
        }
      ],
      "source": [
        "#Evaluation Metrics for neural network model\n",
        "print(metrics.classification_report(pd_s_target_test_hidden, predict_nn))"
      ]
    },
    {
      "cell_type": "markdown",
      "metadata": {
        "id": "GOy5ZYPHXaZP"
      },
      "source": [
        "###Ensemble techniques"
      ]
    },
    {
      "cell_type": "code",
      "execution_count": null,
      "metadata": {
        "id": "JZD50B0RXjtr"
      },
      "outputs": [],
      "source": [
        "dict_pred = {'NB': predict_NB,\n",
        "             'RF': predict_RF_best_rand_params,\n",
        "             'XGB': predict_XGB_best_rand_params,\n",
        "             'SVC_rbf': predict_SVC_rbf,\n",
        "             'SVC_poly': predict_SVC_poly,\n",
        "             'NN': predict_nn,\n",
        "             }\n",
        "pd_s_pred_mode = pd.DataFrame(dict_pred).T.mode().T[0]"
      ]
    },
    {
      "cell_type": "code",
      "execution_count": null,
      "metadata": {
        "colab": {
          "base_uri": "https://localhost:8080/"
        },
        "id": "8hi2ljaHbIy6",
        "outputId": "1c46b8bf-737c-486f-c7d9-e6bfe148a686"
      },
      "outputs": [
        {
          "name": "stdout",
          "output_type": "stream",
          "text": [
            "              precision    recall  f1-score   support\n",
            "\n",
            "    Negative       1.00      0.38      0.55        24\n",
            "     Neutral       0.92      0.31      0.46        39\n",
            "    Positive       0.96      1.00      0.98       934\n",
            "\n",
            "    accuracy                           0.96       997\n",
            "   macro avg       0.96      0.56      0.66       997\n",
            "weighted avg       0.96      0.96      0.95       997\n",
            "\n"
          ]
        }
      ],
      "source": [
        "#Evaluation Metrics mode of Naive Bayes, Random Forest, Xgboost,\n",
        "#SVM with RBF kernel, SVM with Polynomial kernel, Neural network\n",
        "print(metrics.classification_report(pd_s_target_test_hidden, pd_s_pred_mode))"
      ]
    },
    {
      "cell_type": "markdown",
      "metadata": {
        "id": "5JaiJvhuhtSp"
      },
      "source": [
        "###RNN models"
      ]
    },
    {
      "cell_type": "markdown",
      "metadata": {
        "id": "859kjLH_irT8"
      },
      "source": [
        "#####Make encoder layer"
      ]
    },
    {
      "cell_type": "code",
      "execution_count": null,
      "metadata": {
        "id": "gM4sFoAOhwl5"
      },
      "outputs": [],
      "source": [
        "#find vocabulary size\n",
        "VOCAB_SIZE_TF_TXT_VECT = 20000\n",
        "encoder = layers.TextVectorization(\n",
        "                                  max_tokens=VOCAB_SIZE_TF_TXT_VECT,\n",
        "                                  output_mode='int',\n",
        "                                  standardize='strip_punctuation',\n",
        "                                  output_sequence_length=1,\n",
        "                                  pad_to_max_tokens=False\n",
        "                                  )\n",
        "encoder.adapt(pd_s_feature.map(lambda text: text))\n",
        "VOCAB_SIZE_TF_TXT_VECT = len(encoder.get_vocabulary())+2"
      ]
    },
    {
      "cell_type": "code",
      "execution_count": null,
      "metadata": {
        "id": "sZHZBN9ziT0p"
      },
      "outputs": [],
      "source": [
        "#make encoder text vectorization layer\n",
        "enc_review_tf_txt_vect = layers.TextVectorization(\n",
        "                                  max_tokens=VOCAB_SIZE_TF_TXT_VECT,\n",
        "                                  output_mode='int',\n",
        "                                  standardize='strip_punctuation',\n",
        "                                  output_sequence_length=2000,\n",
        "                                  pad_to_max_tokens=False\n",
        "                                  )\n",
        "enc_review_tf_txt_vect.adapt(pd_s_feature.map(lambda text: text))"
      ]
    },
    {
      "cell_type": "markdown",
      "metadata": {
        "id": "83i3THEElMBx"
      },
      "source": [
        "#####Encode train and test data"
      ]
    },
    {
      "cell_type": "code",
      "execution_count": null,
      "metadata": {
        "id": "5iRh9oc0lHNn"
      },
      "outputs": [],
      "source": [
        "encode_feature_train = enc_review_tf_txt_vect(pd_s_feature_train)\n",
        "encode_feature_test_hidden = enc_review_tf_txt_vect(pd_s_target_test_hidden)"
      ]
    },
    {
      "cell_type": "markdown",
      "metadata": {
        "id": "TVQgF0o7lg7q"
      },
      "source": [
        "#####Oversample encoded with tensorflow text vectorization"
      ]
    },
    {
      "cell_type": "code",
      "execution_count": null,
      "metadata": {
        "id": "_NyJp5iplZBk"
      },
      "outputs": [],
      "source": [
        "#Oversampling is used to tackle the class imbalance problem.\n",
        "smote = SMOTE(random_state=42)\n",
        "X_sm_tf_vec, y_sm_tf_vec = smote.fit_resample(encode_feature_train, pd_s_target_train)\n",
        "\n",
        "#delete object\n",
        "del smote\n",
        "\n",
        "#One-hote encoding\n",
        "class_samples_ = pd_s_target_train.unique()\n",
        "np_target_train_rnn = label_binarize(y_sm_tf_vec, classes=class_samples_)\n",
        "np_target_test_hidden_rnn = label_binarize(pd_s_target_test_hidden, classes=class_samples_)"
      ]
    },
    {
      "cell_type": "markdown",
      "metadata": {
        "id": "oPP7TmN3Ryn8"
      },
      "source": [
        "#####Input string model rnn"
      ]
    },
    {
      "cell_type": "code",
      "execution_count": null,
      "metadata": {
        "id": "lZHqe0x_R5br"
      },
      "outputs": [],
      "source": [
        "input_layer_rnn = Input(shape=(1,), dtype=tf.string)\n",
        "input_encoder_layer_rnn = enc_review_tf_txt_vect(input_layer_rnn)"
      ]
    },
    {
      "cell_type": "markdown",
      "metadata": {
        "id": "jeFl7MiZhzFK"
      },
      "source": [
        "####Multiclass LSTM model"
      ]
    },
    {
      "cell_type": "markdown",
      "metadata": {
        "id": "FjIwCAy_i0de"
      },
      "source": [
        "#####Build LSTM model"
      ]
    },
    {
      "cell_type": "code",
      "execution_count": null,
      "metadata": {
        "id": "6yME06osipie"
      },
      "outputs": [],
      "source": [
        "input_embeding_layer_lstm = Input(shape=(2000,), dtype=np.uint32)\n",
        "x = layers.Embedding(\n",
        "                    input_dim=VOCAB_SIZE_TF_TXT_VECT,\n",
        "                    output_dim=64,\n",
        "                    mask_zero=True,\n",
        "                    # Use masking to handle the variable sequence lengths\n",
        "                    input_length=2000,\n",
        "                )(input_embeding_layer_lstm)\n",
        "x = layers.Bidirectional(layers.LSTM(64,  return_sequences=True))(x)\n",
        "x = layers.BatchNormalization()(x)\n",
        "x = layers.LSTM(32)(x)\n",
        "x = layers.Dense(128, activation='relu')(x)\n",
        "x = layers.BatchNormalization()(x)\n",
        "x = layers.Dropout(rate=0.4)(x)\n",
        "out_layer_lstm = layers.Dense(len(pd_s_target_train.unique()), activation='softmax')(x)"
      ]
    },
    {
      "cell_type": "code",
      "execution_count": null,
      "metadata": {
        "id": "vYzzczLijXG1"
      },
      "outputs": [],
      "source": [
        "#Do model with input embeding layer\n",
        "embeding_model_lstm = Model(input_embeding_layer_lstm, out_layer_lstm)"
      ]
    },
    {
      "cell_type": "markdown",
      "metadata": {
        "id": "lRAUFLkgjm_d"
      },
      "source": [
        "#####Compile model\n",
        "\n",
        "We will, use the 'tf.keras.optimizers.Adam' optimizer and 'categorical_crossentropy' loss function."
      ]
    },
    {
      "cell_type": "code",
      "execution_count": null,
      "metadata": {
        "id": "QegigocbjpJb"
      },
      "outputs": [],
      "source": [
        "embeding_model_lstm.compile(optimizer='adam',\n",
        "              loss='categorical_crossentropy', metrics=['accuracy'])"
      ]
    },
    {
      "cell_type": "markdown",
      "metadata": {
        "id": "sLNGVfmqkl3d"
      },
      "source": [
        "##### Model summary\n",
        "\n",
        "View all the layers of the network using the Keras `Model.summary` method:"
      ]
    },
    {
      "cell_type": "code",
      "execution_count": null,
      "metadata": {
        "colab": {
          "base_uri": "https://localhost:8080/"
        },
        "id": "k_FDZTlPknrB",
        "outputId": "930ed32e-7976-4e23-efa6-d1c63a8cca1e"
      },
      "outputs": [
        {
          "output_type": "stream",
          "name": "stdout",
          "text": [
            "Model: \"model_2\"\n",
            "_________________________________________________________________\n",
            " Layer (type)                Output Shape              Param #   \n",
            "=================================================================\n",
            " input_4 (InputLayer)        [(None, 2000)]            0         \n",
            "                                                                 \n",
            " embedding_1 (Embedding)     (None, 2000, 64)          499264    \n",
            "                                                                 \n",
            " bidirectional (Bidirectiona  (None, 2000, 128)        66048     \n",
            " l)                                                              \n",
            "                                                                 \n",
            " batch_normalization_4 (Batc  (None, 2000, 128)        512       \n",
            " hNormalization)                                                 \n",
            "                                                                 \n",
            " lstm_1 (LSTM)               (None, 32)                20608     \n",
            "                                                                 \n",
            " dense_5 (Dense)             (None, 128)               4224      \n",
            "                                                                 \n",
            " batch_normalization_5 (Batc  (None, 128)              512       \n",
            " hNormalization)                                                 \n",
            "                                                                 \n",
            " dropout_1 (Dropout)         (None, 128)               0         \n",
            "                                                                 \n",
            " dense_6 (Dense)             (None, 3)                 387       \n",
            "                                                                 \n",
            "=================================================================\n",
            "Total params: 591,555\n",
            "Trainable params: 591,043\n",
            "Non-trainable params: 512\n",
            "_________________________________________________________________\n"
          ]
        }
      ],
      "source": [
        "embeding_model_lstm.summary()"
      ]
    },
    {
      "cell_type": "markdown",
      "metadata": {
        "id": "mKtdzzovk58d"
      },
      "source": [
        "#####Train model"
      ]
    },
    {
      "cell_type": "code",
      "execution_count": null,
      "metadata": {
        "id": "uoY61exvk3nZ"
      },
      "outputs": [],
      "source": [
        "epochs=10\n",
        "history = embeding_model_lstm.fit(\n",
        "                        x = X_sm_tf_vec,\n",
        "                        y = np_target_train_rnn,\n",
        "                        validation_data=(encode_feature_test_hidden, np_target_test_hidden_rnn),\n",
        "                        epochs=epochs,\n",
        "                        batch_size=20,\n",
        "                        callbacks=[PlotLossesKerasTF()]\n",
        "                      )"
      ]
    },
    {
      "cell_type": "code",
      "source": [
        "#embeding_model_lstm.load_weights(\"lstm_model_weights.h5\", by_name=True)"
      ],
      "metadata": {
        "id": "p8zvSD2v4z8c"
      },
      "execution_count": null,
      "outputs": []
    },
    {
      "cell_type": "code",
      "execution_count": null,
      "metadata": {
        "id": "yFnxuzQxYfGh"
      },
      "outputs": [],
      "source": [
        "filepath = 'lstm_model_weights.h5'\n",
        "embeding_model_lstm.save_weights(filepath, overwrite=True)"
      ]
    },
    {
      "cell_type": "markdown",
      "metadata": {
        "id": "5ZJbbB3AUAa1"
      },
      "source": [
        "#####Predict"
      ]
    },
    {
      "cell_type": "code",
      "execution_count": null,
      "metadata": {
        "id": "TubBy0qvUI8R"
      },
      "outputs": [],
      "source": [
        "model_lstm = Model(input_layer_rnn, embeding_model_lstm(input_encoder_layer_rnn))"
      ]
    },
    {
      "cell_type": "code",
      "execution_count": null,
      "metadata": {
        "colab": {
          "base_uri": "https://localhost:8080/"
        },
        "id": "u5KYk7YHUTJC",
        "outputId": "962dc9bd-2337-4463-d297-b73a3a9c544b"
      },
      "outputs": [
        {
          "output_type": "stream",
          "name": "stdout",
          "text": [
            "32/32 [==============================] - 32s 857ms/step\n"
          ]
        }
      ],
      "source": [
        "predict_lstm = model_lstm.predict(pd_s_feature_test_hidden)\n",
        "predict_lstm = class_samples_[[np.argmax(i) for i in predict_lstm]]\n",
        "\n",
        "#delete models\n",
        "del embeding_model_lstm\n",
        "del model_lstm"
      ]
    },
    {
      "cell_type": "code",
      "execution_count": null,
      "metadata": {
        "colab": {
          "base_uri": "https://localhost:8080/"
        },
        "id": "Vs7sktsLUegW",
        "outputId": "a7b34893-e81a-4def-aca8-8e38a45da6ba"
      },
      "outputs": [
        {
          "output_type": "stream",
          "name": "stdout",
          "text": [
            "              precision    recall  f1-score   support\n",
            "\n",
            "    Negative       0.02      0.42      0.03        24\n",
            "     Neutral       0.00      0.00      0.00        39\n",
            "    Positive       0.93      0.41      0.57       934\n",
            "\n",
            "    accuracy                           0.40       997\n",
            "   macro avg       0.32      0.28      0.20       997\n",
            "weighted avg       0.87      0.40      0.54       997\n",
            "\n"
          ]
        }
      ],
      "source": [
        "#Evaluation Metrics for LSTM model\n",
        "print(metrics.classification_report(pd_s_target_test_hidden, predict_lstm))"
      ]
    },
    {
      "cell_type": "markdown",
      "metadata": {
        "id": "T2-LUcsNjDF9"
      },
      "source": [
        "####Multiclass GRU model"
      ]
    },
    {
      "cell_type": "markdown",
      "metadata": {
        "id": "vJ56gHTkjKKf"
      },
      "source": [
        "#####Build GRU model"
      ]
    },
    {
      "cell_type": "code",
      "execution_count": null,
      "metadata": {
        "id": "dcw6fQ7ji97c"
      },
      "outputs": [],
      "source": [
        "input_embeding_layer_gru = Input(shape=(2000,), dtype=np.uint32)\n",
        "x = layers.Embedding(\n",
        "                    input_dim=VOCAB_SIZE_TF_TXT_VECT,\n",
        "                    output_dim=64,\n",
        "                    mask_zero=True,\n",
        "                    # Use masking to handle the variable sequence lengths\n",
        "                    input_length=2000,\n",
        "                )(input_embeding_layer_gru)\n",
        "x = layers.Bidirectional(layers.GRU(128,  return_sequences=True))(x)\n",
        "x = layers.BatchNormalization()(x)\n",
        "x = layers.GRU(128)(x)\n",
        "x = layers.Dense(64, activation='relu')(x)\n",
        "x = layers.BatchNormalization()(x)\n",
        "x = layers.Dropout(rate=0.4)(x)\n",
        "out_layer_gru = layers.Dense(len(pd_s_target_train.unique()), activation='softmax')(x)"
      ]
    },
    {
      "cell_type": "code",
      "execution_count": null,
      "metadata": {
        "id": "hQocHtgMkHDY"
      },
      "outputs": [],
      "source": [
        "#Do model with input embeding layer\n",
        "embeding_model_gru = Model(input_embeding_layer_gru, out_layer_gru)"
      ]
    },
    {
      "cell_type": "markdown",
      "metadata": {
        "id": "ZskbyztqkXlY"
      },
      "source": [
        "#####Compile model\n",
        "\n",
        "We will, use the 'tf.keras.optimizers.Adam' optimizer and 'categorical_crossentropy' loss function."
      ]
    },
    {
      "cell_type": "code",
      "execution_count": null,
      "metadata": {
        "id": "To4MkJaVkVgy"
      },
      "outputs": [],
      "source": [
        "embeding_model_gru.compile(optimizer='adam',\n",
        "              loss='categorical_crossentropy', metrics=['accuracy'])"
      ]
    },
    {
      "cell_type": "markdown",
      "metadata": {
        "id": "0r7eAdV9keVQ"
      },
      "source": [
        "##### Model summary\n",
        "\n",
        "View all the layers of the network using the Keras `Model.summary` method:"
      ]
    },
    {
      "cell_type": "code",
      "execution_count": null,
      "metadata": {
        "colab": {
          "base_uri": "https://localhost:8080/"
        },
        "id": "3Yx5sDVHkqsY",
        "outputId": "0ecf84bb-3f6c-4b43-e23d-bc36d006912a"
      },
      "outputs": [
        {
          "output_type": "stream",
          "name": "stdout",
          "text": [
            "Model: \"model_6\"\n",
            "_________________________________________________________________\n",
            " Layer (type)                Output Shape              Param #   \n",
            "=================================================================\n",
            " input_6 (InputLayer)        [(None, 2000)]            0         \n",
            "                                                                 \n",
            " embedding_3 (Embedding)     (None, 2000, 64)          499264    \n",
            "                                                                 \n",
            " bidirectional_2 (Bidirectio  (None, 2000, 256)        148992    \n",
            " nal)                                                            \n",
            "                                                                 \n",
            " batch_normalization_8 (Batc  (None, 2000, 256)        1024      \n",
            " hNormalization)                                                 \n",
            "                                                                 \n",
            " gru_1 (GRU)                 (None, 128)               148224    \n",
            "                                                                 \n",
            " dense_9 (Dense)             (None, 64)                8256      \n",
            "                                                                 \n",
            " batch_normalization_9 (Batc  (None, 64)               256       \n",
            " hNormalization)                                                 \n",
            "                                                                 \n",
            " dropout_3 (Dropout)         (None, 64)                0         \n",
            "                                                                 \n",
            " dense_10 (Dense)            (None, 3)                 195       \n",
            "                                                                 \n",
            "=================================================================\n",
            "Total params: 806,211\n",
            "Trainable params: 805,571\n",
            "Non-trainable params: 640\n",
            "_________________________________________________________________\n"
          ]
        }
      ],
      "source": [
        "embeding_model_gru.summary()"
      ]
    },
    {
      "cell_type": "markdown",
      "metadata": {
        "id": "bdf0B8sLmU65"
      },
      "source": [
        "#####Train model"
      ]
    },
    {
      "cell_type": "code",
      "execution_count": null,
      "metadata": {
        "id": "SUDGDRHcmSTr"
      },
      "outputs": [],
      "source": [
        "epochs=10\n",
        "history = embeding_model_gru.fit(\n",
        "                        x = X_sm_tf_vec,\n",
        "                        y = np_target_train_rnn,\n",
        "                        validation_data=(encode_feature_test_hidden, np_target_test_hidden_rnn),\n",
        "                        epochs=epochs,\n",
        "                        batch_size=20,\n",
        "                        callbacks=[PlotLossesKerasTF()]\n",
        "                      )"
      ]
    },
    {
      "cell_type": "code",
      "execution_count": null,
      "metadata": {
        "id": "EwRl3STOb7xd"
      },
      "outputs": [],
      "source": [
        "#embeding_model_gru.load_weights(\"gru_model_weights.h5\", by_name=True)"
      ]
    },
    {
      "cell_type": "code",
      "source": [
        "filepath = 'gru_model_weights.h5'\n",
        "embeding_model_gru.save_weights(filepath, overwrite=True)"
      ],
      "metadata": {
        "id": "Kj-cJI2w5zgy"
      },
      "execution_count": null,
      "outputs": []
    },
    {
      "cell_type": "markdown",
      "metadata": {
        "id": "T4yY2dJmRWZb"
      },
      "source": [
        "#####Predict"
      ]
    },
    {
      "cell_type": "code",
      "execution_count": null,
      "metadata": {
        "id": "-jxBeOYgRdSt"
      },
      "outputs": [],
      "source": [
        "model_gru = Model(input_layer_rnn, embeding_model_gru(input_encoder_layer_rnn))"
      ]
    },
    {
      "cell_type": "code",
      "execution_count": null,
      "metadata": {
        "colab": {
          "base_uri": "https://localhost:8080/"
        },
        "id": "nzK90zPmS4NL",
        "outputId": "19deeff3-c418-4240-bcb7-caf6e3362918"
      },
      "outputs": [
        {
          "output_type": "stream",
          "name": "stdout",
          "text": [
            "32/32 [==============================] - 64s 2s/step\n"
          ]
        }
      ],
      "source": [
        "predict_gru = model_gru.predict(pd_s_feature_test_hidden)\n",
        "predict_gru = class_samples_[[np.argmax(i) for i in predict_gru]]\n",
        "\n",
        "#delete models\n",
        "del embeding_model_gru\n",
        "del model_gru"
      ]
    },
    {
      "cell_type": "code",
      "execution_count": null,
      "metadata": {
        "colab": {
          "base_uri": "https://localhost:8080/"
        },
        "id": "St_Bvva9TKGq",
        "outputId": "7b466122-eb2f-4ca6-efeb-0bf8692f86bc"
      },
      "outputs": [
        {
          "output_type": "stream",
          "name": "stdout",
          "text": [
            "              precision    recall  f1-score   support\n",
            "\n",
            "    Negative       0.00      0.00      0.00        24\n",
            "     Neutral       0.04      1.00      0.08        39\n",
            "    Positive       0.00      0.00      0.00       934\n",
            "\n",
            "    accuracy                           0.04       997\n",
            "   macro avg       0.01      0.33      0.03       997\n",
            "weighted avg       0.00      0.04      0.00       997\n",
            "\n"
          ]
        }
      ],
      "source": [
        "#Evaluation Metrics for GRU model\n",
        "print(metrics.classification_report(pd_s_target_test_hidden, predict_gru))"
      ]
    },
    {
      "cell_type": "markdown",
      "metadata": {
        "id": "I2c7CyJQfJxk"
      },
      "source": [
        "###Compare the accuracy of neural nets with traditional ML based algorithms"
      ]
    },
    {
      "cell_type": "markdown",
      "metadata": {
        "id": "EPDoAfhjglGb"
      },
      "source": [
        "####Machine learning evaluation"
      ]
    },
    {
      "cell_type": "code",
      "execution_count": null,
      "metadata": {
        "id": "G93Utp0jf7K7"
      },
      "outputs": [],
      "source": [
        "#Evaluation Metrics Naive Bayes Clasifier\n",
        "print(metrics.classification_report(pd_s_target_test_hidden, predict_NB))"
      ]
    },
    {
      "cell_type": "code",
      "execution_count": null,
      "metadata": {
        "id": "TUeZ2uhDfLxv"
      },
      "outputs": [],
      "source": [
        "#Evaluation Metrics Random Forest Clasifier\n",
        "print(metrics.classification_report(pd_s_target_test_hidden, predict_RF_best_rand_params))"
      ]
    },
    {
      "cell_type": "code",
      "execution_count": null,
      "metadata": {
        "id": "0fPevi9lgJwk"
      },
      "outputs": [],
      "source": [
        "#Evaluation Metrics eXtreme Gradient Boosting\n",
        "print(metrics.classification_report(pd_s_target_test_hidden, predict_XGB_best_rand_params))"
      ]
    },
    {
      "cell_type": "code",
      "execution_count": null,
      "metadata": {
        "id": "Re65VV24gbwV"
      },
      "outputs": [],
      "source": [
        "#Evaluation Metrics for SVM with RBF kernel model\n",
        "print(metrics.classification_report(pd_s_target_test_hidden, predict_SVC_rbf))"
      ]
    },
    {
      "cell_type": "code",
      "execution_count": null,
      "metadata": {
        "id": "FYJOWQ89geXi"
      },
      "outputs": [],
      "source": [
        "#Evaluation Metrics for SVM with Polynomial kernel model\n",
        "print(metrics.classification_report(pd_s_target_test_hidden, predict_SVC_poly))"
      ]
    },
    {
      "cell_type": "markdown",
      "metadata": {
        "id": "H-p94o7ZgtBD"
      },
      "source": [
        "####Neuronal network evaluation"
      ]
    },
    {
      "cell_type": "code",
      "execution_count": null,
      "metadata": {
        "colab": {
          "base_uri": "https://localhost:8080/"
        },
        "id": "DC5FHFEYg8qh",
        "outputId": "0a7131d9-6540-4b59-eb50-9c8d4dbeddd8"
      },
      "outputs": [
        {
          "output_type": "stream",
          "name": "stdout",
          "text": [
            "              precision    recall  f1-score   support\n",
            "\n",
            "    Negative       0.00      0.00      0.00        24\n",
            "     Neutral       0.00      0.00      0.00        39\n",
            "    Positive       0.94      1.00      0.97       934\n",
            "\n",
            "    accuracy                           0.94       997\n",
            "   macro avg       0.31      0.33      0.32       997\n",
            "weighted avg       0.88      0.94      0.91       997\n",
            "\n"
          ]
        }
      ],
      "source": [
        "#Evaluation Metrics for neural network model\n",
        "print(metrics.classification_report(pd_s_target_test_hidden, predict_nn))"
      ]
    },
    {
      "cell_type": "code",
      "execution_count": null,
      "metadata": {
        "colab": {
          "base_uri": "https://localhost:8080/"
        },
        "id": "DeNPbXNWg9Zd",
        "outputId": "3d707ca6-2e0f-46ee-f640-897aa2f6bc47"
      },
      "outputs": [
        {
          "output_type": "stream",
          "name": "stdout",
          "text": [
            "              precision    recall  f1-score   support\n",
            "\n",
            "    Negative       0.02      0.42      0.03        24\n",
            "     Neutral       0.00      0.00      0.00        39\n",
            "    Positive       0.93      0.41      0.57       934\n",
            "\n",
            "    accuracy                           0.40       997\n",
            "   macro avg       0.32      0.28      0.20       997\n",
            "weighted avg       0.87      0.40      0.54       997\n",
            "\n"
          ]
        }
      ],
      "source": [
        "#Evaluation Metrics for LSTM model\n",
        "print(metrics.classification_report(pd_s_target_test_hidden, predict_lstm))"
      ]
    },
    {
      "cell_type": "code",
      "execution_count": null,
      "metadata": {
        "colab": {
          "base_uri": "https://localhost:8080/"
        },
        "id": "_WR7xVx8hJ7Z",
        "outputId": "24fb12c9-186c-41ac-c102-e984113c4114"
      },
      "outputs": [
        {
          "output_type": "stream",
          "name": "stdout",
          "text": [
            "              precision    recall  f1-score   support\n",
            "\n",
            "    Negative       0.00      0.00      0.00        24\n",
            "     Neutral       0.04      1.00      0.08        39\n",
            "    Positive       0.00      0.00      0.00       934\n",
            "\n",
            "    accuracy                           0.04       997\n",
            "   macro avg       0.01      0.33      0.03       997\n",
            "weighted avg       0.00      0.04      0.00       997\n",
            "\n"
          ]
        }
      ],
      "source": [
        "#Evaluation Metrics for GRU model\n",
        "print(metrics.classification_report(pd_s_target_test_hidden, predict_gru))"
      ]
    },
    {
      "cell_type": "markdown",
      "metadata": {
        "id": "2INtDKNLhL9L"
      },
      "source": [
        "####Conclusion"
      ]
    },
    {
      "cell_type": "markdown",
      "metadata": {
        "id": "30qEHpxxhl0O"
      },
      "source": [
        "The result prediction of machine learning techniques are more bigger that neuronal network solution."
      ]
    },
    {
      "cell_type": "markdown",
      "metadata": {
        "id": "SU3KgjxWh8bn"
      },
      "source": [
        "###Fine tuning of hyperparameter of deep learning"
      ]
    },
    {
      "cell_type": "markdown",
      "metadata": {
        "id": "1hqm_Bhii0Cy"
      },
      "source": [
        "#####Build the model"
      ]
    },
    {
      "cell_type": "code",
      "execution_count": null,
      "metadata": {
        "id": "6YKRx4ZDiI5B"
      },
      "outputs": [],
      "source": [
        "def create_model(neurons_bid_gru, neurons_dense, nbr_out_net, optimizer='adam', activation='relu'):\n",
        "  input_embeding_layer_gru = Input(shape=(2000,), dtype=np.uint32)\n",
        "  x = layers.Embedding(\n",
        "                      input_dim=VOCAB_SIZE_TF_TXT_VECT,\n",
        "                      output_dim=64,\n",
        "                      mask_zero=True,\n",
        "                      # Use masking to handle the variable sequence lengths\n",
        "                      input_length=2000,\n",
        "                      )(input_embeding_layer_gru)\n",
        "  x = layers.Bidirectional(layers.GRU(neurons_bid_gru,  return_sequences=True))(x)\n",
        "  x = layers.BatchNormalization()(x)\n",
        "  x = tf.keras.layers.GRU(32)(x)\n",
        "  x = layers.Dense(neurons_dense, activation='relu')(x)\n",
        "  x = layers.BatchNormalization()(x)\n",
        "  x = layers.Dropout(rate=0.4)(x)\n",
        "  out_layer_gru = layers.Dense(nbr_out_net, activation=activation)(x)\n",
        "\n",
        "  #create neural network model\n",
        "  embeding_model_gru = Model(input_embeding_layer_gru, out_layer_gru)\n",
        "\n",
        "  # Compile model\n",
        "  embeding_model_gru.compile(loss='categorical_crossentropy',\n",
        "                              optimizer=optimizer, metrics=['accuracy'])\n",
        "  return embeding_model_gru"
      ]
    },
    {
      "cell_type": "markdown",
      "metadata": {
        "id": "xW5RJ78NjfOd"
      },
      "source": [
        "#####Define the grid search parameters"
      ]
    },
    {
      "cell_type": "code",
      "execution_count": null,
      "metadata": {
        "id": "rGQcmeSLi8fp"
      },
      "outputs": [],
      "source": [
        "# define the grid search parameters\n",
        "batch_size = [10, 40, 80]\n",
        "optimizer = ['SGD', 'Adam']\n",
        "learn_rate = [0.01, 0.3]\n",
        "momentum = [0.0, 0.4, 0.8]\n",
        "neurons_bid_gru = [32, 64]\n",
        "neurons_dense = [64, 128]\n",
        "activation = ['softmax', 'sigmoid']\n",
        "nbr_out_net = [int(len(pd_s_target_train.unique()))]\n",
        "\n",
        "param_grid = dict(\n",
        "                  batch_size=batch_size,\n",
        "                  optimizer__learning_rate=learn_rate,\n",
        "                  optimizer__momentum=momentum,\n",
        "                  model__activation=activation,\n",
        "                  model__optimizer=optimizer,\n",
        "                  model__neurons_bid_gru=neurons_bid_gru,\n",
        "                  model__neurons_dense=neurons_dense,\n",
        "                  model__nbr_out_net=nbr_out_net,\n",
        "                  )"
      ]
    },
    {
      "cell_type": "markdown",
      "metadata": {
        "id": "_Yt-7CS-jl6j"
      },
      "source": [
        "#####Train the models"
      ]
    },
    {
      "cell_type": "code",
      "execution_count": null,
      "metadata": {
        "id": "Fcd46GeejDcj",
        "colab": {
          "base_uri": "https://localhost:8080/"
        },
        "outputId": "4b0ecc93-1783-4584-c2a1-e73969bb3d8d"
      },
      "outputs": [
        {
          "output_type": "stream",
          "name": "stdout",
          "text": [
            "Fitting 3 folds for each of 2 candidates, totalling 6 fits\n",
            "281/281 [==============================] - 1227s 4s/step - loss: 0.9870 - accuracy: 0.5308\n"
          ]
        }
      ],
      "source": [
        "# create model\n",
        "model_GRU = KerasClassifier(model=create_model, epochs=1)\n",
        "# define the grid search parameters\n",
        "\n",
        "gru_hyper_tune_random = RandomizedSearchCV(estimator = model_GRU, param_distributions = param_grid,\n",
        "                                 n_iter = 2, cv = 3, verbose=2, random_state=42, n_jobs = -1)\n",
        "pred_gru_hyper_tune_random = gru_hyper_tune_random.fit(X_sm_tf_vec, np_target_train_rnn)"
      ]
    },
    {
      "cell_type": "code",
      "execution_count": null,
      "metadata": {
        "id": "riZSemqHjGgR",
        "colab": {
          "base_uri": "https://localhost:8080/"
        },
        "outputId": "33efa65d-ca22-4d27-ac9f-a6fd8d128fcd"
      },
      "outputs": [
        {
          "output_type": "execute_result",
          "data": {
            "text/plain": [
              "{'optimizer__momentum': 0.0,\n",
              " 'optimizer__learning_rate': 0.01,\n",
              " 'model__optimizer': 'Adam',\n",
              " 'model__neurons_dense': 64,\n",
              " 'model__neurons_bid_gru': 32,\n",
              " 'model__nbr_out_net': 3,\n",
              " 'model__activation': 'softmax',\n",
              " 'batch_size': 40}"
            ]
          },
          "metadata": {},
          "execution_count": 142
        }
      ],
      "source": [
        "#show best pamameters\n",
        "pred_gru_hyper_tune_random.best_params_"
      ]
    },
    {
      "cell_type": "markdown",
      "metadata": {
        "id": "53x8P6iyjqi9"
      },
      "source": [
        "#####Prediction of best model"
      ]
    },
    {
      "cell_type": "code",
      "execution_count": null,
      "metadata": {
        "id": "qIwif-F7jJv5",
        "colab": {
          "base_uri": "https://localhost:8080/"
        },
        "outputId": "7ee47e38-2e28-4a16-cd1e-d153f1ea81f2"
      },
      "outputs": [
        {
          "output_type": "stream",
          "name": "stdout",
          "text": [
            "25/25 [==============================] - 24s 723ms/step\n"
          ]
        }
      ],
      "source": [
        "#predict sentiment with best random paramenters\n",
        "predict_GRU_best_rand_params = pred_gru_hyper_tune_random.best_estimator_.predict(encode_feature_test_hidden)\n",
        "predict_GRU_best_rand_params = class_samples_[[np.argmax(i) for i in predict_GRU_best_rand_params]]"
      ]
    },
    {
      "cell_type": "code",
      "execution_count": null,
      "metadata": {
        "id": "PCPCi8YojNJX",
        "colab": {
          "base_uri": "https://localhost:8080/"
        },
        "outputId": "6369c71c-d297-4f1f-c889-05cdc27ad214"
      },
      "outputs": [
        {
          "output_type": "stream",
          "name": "stdout",
          "text": [
            "              precision    recall  f1-score   support\n",
            "\n",
            "    Negative       0.02      1.00      0.05        24\n",
            "     Neutral       0.00      0.00      0.00        39\n",
            "    Positive       0.00      0.00      0.00       934\n",
            "\n",
            "    accuracy                           0.02       997\n",
            "   macro avg       0.01      0.33      0.02       997\n",
            "weighted avg       0.00      0.02      0.00       997\n",
            "\n"
          ]
        }
      ],
      "source": [
        "#Evaluation Metrics\n",
        "print(metrics.classification_report(pd_s_target_test_hidden, predict_GRU_best_rand_params))"
      ]
    },
    {
      "cell_type": "markdown",
      "source": [
        "###Perform Topic Modeling"
      ],
      "metadata": {
        "id": "1uj0NLtogmbl"
      }
    },
    {
      "cell_type": "code",
      "source": [
        "n_components = 100"
      ],
      "metadata": {
        "id": "9VlYG1Hg7-b1"
      },
      "execution_count": null,
      "outputs": []
    },
    {
      "cell_type": "markdown",
      "source": [
        "#####TFIDF transform"
      ],
      "metadata": {
        "id": "kchuTauV7igQ"
      }
    },
    {
      "cell_type": "code",
      "source": [
        "# apply transform method for the bag of words of all data\n",
        "all_data_bag_of_words = obj_bag_of_words.transform(pd_s_feature)\n",
        "# apply tfidf transformer for all bag of words into it (transformed version)\n",
        "all_data_tfidf = obj_tfidf.transform(all_data_bag_of_words)\n",
        "\n",
        "# apply transform method for the bag of words of train data\n",
        "train_bag_of_words = obj_bag_of_words.transform(pd_s_feature_train)\n",
        "# apply tfidf transformer for train bag of words into it (transformed version)\n",
        "train_tfidf = obj_tfidf.transform(train_bag_of_words)\n",
        "\n",
        "# apply transform method for the bag of words of test data hidden\n",
        "test_hidden_bag_of_words = obj_bag_of_words.transform(pd_s_feature_test_hidden)\n",
        "# apply tfidf transformer for train bag of words into it (transformed version)\n",
        "test_hidden_tfidf = obj_tfidf.transform(test_hidden_bag_of_words)"
      ],
      "metadata": {
        "id": "ZqHhsjSbWA60"
      },
      "execution_count": null,
      "outputs": []
    },
    {
      "cell_type": "markdown",
      "source": [
        "#####Build neuronal network"
      ],
      "metadata": {
        "id": "SFByPpIG7u-h"
      }
    },
    {
      "cell_type": "code",
      "source": [
        "input_nn_TM = Input(shape=(n_components,), dtype=np.float32)\n",
        "x = layers.Dense(182, activation='relu')(input_nn_TM)\n",
        "x = layers.BatchNormalization()(x)\n",
        "x = layers.Dense(128, activation='relu')(x)\n",
        "x = layers.Dropout(rate=0.5)(x)\n",
        "x = layers.BatchNormalization()(x)\n",
        "x = layers.Dense(64, activation='relu')(x)\n",
        "x = layers.Dropout(rate=0.3)(x)\n",
        "x = layers.BatchNormalization()(x)\n",
        "x = layers.Dense(16, activation='relu')(x)\n",
        "x = layers.Dropout(rate=0.5)(x)\n",
        "x = layers.Dense(8, activation='relu')(x)\n",
        "x = layers.BatchNormalization()(x)\n",
        "x = layers.Dropout(rate=0.6)(x)\n",
        "out_nn_TM = layers.Dense(len(pd_s_target_train.unique()), activation='sigmoid')(x)"
      ],
      "metadata": {
        "id": "OKWC8dLcXH8V"
      },
      "execution_count": null,
      "outputs": []
    },
    {
      "cell_type": "markdown",
      "source": [
        "####Latent Dirchlette Allocation"
      ],
      "metadata": {
        "id": "ESmRNKy4gzwp"
      }
    },
    {
      "cell_type": "code",
      "source": [
        "from sklearn.decomposition import LatentDirichletAllocation"
      ],
      "metadata": {
        "id": "2ilBjnpvhuv2"
      },
      "execution_count": null,
      "outputs": []
    },
    {
      "cell_type": "markdown",
      "source": [
        "#####LDA transform"
      ],
      "metadata": {
        "id": "sXeDgh23zL4u"
      }
    },
    {
      "cell_type": "code",
      "source": [
        "# This produces a feature matrix of token counts, similar to what\n",
        "# CountVectorizer would produce on text.\n",
        "lda = LatentDirichletAllocation(n_components=n_components, random_state=0)\n",
        "lda.fit(all_data_tfidf)"
      ],
      "metadata": {
        "id": "ltoyyXZLhldx",
        "colab": {
          "base_uri": "https://localhost:8080/"
        },
        "outputId": "453e68b6-b6ac-4258-977d-39f3c6179dc8"
      },
      "execution_count": null,
      "outputs": [
        {
          "output_type": "execute_result",
          "data": {
            "text/plain": [
              "LatentDirichletAllocation(n_components=80, random_state=0)"
            ]
          },
          "metadata": {},
          "execution_count": 366
        }
      ]
    },
    {
      "cell_type": "code",
      "source": [
        "# get topics for train data\n",
        "X_train_lda = lda.transform(train_tfidf)\n",
        "# get topics for test hidden\n",
        "X_test_hidden_lda = lda.transform(test_hidden_tfidf)\n",
        "\n",
        "#Oversampling is used to tackle the class imbalance problem.\n",
        "smote = SMOTE(random_state=42)\n",
        "X_train_sm_lda, y_train_sm = smote.fit_resample(X_train_lda, pd_s_target_train)\n",
        "del smote"
      ],
      "metadata": {
        "id": "9p6g_vRmnIaM"
      },
      "execution_count": null,
      "outputs": []
    },
    {
      "cell_type": "code",
      "source": [
        "class_samples_ = pd_s_target_train.unique()\n",
        "y_train_sm_one_hot = label_binarize(y_train_sm, classes=class_samples_)\n",
        "y_test_hidden_one_hot = label_binarize(pd_s_target_test_hidden, classes=class_samples_)"
      ],
      "metadata": {
        "id": "9Bk7Esb0dg4J"
      },
      "execution_count": null,
      "outputs": []
    },
    {
      "cell_type": "markdown",
      "source": [
        "#####Build neural network model"
      ],
      "metadata": {
        "id": "z7xNhdPHyALM"
      }
    },
    {
      "cell_type": "code",
      "source": [
        "model_nn_lda_TM = Model(input_nn_TM, out_nn_TM)"
      ],
      "metadata": {
        "id": "QaMZShNhcH1S"
      },
      "execution_count": null,
      "outputs": []
    },
    {
      "cell_type": "code",
      "source": [
        "model_nn_lda_TM.compile(optimizer='adam',\n",
        "              loss='categorical_crossentropy', metrics=['accuracy'])"
      ],
      "metadata": {
        "id": "UWH6LmQ0cyPp"
      },
      "execution_count": null,
      "outputs": []
    },
    {
      "cell_type": "markdown",
      "source": [
        "#####Train"
      ],
      "metadata": {
        "id": "32u0knETx4Xh"
      }
    },
    {
      "cell_type": "code",
      "source": [
        "epochs=60\n",
        "history = model_nn_lda_TM.fit(\n",
        "                        x = X_train_sm_lda,\n",
        "                        y = y_train_sm_one_hot,\n",
        "                        validation_data=(X_test_hidden_lda, y_test_hidden_one_hot),\n",
        "                        epochs=epochs,\n",
        "                        batch_size=40,\n",
        "                        callbacks=[PlotLossesKerasTF()]\n",
        "                      )"
      ],
      "metadata": {
        "colab": {
          "base_uri": "https://localhost:8080/",
          "height": 727
        },
        "id": "AK_Nbt2hc840",
        "outputId": "b6e795d7-d7bd-45ec-ef00-71802b44de5a"
      },
      "execution_count": null,
      "outputs": [
        {
          "output_type": "display_data",
          "data": {
            "text/plain": [
              "<Figure size 864x576 with 2 Axes>"
            ],
            "image/png": "[encoded data removed]"
          },
          "metadata": {
            "needs_background": "light"
          }
        },
        {
          "output_type": "stream",
          "name": "stdout",
          "text": [
            "accuracy\n",
            "\ttraining         \t (min:    0.391, max:    0.893, cur:    0.891)\n",
            "\tvalidation       \t (min:    0.045, max:    0.856, cur:    0.847)\n",
            "Loss\n",
            "\ttraining         \t (min:    0.277, max:    1.330, cur:    0.284)\n",
            "\tvalidation       \t (min:    0.462, max:    0.981, cur:    0.542)\n",
            "\b\b\b\b\b\b\b\b\b\b\b\b\b\b\b\b\b\b\b\b\b\b\b\b\b\b\b\b\b\b\b\b\b\b\b\b\b\b\b\b\b\b\b\b\b\b\b\b\b\b\b\b\b\b\b\b\b\b\b\b\b\b\b\b\b\b\b\b\b\b\b\b\b\b\b\b\b\b\b\b\b\b\b\b\r281/281 [==============================] - 2s 7ms/step - loss: 0.2836 - accuracy: 0.8907 - val_loss: 0.5421 - val_accuracy: 0.8465\n"
          ]
        }
      ]
    },
    {
      "cell_type": "markdown",
      "source": [
        "#####Prediction"
      ],
      "metadata": {
        "id": "LKLfl3Hex1Y0"
      }
    },
    {
      "cell_type": "code",
      "source": [
        "#predict sentiment with LDA decomposition\n",
        "predict_nn_lda_TM = model_nn_lda_TM.predict(X_test_hidden_lda)\n",
        "predict_nn_lda_TM = class_samples_[[np.argmax(i) for i in predict_nn_lda_TM]]\n",
        "\n",
        "#delete model\n",
        "del model_nn_lda_TM"
      ],
      "metadata": {
        "id": "VOBZfQUjglcv"
      },
      "execution_count": null,
      "outputs": []
    },
    {
      "cell_type": "code",
      "source": [
        "#Evaluation Metrics for LDA decomposition\n",
        "print(metrics.classification_report(pd_s_target_test_hidden, predict_nn_lda_TM))"
      ],
      "metadata": {
        "colab": {
          "base_uri": "https://localhost:8080/"
        },
        "id": "BLOx6k1Ug5V5",
        "outputId": "816aebed-a15d-4c70-a72a-df760dc146cb"
      },
      "execution_count": null,
      "outputs": [
        {
          "output_type": "stream",
          "name": "stdout",
          "text": [
            "              precision    recall  f1-score   support\n",
            "\n",
            "    Negative       0.12      0.29      0.17        24\n",
            "     Neutral       0.10      0.15      0.12        39\n",
            "    Positive       0.95      0.89      0.92       934\n",
            "\n",
            "    accuracy                           0.85       997\n",
            "   macro avg       0.39      0.45      0.40       997\n",
            "weighted avg       0.89      0.85      0.87       997\n",
            "\n"
          ]
        }
      ]
    },
    {
      "cell_type": "markdown",
      "source": [
        "####Non-Negative Matrix Factorization"
      ],
      "metadata": {
        "id": "RVhrb40GHv7u"
      }
    },
    {
      "cell_type": "code",
      "source": [
        "from sklearn.decomposition import NMF"
      ],
      "metadata": {
        "id": "lKUTZDfnxfYI"
      },
      "execution_count": null,
      "outputs": []
    },
    {
      "cell_type": "markdown",
      "source": [
        "#####NMF Transform"
      ],
      "metadata": {
        "id": "ilzFuISn8OHf"
      }
    },
    {
      "cell_type": "code",
      "source": [
        "model_nmf = NMF(n_components=n_components, init='random', random_state=0)\n",
        "model_nmf.fit(all_data_tfidf)"
      ],
      "metadata": {
        "colab": {
          "base_uri": "https://localhost:8080/"
        },
        "id": "oWNRLfD6Hxsk",
        "outputId": "6867253e-e810-4404-fa24-0b3aa9d72616"
      },
      "execution_count": null,
      "outputs": [
        {
          "output_type": "execute_result",
          "data": {
            "text/plain": [
              "NMF(init='random', n_components=100, random_state=0)"
            ]
          },
          "metadata": {},
          "execution_count": 392
        }
      ]
    },
    {
      "cell_type": "code",
      "source": [
        "# get topics for train data\n",
        "X_train_nmf = model_nmf.transform(train_tfidf)\n",
        "# get topics for test hidden\n",
        "X_test_hidden_nmf = model_nmf.transform(test_hidden_tfidf)\n",
        "\n",
        "#Oversampling is used to tackle the class imbalance problem.\n",
        "smote = SMOTE(random_state=42)\n",
        "X_train_sm_nmf, y_train_sm = smote.fit_resample(X_train_nmf, pd_s_target_train)\n",
        "del smote"
      ],
      "metadata": {
        "id": "Lh7Dat8ty2Y3"
      },
      "execution_count": null,
      "outputs": []
    },
    {
      "cell_type": "code",
      "source": [
        "class_samples_ = pd_s_target_train.unique()\n",
        "y_train_sm_one_hot = label_binarize(y_train_sm, classes=class_samples_)\n",
        "y_test_hidden_one_hot = label_binarize(pd_s_target_test_hidden, classes=class_samples_)"
      ],
      "metadata": {
        "id": "cAlfEOU3zCN7"
      },
      "execution_count": null,
      "outputs": []
    },
    {
      "cell_type": "markdown",
      "source": [
        "#####Build nn model"
      ],
      "metadata": {
        "id": "NGuuVcLn8Yz0"
      }
    },
    {
      "cell_type": "code",
      "source": [
        "model_nn_nmf_TM = Model(input_nn_TM, out_nn_TM)"
      ],
      "metadata": {
        "id": "klik85dl39If"
      },
      "execution_count": null,
      "outputs": []
    },
    {
      "cell_type": "code",
      "source": [
        "model_nn_nmf_TM.compile(optimizer='adam',\n",
        "              loss='categorical_crossentropy', metrics=['accuracy'])"
      ],
      "metadata": {
        "id": "7R74sAxv4DjP"
      },
      "execution_count": null,
      "outputs": []
    },
    {
      "cell_type": "markdown",
      "source": [
        "#####Train model"
      ],
      "metadata": {
        "id": "AFcznqum8gHD"
      }
    },
    {
      "cell_type": "code",
      "source": [
        "epochs=90\n",
        "history = model_nn_nmf_TM.fit(\n",
        "                        x = X_train_sm_nmf,\n",
        "                        y = y_train_sm_one_hot,\n",
        "                        validation_data=(X_test_hidden_nmf, y_test_hidden_one_hot),\n",
        "                        epochs=epochs,\n",
        "                        batch_size=40,\n",
        "                        callbacks=[PlotLossesKerasTF()]\n",
        "                      )"
      ],
      "metadata": {
        "colab": {
          "base_uri": "https://localhost:8080/"
        },
        "id": "4NOL-Vue4NxU",
        "outputId": "19f520e3-b090-4586-d569-1a50beb27b30"
      },
      "execution_count": null,
      "outputs": [
        {
          "output_type": "display_data",
          "data": {
            "text/plain": [
              "<Figure size 864x576 with 2 Axes>"
            ],
            "image/png": "[encoded data removed]"
          },
          "metadata": {
            "needs_background": "light"
          }
        },
        {
          "output_type": "stream",
          "name": "stdout",
          "text": [
            "accuracy\n",
            "\ttraining         \t (min:    0.399, max:    0.946, cur:    0.942)\n",
            "\tvalidation       \t (min:    0.091, max:    0.948, cur:    0.938)\n",
            "Loss\n",
            "\ttraining         \t (min:    0.128, max:    1.291, cur:    0.146)\n",
            "\tvalidation       \t (min:    0.322, max:    1.016, cur:    0.651)\n",
            "\b\b\b\b\b\b\b\b\b\b\b\b\b\b\b\b\b\b\b\b\b\b\b\b\b\b\b\b\b\b\b\b\b\b\b\b\b\b\b\b\b\b\b\b\b\b\b\b\b\b\b\b\b\b\b\b\b\b\b\b\b\b\b\b\b\b\b\b\b\b\b\b\b\b\b\b\b\b\b\b\b\b\b\b\r281/281 [==============================] - 2s 6ms/step - loss: 0.1463 - accuracy: 0.9420 - val_loss: 0.6506 - val_accuracy: 0.9378\n"
          ]
        }
      ]
    },
    {
      "cell_type": "markdown",
      "source": [
        "#####Predict"
      ],
      "metadata": {
        "id": "_oI2Ee0p8kjZ"
      }
    },
    {
      "cell_type": "code",
      "source": [
        "#predict sentiment with NMF decomposition\n",
        "predict_nn_nmf_TM = model_nn_nmf_TM.predict(X_test_hidden_nmf)\n",
        "predict_nn_nmf_TM = class_samples_[[np.argmax(i) for i in predict_nn_nmf_TM]]\n",
        "\n",
        "#delete model\n",
        "#del model_nn_nmf_TM"
      ],
      "metadata": {
        "colab": {
          "base_uri": "https://localhost:8080/"
        },
        "id": "cTNhz38p5l-n",
        "outputId": "5fd83652-f039-429f-c43e-b2358a9b93d0"
      },
      "execution_count": null,
      "outputs": [
        {
          "output_type": "stream",
          "name": "stdout",
          "text": [
            "32/32 [==============================] - 0s 2ms/step\n"
          ]
        }
      ]
    },
    {
      "cell_type": "code",
      "source": [
        "#Evaluation Metrics for NMF decomposition\n",
        "print(metrics.classification_report(pd_s_target_test_hidden, predict_nn_nmf_TM))"
      ],
      "metadata": {
        "colab": {
          "base_uri": "https://localhost:8080/"
        },
        "id": "5CSC9n6u519l",
        "outputId": "f3f026a9-45b4-4b7e-fb53-7176d63253a8"
      },
      "execution_count": null,
      "outputs": [
        {
          "output_type": "stream",
          "name": "stdout",
          "text": [
            "              precision    recall  f1-score   support\n",
            "\n",
            "    Negative       0.42      0.42      0.42        24\n",
            "     Neutral       0.48      0.41      0.44        39\n",
            "    Positive       0.97      0.97      0.97       934\n",
            "\n",
            "    accuracy                           0.94       997\n",
            "   macro avg       0.62      0.60      0.61       997\n",
            "weighted avg       0.93      0.94      0.94       997\n",
            "\n"
          ]
        }
      ]
    },
    {
      "cell_type": "markdown",
      "source": [
        "#Conclusion"
      ],
      "metadata": {
        "id": "EyQ3FvLp9KeZ"
      }
    },
    {
      "cell_type": "markdown",
      "source": [
        "Working on this project:\n",
        "\n",
        "- Perform an EDA on the dataset\n",
        "- Convert the reviews in Tf-Idf score\n",
        "- Text procesing (drop stopwords, drop punctuation and lemmatization)\n",
        "- Implement several ML algorithms(Naive Bayes, Random Forest, Xgboost and SVM’s)\n",
        "- Tackle the class of imbalance problem with SMOTE\n",
        "- Use the following metrices for evaluating model performance: precision, recall, F1-score, AUC-ROC curve\n",
        "- Use fine-tuning parameter for ML algoritm like RandomizedSearchCV\n",
        "- Use ensemble techniques like: XGboost + NB + RF + SVM.\n",
        "- Use LSTM, GRU and NN deep learning model\n",
        "- Use fine-tuning parameter for DL models like RandomizedSearchCV\n",
        "- Provided Latent Dirchlette Allocation (LDA) and Non-Negative Matrix Factorization (NMF)\n",
        "\n",
        "\n",
        "I have come to the conclusion that some ML algorithms offer much better results to predict unbalanced data, but if we use some decomposition algorithms like LDA and NMF, for NN learning algorithms we can obtain results comparable to ML models. We can use fine-tuning parameter to find best parameter for best prediction."
      ],
      "metadata": {
        "id": "9aeBzZyn9NXB"
      }
    }
  ],
  "metadata": {
    "colab": {
      "collapsed_sections": [
        "6rcqJtC5huvt",
        "doa2gSCNhi-x",
        "JnNz6asOgw6z",
        "G5gjMyJfjNxp",
        "oZCB-u8kgrgs",
        "QPN71Sjvi2-Z",
        "IEAJ_O_ljCKy",
        "7mL90LlCjury",
        "7n72fYju5J69",
        "PrRbXzIbo1Jm",
        "N8L4dbZO9q5y",
        "tPssdNWOSzpq",
        "sv_C1O9icS0x",
        "4iyU4qVqAcCA",
        "b4aYt-h_dNhu",
        "c2wxc1e1D5wm",
        "EfYOTE8iEbwQ",
        "GGFdL5KeWmAu",
        "1KKcEoDiYY4C",
        "58dpf__FezPh",
        "8bHZHPXMY-is",
        "K37edybA02pF",
        "ug5iXO4n13Cj",
        "Px4_YSMpDohQ",
        "NIvLeIWZacnk",
        "Nc18SL0meO0H",
        "UdjV3stddnt_",
        "qNurcc7leWTB",
        "CGLVuPJ2fNRw",
        "4Z4q01sd-1db",
        "PFzEFTyP_CRF",
        "tx63YAj8K07h",
        "5p-THcJGRJab",
        "6ERzjKTiRTsR",
        "GOy5ZYPHXaZP",
        "5JaiJvhuhtSp",
        "859kjLH_irT8",
        "83i3THEElMBx",
        "TVQgF0o7lg7q",
        "BBx3rOXFmC57",
        "oPP7TmN3Ryn8",
        "jeFl7MiZhzFK",
        "FjIwCAy_i0de",
        "lRAUFLkgjm_d",
        "sLNGVfmqkl3d",
        "mKtdzzovk58d",
        "5ZJbbB3AUAa1",
        "vJ56gHTkjKKf",
        "ZskbyztqkXlY",
        "0r7eAdV9keVQ",
        "T4yY2dJmRWZb",
        "I2c7CyJQfJxk",
        "1hqm_Bhii0Cy",
        "m3WqjgyFnPLj"
      ],
      "provenance": []
    },
    "kernelspec": {
      "display_name": "Python 3",
      "name": "python3"
    },
    "language_info": {
      "name": "python"
    }
  },
  "nbformat": 4,
  "nbformat_minor": 0
}