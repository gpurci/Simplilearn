{
  "nbformat": 4,
  "nbformat_minor": 0,
  "metadata": {
    "colab": {
      "provenance": []
    },
    "kernelspec": {
      "name": "python3",
      "display_name": "Python 3"
    },
    "language_info": {
      "name": "python"
    }
  },
  "cells": [
    {
      "cell_type": "code",
      "execution_count": null,
      "metadata": {
        "id": "yEbCVdAJTKwa"
      },
      "outputs": [],
      "source": [
        "#Import the necessary library\n",
        "\n",
        "import matplotlib.pyplot as plt\n",
        "import pandas as pd\n",
        "import numpy as np\n",
        "import re\n",
        "from bs4 import BeautifulSoup\n",
        "from urllib.request import urlopen\n",
        "import requests\n",
        "# import required libraries\n",
        "import os\n",
        "import sys\n",
        "from PIL import Image\n",
        "from io import BytesIO"
      ]
    },
    {
      "cell_type": "code",
      "source": [
        "def saveImg(_url_img, _lst_img, extension):\n",
        "  i=0\n",
        "  for img in _lst_img:\n",
        "    url_img = '{}/{}.{}'.format(_url_img, img, extension)\n",
        "    img_content = requests.get(url_img).content\n",
        "    img_data = Image.open(BytesIO(img_content)).convert('RGB')\n",
        "    name_png_file = '{}.{}'.format(img, extension)\n",
        "    img_data.save(name_png_file)"
      ],
      "metadata": {
        "id": "aKtXVj9RXS-C"
      },
      "execution_count": null,
      "outputs": []
    },
    {
      "cell_type": "code",
      "source": [
        "lst_img = ['20201104_175012',\n",
        "'20201104_175019',\n",
        "'20201104_175025',\n",
        "'20201104_175030',\n",
        "'20201104_175035',\n",
        "'20201104_175039',\n",
        "'20201104_175043',\n",
        "'20201104_175047',\n",
        "'20201104_175053',\n",
        "'20201104_175058',\n",
        "'20201104_175102',\n",
        "'20201104_175105',\n",
        "'20201104_175130',\n",
        "'20201104_175133',\n",
        "'20201104_175138',\n",
        "'20201104_175142',\n",
        "  '20201104_175148']"
      ],
      "metadata": {
        "id": "ijhA8hKcYcp1"
      },
      "execution_count": null,
      "outputs": []
    },
    {
      "cell_type": "code",
      "source": [
        "lst_img_url = ['https://raw.githubusercontent.com/ai-in-actiune/evaluari_scolare/main/data/raw/20201104_175012.jpg']"
      ],
      "metadata": {
        "id": "DFm0OpKHXV_-"
      },
      "execution_count": null,
      "outputs": []
    },
    {
      "cell_type": "code",
      "source": [
        "url_img = 'https://raw.githubusercontent.com/ai-in-actiune/evaluari_scolare/main/data/raw'"
      ],
      "metadata": {
        "id": "A3oruF4fZw_q"
      },
      "execution_count": null,
      "outputs": []
    },
    {
      "cell_type": "code",
      "source": [
        "saveImg(url_img, lst_img, 'jpg')"
      ],
      "metadata": {
        "id": "kB3k8gn5Xksl"
      },
      "execution_count": null,
      "outputs": []
    }
  ]
}