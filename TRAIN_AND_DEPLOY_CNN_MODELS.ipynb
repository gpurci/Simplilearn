{
  "cells": [
    {
      "cell_type": "markdown",
      "metadata": {
        "id": "bHQL2_X9lQiW"
      },
      "source": [
        "## Train and Deploy CNN Models"
      ]
    },
    {
      "cell_type": "markdown",
      "metadata": {
        "id": "f1hRoYWmlQiX"
      },
      "source": [
        "##Download the data"
      ]
    },
    {
      "cell_type": "code",
      "execution_count": null,
      "metadata": {
        "id": "NrMd6ahhlQiY"
      },
      "outputs": [],
      "source": [
        "#Download the dataset from https://www.kaggle.com/c/diabetic-retinopathy-detection/data"
      ]
    },
    {
      "cell_type": "markdown",
      "metadata": {
        "id": "I8VBH6yQlQic"
      },
      "source": [
        "##Import the libraries"
      ]
    },
    {
      "cell_type": "markdown",
      "metadata": {
        "id": "Z_15gYWMlQj3"
      },
      "source": [
        "##Define the training strategy"
      ]
    },
    {
      "cell_type": "code",
      "execution_count": null,
      "metadata": {
        "id": "6g1NRTuvlQj3"
      },
      "outputs": [],
      "source": [
        "strategy = tf.distribute.MirroredStrategy()"
      ]
    },
    {
      "cell_type": "code",
      "execution_count": null,
      "metadata": {
        "id": "bq67mKJWlQj6"
      },
      "outputs": [],
      "source": [
        "print('Number of devices: {}'.format(strategy.num_replicas_in_sync))"
      ]
    },
    {
      "cell_type": "code",
      "execution_count": null,
      "metadata": {
        "id": "wl8pJJvxlQj8"
      },
      "outputs": [],
      "source": [
        "with strategy.scope():\n",
        "    diabetic_model = createModel()\n",
        "    diabetic_model.fit_generator(aug.flow(Xtrain,\n",
        "                                          trainY, batch_size=BS),\n",
        "                                          validation_data=(Xval, valY),\n",
        "                                          steps_per_epoch=len(trainX) // BS,\n",
        "                                          epochs=EPOCHS,\n",
        "                                          verbose=1)"
      ]
    },
    {
      "cell_type": "code",
      "execution_count": null,
      "metadata": {
        "id": "2zOZUr5slQkA"
      },
      "outputs": [],
      "source": [
        "# print the summary of model\n",
        "from keras.utils import print_summary\n",
        "print_summary(diabetic_model, line_length=None, positions=None, print_fn=None)"
      ]
    },
    {
      "cell_type": "markdown",
      "metadata": {
        "id": "qwk-ifTKlQkC"
      },
      "source": [
        "##Save the model to disk"
      ]
    },
    {
      "cell_type": "code",
      "execution_count": null,
      "metadata": {
        "id": "SAACY92rkRCX"
      },
      "outputs": [],
      "source": [
        "import os\n",
        "import subprocess\n",
        "import numpy as np\n",
        "import matplotlib.pyplot as plt"
      ]
    },
    {
      "cell_type": "code",
      "execution_count": null,
      "metadata": {
        "id": "0w5Rq8SsgWE6"
      },
      "outputs": [],
      "source": [
        "# Fetch the Keras session and save the model\n",
        "# The signature definition is defined by the input and output tensors,\n",
        "# and stored with the default serving key\n",
        "CWD = os.getcwd()\n",
        "MODEL_DIR = os.path.join(CWD, 'diabetic_model')\n",
        "version = 1\n",
        "export_path = os.path.join(MODEL_DIR, str(version))\n",
        "print('export_path = {}\\n'.format(export_path))"
      ]
    },
    {
      "cell_type": "code",
      "execution_count": null,
      "metadata": {
        "id": "sqMUR-3okRCf"
      },
      "outputs": [],
      "source": [
        "tf.keras.models.save_model(\n",
        "    model,\n",
        "    export_path,\n",
        "    overwrite=True,\n",
        "    include_optimizer=True,\n",
        "    save_format=None\n",
        ")"
      ]
    },
    {
      "cell_type": "markdown",
      "metadata": {
        "id": "DBgsyhytS6KD"
      },
      "source": [
        "##Serve the model with TensorFlow Serving\n",
        "\n"
      ]
    },
    {
      "cell_type": "code",
      "execution_count": null,
      "metadata": {
        "id": "aUgp3vUdU5GS"
      },
      "outputs": [],
      "source": [
        "os.environ[\"MODEL_DIR\"] = MODEL_DIR"
      ]
    },
    {
      "cell_type": "code",
      "execution_count": null,
      "metadata": {
        "id": "IxbeiOCUUs2z",
        "outputId": "39ea9cfe-8ec7-4d3a-a22c-f6f2141e6c85"
      },
      "outputs": [
        {
          "name": "stderr",
          "output_type": "stream",
          "text": [
            "'docker' is not recognized as an internal or external command,\n",
            "operable program or batch file.\n"
          ]
        }
      ],
      "source": [
        "!docker pull tensorflow/serving"
      ]
    },
    {
      "cell_type": "markdown",
      "metadata": {
        "id": "abPCWCowkRCt"
      },
      "source": [
        "#### Run the docker container"
      ]
    },
    {
      "cell_type": "code",
      "execution_count": null,
      "metadata": {
        "id": "3wpPtB7GkRCu"
      },
      "outputs": [],
      "source": [
        "!docker run -p 8501:8501 --name tfserving_resnet \\\n",
        "--mount type=bind,source=${MODEL_DIR},target=/models/diabetic_model \\\n",
        "-e MODEL_NAME=diabetic_model -t tensorflow/serving &"
      ]
    }
  ],
  "metadata": {
    "colab": {
      "provenance": []
    },
    "kernelspec": {
      "display_name": "Python 3 (ipykernel)",
      "language": "python",
      "name": "python3"
    },
    "language_info": {
      "codemirror_mode": {
        "name": "ipython",
        "version": 3
      },
      "file_extension": ".py",
      "mimetype": "text/x-python",
      "name": "python",
      "nbconvert_exporter": "python",
      "pygments_lexer": "ipython3",
      "version": "3.9.7"
    }
  },
  "nbformat": 4,
  "nbformat_minor": 0
}