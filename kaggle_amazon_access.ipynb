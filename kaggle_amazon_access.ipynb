{
  "cells": [
    {
      "cell_type": "code",
      "execution_count": null,
      "metadata": {
        "id": "JkoQtHuFt4xe"
      },
      "outputs": [],
      "source": [
        "import numpy as np\n",
        "import pandas as pd"
      ]
    },
    {
      "cell_type": "code",
      "execution_count": null,
      "metadata": {
        "id": "e2IreSvwt4xp"
      },
      "outputs": [],
      "source": [
        "df=pd.read_csv(r\"train.csv\")"
      ]
    },
    {
      "cell_type": "code",
      "execution_count": null,
      "metadata": {
        "colab": {
          "base_uri": "https://localhost:8080/",
          "height": 206
        },
        "id": "cwQP1sD_t4xq",
        "outputId": "df5216dd-4057-4fb7-f324-eea19751edf9"
      },
      "outputs": [
        {
          "output_type": "execute_result",
          "data": {
            "text/plain": [
              "   ACTION  RESOURCE  MGR_ID  ROLE_ROLLUP_1  ROLE_ROLLUP_2  ROLE_DEPTNAME  \\\n",
              "0       1     39353   85475         117961         118300         123472   \n",
              "1       1     17183    1540         117961         118343         123125   \n",
              "2       1     36724   14457         118219         118220         117884   \n",
              "3       1     36135    5396         117961         118343         119993   \n",
              "4       1     42680    5905         117929         117930         119569   \n",
              "\n",
              "   ROLE_TITLE  ROLE_FAMILY_DESC  ROLE_FAMILY  ROLE_CODE  \n",
              "0      117905            117906       290919     117908  \n",
              "1      118536            118536       308574     118539  \n",
              "2      117879            267952        19721     117880  \n",
              "3      118321            240983       290919     118322  \n",
              "4      119323            123932        19793     119325  "
            ],
            "text/html": [
              "\n",
              "  <div id=\"df-4ff302fe-9825-46a2-a286-a51ffd313577\">\n",
              "    <div class=\"colab-df-container\">\n",
              "      <div>\n",
              "<style scoped>\n",
              "    .dataframe tbody tr th:only-of-type {\n",
              "        vertical-align: middle;\n",
              "    }\n",
              "\n",
              "    .dataframe tbody tr th {\n",
              "        vertical-align: top;\n",
              "    }\n",
              "\n",
              "    .dataframe thead th {\n",
              "        text-align: right;\n",
              "    }\n",
              "</style>\n",
              "<table border=\"1\" class=\"dataframe\">\n",
              "  <thead>\n",
              "    <tr style=\"text-align: right;\">\n",
              "      <th></th>\n",
              "      <th>ACTION</th>\n",
              "      <th>RESOURCE</th>\n",
              "      <th>MGR_ID</th>\n",
              "      <th>ROLE_ROLLUP_1</th>\n",
              "      <th>ROLE_ROLLUP_2</th>\n",
              "      <th>ROLE_DEPTNAME</th>\n",
              "      <th>ROLE_TITLE</th>\n",
              "      <th>ROLE_FAMILY_DESC</th>\n",
              "      <th>ROLE_FAMILY</th>\n",
              "      <th>ROLE_CODE</th>\n",
              "    </tr>\n",
              "  </thead>\n",
              "  <tbody>\n",
              "    <tr>\n",
              "      <th>0</th>\n",
              "      <td>1</td>\n",
              "      <td>39353</td>\n",
              "      <td>85475</td>\n",
              "      <td>117961</td>\n",
              "      <td>118300</td>\n",
              "      <td>123472</td>\n",
              "      <td>117905</td>\n",
              "      <td>117906</td>\n",
              "      <td>290919</td>\n",
              "      <td>117908</td>\n",
              "    </tr>\n",
              "    <tr>\n",
              "      <th>1</th>\n",
              "      <td>1</td>\n",
              "      <td>17183</td>\n",
              "      <td>1540</td>\n",
              "      <td>117961</td>\n",
              "      <td>118343</td>\n",
              "      <td>123125</td>\n",
              "      <td>118536</td>\n",
              "      <td>118536</td>\n",
              "      <td>308574</td>\n",
              "      <td>118539</td>\n",
              "    </tr>\n",
              "    <tr>\n",
              "      <th>2</th>\n",
              "      <td>1</td>\n",
              "      <td>36724</td>\n",
              "      <td>14457</td>\n",
              "      <td>118219</td>\n",
              "      <td>118220</td>\n",
              "      <td>117884</td>\n",
              "      <td>117879</td>\n",
              "      <td>267952</td>\n",
              "      <td>19721</td>\n",
              "      <td>117880</td>\n",
              "    </tr>\n",
              "    <tr>\n",
              "      <th>3</th>\n",
              "      <td>1</td>\n",
              "      <td>36135</td>\n",
              "      <td>5396</td>\n",
              "      <td>117961</td>\n",
              "      <td>118343</td>\n",
              "      <td>119993</td>\n",
              "      <td>118321</td>\n",
              "      <td>240983</td>\n",
              "      <td>290919</td>\n",
              "      <td>118322</td>\n",
              "    </tr>\n",
              "    <tr>\n",
              "      <th>4</th>\n",
              "      <td>1</td>\n",
              "      <td>42680</td>\n",
              "      <td>5905</td>\n",
              "      <td>117929</td>\n",
              "      <td>117930</td>\n",
              "      <td>119569</td>\n",
              "      <td>119323</td>\n",
              "      <td>123932</td>\n",
              "      <td>19793</td>\n",
              "      <td>119325</td>\n",
              "    </tr>\n",
              "  </tbody>\n",
              "</table>\n",
              "</div>\n",
              "      <button class=\"colab-df-convert\" onclick=\"convertToInteractive('df-4ff302fe-9825-46a2-a286-a51ffd313577')\"\n",
              "              title=\"Convert this dataframe to an interactive table.\"\n",
              "              style=\"display:none;\">\n",
              "        \n",
              "  <svg xmlns=\"http://www.w3.org/2000/svg\" height=\"24px\"viewBox=\"0 0 24 24\"\n",
              "       width=\"24px\">\n",
              "    <path d=\"M0 0h24v24H0V0z\" fill=\"none\"/>\n",
              "    <path d=\"M18.56 5.44l.94 2.06.94-2.06 2.06-.94-2.06-.94-.94-2.06-.94 2.06-2.06.94zm-11 1L8.5 8.5l.94-2.06 2.06-.94-2.06-.94L8.5 2.5l-.94 2.06-2.06.94zm10 10l.94 2.06.94-2.06 2.06-.94-2.06-.94-.94-2.06-.94 2.06-2.06.94z\"/><path d=\"M17.41 7.96l-1.37-1.37c-.4-.4-.92-.59-1.43-.59-.52 0-1.04.2-1.43.59L10.3 9.45l-7.72 7.72c-.78.78-.78 2.05 0 2.83L4 21.41c.39.39.9.59 1.41.59.51 0 1.02-.2 1.41-.59l7.78-7.78 2.81-2.81c.8-.78.8-2.07 0-2.86zM5.41 20L4 18.59l7.72-7.72 1.47 1.35L5.41 20z\"/>\n",
              "  </svg>\n",
              "      </button>\n",
              "      \n",
              "  <style>\n",
              "    .colab-df-container {\n",
              "      display:flex;\n",
              "      flex-wrap:wrap;\n",
              "      gap: 12px;\n",
              "    }\n",
              "\n",
              "    .colab-df-convert {\n",
              "      background-color: #E8F0FE;\n",
              "      border: none;\n",
              "      border-radius: 50%;\n",
              "      cursor: pointer;\n",
              "      display: none;\n",
              "      fill: #1967D2;\n",
              "      height: 32px;\n",
              "      padding: 0 0 0 0;\n",
              "      width: 32px;\n",
              "    }\n",
              "\n",
              "    .colab-df-convert:hover {\n",
              "      background-color: #E2EBFA;\n",
              "      box-shadow: 0px 1px 2px rgba(60, 64, 67, 0.3), 0px 1px 3px 1px rgba(60, 64, 67, 0.15);\n",
              "      fill: #174EA6;\n",
              "    }\n",
              "\n",
              "    [theme=dark] .colab-df-convert {\n",
              "      background-color: #3B4455;\n",
              "      fill: #D2E3FC;\n",
              "    }\n",
              "\n",
              "    [theme=dark] .colab-df-convert:hover {\n",
              "      background-color: #434B5C;\n",
              "      box-shadow: 0px 1px 3px 1px rgba(0, 0, 0, 0.15);\n",
              "      filter: drop-shadow(0px 1px 2px rgba(0, 0, 0, 0.3));\n",
              "      fill: #FFFFFF;\n",
              "    }\n",
              "  </style>\n",
              "\n",
              "      <script>\n",
              "        const buttonEl =\n",
              "          document.querySelector('#df-4ff302fe-9825-46a2-a286-a51ffd313577 button.colab-df-convert');\n",
              "        buttonEl.style.display =\n",
              "          google.colab.kernel.accessAllowed ? 'block' : 'none';\n",
              "\n",
              "        async function convertToInteractive(key) {\n",
              "          const element = document.querySelector('#df-4ff302fe-9825-46a2-a286-a51ffd313577');\n",
              "          const dataTable =\n",
              "            await google.colab.kernel.invokeFunction('convertToInteractive',\n",
              "                                                     [key], {});\n",
              "          if (!dataTable) return;\n",
              "\n",
              "          const docLinkHtml = 'Like what you see? Visit the ' +\n",
              "            '<a target=\"_blank\" href=https://colab.research.google.com/notebooks/data_table.ipynb>data table notebook</a>'\n",
              "            + ' to learn more about interactive tables.';\n",
              "          element.innerHTML = '';\n",
              "          dataTable['output_type'] = 'display_data';\n",
              "          await google.colab.output.renderOutput(dataTable, element);\n",
              "          const docLink = document.createElement('div');\n",
              "          docLink.innerHTML = docLinkHtml;\n",
              "          element.appendChild(docLink);\n",
              "        }\n",
              "      </script>\n",
              "    </div>\n",
              "  </div>\n",
              "  "
            ]
          },
          "metadata": {},
          "execution_count": 3
        }
      ],
      "source": [
        "df.head()"
      ]
    },
    {
      "cell_type": "markdown",
      "metadata": {
        "id": "GfsKrCf1t4xs"
      },
      "source": [
        "# Column Name\tDescription\n",
        "**ACTION**\n",
        "\n",
        "ACTION is 1 if the resource was approved, 0 if the resource was not,\n",
        "\n",
        "RESOURCE An ID for each resource MGR_ID\tThe EMPLOYEE ID of the manager of the current EMPLOYEE ID record; an employee may have only one manager at a time\n",
        "\n",
        "ROLE_ROLLUP_1\tCompany role grouping category id 1 (e.g. US Engineering)\n",
        "\n",
        "ROLE_ROLLUP_2\tCompany role grouping category id 2 (e.g. US Retail)\n",
        "\n",
        "ROLE_DEPTNAME\tCompany role department description (e.g. Retail)\n",
        "\n",
        "ROLE_TITLE\tCompany role business title description (e.g. Senior Engineering\n",
        "Retail Manager)\n",
        "\n",
        "ROLE_FAMILY_DESC\tCompany role family extended description (e.g. Retail\n",
        "Manager, Software Engineering)\n",
        "\n",
        "ROLE_FAMILY\tCompany role family description (e.g. Retail Manager)\n",
        "\n",
        "ROLE_CODE\tCompany role code; this code is unique to each role (e.g. Manager)"
      ]
    },
    {
      "cell_type": "code",
      "execution_count": null,
      "metadata": {
        "colab": {
          "base_uri": "https://localhost:8080/"
        },
        "id": "x88NOs0Bt4xu",
        "outputId": "e33034a0-0df5-46f4-aa1b-86048e2a943f"
      },
      "outputs": [
        {
          "output_type": "stream",
          "name": "stdout",
          "text": [
            "<class 'pandas.core.frame.DataFrame'>\n",
            "RangeIndex: 32769 entries, 0 to 32768\n",
            "Data columns (total 10 columns):\n",
            " #   Column            Non-Null Count  Dtype\n",
            "---  ------            --------------  -----\n",
            " 0   ACTION            32769 non-null  int64\n",
            " 1   RESOURCE          32769 non-null  int64\n",
            " 2   MGR_ID            32769 non-null  int64\n",
            " 3   ROLE_ROLLUP_1     32769 non-null  int64\n",
            " 4   ROLE_ROLLUP_2     32769 non-null  int64\n",
            " 5   ROLE_DEPTNAME     32769 non-null  int64\n",
            " 6   ROLE_TITLE        32769 non-null  int64\n",
            " 7   ROLE_FAMILY_DESC  32769 non-null  int64\n",
            " 8   ROLE_FAMILY       32769 non-null  int64\n",
            " 9   ROLE_CODE         32769 non-null  int64\n",
            "dtypes: int64(10)\n",
            "memory usage: 2.5 MB\n"
          ]
        }
      ],
      "source": [
        "df.info()"
      ]
    },
    {
      "cell_type": "code",
      "execution_count": null,
      "metadata": {
        "id": "Mzia8OqMt4xv"
      },
      "outputs": [],
      "source": [
        "import matplotlib.pyplot as plt\n",
        "import seaborn as sns\n",
        "%matplotlib inline"
      ]
    },
    {
      "cell_type": "code",
      "execution_count": null,
      "metadata": {
        "colab": {
          "base_uri": "https://localhost:8080/"
        },
        "id": "cBAsug0Gt4xw",
        "outputId": "b3fd2fd5-3301-4f23-b662-cade0c3c0958"
      },
      "outputs": [
        {
          "output_type": "stream",
          "name": "stdout",
          "text": [
            "columns  ACTION  =  2\n",
            "columns  RESOURCE  =  7518\n",
            "columns  MGR_ID  =  4243\n",
            "columns  ROLE_ROLLUP_1  =  128\n",
            "columns  ROLE_ROLLUP_2  =  177\n",
            "columns  ROLE_DEPTNAME  =  449\n",
            "columns  ROLE_TITLE  =  343\n",
            "columns  ROLE_FAMILY_DESC  =  2358\n",
            "columns  ROLE_FAMILY  =  67\n",
            "columns  ROLE_CODE  =  343\n"
          ]
        }
      ],
      "source": [
        "allcolumns=df.columns\n",
        "for item in allcolumns:\n",
        "    print('Unique ID ', item, ' = ', df[item].nunique())"
      ]
    },
    {
      "cell_type": "code",
      "execution_count": null,
      "metadata": {
        "id": "4p0vkY3Et4xx"
      },
      "outputs": [],
      "source": [
        "correl=df.corr()"
      ]
    },
    {
      "cell_type": "code",
      "execution_count": null,
      "metadata": {
        "colab": {
          "base_uri": "https://localhost:8080/",
          "height": 363
        },
        "id": "CEN_BYdgt4xy",
        "outputId": "c5719215-8fa3-4716-a6d2-7453862f4f1d"
      },
      "outputs": [
        {
          "output_type": "execute_result",
          "data": {
            "text/plain": [
              "                    ACTION  RESOURCE    MGR_ID  ROLE_ROLLUP_1  ROLE_ROLLUP_2  \\\n",
              "ACTION            1.000000  0.000185 -0.005167      -0.013702       0.005179   \n",
              "RESOURCE          0.000185  1.000000  0.011088      -0.005016       0.013438   \n",
              "MGR_ID           -0.005167  0.011088  1.000000      -0.007132      -0.000364   \n",
              "ROLE_ROLLUP_1    -0.013702 -0.005016 -0.007132       1.000000       0.033358   \n",
              "ROLE_ROLLUP_2     0.005179  0.013438 -0.000364       0.033358       1.000000   \n",
              "ROLE_DEPTNAME     0.001025  0.030004 -0.009551      -0.009548      -0.006056   \n",
              "ROLE_TITLE       -0.010169  0.002936  0.017864       0.010207       0.008305   \n",
              "ROLE_FAMILY_DESC  0.003565  0.021029 -0.018488      -0.007546       0.018873   \n",
              "ROLE_FAMILY       0.000502  0.031060 -0.118254       0.029468       0.069558   \n",
              "ROLE_CODE         0.017147  0.007733 -0.004067      -0.024927       0.015117   \n",
              "\n",
              "                  ROLE_DEPTNAME  ROLE_TITLE  ROLE_FAMILY_DESC  ROLE_FAMILY  \\\n",
              "ACTION                 0.001025   -0.010169          0.003565     0.000502   \n",
              "RESOURCE               0.030004    0.002936          0.021029     0.031060   \n",
              "MGR_ID                -0.009551    0.017864         -0.018488    -0.118254   \n",
              "ROLE_ROLLUP_1         -0.009548    0.010207         -0.007546     0.029468   \n",
              "ROLE_ROLLUP_2         -0.006056    0.008305          0.018873     0.069558   \n",
              "ROLE_DEPTNAME          1.000000   -0.006932         -0.002877     0.031669   \n",
              "ROLE_TITLE            -0.006932    1.000000          0.170692    -0.012450   \n",
              "ROLE_FAMILY_DESC      -0.002877    0.170692          1.000000    -0.180596   \n",
              "ROLE_FAMILY            0.031669   -0.012450         -0.180596     1.000000   \n",
              "ROLE_CODE              0.010319    0.155920          0.092980    -0.148625   \n",
              "\n",
              "                  ROLE_CODE  \n",
              "ACTION             0.017147  \n",
              "RESOURCE           0.007733  \n",
              "MGR_ID            -0.004067  \n",
              "ROLE_ROLLUP_1     -0.024927  \n",
              "ROLE_ROLLUP_2      0.015117  \n",
              "ROLE_DEPTNAME      0.010319  \n",
              "ROLE_TITLE         0.155920  \n",
              "ROLE_FAMILY_DESC   0.092980  \n",
              "ROLE_FAMILY       -0.148625  \n",
              "ROLE_CODE          1.000000  "
            ],
            "text/html": [
              "\n",
              "  <div id=\"df-813cc087-e5f2-4601-8029-0edf514715f4\">\n",
              "    <div class=\"colab-df-container\">\n",
              "      <div>\n",
              "<style scoped>\n",
              "    .dataframe tbody tr th:only-of-type {\n",
              "        vertical-align: middle;\n",
              "    }\n",
              "\n",
              "    .dataframe tbody tr th {\n",
              "        vertical-align: top;\n",
              "    }\n",
              "\n",
              "    .dataframe thead th {\n",
              "        text-align: right;\n",
              "    }\n",
              "</style>\n",
              "<table border=\"1\" class=\"dataframe\">\n",
              "  <thead>\n",
              "    <tr style=\"text-align: right;\">\n",
              "      <th></th>\n",
              "      <th>ACTION</th>\n",
              "      <th>RESOURCE</th>\n",
              "      <th>MGR_ID</th>\n",
              "      <th>ROLE_ROLLUP_1</th>\n",
              "      <th>ROLE_ROLLUP_2</th>\n",
              "      <th>ROLE_DEPTNAME</th>\n",
              "      <th>ROLE_TITLE</th>\n",
              "      <th>ROLE_FAMILY_DESC</th>\n",
              "      <th>ROLE_FAMILY</th>\n",
              "      <th>ROLE_CODE</th>\n",
              "    </tr>\n",
              "  </thead>\n",
              "  <tbody>\n",
              "    <tr>\n",
              "      <th>ACTION</th>\n",
              "      <td>1.000000</td>\n",
              "      <td>0.000185</td>\n",
              "      <td>-0.005167</td>\n",
              "      <td>-0.013702</td>\n",
              "      <td>0.005179</td>\n",
              "      <td>0.001025</td>\n",
              "      <td>-0.010169</td>\n",
              "      <td>0.003565</td>\n",
              "      <td>0.000502</td>\n",
              "      <td>0.017147</td>\n",
              "    </tr>\n",
              "    <tr>\n",
              "      <th>RESOURCE</th>\n",
              "      <td>0.000185</td>\n",
              "      <td>1.000000</td>\n",
              "      <td>0.011088</td>\n",
              "      <td>-0.005016</td>\n",
              "      <td>0.013438</td>\n",
              "      <td>0.030004</td>\n",
              "      <td>0.002936</td>\n",
              "      <td>0.021029</td>\n",
              "      <td>0.031060</td>\n",
              "      <td>0.007733</td>\n",
              "    </tr>\n",
              "    <tr>\n",
              "      <th>MGR_ID</th>\n",
              "      <td>-0.005167</td>\n",
              "      <td>0.011088</td>\n",
              "      <td>1.000000</td>\n",
              "      <td>-0.007132</td>\n",
              "      <td>-0.000364</td>\n",
              "      <td>-0.009551</td>\n",
              "      <td>0.017864</td>\n",
              "      <td>-0.018488</td>\n",
              "      <td>-0.118254</td>\n",
              "      <td>-0.004067</td>\n",
              "    </tr>\n",
              "    <tr>\n",
              "      <th>ROLE_ROLLUP_1</th>\n",
              "      <td>-0.013702</td>\n",
              "      <td>-0.005016</td>\n",
              "      <td>-0.007132</td>\n",
              "      <td>1.000000</td>\n",
              "      <td>0.033358</td>\n",
              "      <td>-0.009548</td>\n",
              "      <td>0.010207</td>\n",
              "      <td>-0.007546</td>\n",
              "      <td>0.029468</td>\n",
              "      <td>-0.024927</td>\n",
              "    </tr>\n",
              "    <tr>\n",
              "      <th>ROLE_ROLLUP_2</th>\n",
              "      <td>0.005179</td>\n",
              "      <td>0.013438</td>\n",
              "      <td>-0.000364</td>\n",
              "      <td>0.033358</td>\n",
              "      <td>1.000000</td>\n",
              "      <td>-0.006056</td>\n",
              "      <td>0.008305</td>\n",
              "      <td>0.018873</td>\n",
              "      <td>0.069558</td>\n",
              "      <td>0.015117</td>\n",
              "    </tr>\n",
              "    <tr>\n",
              "      <th>ROLE_DEPTNAME</th>\n",
              "      <td>0.001025</td>\n",
              "      <td>0.030004</td>\n",
              "      <td>-0.009551</td>\n",
              "      <td>-0.009548</td>\n",
              "      <td>-0.006056</td>\n",
              "      <td>1.000000</td>\n",
              "      <td>-0.006932</td>\n",
              "      <td>-0.002877</td>\n",
              "      <td>0.031669</td>\n",
              "      <td>0.010319</td>\n",
              "    </tr>\n",
              "    <tr>\n",
              "      <th>ROLE_TITLE</th>\n",
              "      <td>-0.010169</td>\n",
              "      <td>0.002936</td>\n",
              "      <td>0.017864</td>\n",
              "      <td>0.010207</td>\n",
              "      <td>0.008305</td>\n",
              "      <td>-0.006932</td>\n",
              "      <td>1.000000</td>\n",
              "      <td>0.170692</td>\n",
              "      <td>-0.012450</td>\n",
              "      <td>0.155920</td>\n",
              "    </tr>\n",
              "    <tr>\n",
              "      <th>ROLE_FAMILY_DESC</th>\n",
              "      <td>0.003565</td>\n",
              "      <td>0.021029</td>\n",
              "      <td>-0.018488</td>\n",
              "      <td>-0.007546</td>\n",
              "      <td>0.018873</td>\n",
              "      <td>-0.002877</td>\n",
              "      <td>0.170692</td>\n",
              "      <td>1.000000</td>\n",
              "      <td>-0.180596</td>\n",
              "      <td>0.092980</td>\n",
              "    </tr>\n",
              "    <tr>\n",
              "      <th>ROLE_FAMILY</th>\n",
              "      <td>0.000502</td>\n",
              "      <td>0.031060</td>\n",
              "      <td>-0.118254</td>\n",
              "      <td>0.029468</td>\n",
              "      <td>0.069558</td>\n",
              "      <td>0.031669</td>\n",
              "      <td>-0.012450</td>\n",
              "      <td>-0.180596</td>\n",
              "      <td>1.000000</td>\n",
              "      <td>-0.148625</td>\n",
              "    </tr>\n",
              "    <tr>\n",
              "      <th>ROLE_CODE</th>\n",
              "      <td>0.017147</td>\n",
              "      <td>0.007733</td>\n",
              "      <td>-0.004067</td>\n",
              "      <td>-0.024927</td>\n",
              "      <td>0.015117</td>\n",
              "      <td>0.010319</td>\n",
              "      <td>0.155920</td>\n",
              "      <td>0.092980</td>\n",
              "      <td>-0.148625</td>\n",
              "      <td>1.000000</td>\n",
              "    </tr>\n",
              "  </tbody>\n",
              "</table>\n",
              "</div>\n",
              "      <button class=\"colab-df-convert\" onclick=\"convertToInteractive('df-813cc087-e5f2-4601-8029-0edf514715f4')\"\n",
              "              title=\"Convert this dataframe to an interactive table.\"\n",
              "              style=\"display:none;\">\n",
              "        \n",
              "  <svg xmlns=\"http://www.w3.org/2000/svg\" height=\"24px\"viewBox=\"0 0 24 24\"\n",
              "       width=\"24px\">\n",
              "    <path d=\"M0 0h24v24H0V0z\" fill=\"none\"/>\n",
              "    <path d=\"M18.56 5.44l.94 2.06.94-2.06 2.06-.94-2.06-.94-.94-2.06-.94 2.06-2.06.94zm-11 1L8.5 8.5l.94-2.06 2.06-.94-2.06-.94L8.5 2.5l-.94 2.06-2.06.94zm10 10l.94 2.06.94-2.06 2.06-.94-2.06-.94-.94-2.06-.94 2.06-2.06.94z\"/><path d=\"M17.41 7.96l-1.37-1.37c-.4-.4-.92-.59-1.43-.59-.52 0-1.04.2-1.43.59L10.3 9.45l-7.72 7.72c-.78.78-.78 2.05 0 2.83L4 21.41c.39.39.9.59 1.41.59.51 0 1.02-.2 1.41-.59l7.78-7.78 2.81-2.81c.8-.78.8-2.07 0-2.86zM5.41 20L4 18.59l7.72-7.72 1.47 1.35L5.41 20z\"/>\n",
              "  </svg>\n",
              "      </button>\n",
              "      \n",
              "  <style>\n",
              "    .colab-df-container {\n",
              "      display:flex;\n",
              "      flex-wrap:wrap;\n",
              "      gap: 12px;\n",
              "    }\n",
              "\n",
              "    .colab-df-convert {\n",
              "      background-color: #E8F0FE;\n",
              "      border: none;\n",
              "      border-radius: 50%;\n",
              "      cursor: pointer;\n",
              "      display: none;\n",
              "      fill: #1967D2;\n",
              "      height: 32px;\n",
              "      padding: 0 0 0 0;\n",
              "      width: 32px;\n",
              "    }\n",
              "\n",
              "    .colab-df-convert:hover {\n",
              "      background-color: #E2EBFA;\n",
              "      box-shadow: 0px 1px 2px rgba(60, 64, 67, 0.3), 0px 1px 3px 1px rgba(60, 64, 67, 0.15);\n",
              "      fill: #174EA6;\n",
              "    }\n",
              "\n",
              "    [theme=dark] .colab-df-convert {\n",
              "      background-color: #3B4455;\n",
              "      fill: #D2E3FC;\n",
              "    }\n",
              "\n",
              "    [theme=dark] .colab-df-convert:hover {\n",
              "      background-color: #434B5C;\n",
              "      box-shadow: 0px 1px 3px 1px rgba(0, 0, 0, 0.15);\n",
              "      filter: drop-shadow(0px 1px 2px rgba(0, 0, 0, 0.3));\n",
              "      fill: #FFFFFF;\n",
              "    }\n",
              "  </style>\n",
              "\n",
              "      <script>\n",
              "        const buttonEl =\n",
              "          document.querySelector('#df-813cc087-e5f2-4601-8029-0edf514715f4 button.colab-df-convert');\n",
              "        buttonEl.style.display =\n",
              "          google.colab.kernel.accessAllowed ? 'block' : 'none';\n",
              "\n",
              "        async function convertToInteractive(key) {\n",
              "          const element = document.querySelector('#df-813cc087-e5f2-4601-8029-0edf514715f4');\n",
              "          const dataTable =\n",
              "            await google.colab.kernel.invokeFunction('convertToInteractive',\n",
              "                                                     [key], {});\n",
              "          if (!dataTable) return;\n",
              "\n",
              "          const docLinkHtml = 'Like what you see? Visit the ' +\n",
              "            '<a target=\"_blank\" href=https://colab.research.google.com/notebooks/data_table.ipynb>data table notebook</a>'\n",
              "            + ' to learn more about interactive tables.';\n",
              "          element.innerHTML = '';\n",
              "          dataTable['output_type'] = 'display_data';\n",
              "          await google.colab.output.renderOutput(dataTable, element);\n",
              "          const docLink = document.createElement('div');\n",
              "          docLink.innerHTML = docLinkHtml;\n",
              "          element.appendChild(docLink);\n",
              "        }\n",
              "      </script>\n",
              "    </div>\n",
              "  </div>\n",
              "  "
            ]
          },
          "metadata": {},
          "execution_count": 10
        }
      ],
      "source": [
        "correl"
      ]
    },
    {
      "cell_type": "code",
      "execution_count": null,
      "metadata": {
        "colab": {
          "base_uri": "https://localhost:8080/",
          "height": 354
        },
        "id": "wv0SgWBVt4xz",
        "outputId": "e4a55802-2cd0-4f5f-b8ab-705b2dfddaa6"
      },
      "outputs": [
        {
          "output_type": "stream",
          "name": "stderr",
          "text": [
            "/usr/local/lib/python3.7/dist-packages/seaborn/_decorators.py:43: FutureWarning: Pass the following variable as a keyword arg: x. From version 0.12, the only valid positional argument will be `data`, and passing other arguments without an explicit keyword will result in an error or misinterpretation.\n",
            "  FutureWarning\n"
          ]
        },
        {
          "output_type": "execute_result",
          "data": {
            "text/plain": [
              "<matplotlib.axes._subplots.AxesSubplot at 0x7f0aed393910>"
            ]
          },
          "metadata": {},
          "execution_count": 11
        },
        {
          "output_type": "display_data",
          "data": {
            "text/plain": [
              "<Figure size 432x288 with 1 Axes>"
            ],
            "image/png": "[encoded data removed]"
          },
          "metadata": {
            "needs_background": "light"
          }
        }
      ],
      "source": [
        "sns.countplot(df[\"ACTION\"])"
      ]
    },
    {
      "cell_type": "code",
      "execution_count": null,
      "metadata": {
        "id": "F8ib0YEXt4x1"
      },
      "outputs": [],
      "source": [
        "from sklearn.model_selection import train_test_split"
      ]
    },
    {
      "cell_type": "code",
      "execution_count": null,
      "metadata": {
        "id": "Kd-7jfyOt4x1"
      },
      "outputs": [],
      "source": [
        "x=df.drop(\"ACTION\",axis=1)"
      ]
    },
    {
      "cell_type": "code",
      "execution_count": null,
      "metadata": {
        "id": "T8vFso62t4x1"
      },
      "outputs": [],
      "source": [
        "y=df[\"ACTION\"]"
      ]
    },
    {
      "cell_type": "code",
      "execution_count": null,
      "metadata": {
        "id": "DlO3V4xnt4x2"
      },
      "outputs": [],
      "source": [
        "x_train, x_test, y_train, y_test = train_test_split(x,y, test_size=0.3, random_state=101)"
      ]
    },
    {
      "cell_type": "code",
      "execution_count": null,
      "metadata": {
        "id": "BC7aMnP1t4x2"
      },
      "outputs": [],
      "source": [
        "from sklearn.linear_model import LogisticRegression\n",
        "from sklearn.ensemble import RandomForestClassifier\n",
        "from sklearn.ensemble import AdaBoostClassifier\n",
        "from sklearn.ensemble import GradientBoostingClassifier"
      ]
    },
    {
      "cell_type": "code",
      "execution_count": null,
      "metadata": {
        "id": "kNRM0I4Qt4x3"
      },
      "outputs": [],
      "source": [
        "from sklearn.metrics import accuracy_score\n",
        "from sklearn.metrics import confusion_matrix"
      ]
    },
    {
      "cell_type": "code",
      "execution_count": null,
      "metadata": {
        "colab": {
          "base_uri": "https://localhost:8080/"
        },
        "id": "fLzvv4-ot4x3",
        "outputId": "d968e53d-42fc-41dc-a1b5-74d0057b9cab"
      },
      "outputs": [
        {
          "output_type": "stream",
          "name": "stdout",
          "text": [
            "0.939985759332723\n",
            "[[   0  590]\n",
            " [   0 9241]]\n"
          ]
        }
      ],
      "source": [
        "model = LogisticRegression()\n",
        "model.fit(x_train, y_train)\n",
        "predictedvalues=model.predict(x_test)\n",
        "print(accuracy_score(y_test,predictedvalues))\n",
        "print(confusion_matrix(y_test, predictedvalues))"
      ]
    },
    {
      "cell_type": "markdown",
      "metadata": {
        "id": "tnHCN6Qqt4x3"
      },
      "source": [
        "# Logistic Regression give accuracy of 93.9% but if we look into its confusion matrix, then we can reach to the conclusion that its not good model as it predicts everything as class 1 and has not predicted any itema as class 0, so it is affected by the biasness of model"
      ]
    },
    {
      "cell_type": "code",
      "execution_count": null,
      "metadata": {
        "colab": {
          "base_uri": "https://localhost:8080/"
        },
        "id": "TxvCMCd5t4x4",
        "outputId": "832dc788-9c95-4d42-bed5-4493b1b2d148"
      },
      "outputs": [
        {
          "output_type": "stream",
          "name": "stdout",
          "text": [
            "0.9490387549588037\n",
            "[[ 214  376]\n",
            " [ 125 9116]]\n"
          ]
        }
      ],
      "source": [
        "#Lets try random forest classifier.\n",
        "model = RandomForestClassifier()\n",
        "model.fit(x_train, y_train)\n",
        "predictedvalues=model.predict(x_test)\n",
        "print(accuracy_score(y_test,predictedvalues))\n",
        "print(confusion_matrix(y_test, predictedvalues))"
      ]
    },
    {
      "cell_type": "markdown",
      "metadata": {
        "id": "AMeqrH8rt4x4"
      },
      "source": [
        "# even though improvement in accuracy from logistic regression to random forest is little but here we can see that confusion metrics shows that it has also classfied well better the the class which is having less number of examples in dataset which makes it really good method"
      ]
    },
    {
      "cell_type": "code",
      "execution_count": null,
      "metadata": {
        "colab": {
          "base_uri": "https://localhost:8080/"
        },
        "id": "CON-hC5Dt4x5",
        "outputId": "8a4dc379-72c8-4a24-e4d1-bff975cc9f6a"
      },
      "outputs": [
        {
          "output_type": "stream",
          "name": "stdout",
          "text": [
            "0.9400874783847014\n",
            "[[   1  589]\n",
            " [   0 9241]]\n"
          ]
        }
      ],
      "source": [
        "model = AdaBoostClassifier()\n",
        "model.fit(x_train, y_train)\n",
        "predictedvalues=model.predict(x_test)\n",
        "print(accuracy_score(y_test,predictedvalues))\n",
        "print(confusion_matrix(y_test, predictedvalues))"
      ]
    },
    {
      "cell_type": "markdown",
      "metadata": {
        "id": "e6FbJoSmt4x5"
      },
      "source": [
        "# Here also problem is same as in logistic regression that it can't work well with biased class"
      ]
    },
    {
      "cell_type": "code",
      "execution_count": null,
      "metadata": {
        "colab": {
          "base_uri": "https://localhost:8080/"
        },
        "id": "jMdyw3Oyt4x6",
        "outputId": "1552ae65-9fb7-4a49-ba0a-deace947f0b4"
      },
      "outputs": [
        {
          "output_type": "stream",
          "name": "stdout",
          "text": [
            "0.9405960736445936\n",
            "[[   7  583]\n",
            " [   1 9240]]\n"
          ]
        }
      ],
      "source": [
        "model = GradientBoostingClassifier()\n",
        "model.fit(x_train, y_train)\n",
        "predictedvalues=model.predict(x_test)\n",
        "print(accuracy_score(y_test,predictedvalues))\n",
        "print(confusion_matrix(y_test, predictedvalues))"
      ]
    },
    {
      "cell_type": "markdown",
      "metadata": {
        "id": "ISGVXpj2t4x6"
      },
      "source": [
        "# This is also not giving good result compare to random forest as here also it is able to predict corectly only 7 data points of class 0 whose elements are so less."
      ]
    },
    {
      "cell_type": "markdown",
      "metadata": {
        "id": "pm_4jOMXt4x6"
      },
      "source": [
        "# Lets execute random forest on test data as we have choosen random forest as the final model"
      ]
    },
    {
      "cell_type": "code",
      "execution_count": null,
      "metadata": {
        "colab": {
          "base_uri": "https://localhost:8080/"
        },
        "id": "FMyyQRWQt4x6",
        "outputId": "0946aad0-ed48-41ea-fcc6-b65df908b5a3"
      },
      "outputs": [
        {
          "output_type": "stream",
          "name": "stdout",
          "text": [
            "0.9489370359068253\n",
            "[[ 213  377]\n",
            " [ 125 9116]]\n"
          ]
        }
      ],
      "source": [
        "model = RandomForestClassifier()\n",
        "model.fit(x_train, y_train)\n",
        "predictedvalues=model.predict(x_test)\n",
        "print(accuracy_score(y_test,predictedvalues))\n",
        "print(confusion_matrix(y_test, predictedvalues))"
      ]
    },
    {
      "cell_type": "code",
      "execution_count": null,
      "metadata": {
        "colab": {
          "base_uri": "https://localhost:8080/"
        },
        "id": "wFlHXYObt4x7",
        "outputId": "d9325449-ebbe-4930-cce5-a15ecda4e3e3"
      },
      "outputs": [
        {
          "output_type": "stream",
          "name": "stdout",
          "text": [
            "(22938, 9)\n",
            "(912363, 10)\n",
            "Index(['id', 'RESOURCE', 'MGR_ID', 'ROLE_ROLLUP_1', 'ROLE_ROLLUP_2',\n",
            "       'ROLE_DEPTNAME', 'ROLE_TITLE', 'ROLE_FAMILY_DESC', 'ROLE_FAMILY',\n",
            "       'ROLE_CODE'],\n",
            "      dtype='object')\n",
            "[1 1 1 ... 1 1 1]\n"
          ]
        }
      ],
      "source": [
        "test_data = pd.read_csv(r\"test.csv\")\n",
        "print (x_train.shape)\n",
        "print (test_data.shape)\n",
        "print (test_data.columns)\n",
        "test_data.drop(\"id\",axis=1, inplace=True)\n",
        "predictedoutput = model.predict(test_data)\n",
        "print (predictedoutput)"
      ]
    },
    {
      "cell_type": "code",
      "execution_count": null,
      "metadata": {
        "id": "kSEOrOyjt4x7"
      },
      "outputs": [],
      "source": []
    }
  ],
  "metadata": {
    "kernelspec": {
      "display_name": "Python 3",
      "language": "python",
      "name": "python3"
    },
    "language_info": {
      "codemirror_mode": {
        "name": "ipython",
        "version": 3
      },
      "file_extension": ".py",
      "mimetype": "text/x-python",
      "name": "python",
      "nbconvert_exporter": "python",
      "pygments_lexer": "ipython3",
      "version": "3.7.1"
    },
    "colab": {
      "provenance": []
    }
  },
  "nbformat": 4,
  "nbformat_minor": 0
}