{
  "nbformat": 4,
  "nbformat_minor": 0,
  "metadata": {
    "colab": {
      "provenance": [],
      "collapsed_sections": [
        "4oWB29wpUhvn",
        "zV1JteZl8vbE",
        "qbvdcsV79rHf",
        "CM84jbCU6AVc",
        "yNqJ7NI5HQEF",
        "Bha-aCSmHS9T",
        "OdXcJWdXK9L4",
        "4UZTkarbLBmu",
        "VesE3NQeN7iK",
        "V0w0g5YBN_UI",
        "4kipIu_9OiZE"
      ]
    },
    "kernelspec": {
      "name": "python3",
      "display_name": "Python 3"
    },
    "language_info": {
      "name": "python"
    }
  },
  "cells": [
    {
      "cell_type": "markdown",
      "source": [
        "<img src=\"http://cfs22.simplicdn.net/ice9/new_logo.svgz \"/>\n",
        "\n",
        "# Project 2: Lending Club Loan Data Analysis\n",
        "\n",
        "* * *"
      ],
      "metadata": {
        "id": "nFnUmwii5zgN"
      }
    },
    {
      "cell_type": "markdown",
      "source": [
        "<img src=\"https://imprumut.md/wp-content/uploads/2022/07/tipuri-de-creditare-imprumut-md.jpg\"/>"
      ],
      "metadata": {
        "id": "dasQ1Hha6fLI"
      }
    },
    {
      "cell_type": "markdown",
      "source": [
        "**DESCRIPTION**\n",
        "\n",
        "Create a model that predicts whether or not a loan will be default using the historical data.\n",
        "\n",
        "\n",
        "**Problem Statement**:\n",
        "\n",
        "For companies like Lending Club correctly predicting whether or not a loan will be a default is very important. In this project, using the historical data from 2007 to 2015, you have to build a deep learning model to predict the chance of default for future loans. As you will see later this dataset is highly imbalanced and includes a lot of features that make this problem more challenging.\n",
        "\n",
        "**Domain: Finance**\n",
        "\n",
        "Analysis to be done: Perform data preprocessing and build a deep learning prediction model.\n",
        "\n",
        "*Content*:\n",
        "\n",
        "Dataset columns and definition:\n",
        "\n",
        "\n",
        "\n",
        "*   *credit.policy*: 1 if the customer meets the credit underwriting criteria of\n",
        "\n",
        "\n",
        "LendingClub.com, and 0 otherwise.\n",
        "\n",
        "*   *purpose*: The purpose of the loan (takes values \"credit_card\", \"debt_consolidation\", \"educational\", \"major_purchase\", \"small_business\", and \"all_other\").\n",
        "\n",
        "*   *int.rate*: The interest rate of the loan, as a proportion (a rate of 11% would be stored as 0.11). Borrowers judged by LendingClub.com to be more risky are assigned higher interest rates.\n",
        "\n",
        "*   *installment*: The monthly installments owed by the borrower if the loan is funded.\n",
        "\n",
        "*   *log.annual.inc*: The natural log of the self-reported annual income of the borrower.\n",
        "\n",
        "*   *dti*: The debt-to-income ratio of the borrower (amount of debt divided by annual income).\n",
        "\n",
        "*   *fico*: The FICO credit score of the borrower.\n",
        "\n",
        "*   *days.with.cr.line*: The number of days the borrower has had a credit line.\n",
        "\n",
        "*   *revol.bal*: The borrower's revolving balance (amount unpaid at the end of the credit card billing cycle).\n",
        "\n",
        "*   *revol.util*: The borrower's revolving line utilization rate (the amount of the credit line used relative to total credit available).\n",
        "\n",
        "*   *inq.last.6mths*: The borrower's number of inquiries by creditors in the last 6 months.\n",
        "\n",
        "*   *delinq.2yrs*: The number of times the borrower had been 30+ days past due on a payment in the past 2 years.\n",
        "\n",
        "*   *pub.rec*: The borrower's number of derogatory public records (bankruptcy filings, tax liens, or judgments).\n",
        "\n",
        "\n",
        "\n",
        "**Steps to perform:**\n",
        "\n",
        "Perform exploratory data analysis and feature engineering and then apply feature engineering. Follow up with a deep learning model to predict whether or not the loan will be default using the historical data.\n",
        "\n",
        "**Tasks:**\n",
        "\n",
        "1.     Feature Transformation\n",
        "\n",
        "Transform categorical values into numerical values (discrete)\n",
        "\n",
        "2.     Exploratory data analysis of different factors of the dataset.\n",
        "\n",
        "3.     Additional Feature Engineering\n",
        "\n",
        "You will check the correlation between features and will drop those features which have a strong correlation\n",
        "\n",
        "This will help reduce the number of features and will leave you with the most relevant features\n",
        "\n",
        "4.     Modeling\n",
        "\n",
        "After applying EDA and feature engineering, you are now ready to build the predictive models\n",
        "\n",
        "In this part, you will create a deep learning model using Keras with Tensorflow backend"
      ],
      "metadata": {
        "id": "zdBNMP_p7mzq"
      }
    },
    {
      "cell_type": "markdown",
      "source": [
        "#Install library"
      ],
      "metadata": {
        "id": "4oWB29wpUhvn"
      }
    },
    {
      "cell_type": "code",
      "source": [
        "!pip install livelossplot"
      ],
      "metadata": {
        "colab": {
          "base_uri": "https://localhost:8080/"
        },
        "id": "D7lAer07UkIN",
        "outputId": "1f7108a0-8b31-446a-f303-0fee6775ae69"
      },
      "execution_count": null,
      "outputs": [
        {
          "output_type": "stream",
          "name": "stdout",
          "text": [
            "Looking in indexes: https://pypi.org/simple, https://us-python.pkg.dev/colab-wheels/public/simple/\n",
            "Requirement already satisfied: livelossplot in /usr/local/lib/python3.7/dist-packages (0.5.5)\n",
            "Requirement already satisfied: matplotlib in /usr/local/lib/python3.7/dist-packages (from livelossplot) (3.2.2)\n",
            "Requirement already satisfied: numpy<1.22 in /usr/local/lib/python3.7/dist-packages (from livelossplot) (1.21.6)\n",
            "Requirement already satisfied: ipython==7.* in /usr/local/lib/python3.7/dist-packages (from livelossplot) (7.9.0)\n",
            "Requirement already satisfied: bokeh in /usr/local/lib/python3.7/dist-packages (from livelossplot) (2.3.3)\n",
            "Requirement already satisfied: pexpect in /usr/local/lib/python3.7/dist-packages (from ipython==7.*->livelossplot) (4.8.0)\n",
            "Requirement already satisfied: jedi>=0.10 in /usr/local/lib/python3.7/dist-packages (from ipython==7.*->livelossplot) (0.18.1)\n",
            "Requirement already satisfied: prompt-toolkit<2.1.0,>=2.0.0 in /usr/local/lib/python3.7/dist-packages (from ipython==7.*->livelossplot) (2.0.10)\n",
            "Requirement already satisfied: decorator in /usr/local/lib/python3.7/dist-packages (from ipython==7.*->livelossplot) (4.4.2)\n",
            "Requirement already satisfied: traitlets>=4.2 in /usr/local/lib/python3.7/dist-packages (from ipython==7.*->livelossplot) (5.1.1)\n",
            "Requirement already satisfied: pygments in /usr/local/lib/python3.7/dist-packages (from ipython==7.*->livelossplot) (2.6.1)\n",
            "Requirement already satisfied: backcall in /usr/local/lib/python3.7/dist-packages (from ipython==7.*->livelossplot) (0.2.0)\n",
            "Requirement already satisfied: setuptools>=18.5 in /usr/local/lib/python3.7/dist-packages (from ipython==7.*->livelossplot) (57.4.0)\n",
            "Requirement already satisfied: pickleshare in /usr/local/lib/python3.7/dist-packages (from ipython==7.*->livelossplot) (0.7.5)\n",
            "Requirement already satisfied: parso<0.9.0,>=0.8.0 in /usr/local/lib/python3.7/dist-packages (from jedi>=0.10->ipython==7.*->livelossplot) (0.8.3)\n",
            "Requirement already satisfied: wcwidth in /usr/local/lib/python3.7/dist-packages (from prompt-toolkit<2.1.0,>=2.0.0->ipython==7.*->livelossplot) (0.2.5)\n",
            "Requirement already satisfied: six>=1.9.0 in /usr/local/lib/python3.7/dist-packages (from prompt-toolkit<2.1.0,>=2.0.0->ipython==7.*->livelossplot) (1.15.0)\n",
            "Requirement already satisfied: python-dateutil>=2.1 in /usr/local/lib/python3.7/dist-packages (from bokeh->livelossplot) (2.8.2)\n",
            "Requirement already satisfied: typing-extensions>=3.7.4 in /usr/local/lib/python3.7/dist-packages (from bokeh->livelossplot) (4.1.1)\n",
            "Requirement already satisfied: tornado>=5.1 in /usr/local/lib/python3.7/dist-packages (from bokeh->livelossplot) (5.1.1)\n",
            "Requirement already satisfied: packaging>=16.8 in /usr/local/lib/python3.7/dist-packages (from bokeh->livelossplot) (21.3)\n",
            "Requirement already satisfied: pillow>=7.1.0 in /usr/local/lib/python3.7/dist-packages (from bokeh->livelossplot) (7.1.2)\n",
            "Requirement already satisfied: PyYAML>=3.10 in /usr/local/lib/python3.7/dist-packages (from bokeh->livelossplot) (6.0)\n",
            "Requirement already satisfied: Jinja2>=2.9 in /usr/local/lib/python3.7/dist-packages (from bokeh->livelossplot) (2.11.3)\n",
            "Requirement already satisfied: MarkupSafe>=0.23 in /usr/local/lib/python3.7/dist-packages (from Jinja2>=2.9->bokeh->livelossplot) (2.0.1)\n",
            "Requirement already satisfied: pyparsing!=3.0.5,>=2.0.2 in /usr/local/lib/python3.7/dist-packages (from packaging>=16.8->bokeh->livelossplot) (3.0.9)\n",
            "Requirement already satisfied: cycler>=0.10 in /usr/local/lib/python3.7/dist-packages (from matplotlib->livelossplot) (0.11.0)\n",
            "Requirement already satisfied: kiwisolver>=1.0.1 in /usr/local/lib/python3.7/dist-packages (from matplotlib->livelossplot) (1.4.4)\n",
            "Requirement already satisfied: ptyprocess>=0.5 in /usr/local/lib/python3.7/dist-packages (from pexpect->ipython==7.*->livelossplot) (0.7.0)\n"
          ]
        }
      ]
    },
    {
      "cell_type": "code",
      "source": [
        "from livelossplot import PlotLossesKerasTF"
      ],
      "metadata": {
        "id": "XYAf4qK_UoXG"
      },
      "execution_count": null,
      "outputs": []
    },
    {
      "cell_type": "markdown",
      "source": [
        "#Import library"
      ],
      "metadata": {
        "id": "zV1JteZl8vbE"
      }
    },
    {
      "cell_type": "code",
      "execution_count": null,
      "metadata": {
        "id": "8L4VyTeM5lqs"
      },
      "outputs": [],
      "source": [
        "#Import the necessary library\n",
        "import matplotlib.pyplot as plt\n",
        "import pandas as pd\n",
        "import re\n",
        "import numpy as np\n"
      ]
    },
    {
      "cell_type": "code",
      "source": [
        "from tensorflow.keras import Input\n",
        "from tensorflow.keras.layers import Dense, Conv1D\n",
        "from tensorflow.keras.layers import Flatten, Reshape\n",
        "from tensorflow.keras import Model"
      ],
      "metadata": {
        "id": "pBDWIZbs9hse"
      },
      "execution_count": null,
      "outputs": []
    },
    {
      "cell_type": "code",
      "source": [
        "from sklearn.model_selection import train_test_split"
      ],
      "metadata": {
        "id": "b13d6hQb9gTd"
      },
      "execution_count": null,
      "outputs": []
    },
    {
      "cell_type": "markdown",
      "source": [
        "#Data aquisition"
      ],
      "metadata": {
        "id": "qbvdcsV79rHf"
      }
    },
    {
      "cell_type": "code",
      "source": [
        "pd_df_loan_data = pd.read_csv('/content/loan_data.csv')"
      ],
      "metadata": {
        "id": "BnEtuUf99uDx"
      },
      "execution_count": null,
      "outputs": []
    },
    {
      "cell_type": "code",
      "source": [
        "#show first 5 records\n",
        "pd_df_loan_data.head()"
      ],
      "metadata": {
        "colab": {
          "base_uri": "https://localhost:8080/",
          "height": 270
        },
        "id": "WW1hmyN13hRW",
        "outputId": "2e78aada-55a6-4f4d-869a-f4fa34d1a406"
      },
      "execution_count": null,
      "outputs": [
        {
          "output_type": "execute_result",
          "data": {
            "text/plain": [
              "   credit.policy             purpose  int.rate  installment  log.annual.inc  \\\n",
              "0              1  debt_consolidation    0.1189       829.10       11.350407   \n",
              "1              1         credit_card    0.1071       228.22       11.082143   \n",
              "2              1  debt_consolidation    0.1357       366.86       10.373491   \n",
              "3              1  debt_consolidation    0.1008       162.34       11.350407   \n",
              "4              1         credit_card    0.1426       102.92       11.299732   \n",
              "\n",
              "     dti  fico  days.with.cr.line  revol.bal  revol.util  inq.last.6mths  \\\n",
              "0  19.48   737        5639.958333      28854        52.1               0   \n",
              "1  14.29   707        2760.000000      33623        76.7               0   \n",
              "2  11.63   682        4710.000000       3511        25.6               1   \n",
              "3   8.10   712        2699.958333      33667        73.2               1   \n",
              "4  14.97   667        4066.000000       4740        39.5               0   \n",
              "\n",
              "   delinq.2yrs  pub.rec  not.fully.paid  \n",
              "0            0        0               0  \n",
              "1            0        0               0  \n",
              "2            0        0               0  \n",
              "3            0        0               0  \n",
              "4            1        0               0  "
            ],
            "text/html": [
              "\n",
              "  <div id=\"df-cdbfae4a-b337-4eff-99eb-b48cd802e4b7\">\n",
              "    <div class=\"colab-df-container\">\n",
              "      <div>\n",
              "<style scoped>\n",
              "    .dataframe tbody tr th:only-of-type {\n",
              "        vertical-align: middle;\n",
              "    }\n",
              "\n",
              "    .dataframe tbody tr th {\n",
              "        vertical-align: top;\n",
              "    }\n",
              "\n",
              "    .dataframe thead th {\n",
              "        text-align: right;\n",
              "    }\n",
              "</style>\n",
              "<table border=\"1\" class=\"dataframe\">\n",
              "  <thead>\n",
              "    <tr style=\"text-align: right;\">\n",
              "      <th></th>\n",
              "      <th>credit.policy</th>\n",
              "      <th>purpose</th>\n",
              "      <th>int.rate</th>\n",
              "      <th>installment</th>\n",
              "      <th>log.annual.inc</th>\n",
              "      <th>dti</th>\n",
              "      <th>fico</th>\n",
              "      <th>days.with.cr.line</th>\n",
              "      <th>revol.bal</th>\n",
              "      <th>revol.util</th>\n",
              "      <th>inq.last.6mths</th>\n",
              "      <th>delinq.2yrs</th>\n",
              "      <th>pub.rec</th>\n",
              "      <th>not.fully.paid</th>\n",
              "    </tr>\n",
              "  </thead>\n",
              "  <tbody>\n",
              "    <tr>\n",
              "      <th>0</th>\n",
              "      <td>1</td>\n",
              "      <td>debt_consolidation</td>\n",
              "      <td>0.1189</td>\n",
              "      <td>829.10</td>\n",
              "      <td>11.350407</td>\n",
              "      <td>19.48</td>\n",
              "      <td>737</td>\n",
              "      <td>5639.958333</td>\n",
              "      <td>28854</td>\n",
              "      <td>52.1</td>\n",
              "      <td>0</td>\n",
              "      <td>0</td>\n",
              "      <td>0</td>\n",
              "      <td>0</td>\n",
              "    </tr>\n",
              "    <tr>\n",
              "      <th>1</th>\n",
              "      <td>1</td>\n",
              "      <td>credit_card</td>\n",
              "      <td>0.1071</td>\n",
              "      <td>228.22</td>\n",
              "      <td>11.082143</td>\n",
              "      <td>14.29</td>\n",
              "      <td>707</td>\n",
              "      <td>2760.000000</td>\n",
              "      <td>33623</td>\n",
              "      <td>76.7</td>\n",
              "      <td>0</td>\n",
              "      <td>0</td>\n",
              "      <td>0</td>\n",
              "      <td>0</td>\n",
              "    </tr>\n",
              "    <tr>\n",
              "      <th>2</th>\n",
              "      <td>1</td>\n",
              "      <td>debt_consolidation</td>\n",
              "      <td>0.1357</td>\n",
              "      <td>366.86</td>\n",
              "      <td>10.373491</td>\n",
              "      <td>11.63</td>\n",
              "      <td>682</td>\n",
              "      <td>4710.000000</td>\n",
              "      <td>3511</td>\n",
              "      <td>25.6</td>\n",
              "      <td>1</td>\n",
              "      <td>0</td>\n",
              "      <td>0</td>\n",
              "      <td>0</td>\n",
              "    </tr>\n",
              "    <tr>\n",
              "      <th>3</th>\n",
              "      <td>1</td>\n",
              "      <td>debt_consolidation</td>\n",
              "      <td>0.1008</td>\n",
              "      <td>162.34</td>\n",
              "      <td>11.350407</td>\n",
              "      <td>8.10</td>\n",
              "      <td>712</td>\n",
              "      <td>2699.958333</td>\n",
              "      <td>33667</td>\n",
              "      <td>73.2</td>\n",
              "      <td>1</td>\n",
              "      <td>0</td>\n",
              "      <td>0</td>\n",
              "      <td>0</td>\n",
              "    </tr>\n",
              "    <tr>\n",
              "      <th>4</th>\n",
              "      <td>1</td>\n",
              "      <td>credit_card</td>\n",
              "      <td>0.1426</td>\n",
              "      <td>102.92</td>\n",
              "      <td>11.299732</td>\n",
              "      <td>14.97</td>\n",
              "      <td>667</td>\n",
              "      <td>4066.000000</td>\n",
              "      <td>4740</td>\n",
              "      <td>39.5</td>\n",
              "      <td>0</td>\n",
              "      <td>1</td>\n",
              "      <td>0</td>\n",
              "      <td>0</td>\n",
              "    </tr>\n",
              "  </tbody>\n",
              "</table>\n",
              "</div>\n",
              "      <button class=\"colab-df-convert\" onclick=\"convertToInteractive('df-cdbfae4a-b337-4eff-99eb-b48cd802e4b7')\"\n",
              "              title=\"Convert this dataframe to an interactive table.\"\n",
              "              style=\"display:none;\">\n",
              "        \n",
              "  <svg xmlns=\"http://www.w3.org/2000/svg\" height=\"24px\"viewBox=\"0 0 24 24\"\n",
              "       width=\"24px\">\n",
              "    <path d=\"M0 0h24v24H0V0z\" fill=\"none\"/>\n",
              "    <path d=\"M18.56 5.44l.94 2.06.94-2.06 2.06-.94-2.06-.94-.94-2.06-.94 2.06-2.06.94zm-11 1L8.5 8.5l.94-2.06 2.06-.94-2.06-.94L8.5 2.5l-.94 2.06-2.06.94zm10 10l.94 2.06.94-2.06 2.06-.94-2.06-.94-.94-2.06-.94 2.06-2.06.94z\"/><path d=\"M17.41 7.96l-1.37-1.37c-.4-.4-.92-.59-1.43-.59-.52 0-1.04.2-1.43.59L10.3 9.45l-7.72 7.72c-.78.78-.78 2.05 0 2.83L4 21.41c.39.39.9.59 1.41.59.51 0 1.02-.2 1.41-.59l7.78-7.78 2.81-2.81c.8-.78.8-2.07 0-2.86zM5.41 20L4 18.59l7.72-7.72 1.47 1.35L5.41 20z\"/>\n",
              "  </svg>\n",
              "      </button>\n",
              "      \n",
              "  <style>\n",
              "    .colab-df-container {\n",
              "      display:flex;\n",
              "      flex-wrap:wrap;\n",
              "      gap: 12px;\n",
              "    }\n",
              "\n",
              "    .colab-df-convert {\n",
              "      background-color: #E8F0FE;\n",
              "      border: none;\n",
              "      border-radius: 50%;\n",
              "      cursor: pointer;\n",
              "      display: none;\n",
              "      fill: #1967D2;\n",
              "      height: 32px;\n",
              "      padding: 0 0 0 0;\n",
              "      width: 32px;\n",
              "    }\n",
              "\n",
              "    .colab-df-convert:hover {\n",
              "      background-color: #E2EBFA;\n",
              "      box-shadow: 0px 1px 2px rgba(60, 64, 67, 0.3), 0px 1px 3px 1px rgba(60, 64, 67, 0.15);\n",
              "      fill: #174EA6;\n",
              "    }\n",
              "\n",
              "    [theme=dark] .colab-df-convert {\n",
              "      background-color: #3B4455;\n",
              "      fill: #D2E3FC;\n",
              "    }\n",
              "\n",
              "    [theme=dark] .colab-df-convert:hover {\n",
              "      background-color: #434B5C;\n",
              "      box-shadow: 0px 1px 3px 1px rgba(0, 0, 0, 0.15);\n",
              "      filter: drop-shadow(0px 1px 2px rgba(0, 0, 0, 0.3));\n",
              "      fill: #FFFFFF;\n",
              "    }\n",
              "  </style>\n",
              "\n",
              "      <script>\n",
              "        const buttonEl =\n",
              "          document.querySelector('#df-cdbfae4a-b337-4eff-99eb-b48cd802e4b7 button.colab-df-convert');\n",
              "        buttonEl.style.display =\n",
              "          google.colab.kernel.accessAllowed ? 'block' : 'none';\n",
              "\n",
              "        async function convertToInteractive(key) {\n",
              "          const element = document.querySelector('#df-cdbfae4a-b337-4eff-99eb-b48cd802e4b7');\n",
              "          const dataTable =\n",
              "            await google.colab.kernel.invokeFunction('convertToInteractive',\n",
              "                                                     [key], {});\n",
              "          if (!dataTable) return;\n",
              "\n",
              "          const docLinkHtml = 'Like what you see? Visit the ' +\n",
              "            '<a target=\"_blank\" href=https://colab.research.google.com/notebooks/data_table.ipynb>data table notebook</a>'\n",
              "            + ' to learn more about interactive tables.';\n",
              "          element.innerHTML = '';\n",
              "          dataTable['output_type'] = 'display_data';\n",
              "          await google.colab.output.renderOutput(dataTable, element);\n",
              "          const docLink = document.createElement('div');\n",
              "          docLink.innerHTML = docLinkHtml;\n",
              "          element.appendChild(docLink);\n",
              "        }\n",
              "      </script>\n",
              "    </div>\n",
              "  </div>\n",
              "  "
            ]
          },
          "metadata": {},
          "execution_count": 198
        }
      ]
    },
    {
      "cell_type": "code",
      "source": [
        "pd_df_loan_data.info()"
      ],
      "metadata": {
        "colab": {
          "base_uri": "https://localhost:8080/"
        },
        "id": "H9nBTNia4PDX",
        "outputId": "85fdbbee-ea01-4d26-86da-9b69f01dafc4"
      },
      "execution_count": null,
      "outputs": [
        {
          "output_type": "stream",
          "name": "stdout",
          "text": [
            "<class 'pandas.core.frame.DataFrame'>\n",
            "RangeIndex: 9578 entries, 0 to 9577\n",
            "Data columns (total 14 columns):\n",
            " #   Column             Non-Null Count  Dtype  \n",
            "---  ------             --------------  -----  \n",
            " 0   credit.policy      9578 non-null   int64  \n",
            " 1   purpose            9578 non-null   object \n",
            " 2   int.rate           9578 non-null   float64\n",
            " 3   installment        9578 non-null   float64\n",
            " 4   log.annual.inc     9578 non-null   float64\n",
            " 5   dti                9578 non-null   float64\n",
            " 6   fico               9578 non-null   int64  \n",
            " 7   days.with.cr.line  9578 non-null   float64\n",
            " 8   revol.bal          9578 non-null   int64  \n",
            " 9   revol.util         9578 non-null   float64\n",
            " 10  inq.last.6mths     9578 non-null   int64  \n",
            " 11  delinq.2yrs        9578 non-null   int64  \n",
            " 12  pub.rec            9578 non-null   int64  \n",
            " 13  not.fully.paid     9578 non-null   int64  \n",
            "dtypes: float64(6), int64(7), object(1)\n",
            "memory usage: 1.0+ MB\n"
          ]
        }
      ]
    },
    {
      "cell_type": "code",
      "source": [
        "pd_df_loan_data.describe()"
      ],
      "metadata": {
        "colab": {
          "base_uri": "https://localhost:8080/",
          "height": 364
        },
        "id": "zlrIVnEz4JHk",
        "outputId": "180d91ec-e9c1-4ea1-802b-a9c64413421f"
      },
      "execution_count": null,
      "outputs": [
        {
          "output_type": "execute_result",
          "data": {
            "text/plain": [
              "       credit.policy     int.rate  installment  log.annual.inc          dti  \\\n",
              "count    9578.000000  9578.000000  9578.000000     9578.000000  9578.000000   \n",
              "mean        0.804970     0.122640   319.089413       10.932117    12.606679   \n",
              "std         0.396245     0.026847   207.071301        0.614813     6.883970   \n",
              "min         0.000000     0.060000    15.670000        7.547502     0.000000   \n",
              "25%         1.000000     0.103900   163.770000       10.558414     7.212500   \n",
              "50%         1.000000     0.122100   268.950000       10.928884    12.665000   \n",
              "75%         1.000000     0.140700   432.762500       11.291293    17.950000   \n",
              "max         1.000000     0.216400   940.140000       14.528354    29.960000   \n",
              "\n",
              "              fico  days.with.cr.line     revol.bal   revol.util  \\\n",
              "count  9578.000000        9578.000000  9.578000e+03  9578.000000   \n",
              "mean    710.846314        4560.767197  1.691396e+04    46.799236   \n",
              "std      37.970537        2496.930377  3.375619e+04    29.014417   \n",
              "min     612.000000         178.958333  0.000000e+00     0.000000   \n",
              "25%     682.000000        2820.000000  3.187000e+03    22.600000   \n",
              "50%     707.000000        4139.958333  8.596000e+03    46.300000   \n",
              "75%     737.000000        5730.000000  1.824950e+04    70.900000   \n",
              "max     827.000000       17639.958330  1.207359e+06   119.000000   \n",
              "\n",
              "       inq.last.6mths  delinq.2yrs      pub.rec  not.fully.paid  \n",
              "count     9578.000000  9578.000000  9578.000000     9578.000000  \n",
              "mean         1.577469     0.163708     0.062122        0.160054  \n",
              "std          2.200245     0.546215     0.262126        0.366676  \n",
              "min          0.000000     0.000000     0.000000        0.000000  \n",
              "25%          0.000000     0.000000     0.000000        0.000000  \n",
              "50%          1.000000     0.000000     0.000000        0.000000  \n",
              "75%          2.000000     0.000000     0.000000        0.000000  \n",
              "max         33.000000    13.000000     5.000000        1.000000  "
            ],
            "text/html": [
              "\n",
              "  <div id=\"df-23addc27-080a-4b7f-a0e0-e8f47fe27996\">\n",
              "    <div class=\"colab-df-container\">\n",
              "      <div>\n",
              "<style scoped>\n",
              "    .dataframe tbody tr th:only-of-type {\n",
              "        vertical-align: middle;\n",
              "    }\n",
              "\n",
              "    .dataframe tbody tr th {\n",
              "        vertical-align: top;\n",
              "    }\n",
              "\n",
              "    .dataframe thead th {\n",
              "        text-align: right;\n",
              "    }\n",
              "</style>\n",
              "<table border=\"1\" class=\"dataframe\">\n",
              "  <thead>\n",
              "    <tr style=\"text-align: right;\">\n",
              "      <th></th>\n",
              "      <th>credit.policy</th>\n",
              "      <th>int.rate</th>\n",
              "      <th>installment</th>\n",
              "      <th>log.annual.inc</th>\n",
              "      <th>dti</th>\n",
              "      <th>fico</th>\n",
              "      <th>days.with.cr.line</th>\n",
              "      <th>revol.bal</th>\n",
              "      <th>revol.util</th>\n",
              "      <th>inq.last.6mths</th>\n",
              "      <th>delinq.2yrs</th>\n",
              "      <th>pub.rec</th>\n",
              "      <th>not.fully.paid</th>\n",
              "    </tr>\n",
              "  </thead>\n",
              "  <tbody>\n",
              "    <tr>\n",
              "      <th>count</th>\n",
              "      <td>9578.000000</td>\n",
              "      <td>9578.000000</td>\n",
              "      <td>9578.000000</td>\n",
              "      <td>9578.000000</td>\n",
              "      <td>9578.000000</td>\n",
              "      <td>9578.000000</td>\n",
              "      <td>9578.000000</td>\n",
              "      <td>9.578000e+03</td>\n",
              "      <td>9578.000000</td>\n",
              "      <td>9578.000000</td>\n",
              "      <td>9578.000000</td>\n",
              "      <td>9578.000000</td>\n",
              "      <td>9578.000000</td>\n",
              "    </tr>\n",
              "    <tr>\n",
              "      <th>mean</th>\n",
              "      <td>0.804970</td>\n",
              "      <td>0.122640</td>\n",
              "      <td>319.089413</td>\n",
              "      <td>10.932117</td>\n",
              "      <td>12.606679</td>\n",
              "      <td>710.846314</td>\n",
              "      <td>4560.767197</td>\n",
              "      <td>1.691396e+04</td>\n",
              "      <td>46.799236</td>\n",
              "      <td>1.577469</td>\n",
              "      <td>0.163708</td>\n",
              "      <td>0.062122</td>\n",
              "      <td>0.160054</td>\n",
              "    </tr>\n",
              "    <tr>\n",
              "      <th>std</th>\n",
              "      <td>0.396245</td>\n",
              "      <td>0.026847</td>\n",
              "      <td>207.071301</td>\n",
              "      <td>0.614813</td>\n",
              "      <td>6.883970</td>\n",
              "      <td>37.970537</td>\n",
              "      <td>2496.930377</td>\n",
              "      <td>3.375619e+04</td>\n",
              "      <td>29.014417</td>\n",
              "      <td>2.200245</td>\n",
              "      <td>0.546215</td>\n",
              "      <td>0.262126</td>\n",
              "      <td>0.366676</td>\n",
              "    </tr>\n",
              "    <tr>\n",
              "      <th>min</th>\n",
              "      <td>0.000000</td>\n",
              "      <td>0.060000</td>\n",
              "      <td>15.670000</td>\n",
              "      <td>7.547502</td>\n",
              "      <td>0.000000</td>\n",
              "      <td>612.000000</td>\n",
              "      <td>178.958333</td>\n",
              "      <td>0.000000e+00</td>\n",
              "      <td>0.000000</td>\n",
              "      <td>0.000000</td>\n",
              "      <td>0.000000</td>\n",
              "      <td>0.000000</td>\n",
              "      <td>0.000000</td>\n",
              "    </tr>\n",
              "    <tr>\n",
              "      <th>25%</th>\n",
              "      <td>1.000000</td>\n",
              "      <td>0.103900</td>\n",
              "      <td>163.770000</td>\n",
              "      <td>10.558414</td>\n",
              "      <td>7.212500</td>\n",
              "      <td>682.000000</td>\n",
              "      <td>2820.000000</td>\n",
              "      <td>3.187000e+03</td>\n",
              "      <td>22.600000</td>\n",
              "      <td>0.000000</td>\n",
              "      <td>0.000000</td>\n",
              "      <td>0.000000</td>\n",
              "      <td>0.000000</td>\n",
              "    </tr>\n",
              "    <tr>\n",
              "      <th>50%</th>\n",
              "      <td>1.000000</td>\n",
              "      <td>0.122100</td>\n",
              "      <td>268.950000</td>\n",
              "      <td>10.928884</td>\n",
              "      <td>12.665000</td>\n",
              "      <td>707.000000</td>\n",
              "      <td>4139.958333</td>\n",
              "      <td>8.596000e+03</td>\n",
              "      <td>46.300000</td>\n",
              "      <td>1.000000</td>\n",
              "      <td>0.000000</td>\n",
              "      <td>0.000000</td>\n",
              "      <td>0.000000</td>\n",
              "    </tr>\n",
              "    <tr>\n",
              "      <th>75%</th>\n",
              "      <td>1.000000</td>\n",
              "      <td>0.140700</td>\n",
              "      <td>432.762500</td>\n",
              "      <td>11.291293</td>\n",
              "      <td>17.950000</td>\n",
              "      <td>737.000000</td>\n",
              "      <td>5730.000000</td>\n",
              "      <td>1.824950e+04</td>\n",
              "      <td>70.900000</td>\n",
              "      <td>2.000000</td>\n",
              "      <td>0.000000</td>\n",
              "      <td>0.000000</td>\n",
              "      <td>0.000000</td>\n",
              "    </tr>\n",
              "    <tr>\n",
              "      <th>max</th>\n",
              "      <td>1.000000</td>\n",
              "      <td>0.216400</td>\n",
              "      <td>940.140000</td>\n",
              "      <td>14.528354</td>\n",
              "      <td>29.960000</td>\n",
              "      <td>827.000000</td>\n",
              "      <td>17639.958330</td>\n",
              "      <td>1.207359e+06</td>\n",
              "      <td>119.000000</td>\n",
              "      <td>33.000000</td>\n",
              "      <td>13.000000</td>\n",
              "      <td>5.000000</td>\n",
              "      <td>1.000000</td>\n",
              "    </tr>\n",
              "  </tbody>\n",
              "</table>\n",
              "</div>\n",
              "      <button class=\"colab-df-convert\" onclick=\"convertToInteractive('df-23addc27-080a-4b7f-a0e0-e8f47fe27996')\"\n",
              "              title=\"Convert this dataframe to an interactive table.\"\n",
              "              style=\"display:none;\">\n",
              "        \n",
              "  <svg xmlns=\"http://www.w3.org/2000/svg\" height=\"24px\"viewBox=\"0 0 24 24\"\n",
              "       width=\"24px\">\n",
              "    <path d=\"M0 0h24v24H0V0z\" fill=\"none\"/>\n",
              "    <path d=\"M18.56 5.44l.94 2.06.94-2.06 2.06-.94-2.06-.94-.94-2.06-.94 2.06-2.06.94zm-11 1L8.5 8.5l.94-2.06 2.06-.94-2.06-.94L8.5 2.5l-.94 2.06-2.06.94zm10 10l.94 2.06.94-2.06 2.06-.94-2.06-.94-.94-2.06-.94 2.06-2.06.94z\"/><path d=\"M17.41 7.96l-1.37-1.37c-.4-.4-.92-.59-1.43-.59-.52 0-1.04.2-1.43.59L10.3 9.45l-7.72 7.72c-.78.78-.78 2.05 0 2.83L4 21.41c.39.39.9.59 1.41.59.51 0 1.02-.2 1.41-.59l7.78-7.78 2.81-2.81c.8-.78.8-2.07 0-2.86zM5.41 20L4 18.59l7.72-7.72 1.47 1.35L5.41 20z\"/>\n",
              "  </svg>\n",
              "      </button>\n",
              "      \n",
              "  <style>\n",
              "    .colab-df-container {\n",
              "      display:flex;\n",
              "      flex-wrap:wrap;\n",
              "      gap: 12px;\n",
              "    }\n",
              "\n",
              "    .colab-df-convert {\n",
              "      background-color: #E8F0FE;\n",
              "      border: none;\n",
              "      border-radius: 50%;\n",
              "      cursor: pointer;\n",
              "      display: none;\n",
              "      fill: #1967D2;\n",
              "      height: 32px;\n",
              "      padding: 0 0 0 0;\n",
              "      width: 32px;\n",
              "    }\n",
              "\n",
              "    .colab-df-convert:hover {\n",
              "      background-color: #E2EBFA;\n",
              "      box-shadow: 0px 1px 2px rgba(60, 64, 67, 0.3), 0px 1px 3px 1px rgba(60, 64, 67, 0.15);\n",
              "      fill: #174EA6;\n",
              "    }\n",
              "\n",
              "    [theme=dark] .colab-df-convert {\n",
              "      background-color: #3B4455;\n",
              "      fill: #D2E3FC;\n",
              "    }\n",
              "\n",
              "    [theme=dark] .colab-df-convert:hover {\n",
              "      background-color: #434B5C;\n",
              "      box-shadow: 0px 1px 3px 1px rgba(0, 0, 0, 0.15);\n",
              "      filter: drop-shadow(0px 1px 2px rgba(0, 0, 0, 0.3));\n",
              "      fill: #FFFFFF;\n",
              "    }\n",
              "  </style>\n",
              "\n",
              "      <script>\n",
              "        const buttonEl =\n",
              "          document.querySelector('#df-23addc27-080a-4b7f-a0e0-e8f47fe27996 button.colab-df-convert');\n",
              "        buttonEl.style.display =\n",
              "          google.colab.kernel.accessAllowed ? 'block' : 'none';\n",
              "\n",
              "        async function convertToInteractive(key) {\n",
              "          const element = document.querySelector('#df-23addc27-080a-4b7f-a0e0-e8f47fe27996');\n",
              "          const dataTable =\n",
              "            await google.colab.kernel.invokeFunction('convertToInteractive',\n",
              "                                                     [key], {});\n",
              "          if (!dataTable) return;\n",
              "\n",
              "          const docLinkHtml = 'Like what you see? Visit the ' +\n",
              "            '<a target=\"_blank\" href=https://colab.research.google.com/notebooks/data_table.ipynb>data table notebook</a>'\n",
              "            + ' to learn more about interactive tables.';\n",
              "          element.innerHTML = '';\n",
              "          dataTable['output_type'] = 'display_data';\n",
              "          await google.colab.output.renderOutput(dataTable, element);\n",
              "          const docLink = document.createElement('div');\n",
              "          docLink.innerHTML = docLinkHtml;\n",
              "          element.appendChild(docLink);\n",
              "        }\n",
              "      </script>\n",
              "    </div>\n",
              "  </div>\n",
              "  "
            ]
          },
          "metadata": {},
          "execution_count": 200
        }
      ]
    },
    {
      "cell_type": "code",
      "source": [
        "pd_df_loan_data.describe(include=[object])"
      ],
      "metadata": {
        "colab": {
          "base_uri": "https://localhost:8080/",
          "height": 175
        },
        "id": "Ov8MknxO441q",
        "outputId": "7bf4109b-8d4d-4e50-eb50-af1107e032dc"
      },
      "execution_count": null,
      "outputs": [
        {
          "output_type": "execute_result",
          "data": {
            "text/plain": [
              "                   purpose\n",
              "count                 9578\n",
              "unique                   7\n",
              "top     debt_consolidation\n",
              "freq                  3957"
            ],
            "text/html": [
              "\n",
              "  <div id=\"df-5b482685-7ee8-425f-82b8-2bd158acacd3\">\n",
              "    <div class=\"colab-df-container\">\n",
              "      <div>\n",
              "<style scoped>\n",
              "    .dataframe tbody tr th:only-of-type {\n",
              "        vertical-align: middle;\n",
              "    }\n",
              "\n",
              "    .dataframe tbody tr th {\n",
              "        vertical-align: top;\n",
              "    }\n",
              "\n",
              "    .dataframe thead th {\n",
              "        text-align: right;\n",
              "    }\n",
              "</style>\n",
              "<table border=\"1\" class=\"dataframe\">\n",
              "  <thead>\n",
              "    <tr style=\"text-align: right;\">\n",
              "      <th></th>\n",
              "      <th>purpose</th>\n",
              "    </tr>\n",
              "  </thead>\n",
              "  <tbody>\n",
              "    <tr>\n",
              "      <th>count</th>\n",
              "      <td>9578</td>\n",
              "    </tr>\n",
              "    <tr>\n",
              "      <th>unique</th>\n",
              "      <td>7</td>\n",
              "    </tr>\n",
              "    <tr>\n",
              "      <th>top</th>\n",
              "      <td>debt_consolidation</td>\n",
              "    </tr>\n",
              "    <tr>\n",
              "      <th>freq</th>\n",
              "      <td>3957</td>\n",
              "    </tr>\n",
              "  </tbody>\n",
              "</table>\n",
              "</div>\n",
              "      <button class=\"colab-df-convert\" onclick=\"convertToInteractive('df-5b482685-7ee8-425f-82b8-2bd158acacd3')\"\n",
              "              title=\"Convert this dataframe to an interactive table.\"\n",
              "              style=\"display:none;\">\n",
              "        \n",
              "  <svg xmlns=\"http://www.w3.org/2000/svg\" height=\"24px\"viewBox=\"0 0 24 24\"\n",
              "       width=\"24px\">\n",
              "    <path d=\"M0 0h24v24H0V0z\" fill=\"none\"/>\n",
              "    <path d=\"M18.56 5.44l.94 2.06.94-2.06 2.06-.94-2.06-.94-.94-2.06-.94 2.06-2.06.94zm-11 1L8.5 8.5l.94-2.06 2.06-.94-2.06-.94L8.5 2.5l-.94 2.06-2.06.94zm10 10l.94 2.06.94-2.06 2.06-.94-2.06-.94-.94-2.06-.94 2.06-2.06.94z\"/><path d=\"M17.41 7.96l-1.37-1.37c-.4-.4-.92-.59-1.43-.59-.52 0-1.04.2-1.43.59L10.3 9.45l-7.72 7.72c-.78.78-.78 2.05 0 2.83L4 21.41c.39.39.9.59 1.41.59.51 0 1.02-.2 1.41-.59l7.78-7.78 2.81-2.81c.8-.78.8-2.07 0-2.86zM5.41 20L4 18.59l7.72-7.72 1.47 1.35L5.41 20z\"/>\n",
              "  </svg>\n",
              "      </button>\n",
              "      \n",
              "  <style>\n",
              "    .colab-df-container {\n",
              "      display:flex;\n",
              "      flex-wrap:wrap;\n",
              "      gap: 12px;\n",
              "    }\n",
              "\n",
              "    .colab-df-convert {\n",
              "      background-color: #E8F0FE;\n",
              "      border: none;\n",
              "      border-radius: 50%;\n",
              "      cursor: pointer;\n",
              "      display: none;\n",
              "      fill: #1967D2;\n",
              "      height: 32px;\n",
              "      padding: 0 0 0 0;\n",
              "      width: 32px;\n",
              "    }\n",
              "\n",
              "    .colab-df-convert:hover {\n",
              "      background-color: #E2EBFA;\n",
              "      box-shadow: 0px 1px 2px rgba(60, 64, 67, 0.3), 0px 1px 3px 1px rgba(60, 64, 67, 0.15);\n",
              "      fill: #174EA6;\n",
              "    }\n",
              "\n",
              "    [theme=dark] .colab-df-convert {\n",
              "      background-color: #3B4455;\n",
              "      fill: #D2E3FC;\n",
              "    }\n",
              "\n",
              "    [theme=dark] .colab-df-convert:hover {\n",
              "      background-color: #434B5C;\n",
              "      box-shadow: 0px 1px 3px 1px rgba(0, 0, 0, 0.15);\n",
              "      filter: drop-shadow(0px 1px 2px rgba(0, 0, 0, 0.3));\n",
              "      fill: #FFFFFF;\n",
              "    }\n",
              "  </style>\n",
              "\n",
              "      <script>\n",
              "        const buttonEl =\n",
              "          document.querySelector('#df-5b482685-7ee8-425f-82b8-2bd158acacd3 button.colab-df-convert');\n",
              "        buttonEl.style.display =\n",
              "          google.colab.kernel.accessAllowed ? 'block' : 'none';\n",
              "\n",
              "        async function convertToInteractive(key) {\n",
              "          const element = document.querySelector('#df-5b482685-7ee8-425f-82b8-2bd158acacd3');\n",
              "          const dataTable =\n",
              "            await google.colab.kernel.invokeFunction('convertToInteractive',\n",
              "                                                     [key], {});\n",
              "          if (!dataTable) return;\n",
              "\n",
              "          const docLinkHtml = 'Like what you see? Visit the ' +\n",
              "            '<a target=\"_blank\" href=https://colab.research.google.com/notebooks/data_table.ipynb>data table notebook</a>'\n",
              "            + ' to learn more about interactive tables.';\n",
              "          element.innerHTML = '';\n",
              "          dataTable['output_type'] = 'display_data';\n",
              "          await google.colab.output.renderOutput(dataTable, element);\n",
              "          const docLink = document.createElement('div');\n",
              "          docLink.innerHTML = docLinkHtml;\n",
              "          element.appendChild(docLink);\n",
              "        }\n",
              "      </script>\n",
              "    </div>\n",
              "  </div>\n",
              "  "
            ]
          },
          "metadata": {},
          "execution_count": 201
        }
      ]
    },
    {
      "cell_type": "markdown",
      "source": [
        "##Feature Transformation"
      ],
      "metadata": {
        "id": "CM84jbCU6AVc"
      }
    },
    {
      "cell_type": "code",
      "source": [
        "from sklearn import preprocessing\n",
        "le = preprocessing.LabelEncoder()"
      ],
      "metadata": {
        "id": "sSYfE31C6D1B"
      },
      "execution_count": null,
      "outputs": []
    },
    {
      "cell_type": "code",
      "source": [
        "le.fit(pd_df_loan_data['purpose'])"
      ],
      "metadata": {
        "colab": {
          "base_uri": "https://localhost:8080/"
        },
        "id": "U6cAiyeh7b7o",
        "outputId": "6d3d001f-5d15-485a-a31e-61dff5acac0f"
      },
      "execution_count": null,
      "outputs": [
        {
          "output_type": "execute_result",
          "data": {
            "text/plain": [
              "LabelEncoder()"
            ]
          },
          "metadata": {},
          "execution_count": 203
        }
      ]
    },
    {
      "cell_type": "code",
      "source": [
        "le.classes_"
      ],
      "metadata": {
        "colab": {
          "base_uri": "https://localhost:8080/"
        },
        "id": "g2my63Ch7kRn",
        "outputId": "2fe17b7d-ad1a-488f-ae52-66d2239ef086"
      },
      "execution_count": null,
      "outputs": [
        {
          "output_type": "execute_result",
          "data": {
            "text/plain": [
              "array(['all_other', 'credit_card', 'debt_consolidation', 'educational',\n",
              "       'home_improvement', 'major_purchase', 'small_business'],\n",
              "      dtype=object)"
            ]
          },
          "metadata": {},
          "execution_count": 204
        }
      ]
    },
    {
      "cell_type": "code",
      "source": [
        "pd_df_loan_data['purpose'] = le.transform(pd_df_loan_data['purpose'])"
      ],
      "metadata": {
        "id": "VH891RaO6smp"
      },
      "execution_count": null,
      "outputs": []
    },
    {
      "cell_type": "code",
      "source": [
        "pd_df_loan_data.info()"
      ],
      "metadata": {
        "colab": {
          "base_uri": "https://localhost:8080/"
        },
        "id": "421Hg8fvjNMH",
        "outputId": "1dd01840-337a-45ee-baba-074bc75dbeef"
      },
      "execution_count": null,
      "outputs": [
        {
          "output_type": "stream",
          "name": "stdout",
          "text": [
            "<class 'pandas.core.frame.DataFrame'>\n",
            "RangeIndex: 9578 entries, 0 to 9577\n",
            "Data columns (total 14 columns):\n",
            " #   Column             Non-Null Count  Dtype  \n",
            "---  ------             --------------  -----  \n",
            " 0   credit.policy      9578 non-null   int64  \n",
            " 1   purpose            9578 non-null   int64  \n",
            " 2   int.rate           9578 non-null   float64\n",
            " 3   installment        9578 non-null   float64\n",
            " 4   log.annual.inc     9578 non-null   float64\n",
            " 5   dti                9578 non-null   float64\n",
            " 6   fico               9578 non-null   int64  \n",
            " 7   days.with.cr.line  9578 non-null   float64\n",
            " 8   revol.bal          9578 non-null   int64  \n",
            " 9   revol.util         9578 non-null   float64\n",
            " 10  inq.last.6mths     9578 non-null   int64  \n",
            " 11  delinq.2yrs        9578 non-null   int64  \n",
            " 12  pub.rec            9578 non-null   int64  \n",
            " 13  not.fully.paid     9578 non-null   int64  \n",
            "dtypes: float64(6), int64(8)\n",
            "memory usage: 1.0 MB\n"
          ]
        }
      ]
    },
    {
      "cell_type": "code",
      "source": [
        "pd_df_loan_data.describe()"
      ],
      "metadata": {
        "colab": {
          "base_uri": "https://localhost:8080/"
        },
        "id": "lP6l6I-sMHNW",
        "outputId": "80fd7ce0-137b-44d9-b1f2-13de82f47fa4"
      },
      "execution_count": null,
      "outputs": [
        {
          "output_type": "execute_result",
          "data": {
            "text/plain": [
              "       credit.policy      purpose     int.rate  installment  log.annual.inc  \\\n",
              "count    9578.000000  9578.000000  9578.000000  9578.000000     9578.000000   \n",
              "mean        0.804970     1.944038     0.122640   319.089413       10.932117   \n",
              "std         0.396245     1.686881     0.026847   207.071301        0.614813   \n",
              "min         0.000000     0.000000     0.060000    15.670000        7.547502   \n",
              "25%         1.000000     1.000000     0.103900   163.770000       10.558414   \n",
              "50%         1.000000     2.000000     0.122100   268.950000       10.928884   \n",
              "75%         1.000000     2.000000     0.140700   432.762500       11.291293   \n",
              "max         1.000000     6.000000     0.216400   940.140000       14.528354   \n",
              "\n",
              "               dti         fico  days.with.cr.line     revol.bal   revol.util  \\\n",
              "count  9578.000000  9578.000000        9578.000000  9.578000e+03  9578.000000   \n",
              "mean     12.606679   710.846314        4560.767197  1.691396e+04    46.799236   \n",
              "std       6.883970    37.970537        2496.930377  3.375619e+04    29.014417   \n",
              "min       0.000000   612.000000         178.958333  0.000000e+00     0.000000   \n",
              "25%       7.212500   682.000000        2820.000000  3.187000e+03    22.600000   \n",
              "50%      12.665000   707.000000        4139.958333  8.596000e+03    46.300000   \n",
              "75%      17.950000   737.000000        5730.000000  1.824950e+04    70.900000   \n",
              "max      29.960000   827.000000       17639.958330  1.207359e+06   119.000000   \n",
              "\n",
              "       inq.last.6mths  delinq.2yrs      pub.rec  not.fully.paid  \n",
              "count     9578.000000  9578.000000  9578.000000     9578.000000  \n",
              "mean         1.577469     0.163708     0.062122        0.160054  \n",
              "std          2.200245     0.546215     0.262126        0.366676  \n",
              "min          0.000000     0.000000     0.000000        0.000000  \n",
              "25%          0.000000     0.000000     0.000000        0.000000  \n",
              "50%          1.000000     0.000000     0.000000        0.000000  \n",
              "75%          2.000000     0.000000     0.000000        0.000000  \n",
              "max         33.000000    13.000000     5.000000        1.000000  "
            ],
            "text/html": [
              "\n",
              "  <div id=\"df-0927be95-8925-476e-9309-76b058a9c231\">\n",
              "    <div class=\"colab-df-container\">\n",
              "      <div>\n",
              "<style scoped>\n",
              "    .dataframe tbody tr th:only-of-type {\n",
              "        vertical-align: middle;\n",
              "    }\n",
              "\n",
              "    .dataframe tbody tr th {\n",
              "        vertical-align: top;\n",
              "    }\n",
              "\n",
              "    .dataframe thead th {\n",
              "        text-align: right;\n",
              "    }\n",
              "</style>\n",
              "<table border=\"1\" class=\"dataframe\">\n",
              "  <thead>\n",
              "    <tr style=\"text-align: right;\">\n",
              "      <th></th>\n",
              "      <th>credit.policy</th>\n",
              "      <th>purpose</th>\n",
              "      <th>int.rate</th>\n",
              "      <th>installment</th>\n",
              "      <th>log.annual.inc</th>\n",
              "      <th>dti</th>\n",
              "      <th>fico</th>\n",
              "      <th>days.with.cr.line</th>\n",
              "      <th>revol.bal</th>\n",
              "      <th>revol.util</th>\n",
              "      <th>inq.last.6mths</th>\n",
              "      <th>delinq.2yrs</th>\n",
              "      <th>pub.rec</th>\n",
              "      <th>not.fully.paid</th>\n",
              "    </tr>\n",
              "  </thead>\n",
              "  <tbody>\n",
              "    <tr>\n",
              "      <th>count</th>\n",
              "      <td>9578.000000</td>\n",
              "      <td>9578.000000</td>\n",
              "      <td>9578.000000</td>\n",
              "      <td>9578.000000</td>\n",
              "      <td>9578.000000</td>\n",
              "      <td>9578.000000</td>\n",
              "      <td>9578.000000</td>\n",
              "      <td>9578.000000</td>\n",
              "      <td>9.578000e+03</td>\n",
              "      <td>9578.000000</td>\n",
              "      <td>9578.000000</td>\n",
              "      <td>9578.000000</td>\n",
              "      <td>9578.000000</td>\n",
              "      <td>9578.000000</td>\n",
              "    </tr>\n",
              "    <tr>\n",
              "      <th>mean</th>\n",
              "      <td>0.804970</td>\n",
              "      <td>1.944038</td>\n",
              "      <td>0.122640</td>\n",
              "      <td>319.089413</td>\n",
              "      <td>10.932117</td>\n",
              "      <td>12.606679</td>\n",
              "      <td>710.846314</td>\n",
              "      <td>4560.767197</td>\n",
              "      <td>1.691396e+04</td>\n",
              "      <td>46.799236</td>\n",
              "      <td>1.577469</td>\n",
              "      <td>0.163708</td>\n",
              "      <td>0.062122</td>\n",
              "      <td>0.160054</td>\n",
              "    </tr>\n",
              "    <tr>\n",
              "      <th>std</th>\n",
              "      <td>0.396245</td>\n",
              "      <td>1.686881</td>\n",
              "      <td>0.026847</td>\n",
              "      <td>207.071301</td>\n",
              "      <td>0.614813</td>\n",
              "      <td>6.883970</td>\n",
              "      <td>37.970537</td>\n",
              "      <td>2496.930377</td>\n",
              "      <td>3.375619e+04</td>\n",
              "      <td>29.014417</td>\n",
              "      <td>2.200245</td>\n",
              "      <td>0.546215</td>\n",
              "      <td>0.262126</td>\n",
              "      <td>0.366676</td>\n",
              "    </tr>\n",
              "    <tr>\n",
              "      <th>min</th>\n",
              "      <td>0.000000</td>\n",
              "      <td>0.000000</td>\n",
              "      <td>0.060000</td>\n",
              "      <td>15.670000</td>\n",
              "      <td>7.547502</td>\n",
              "      <td>0.000000</td>\n",
              "      <td>612.000000</td>\n",
              "      <td>178.958333</td>\n",
              "      <td>0.000000e+00</td>\n",
              "      <td>0.000000</td>\n",
              "      <td>0.000000</td>\n",
              "      <td>0.000000</td>\n",
              "      <td>0.000000</td>\n",
              "      <td>0.000000</td>\n",
              "    </tr>\n",
              "    <tr>\n",
              "      <th>25%</th>\n",
              "      <td>1.000000</td>\n",
              "      <td>1.000000</td>\n",
              "      <td>0.103900</td>\n",
              "      <td>163.770000</td>\n",
              "      <td>10.558414</td>\n",
              "      <td>7.212500</td>\n",
              "      <td>682.000000</td>\n",
              "      <td>2820.000000</td>\n",
              "      <td>3.187000e+03</td>\n",
              "      <td>22.600000</td>\n",
              "      <td>0.000000</td>\n",
              "      <td>0.000000</td>\n",
              "      <td>0.000000</td>\n",
              "      <td>0.000000</td>\n",
              "    </tr>\n",
              "    <tr>\n",
              "      <th>50%</th>\n",
              "      <td>1.000000</td>\n",
              "      <td>2.000000</td>\n",
              "      <td>0.122100</td>\n",
              "      <td>268.950000</td>\n",
              "      <td>10.928884</td>\n",
              "      <td>12.665000</td>\n",
              "      <td>707.000000</td>\n",
              "      <td>4139.958333</td>\n",
              "      <td>8.596000e+03</td>\n",
              "      <td>46.300000</td>\n",
              "      <td>1.000000</td>\n",
              "      <td>0.000000</td>\n",
              "      <td>0.000000</td>\n",
              "      <td>0.000000</td>\n",
              "    </tr>\n",
              "    <tr>\n",
              "      <th>75%</th>\n",
              "      <td>1.000000</td>\n",
              "      <td>2.000000</td>\n",
              "      <td>0.140700</td>\n",
              "      <td>432.762500</td>\n",
              "      <td>11.291293</td>\n",
              "      <td>17.950000</td>\n",
              "      <td>737.000000</td>\n",
              "      <td>5730.000000</td>\n",
              "      <td>1.824950e+04</td>\n",
              "      <td>70.900000</td>\n",
              "      <td>2.000000</td>\n",
              "      <td>0.000000</td>\n",
              "      <td>0.000000</td>\n",
              "      <td>0.000000</td>\n",
              "    </tr>\n",
              "    <tr>\n",
              "      <th>max</th>\n",
              "      <td>1.000000</td>\n",
              "      <td>6.000000</td>\n",
              "      <td>0.216400</td>\n",
              "      <td>940.140000</td>\n",
              "      <td>14.528354</td>\n",
              "      <td>29.960000</td>\n",
              "      <td>827.000000</td>\n",
              "      <td>17639.958330</td>\n",
              "      <td>1.207359e+06</td>\n",
              "      <td>119.000000</td>\n",
              "      <td>33.000000</td>\n",
              "      <td>13.000000</td>\n",
              "      <td>5.000000</td>\n",
              "      <td>1.000000</td>\n",
              "    </tr>\n",
              "  </tbody>\n",
              "</table>\n",
              "</div>\n",
              "      <button class=\"colab-df-convert\" onclick=\"convertToInteractive('df-0927be95-8925-476e-9309-76b058a9c231')\"\n",
              "              title=\"Convert this dataframe to an interactive table.\"\n",
              "              style=\"display:none;\">\n",
              "        \n",
              "  <svg xmlns=\"http://www.w3.org/2000/svg\" height=\"24px\"viewBox=\"0 0 24 24\"\n",
              "       width=\"24px\">\n",
              "    <path d=\"M0 0h24v24H0V0z\" fill=\"none\"/>\n",
              "    <path d=\"M18.56 5.44l.94 2.06.94-2.06 2.06-.94-2.06-.94-.94-2.06-.94 2.06-2.06.94zm-11 1L8.5 8.5l.94-2.06 2.06-.94-2.06-.94L8.5 2.5l-.94 2.06-2.06.94zm10 10l.94 2.06.94-2.06 2.06-.94-2.06-.94-.94-2.06-.94 2.06-2.06.94z\"/><path d=\"M17.41 7.96l-1.37-1.37c-.4-.4-.92-.59-1.43-.59-.52 0-1.04.2-1.43.59L10.3 9.45l-7.72 7.72c-.78.78-.78 2.05 0 2.83L4 21.41c.39.39.9.59 1.41.59.51 0 1.02-.2 1.41-.59l7.78-7.78 2.81-2.81c.8-.78.8-2.07 0-2.86zM5.41 20L4 18.59l7.72-7.72 1.47 1.35L5.41 20z\"/>\n",
              "  </svg>\n",
              "      </button>\n",
              "      \n",
              "  <style>\n",
              "    .colab-df-container {\n",
              "      display:flex;\n",
              "      flex-wrap:wrap;\n",
              "      gap: 12px;\n",
              "    }\n",
              "\n",
              "    .colab-df-convert {\n",
              "      background-color: #E8F0FE;\n",
              "      border: none;\n",
              "      border-radius: 50%;\n",
              "      cursor: pointer;\n",
              "      display: none;\n",
              "      fill: #1967D2;\n",
              "      height: 32px;\n",
              "      padding: 0 0 0 0;\n",
              "      width: 32px;\n",
              "    }\n",
              "\n",
              "    .colab-df-convert:hover {\n",
              "      background-color: #E2EBFA;\n",
              "      box-shadow: 0px 1px 2px rgba(60, 64, 67, 0.3), 0px 1px 3px 1px rgba(60, 64, 67, 0.15);\n",
              "      fill: #174EA6;\n",
              "    }\n",
              "\n",
              "    [theme=dark] .colab-df-convert {\n",
              "      background-color: #3B4455;\n",
              "      fill: #D2E3FC;\n",
              "    }\n",
              "\n",
              "    [theme=dark] .colab-df-convert:hover {\n",
              "      background-color: #434B5C;\n",
              "      box-shadow: 0px 1px 3px 1px rgba(0, 0, 0, 0.15);\n",
              "      filter: drop-shadow(0px 1px 2px rgba(0, 0, 0, 0.3));\n",
              "      fill: #FFFFFF;\n",
              "    }\n",
              "  </style>\n",
              "\n",
              "      <script>\n",
              "        const buttonEl =\n",
              "          document.querySelector('#df-0927be95-8925-476e-9309-76b058a9c231 button.colab-df-convert');\n",
              "        buttonEl.style.display =\n",
              "          google.colab.kernel.accessAllowed ? 'block' : 'none';\n",
              "\n",
              "        async function convertToInteractive(key) {\n",
              "          const element = document.querySelector('#df-0927be95-8925-476e-9309-76b058a9c231');\n",
              "          const dataTable =\n",
              "            await google.colab.kernel.invokeFunction('convertToInteractive',\n",
              "                                                     [key], {});\n",
              "          if (!dataTable) return;\n",
              "\n",
              "          const docLinkHtml = 'Like what you see? Visit the ' +\n",
              "            '<a target=\"_blank\" href=https://colab.research.google.com/notebooks/data_table.ipynb>data table notebook</a>'\n",
              "            + ' to learn more about interactive tables.';\n",
              "          element.innerHTML = '';\n",
              "          dataTable['output_type'] = 'display_data';\n",
              "          await google.colab.output.renderOutput(dataTable, element);\n",
              "          const docLink = document.createElement('div');\n",
              "          docLink.innerHTML = docLinkHtml;\n",
              "          element.appendChild(docLink);\n",
              "        }\n",
              "      </script>\n",
              "    </div>\n",
              "  </div>\n",
              "  "
            ]
          },
          "metadata": {},
          "execution_count": 207
        }
      ]
    },
    {
      "cell_type": "markdown",
      "source": [
        "##Exploratory data analysis of different factors of the dataset"
      ],
      "metadata": {
        "id": "yNqJ7NI5HQEF"
      }
    },
    {
      "cell_type": "code",
      "source": [
        "pd_df_loan_data['revol.bal_0'] = pd_df_loan_data['revol.bal']"
      ],
      "metadata": {
        "id": "gOVHk40vwkcZ"
      },
      "execution_count": null,
      "outputs": []
    },
    {
      "cell_type": "code",
      "source": [
        "pd_df_loan_data['revol.bal'] = pd_df_loan_data['revol.bal'].apply(lambda a : a / 1000.)\n",
        "pd_df_loan_data['revol.bal_0'] = pd_df_loan_data['revol.bal_0'].apply(lambda a : a / 1000000.)"
      ],
      "metadata": {
        "id": "4ynX5O63xIbz"
      },
      "execution_count": null,
      "outputs": []
    },
    {
      "cell_type": "code",
      "source": [
        "df_s_max_loan_data = pd_df_loan_data.max()"
      ],
      "metadata": {
        "id": "sxyfRv1qfiKW"
      },
      "execution_count": null,
      "outputs": []
    },
    {
      "cell_type": "code",
      "source": [
        "def divMaxGreath_1(data, max_data):\n",
        "  for feature in data.columns:\n",
        "    if (max_data[feature] > 1.):\n",
        "      data[feature] = data[feature] / max_data[feature]\n",
        "    else:\n",
        "      pass"
      ],
      "metadata": {
        "id": "5Et7di-5hdJ5"
      },
      "execution_count": null,
      "outputs": []
    },
    {
      "cell_type": "code",
      "source": [
        "df_s_max_loan_data.max()"
      ],
      "metadata": {
        "colab": {
          "base_uri": "https://localhost:8080/"
        },
        "id": "nJQqnYf_iiyM",
        "outputId": "ee4ee0fa-0086-4f6c-e134-31fcd6f357ed"
      },
      "execution_count": null,
      "outputs": [
        {
          "output_type": "execute_result",
          "data": {
            "text/plain": [
              "17639.95833"
            ]
          },
          "metadata": {},
          "execution_count": 212
        }
      ]
    },
    {
      "cell_type": "code",
      "source": [
        "divMaxGreath_1(pd_df_loan_data, df_s_max_loan_data)"
      ],
      "metadata": {
        "id": "ypOv0ki8iC63"
      },
      "execution_count": null,
      "outputs": []
    },
    {
      "cell_type": "code",
      "source": [
        "pd_df_loan_data.max()"
      ],
      "metadata": {
        "colab": {
          "base_uri": "https://localhost:8080/"
        },
        "id": "KmMWti7si3ZQ",
        "outputId": "d45f45a6-331b-4af5-f321-3a15a3e3f8b7"
      },
      "execution_count": null,
      "outputs": [
        {
          "output_type": "execute_result",
          "data": {
            "text/plain": [
              "credit.policy        1.0000\n",
              "purpose              1.0000\n",
              "int.rate             0.2164\n",
              "installment          1.0000\n",
              "log.annual.inc       1.0000\n",
              "dti                  1.0000\n",
              "fico                 1.0000\n",
              "days.with.cr.line    1.0000\n",
              "revol.bal            1.0000\n",
              "revol.util           1.0000\n",
              "inq.last.6mths       1.0000\n",
              "delinq.2yrs          1.0000\n",
              "pub.rec              1.0000\n",
              "not.fully.paid       1.0000\n",
              "revol.bal_0          1.0000\n",
              "dtype: float64"
            ]
          },
          "metadata": {},
          "execution_count": 214
        }
      ]
    },
    {
      "cell_type": "code",
      "source": [
        "feature_ = pd_df_loan_data.columns[pd_df_loan_data.columns != 'not.fully.paid']\n",
        "np_feature = pd_df_loan_data[feature_].to_numpy()"
      ],
      "metadata": {
        "id": "3fjfUcM5PmNX"
      },
      "execution_count": null,
      "outputs": []
    },
    {
      "cell_type": "code",
      "source": [
        "np_target  = pd_df_loan_data['not.fully.paid'].to_numpy().reshape(pd_df_loan_data.shape[0], 1)"
      ],
      "metadata": {
        "id": "fvufhMe9PDBE"
      },
      "execution_count": null,
      "outputs": []
    },
    {
      "cell_type": "code",
      "source": [
        "np_feature.max()"
      ],
      "metadata": {
        "colab": {
          "base_uri": "https://localhost:8080/"
        },
        "id": "jJ_bApSjZ7ql",
        "outputId": "0b6bba8b-f87c-4a9c-bcfb-3b1bc7a71f53"
      },
      "execution_count": null,
      "outputs": [
        {
          "output_type": "execute_result",
          "data": {
            "text/plain": [
              "1.0"
            ]
          },
          "metadata": {},
          "execution_count": 217
        }
      ]
    },
    {
      "cell_type": "markdown",
      "source": [
        "##Additional Feature Engineering"
      ],
      "metadata": {
        "id": "Bha-aCSmHS9T"
      }
    },
    {
      "cell_type": "markdown",
      "source": [
        "###Check the correlation between features"
      ],
      "metadata": {
        "id": "OdXcJWdXK9L4"
      }
    },
    {
      "cell_type": "code",
      "source": [
        "pd_df_loan_data.corr()"
      ],
      "metadata": {
        "colab": {
          "base_uri": "https://localhost:8080/"
        },
        "id": "6iT172SQHWG5",
        "outputId": "957f3ca8-67d1-414e-c0f0-78db8f07f141"
      },
      "execution_count": null,
      "outputs": [
        {
          "output_type": "execute_result",
          "data": {
            "text/plain": [
              "                   credit.policy   purpose  int.rate  installment  \\\n",
              "credit.policy           1.000000  0.017569 -0.294089     0.058770   \n",
              "purpose                 0.017569  1.000000  0.117067     0.154827   \n",
              "int.rate               -0.294089  0.117067  1.000000     0.276140   \n",
              "installment             0.058770  0.154827  0.276140     1.000000   \n",
              "log.annual.inc          0.034906  0.088958  0.056383     0.448102   \n",
              "dti                    -0.090901 -0.053279  0.220006     0.050202   \n",
              "fico                    0.348319  0.057337 -0.714821     0.086039   \n",
              "days.with.cr.line       0.099026  0.047526 -0.124022     0.183297   \n",
              "revol.bal              -0.187518  0.042364  0.092527     0.233625   \n",
              "revol.util             -0.104095 -0.062947  0.464837     0.081356   \n",
              "inq.last.6mths         -0.535511  0.037516  0.202780    -0.010419   \n",
              "delinq.2yrs            -0.076318 -0.011701  0.156079    -0.004368   \n",
              "pub.rec                -0.054243  0.004793  0.098162    -0.032760   \n",
              "not.fully.paid         -0.158119  0.047907  0.159552     0.049955   \n",
              "revol.bal_0            -0.187518  0.042364  0.092527     0.233625   \n",
              "\n",
              "                   log.annual.inc       dti      fico  days.with.cr.line  \\\n",
              "credit.policy            0.034906 -0.090901  0.348319           0.099026   \n",
              "purpose                  0.088958 -0.053279  0.057337           0.047526   \n",
              "int.rate                 0.056383  0.220006 -0.714821          -0.124022   \n",
              "installment              0.448102  0.050202  0.086039           0.183297   \n",
              "log.annual.inc           1.000000 -0.054065  0.114576           0.336896   \n",
              "dti                     -0.054065  1.000000 -0.241191           0.060101   \n",
              "fico                     0.114576 -0.241191  1.000000           0.263880   \n",
              "days.with.cr.line        0.336896  0.060101  0.263880           1.000000   \n",
              "revol.bal                0.372140  0.188748 -0.015553           0.229344   \n",
              "revol.util               0.054881  0.337109 -0.541289          -0.024239   \n",
              "inq.last.6mths           0.029171  0.029189 -0.185293          -0.041736   \n",
              "delinq.2yrs              0.029203 -0.021792 -0.216340           0.081374   \n",
              "pub.rec                  0.016506  0.006209 -0.147592           0.071826   \n",
              "not.fully.paid          -0.033439  0.037362 -0.149666          -0.029237   \n",
              "revol.bal_0              0.372140  0.188748 -0.015553           0.229344   \n",
              "\n",
              "                   revol.bal  revol.util  inq.last.6mths  delinq.2yrs  \\\n",
              "credit.policy      -0.187518   -0.104095       -0.535511    -0.076318   \n",
              "purpose             0.042364   -0.062947        0.037516    -0.011701   \n",
              "int.rate            0.092527    0.464837        0.202780     0.156079   \n",
              "installment         0.233625    0.081356       -0.010419    -0.004368   \n",
              "log.annual.inc      0.372140    0.054881        0.029171     0.029203   \n",
              "dti                 0.188748    0.337109        0.029189    -0.021792   \n",
              "fico               -0.015553   -0.541289       -0.185293    -0.216340   \n",
              "days.with.cr.line   0.229344   -0.024239       -0.041736     0.081374   \n",
              "revol.bal           1.000000    0.203779        0.022394    -0.033243   \n",
              "revol.util          0.203779    1.000000       -0.013880    -0.042740   \n",
              "inq.last.6mths      0.022394   -0.013880        1.000000     0.021245   \n",
              "delinq.2yrs        -0.033243   -0.042740        0.021245     1.000000   \n",
              "pub.rec            -0.031010    0.066717        0.072673     0.009184   \n",
              "not.fully.paid      0.053699    0.082088        0.149452     0.008881   \n",
              "revol.bal_0         1.000000    0.203779        0.022394    -0.033243   \n",
              "\n",
              "                    pub.rec  not.fully.paid  revol.bal_0  \n",
              "credit.policy     -0.054243       -0.158119    -0.187518  \n",
              "purpose            0.004793        0.047907     0.042364  \n",
              "int.rate           0.098162        0.159552     0.092527  \n",
              "installment       -0.032760        0.049955     0.233625  \n",
              "log.annual.inc     0.016506       -0.033439     0.372140  \n",
              "dti                0.006209        0.037362     0.188748  \n",
              "fico              -0.147592       -0.149666    -0.015553  \n",
              "days.with.cr.line  0.071826       -0.029237     0.229344  \n",
              "revol.bal         -0.031010        0.053699     1.000000  \n",
              "revol.util         0.066717        0.082088     0.203779  \n",
              "inq.last.6mths     0.072673        0.149452     0.022394  \n",
              "delinq.2yrs        0.009184        0.008881    -0.033243  \n",
              "pub.rec            1.000000        0.048634    -0.031010  \n",
              "not.fully.paid     0.048634        1.000000     0.053699  \n",
              "revol.bal_0       -0.031010        0.053699     1.000000  "
            ],
            "text/html": [
              "\n",
              "  <div id=\"df-a3941b68-b0a9-40ff-b70d-7fda0969ead2\">\n",
              "    <div class=\"colab-df-container\">\n",
              "      <div>\n",
              "<style scoped>\n",
              "    .dataframe tbody tr th:only-of-type {\n",
              "        vertical-align: middle;\n",
              "    }\n",
              "\n",
              "    .dataframe tbody tr th {\n",
              "        vertical-align: top;\n",
              "    }\n",
              "\n",
              "    .dataframe thead th {\n",
              "        text-align: right;\n",
              "    }\n",
              "</style>\n",
              "<table border=\"1\" class=\"dataframe\">\n",
              "  <thead>\n",
              "    <tr style=\"text-align: right;\">\n",
              "      <th></th>\n",
              "      <th>credit.policy</th>\n",
              "      <th>purpose</th>\n",
              "      <th>int.rate</th>\n",
              "      <th>installment</th>\n",
              "      <th>log.annual.inc</th>\n",
              "      <th>dti</th>\n",
              "      <th>fico</th>\n",
              "      <th>days.with.cr.line</th>\n",
              "      <th>revol.bal</th>\n",
              "      <th>revol.util</th>\n",
              "      <th>inq.last.6mths</th>\n",
              "      <th>delinq.2yrs</th>\n",
              "      <th>pub.rec</th>\n",
              "      <th>not.fully.paid</th>\n",
              "      <th>revol.bal_0</th>\n",
              "    </tr>\n",
              "  </thead>\n",
              "  <tbody>\n",
              "    <tr>\n",
              "      <th>credit.policy</th>\n",
              "      <td>1.000000</td>\n",
              "      <td>0.017569</td>\n",
              "      <td>-0.294089</td>\n",
              "      <td>0.058770</td>\n",
              "      <td>0.034906</td>\n",
              "      <td>-0.090901</td>\n",
              "      <td>0.348319</td>\n",
              "      <td>0.099026</td>\n",
              "      <td>-0.187518</td>\n",
              "      <td>-0.104095</td>\n",
              "      <td>-0.535511</td>\n",
              "      <td>-0.076318</td>\n",
              "      <td>-0.054243</td>\n",
              "      <td>-0.158119</td>\n",
              "      <td>-0.187518</td>\n",
              "    </tr>\n",
              "    <tr>\n",
              "      <th>purpose</th>\n",
              "      <td>0.017569</td>\n",
              "      <td>1.000000</td>\n",
              "      <td>0.117067</td>\n",
              "      <td>0.154827</td>\n",
              "      <td>0.088958</td>\n",
              "      <td>-0.053279</td>\n",
              "      <td>0.057337</td>\n",
              "      <td>0.047526</td>\n",
              "      <td>0.042364</td>\n",
              "      <td>-0.062947</td>\n",
              "      <td>0.037516</td>\n",
              "      <td>-0.011701</td>\n",
              "      <td>0.004793</td>\n",
              "      <td>0.047907</td>\n",
              "      <td>0.042364</td>\n",
              "    </tr>\n",
              "    <tr>\n",
              "      <th>int.rate</th>\n",
              "      <td>-0.294089</td>\n",
              "      <td>0.117067</td>\n",
              "      <td>1.000000</td>\n",
              "      <td>0.276140</td>\n",
              "      <td>0.056383</td>\n",
              "      <td>0.220006</td>\n",
              "      <td>-0.714821</td>\n",
              "      <td>-0.124022</td>\n",
              "      <td>0.092527</td>\n",
              "      <td>0.464837</td>\n",
              "      <td>0.202780</td>\n",
              "      <td>0.156079</td>\n",
              "      <td>0.098162</td>\n",
              "      <td>0.159552</td>\n",
              "      <td>0.092527</td>\n",
              "    </tr>\n",
              "    <tr>\n",
              "      <th>installment</th>\n",
              "      <td>0.058770</td>\n",
              "      <td>0.154827</td>\n",
              "      <td>0.276140</td>\n",
              "      <td>1.000000</td>\n",
              "      <td>0.448102</td>\n",
              "      <td>0.050202</td>\n",
              "      <td>0.086039</td>\n",
              "      <td>0.183297</td>\n",
              "      <td>0.233625</td>\n",
              "      <td>0.081356</td>\n",
              "      <td>-0.010419</td>\n",
              "      <td>-0.004368</td>\n",
              "      <td>-0.032760</td>\n",
              "      <td>0.049955</td>\n",
              "      <td>0.233625</td>\n",
              "    </tr>\n",
              "    <tr>\n",
              "      <th>log.annual.inc</th>\n",
              "      <td>0.034906</td>\n",
              "      <td>0.088958</td>\n",
              "      <td>0.056383</td>\n",
              "      <td>0.448102</td>\n",
              "      <td>1.000000</td>\n",
              "      <td>-0.054065</td>\n",
              "      <td>0.114576</td>\n",
              "      <td>0.336896</td>\n",
              "      <td>0.372140</td>\n",
              "      <td>0.054881</td>\n",
              "      <td>0.029171</td>\n",
              "      <td>0.029203</td>\n",
              "      <td>0.016506</td>\n",
              "      <td>-0.033439</td>\n",
              "      <td>0.372140</td>\n",
              "    </tr>\n",
              "    <tr>\n",
              "      <th>dti</th>\n",
              "      <td>-0.090901</td>\n",
              "      <td>-0.053279</td>\n",
              "      <td>0.220006</td>\n",
              "      <td>0.050202</td>\n",
              "      <td>-0.054065</td>\n",
              "      <td>1.000000</td>\n",
              "      <td>-0.241191</td>\n",
              "      <td>0.060101</td>\n",
              "      <td>0.188748</td>\n",
              "      <td>0.337109</td>\n",
              "      <td>0.029189</td>\n",
              "      <td>-0.021792</td>\n",
              "      <td>0.006209</td>\n",
              "      <td>0.037362</td>\n",
              "      <td>0.188748</td>\n",
              "    </tr>\n",
              "    <tr>\n",
              "      <th>fico</th>\n",
              "      <td>0.348319</td>\n",
              "      <td>0.057337</td>\n",
              "      <td>-0.714821</td>\n",
              "      <td>0.086039</td>\n",
              "      <td>0.114576</td>\n",
              "      <td>-0.241191</td>\n",
              "      <td>1.000000</td>\n",
              "      <td>0.263880</td>\n",
              "      <td>-0.015553</td>\n",
              "      <td>-0.541289</td>\n",
              "      <td>-0.185293</td>\n",
              "      <td>-0.216340</td>\n",
              "      <td>-0.147592</td>\n",
              "      <td>-0.149666</td>\n",
              "      <td>-0.015553</td>\n",
              "    </tr>\n",
              "    <tr>\n",
              "      <th>days.with.cr.line</th>\n",
              "      <td>0.099026</td>\n",
              "      <td>0.047526</td>\n",
              "      <td>-0.124022</td>\n",
              "      <td>0.183297</td>\n",
              "      <td>0.336896</td>\n",
              "      <td>0.060101</td>\n",
              "      <td>0.263880</td>\n",
              "      <td>1.000000</td>\n",
              "      <td>0.229344</td>\n",
              "      <td>-0.024239</td>\n",
              "      <td>-0.041736</td>\n",
              "      <td>0.081374</td>\n",
              "      <td>0.071826</td>\n",
              "      <td>-0.029237</td>\n",
              "      <td>0.229344</td>\n",
              "    </tr>\n",
              "    <tr>\n",
              "      <th>revol.bal</th>\n",
              "      <td>-0.187518</td>\n",
              "      <td>0.042364</td>\n",
              "      <td>0.092527</td>\n",
              "      <td>0.233625</td>\n",
              "      <td>0.372140</td>\n",
              "      <td>0.188748</td>\n",
              "      <td>-0.015553</td>\n",
              "      <td>0.229344</td>\n",
              "      <td>1.000000</td>\n",
              "      <td>0.203779</td>\n",
              "      <td>0.022394</td>\n",
              "      <td>-0.033243</td>\n",
              "      <td>-0.031010</td>\n",
              "      <td>0.053699</td>\n",
              "      <td>1.000000</td>\n",
              "    </tr>\n",
              "    <tr>\n",
              "      <th>revol.util</th>\n",
              "      <td>-0.104095</td>\n",
              "      <td>-0.062947</td>\n",
              "      <td>0.464837</td>\n",
              "      <td>0.081356</td>\n",
              "      <td>0.054881</td>\n",
              "      <td>0.337109</td>\n",
              "      <td>-0.541289</td>\n",
              "      <td>-0.024239</td>\n",
              "      <td>0.203779</td>\n",
              "      <td>1.000000</td>\n",
              "      <td>-0.013880</td>\n",
              "      <td>-0.042740</td>\n",
              "      <td>0.066717</td>\n",
              "      <td>0.082088</td>\n",
              "      <td>0.203779</td>\n",
              "    </tr>\n",
              "    <tr>\n",
              "      <th>inq.last.6mths</th>\n",
              "      <td>-0.535511</td>\n",
              "      <td>0.037516</td>\n",
              "      <td>0.202780</td>\n",
              "      <td>-0.010419</td>\n",
              "      <td>0.029171</td>\n",
              "      <td>0.029189</td>\n",
              "      <td>-0.185293</td>\n",
              "      <td>-0.041736</td>\n",
              "      <td>0.022394</td>\n",
              "      <td>-0.013880</td>\n",
              "      <td>1.000000</td>\n",
              "      <td>0.021245</td>\n",
              "      <td>0.072673</td>\n",
              "      <td>0.149452</td>\n",
              "      <td>0.022394</td>\n",
              "    </tr>\n",
              "    <tr>\n",
              "      <th>delinq.2yrs</th>\n",
              "      <td>-0.076318</td>\n",
              "      <td>-0.011701</td>\n",
              "      <td>0.156079</td>\n",
              "      <td>-0.004368</td>\n",
              "      <td>0.029203</td>\n",
              "      <td>-0.021792</td>\n",
              "      <td>-0.216340</td>\n",
              "      <td>0.081374</td>\n",
              "      <td>-0.033243</td>\n",
              "      <td>-0.042740</td>\n",
              "      <td>0.021245</td>\n",
              "      <td>1.000000</td>\n",
              "      <td>0.009184</td>\n",
              "      <td>0.008881</td>\n",
              "      <td>-0.033243</td>\n",
              "    </tr>\n",
              "    <tr>\n",
              "      <th>pub.rec</th>\n",
              "      <td>-0.054243</td>\n",
              "      <td>0.004793</td>\n",
              "      <td>0.098162</td>\n",
              "      <td>-0.032760</td>\n",
              "      <td>0.016506</td>\n",
              "      <td>0.006209</td>\n",
              "      <td>-0.147592</td>\n",
              "      <td>0.071826</td>\n",
              "      <td>-0.031010</td>\n",
              "      <td>0.066717</td>\n",
              "      <td>0.072673</td>\n",
              "      <td>0.009184</td>\n",
              "      <td>1.000000</td>\n",
              "      <td>0.048634</td>\n",
              "      <td>-0.031010</td>\n",
              "    </tr>\n",
              "    <tr>\n",
              "      <th>not.fully.paid</th>\n",
              "      <td>-0.158119</td>\n",
              "      <td>0.047907</td>\n",
              "      <td>0.159552</td>\n",
              "      <td>0.049955</td>\n",
              "      <td>-0.033439</td>\n",
              "      <td>0.037362</td>\n",
              "      <td>-0.149666</td>\n",
              "      <td>-0.029237</td>\n",
              "      <td>0.053699</td>\n",
              "      <td>0.082088</td>\n",
              "      <td>0.149452</td>\n",
              "      <td>0.008881</td>\n",
              "      <td>0.048634</td>\n",
              "      <td>1.000000</td>\n",
              "      <td>0.053699</td>\n",
              "    </tr>\n",
              "    <tr>\n",
              "      <th>revol.bal_0</th>\n",
              "      <td>-0.187518</td>\n",
              "      <td>0.042364</td>\n",
              "      <td>0.092527</td>\n",
              "      <td>0.233625</td>\n",
              "      <td>0.372140</td>\n",
              "      <td>0.188748</td>\n",
              "      <td>-0.015553</td>\n",
              "      <td>0.229344</td>\n",
              "      <td>1.000000</td>\n",
              "      <td>0.203779</td>\n",
              "      <td>0.022394</td>\n",
              "      <td>-0.033243</td>\n",
              "      <td>-0.031010</td>\n",
              "      <td>0.053699</td>\n",
              "      <td>1.000000</td>\n",
              "    </tr>\n",
              "  </tbody>\n",
              "</table>\n",
              "</div>\n",
              "      <button class=\"colab-df-convert\" onclick=\"convertToInteractive('df-a3941b68-b0a9-40ff-b70d-7fda0969ead2')\"\n",
              "              title=\"Convert this dataframe to an interactive table.\"\n",
              "              style=\"display:none;\">\n",
              "        \n",
              "  <svg xmlns=\"http://www.w3.org/2000/svg\" height=\"24px\"viewBox=\"0 0 24 24\"\n",
              "       width=\"24px\">\n",
              "    <path d=\"M0 0h24v24H0V0z\" fill=\"none\"/>\n",
              "    <path d=\"M18.56 5.44l.94 2.06.94-2.06 2.06-.94-2.06-.94-.94-2.06-.94 2.06-2.06.94zm-11 1L8.5 8.5l.94-2.06 2.06-.94-2.06-.94L8.5 2.5l-.94 2.06-2.06.94zm10 10l.94 2.06.94-2.06 2.06-.94-2.06-.94-.94-2.06-.94 2.06-2.06.94z\"/><path d=\"M17.41 7.96l-1.37-1.37c-.4-.4-.92-.59-1.43-.59-.52 0-1.04.2-1.43.59L10.3 9.45l-7.72 7.72c-.78.78-.78 2.05 0 2.83L4 21.41c.39.39.9.59 1.41.59.51 0 1.02-.2 1.41-.59l7.78-7.78 2.81-2.81c.8-.78.8-2.07 0-2.86zM5.41 20L4 18.59l7.72-7.72 1.47 1.35L5.41 20z\"/>\n",
              "  </svg>\n",
              "      </button>\n",
              "      \n",
              "  <style>\n",
              "    .colab-df-container {\n",
              "      display:flex;\n",
              "      flex-wrap:wrap;\n",
              "      gap: 12px;\n",
              "    }\n",
              "\n",
              "    .colab-df-convert {\n",
              "      background-color: #E8F0FE;\n",
              "      border: none;\n",
              "      border-radius: 50%;\n",
              "      cursor: pointer;\n",
              "      display: none;\n",
              "      fill: #1967D2;\n",
              "      height: 32px;\n",
              "      padding: 0 0 0 0;\n",
              "      width: 32px;\n",
              "    }\n",
              "\n",
              "    .colab-df-convert:hover {\n",
              "      background-color: #E2EBFA;\n",
              "      box-shadow: 0px 1px 2px rgba(60, 64, 67, 0.3), 0px 1px 3px 1px rgba(60, 64, 67, 0.15);\n",
              "      fill: #174EA6;\n",
              "    }\n",
              "\n",
              "    [theme=dark] .colab-df-convert {\n",
              "      background-color: #3B4455;\n",
              "      fill: #D2E3FC;\n",
              "    }\n",
              "\n",
              "    [theme=dark] .colab-df-convert:hover {\n",
              "      background-color: #434B5C;\n",
              "      box-shadow: 0px 1px 3px 1px rgba(0, 0, 0, 0.15);\n",
              "      filter: drop-shadow(0px 1px 2px rgba(0, 0, 0, 0.3));\n",
              "      fill: #FFFFFF;\n",
              "    }\n",
              "  </style>\n",
              "\n",
              "      <script>\n",
              "        const buttonEl =\n",
              "          document.querySelector('#df-a3941b68-b0a9-40ff-b70d-7fda0969ead2 button.colab-df-convert');\n",
              "        buttonEl.style.display =\n",
              "          google.colab.kernel.accessAllowed ? 'block' : 'none';\n",
              "\n",
              "        async function convertToInteractive(key) {\n",
              "          const element = document.querySelector('#df-a3941b68-b0a9-40ff-b70d-7fda0969ead2');\n",
              "          const dataTable =\n",
              "            await google.colab.kernel.invokeFunction('convertToInteractive',\n",
              "                                                     [key], {});\n",
              "          if (!dataTable) return;\n",
              "\n",
              "          const docLinkHtml = 'Like what you see? Visit the ' +\n",
              "            '<a target=\"_blank\" href=https://colab.research.google.com/notebooks/data_table.ipynb>data table notebook</a>'\n",
              "            + ' to learn more about interactive tables.';\n",
              "          element.innerHTML = '';\n",
              "          dataTable['output_type'] = 'display_data';\n",
              "          await google.colab.output.renderOutput(dataTable, element);\n",
              "          const docLink = document.createElement('div');\n",
              "          docLink.innerHTML = docLinkHtml;\n",
              "          element.appendChild(docLink);\n",
              "        }\n",
              "      </script>\n",
              "    </div>\n",
              "  </div>\n",
              "  "
            ]
          },
          "metadata": {},
          "execution_count": 221
        }
      ]
    },
    {
      "cell_type": "markdown",
      "source": [
        "###Drop features which have a strong correlation"
      ],
      "metadata": {
        "id": "4UZTkarbLBmu"
      }
    },
    {
      "cell_type": "code",
      "source": [],
      "metadata": {
        "id": "RTfijz_zLFY7"
      },
      "execution_count": null,
      "outputs": []
    },
    {
      "cell_type": "markdown",
      "source": [
        "###Reduce the number of features"
      ],
      "metadata": {
        "id": "VesE3NQeN7iK"
      }
    },
    {
      "cell_type": "code",
      "source": [],
      "metadata": {
        "id": "cpGO_e07N_BJ"
      },
      "execution_count": null,
      "outputs": []
    },
    {
      "cell_type": "markdown",
      "source": [
        "###Keep the most relevant features"
      ],
      "metadata": {
        "id": "V0w0g5YBN_UI"
      }
    },
    {
      "cell_type": "code",
      "source": [],
      "metadata": {
        "id": "ai6-8dwrOJHh"
      },
      "execution_count": null,
      "outputs": []
    },
    {
      "cell_type": "markdown",
      "source": [
        "#Modeling"
      ],
      "metadata": {
        "id": "Sd4lRTBbHWmb"
      }
    },
    {
      "cell_type": "markdown",
      "source": [
        "###Build generator"
      ],
      "metadata": {
        "id": "MDvOPfHqVjvU"
      }
    },
    {
      "cell_type": "code",
      "source": [
        "import os\n",
        "\n",
        "def getArrayOfBachSize(_X, _Y, _start, _end):\n",
        "  return _X[_start:_end], _Y[_start:_end]\n",
        "\n",
        "class RecordIO():\n",
        "  def __init__(self, _input, _output):\n",
        "    self.X_train, self.X_test, self.Y_train, self.Y_test = train_test_split(_input, _output, test_size=0.25, random_state=42)\n",
        "    self.filename_config = None#\n",
        "\n",
        "  def setFilenameConfig(self, filename):\n",
        "    self.filename_config = filename\n",
        "\n",
        "  def read(self, _isRead):\n",
        "    pass\n",
        "\n",
        "  def getTrain(self):\n",
        "    return self.X_train, self.Y_train\n",
        "\n",
        "  def getTest(self):\n",
        "    return self.X_test, self.Y_test\n",
        "\n",
        "class GeneratorIO():\n",
        "  def __init__(self, _input, _output, _filename_config):\n",
        "    self.recordIO = RecordIO(_input, _output)\n",
        "    self.size_input = _input.shape\n",
        "    self.size_output = _output.shape\n",
        "    self.batch_size = 10\n",
        "    self.isWork = True\n",
        "    self.history = None\n",
        "    self.filename_config = _filename_config\n",
        "\n",
        "  def setFilenameConfig(self, filename):\n",
        "    self.filename_config = filename\n",
        "\n",
        "  def updateTrainIO(self, _X, _Y, _start):\n",
        "    size_ = _X.shape[0]\n",
        "    x, y = self.recordIO.getTrain()\n",
        "    x = np.concatenate((_X[_start:size_], x), axis=0)\n",
        "    y = np.concatenate((_Y[_start:size_], y), axis=0)\n",
        "    return x, y\n",
        "\n",
        "  def updateConfig(self):\n",
        "    if ((self.filename_config is not None) and (os.path.isfile(self.filename_config))):\n",
        "      pd_df_config = pd.read_csv(self.filename_config)\n",
        "      if (hasattr(pd_df_config, 'isWork')):\n",
        "        self.isWork = pd_df_config['isWork'][0]\n",
        "      if (hasattr(pd_df_config, 'batch_size')):\n",
        "        self.batch_size = pd_df_config['batch_size'][0]\n",
        "\n",
        "  def getTrainIO(self):\n",
        "    start_, end_ = 1, 0\n",
        "    nbr_batch_, i_ = 0, 0\n",
        "    size_x = (1, *self.size_input[1:])\n",
        "    size_y = (1, *self.size_output[1:])\n",
        "    np_data_x_ = np.zeros(np.prod(size_x)).reshape(size_x)\n",
        "    np_data_y_ = np.zeros(np.prod(size_y)).reshape(size_y)\n",
        "    try:\n",
        "      while (self.isWork):\n",
        "        if (i_ < nbr_batch_):\n",
        "          x_data_ = np_data_x_[start_:end_]\n",
        "          y_data_ = np_data_y_[start_:end_]\n",
        "        else:\n",
        "          self.updateConfig()\n",
        "          np_data_x_, np_data_y_ = self.updateTrainIO(np_data_x_, np_data_y_, start_)\n",
        "          start_, end_ = 0, self.batch_size\n",
        "          x_data_ = np_data_x_[start_:end_]\n",
        "          y_data_ = np_data_y_[start_:end_]\n",
        "\n",
        "          nbr_batch_, i_ = int(np_data_x_.shape[0] / self.batch_size), 0\n",
        "\n",
        "        start_ += self.batch_size\n",
        "        end_   += self.batch_size\n",
        "        i_ += 1\n",
        "        yield x_data_, y_data_\n",
        "    except GeneratorExit:\n",
        "        print(\"Generator exit, is work {}\".format(self.isWork))\n",
        "\n",
        "\n",
        "  def getTestIO(self):\n",
        "    try:\n",
        "      while (self.isWork):\n",
        "        yield self.recordIO.getTest()\n",
        "    except GeneratorExit:\n",
        "        print(\"Generator exit, is work {}\".format(self.isWork))\n",
        "\n"
      ],
      "metadata": {
        "id": "d5NrhZoGVnl_"
      },
      "execution_count": null,
      "outputs": []
    },
    {
      "cell_type": "code",
      "source": [
        "config_name = '/content/model_config.txt'\n",
        "batch_size = 10\n",
        "gIO = GeneratorIO(np_feature, np_target, config_name)"
      ],
      "metadata": {
        "id": "cfBMGqP4Xosq"
      },
      "execution_count": null,
      "outputs": []
    },
    {
      "cell_type": "markdown",
      "source": [
        "###Build the predictive model"
      ],
      "metadata": {
        "id": "dhAbBF_WOcRt"
      }
    },
    {
      "cell_type": "code",
      "source": [
        "from tensorflow.keras import regularizers"
      ],
      "metadata": {
        "id": "-Zqta8zlTt62"
      },
      "execution_count": null,
      "outputs": []
    },
    {
      "cell_type": "code",
      "source": [
        "class NotFullyPaid():\n",
        "  def __init__(self, input_size, output_size):\n",
        "\n",
        "    self.input_layer = Input(shape=input_size,\n",
        "                            name=\"Not fully paid\",\n",
        "                            dtype=np.float32,\n",
        "                            )\n",
        "    x = Dense(int(input_size * 1.5),\n",
        "              use_bias=True,\n",
        "              activation='relu'\n",
        "              )(self.input_layer)\n",
        "    x = Reshape((int(input_size * 1.5), 1),\n",
        "                input_shape=(int(input_size * 1.5),)\n",
        "                )(x)\n",
        "    x = Conv1D(filters=32,\n",
        "              kernel_size=3,\n",
        "              activation='relu'\n",
        "              )(x)\n",
        "    x = Conv1D(filters=32,\n",
        "              kernel_size=3,\n",
        "              activation='relu'\n",
        "              )(x)\n",
        "    x = Conv1D(filters=1,\n",
        "              kernel_size=3,\n",
        "              activation='relu'\n",
        "              )(x)\n",
        "    x = Flatten()(x)\n",
        "    self.output_layer = Dense(output_size,\n",
        "              activation='sigmoid'\n",
        "              )(x)\n",
        "\n",
        "    self.isModel = False\n",
        "    self._Model = None\n",
        "\n",
        "  def getModel(self):\n",
        "    if (self.isModel != True):\n",
        "      self._Model = Model(self.input_layer, self.output_layer)\n",
        "      self.isModel = True\n",
        "    return self._Model\n",
        ""
      ],
      "metadata": {
        "id": "YEWNBC-0HcQ4"
      },
      "execution_count": null,
      "outputs": []
    },
    {
      "cell_type": "code",
      "source": [
        "input_size = np_feature.shape[1]\n",
        "output_size = np_target.shape[1]"
      ],
      "metadata": {
        "id": "X0CDxo-QTaxk"
      },
      "execution_count": null,
      "outputs": []
    },
    {
      "cell_type": "code",
      "source": [
        "model_ = NotFullyPaid(input_size, output_size)"
      ],
      "metadata": {
        "id": "1Y5q-oqLS_up"
      },
      "execution_count": null,
      "outputs": []
    },
    {
      "cell_type": "code",
      "source": [
        "notFP_model = model_.getModel()"
      ],
      "metadata": {
        "id": "D8YimisdT3rb"
      },
      "execution_count": null,
      "outputs": []
    },
    {
      "cell_type": "code",
      "source": [
        "notFP_model.summary()"
      ],
      "metadata": {
        "colab": {
          "base_uri": "https://localhost:8080/"
        },
        "id": "Z-oBFCV8UEQX",
        "outputId": "88614326-4525-4676-876f-ca65e3b12eb1"
      },
      "execution_count": null,
      "outputs": [
        {
          "output_type": "stream",
          "name": "stdout",
          "text": [
            "Model: \"model_1\"\n",
            "_________________________________________________________________\n",
            " Layer (type)                Output Shape              Param #   \n",
            "=================================================================\n",
            " Not fully paid (InputLayer)  [(None, 14)]             0         \n",
            "                                                                 \n",
            " dense_2 (Dense)             (None, 21)                315       \n",
            "                                                                 \n",
            " reshape_1 (Reshape)         (None, 21, 1)             0         \n",
            "                                                                 \n",
            " conv1d_3 (Conv1D)           (None, 19, 32)            128       \n",
            "                                                                 \n",
            " conv1d_4 (Conv1D)           (None, 17, 32)            3104      \n",
            "                                                                 \n",
            " conv1d_5 (Conv1D)           (None, 15, 1)             97        \n",
            "                                                                 \n",
            " flatten_1 (Flatten)         (None, 15)                0         \n",
            "                                                                 \n",
            " dense_3 (Dense)             (None, 1)                 16        \n",
            "                                                                 \n",
            "=================================================================\n",
            "Total params: 3,660\n",
            "Trainable params: 3,660\n",
            "Non-trainable params: 0\n",
            "_________________________________________________________________\n"
          ]
        }
      ]
    },
    {
      "cell_type": "code",
      "source": [
        "from tensorflow.keras.optimizers import Adam"
      ],
      "metadata": {
        "id": "9dNFXh7dWcRy"
      },
      "execution_count": null,
      "outputs": []
    },
    {
      "cell_type": "code",
      "source": [
        "test_adam = Adam(learning_rate=1)"
      ],
      "metadata": {
        "id": "pE6TfN_BWeCM"
      },
      "execution_count": null,
      "outputs": []
    },
    {
      "cell_type": "code",
      "source": [
        "notFP_model.compile(optimizer=test_adam,\n",
        "              loss='categorical_crossentropy', metrics=['accuracy'])"
      ],
      "metadata": {
        "id": "ejZbz0oNUZ5H"
      },
      "execution_count": null,
      "outputs": []
    },
    {
      "cell_type": "code",
      "source": [
        "gIO.history = notFP_model.fit(gIO.getTrainIO(),\n",
        "              validation_data=(gIO.getTestIO()),\n",
        "              epochs=2000,\n",
        "              steps_per_epoch=720,\n",
        "              validation_steps=1,\n",
        "              workers=0,\n",
        "              callbacks=[PlotLossesKerasTF()]\n",
        "              )"
      ],
      "metadata": {
        "colab": {
          "base_uri": "https://localhost:8080/",
          "height": 741
        },
        "id": "WIW6xnKJU0k9",
        "outputId": "0fad0034-bd41-4a77-899e-9f995de58b06"
      },
      "execution_count": null,
      "outputs": [
        {
          "output_type": "display_data",
          "data": {
            "text/plain": [
              "<Figure size 864x576 with 2 Axes>"
            ],
            "image/png": "[encoded data removed]"
          },
          "metadata": {
            "needs_background": "light"
          }
        },
        {
          "output_type": "stream",
          "name": "stdout",
          "text": [
            "accuracy\n",
            "\ttraining         \t (min:    0.839, max:    0.840, cur:    0.840)\n",
            "\tvalidation       \t (min:    0.840, max:    0.840, cur:    0.840)\n",
            "Loss\n",
            "\ttraining         \t (min:      nan, max:      nan, cur:      nan)\n",
            "\tvalidation       \t (min:      nan, max:      nan, cur:      nan)\n",
            "\b\b\b\b\b\b\b\b\b\b\b\b\b\b\b\b\b\b\b\b\b\b\b\b\b\b\b\b\b\b\b\b\b\b\b\b\b\b\b\b\b\b\b\b\b\b\b\b\b\b\b\b\b\b\b\b\b\b\b\b\b\b\b\b\b\b\b\b\b\b\b\b\b\b\b\b\b\b\b\b\b\r720/720 [==============================] - 3s 4ms/step - loss: nan - accuracy: 0.8401 - val_loss: nan - val_accuracy: 0.8401\n",
            "Epoch 1617/2000\n",
            " 84/720 [==>...........................] - ETA: 1s - loss: nan - accuracy: 0.8250"
          ]
        }
      ]
    },
    {
      "cell_type": "markdown",
      "source": [
        "###Predict"
      ],
      "metadata": {
        "id": "4kipIu_9OiZE"
      }
    },
    {
      "cell_type": "code",
      "source": [],
      "metadata": {
        "id": "0XMInvcpOkpo"
      },
      "execution_count": null,
      "outputs": []
    }
  ]
}