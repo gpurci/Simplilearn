{
  "nbformat": 4,
  "nbformat_minor": 0,
  "metadata": {
    "colab": {
      "provenance": []
    },
    "kernelspec": {
      "name": "python3",
      "display_name": "Python 3"
    },
    "language_info": {
      "name": "python"
    }
  },
  "cells": [
    {
      "cell_type": "markdown",
      "source": [
        "See Simplilearn_Time_series\n"
      ],
      "metadata": {
        "id": "ERhO1sq4ApSV"
      }
    },
    {
      "cell_type": "markdown",
      "source": [
        "#Import library"
      ],
      "metadata": {
        "id": "2T77yZMpRsAf"
      }
    },
    {
      "cell_type": "code",
      "execution_count": null,
      "metadata": {
        "id": "qNeMPC3BRf91"
      },
      "outputs": [],
      "source": [
        "import pandas as pd\n",
        "import numpy as np\n",
        "import seaborn as sns"
      ]
    },
    {
      "cell_type": "code",
      "source": [
        "from sklearn.linear_model import LinearRegression"
      ],
      "metadata": {
        "id": "1DzvdJO6V035"
      },
      "execution_count": null,
      "outputs": []
    },
    {
      "cell_type": "markdown",
      "source": [
        "#Data manipulation"
      ],
      "metadata": {
        "id": "NmcXs-dsAkXD"
      }
    },
    {
      "cell_type": "code",
      "source": [
        "lr = LinearRegression()\n",
        "lr_time = LinearRegression()"
      ],
      "metadata": {
        "id": "JZVwWijMWA8W"
      },
      "execution_count": null,
      "outputs": []
    },
    {
      "cell_type": "code",
      "source": [
        "data = np.array([5.15, 4.89, 5.49, 5.69, 6.22, 6.21, 6.22, 6.47, 6.44, 6.68, 6.86, 6.82, 6.76, 7.04, 7.32, 7.35])\n",
        "data_1 = np.array([0.93, 0.84, 1.09, 1.14, 0.93, 0.84, 1.09, 1.14, 0.93, 0.84, 1.09, 1.14, 0.93, 0.84, 1.09, 1.14, 0.93, 0.84, 1.09, 1.14])\n",
        "target = np.array([4.80, 4.10, 6.00, 6.50, 5.80, 5.20, 6.80, 7.40, 6.00, 5.60, 7.50, 7.80, 6.30, 5.90, 8.00, 8.40])\n",
        "\n",
        "np_time = np.arange(1, data.shape[0] + 1)"
      ],
      "metadata": {
        "id": "d4Aj2RimWJVI"
      },
      "execution_count": null,
      "outputs": []
    },
    {
      "cell_type": "code",
      "source": [
        "data = list(zip(data_0, data_1))"
      ],
      "metadata": {
        "id": "4Eh8UDJnZChk"
      },
      "execution_count": null,
      "outputs": []
    },
    {
      "cell_type": "code",
      "source": [
        "data"
      ],
      "metadata": {
        "id": "RfpUDcLhZOQO"
      },
      "execution_count": null,
      "outputs": []
    },
    {
      "cell_type": "code",
      "source": [
        "lr.fit(data.reshape(-1, 1), target)"
      ],
      "metadata": {
        "colab": {
          "base_uri": "https://localhost:8080/"
        },
        "id": "TxSNtdwVWGU9",
        "outputId": "f03e4630-6376-4f33-f422-8d721e370d1e"
      },
      "execution_count": null,
      "outputs": [
        {
          "output_type": "execute_result",
          "data": {
            "text/plain": [
              "LinearRegression()"
            ]
          },
          "metadata": {},
          "execution_count": 32
        }
      ]
    },
    {
      "cell_type": "code",
      "source": [
        "lr_time.fit(np_time.reshape(-1, 1), data)"
      ],
      "metadata": {
        "colab": {
          "base_uri": "https://localhost:8080/"
        },
        "id": "tkQku9FUazK6",
        "outputId": "70c52e95-bb8c-414f-c700-481694b2449c"
      },
      "execution_count": null,
      "outputs": [
        {
          "output_type": "execute_result",
          "data": {
            "text/plain": [
              "LinearRegression()"
            ]
          },
          "metadata": {},
          "execution_count": 44
        }
      ]
    },
    {
      "cell_type": "code",
      "source": [
        "lr.intercept_"
      ],
      "metadata": {
        "colab": {
          "base_uri": "https://localhost:8080/"
        },
        "id": "TUdE0S_rZUz4",
        "outputId": "3156bada-2d9b-413d-9651-ebe4ce551087"
      },
      "execution_count": null,
      "outputs": [
        {
          "output_type": "execute_result",
          "data": {
            "text/plain": [
              "-1.523736686591688"
            ]
          },
          "metadata": {},
          "execution_count": 33
        }
      ]
    },
    {
      "cell_type": "code",
      "source": [
        "lr_time.intercept_"
      ],
      "metadata": {
        "colab": {
          "base_uri": "https://localhost:8080/"
        },
        "id": "fig5L1lBbHWn",
        "outputId": "c34ce096-c62b-4a3c-f08d-696a0b6849f2"
      },
      "execution_count": null,
      "outputs": [
        {
          "output_type": "execute_result",
          "data": {
            "text/plain": [
              "5.099750000000001"
            ]
          },
          "metadata": {},
          "execution_count": 45
        }
      ]
    },
    {
      "cell_type": "code",
      "source": [
        "lr.coef_"
      ],
      "metadata": {
        "colab": {
          "base_uri": "https://localhost:8080/"
        },
        "id": "CAJAuTDKX2IK",
        "outputId": "7d1ab6c4-2437-4ef5-827b-d3e3b41ce011"
      },
      "execution_count": null,
      "outputs": [
        {
          "output_type": "execute_result",
          "data": {
            "text/plain": [
              "array([1.24475728])"
            ]
          },
          "metadata": {},
          "execution_count": 20
        }
      ]
    },
    {
      "cell_type": "code",
      "source": [
        "lr_time.coef_"
      ],
      "metadata": {
        "colab": {
          "base_uri": "https://localhost:8080/"
        },
        "id": "0QubWKEmbMLm",
        "outputId": "97f72b44-ed4c-4310-8458-1bc1f26bf8c2"
      },
      "execution_count": null,
      "outputs": [
        {
          "output_type": "execute_result",
          "data": {
            "text/plain": [
              "array([0.14716176])"
            ]
          },
          "metadata": {},
          "execution_count": 46
        }
      ]
    },
    {
      "cell_type": "code",
      "source": [
        "pred_data = data * lr.coef_[0] + lr.intercept_\n",
        "pred_time = np_time * lr_time.coef_[0] + lr_time.intercept_"
      ],
      "metadata": {
        "id": "w0DJxKw8YXMv"
      },
      "execution_count": null,
      "outputs": []
    },
    {
      "cell_type": "code",
      "source": [
        "data_time = data_1[:16] * pred_time\n",
        "data_r = data_1[:16] * data\n",
        "data_trend = data_1[:16] * pred_data"
      ],
      "metadata": {
        "id": "PAyDMFNscJef"
      },
      "execution_count": null,
      "outputs": []
    },
    {
      "cell_type": "code",
      "source": [
        "sns.lineplot(data={'target':target, 'data':data_r, 'data trend':data_trend, 'data time': data_time})"
      ],
      "metadata": {
        "colab": {
          "base_uri": "https://localhost:8080/",
          "height": 282
        },
        "id": "THC8sPB6ZzM3",
        "outputId": "a4f549d3-e24a-4126-c4a4-c02bcb8a7456"
      },
      "execution_count": null,
      "outputs": [
        {
          "output_type": "execute_result",
          "data": {
            "text/plain": [
              "<matplotlib.axes._subplots.AxesSubplot at 0x7f22a41494d0>"
            ]
          },
          "metadata": {},
          "execution_count": 58
        },
        {
          "output_type": "display_data",
          "data": {
            "image/png": "[encoded data removed]",
            "text/plain": [
              "<Figure size 432x288 with 1 Axes>"
            ]
          },
          "metadata": {
            "needs_background": "light"
          }
        }
      ]
    },
    {
      "cell_type": "code",
      "source": [
        "sns.lineplot(data={'target':target, 'data time': data_time})"
      ],
      "metadata": {
        "colab": {
          "base_uri": "https://localhost:8080/",
          "height": 282
        },
        "id": "Nwp4kgW4juFO",
        "outputId": "1d38eb30-554a-44f6-e368-4a1bffccfdec"
      },
      "execution_count": null,
      "outputs": [
        {
          "output_type": "execute_result",
          "data": {
            "text/plain": [
              "<matplotlib.axes._subplots.AxesSubplot at 0x7f22a4152bd0>"
            ]
          },
          "metadata": {},
          "execution_count": 59
        },
        {
          "output_type": "display_data",
          "data": {
            "image/png": "[encoded data removed]",
            "text/plain": [
              "<Figure size 432x288 with 1 Axes>"
            ]
          },
          "metadata": {
            "needs_background": "light"
          }
        }
      ]
    }
  ]
}