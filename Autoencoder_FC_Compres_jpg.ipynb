{
  "nbformat": 4,
  "nbformat_minor": 0,
  "metadata": {
    "kernelspec": {
      "display_name": "Python 3",
      "language": "python",
      "name": "python3"
    },
    "language_info": {
      "codemirror_mode": {
        "name": "ipython",
        "version": 3
      },
      "file_extension": ".py",
      "mimetype": "text/x-python",
      "name": "python",
      "nbconvert_exporter": "python",
      "pygments_lexer": "ipython3",
      "version": "3.5.1"
    },
    "colab": {
      "provenance": [],
      "collapsed_sections": [
        "oJDlxHT4Bg21",
        "4ZbyuKw6BkZK",
        "rZmciVHXCBpi",
        "ibLHJaJ3COg6"
      ]
    }
  },
  "cells": [
    {
      "cell_type": "markdown",
      "source": [
        "#Install library"
      ],
      "metadata": {
        "id": "sTZttAI6TejI"
      }
    },
    {
      "cell_type": "code",
      "source": [
        "!pip install livelossplot"
      ],
      "metadata": {
        "colab": {
          "base_uri": "https://localhost:8080/"
        },
        "id": "2HYF8sV5TdhV",
        "outputId": "88804993-e25e-490b-c61a-2682a1cdbe4c"
      },
      "execution_count": null,
      "outputs": [
        {
          "output_type": "stream",
          "name": "stdout",
          "text": [
            "Looking in indexes: https://pypi.org/simple, https://us-python.pkg.dev/colab-wheels/public/simple/\n",
            "Collecting livelossplot\n",
            "  Downloading livelossplot-0.5.5-py3-none-any.whl (22 kB)\n",
            "Requirement already satisfied: ipython==7.* in /usr/local/lib/python3.7/dist-packages (from livelossplot) (7.9.0)\n",
            "Requirement already satisfied: bokeh in /usr/local/lib/python3.7/dist-packages (from livelossplot) (2.3.3)\n",
            "Requirement already satisfied: numpy<1.22 in /usr/local/lib/python3.7/dist-packages (from livelossplot) (1.21.6)\n",
            "Requirement already satisfied: matplotlib in /usr/local/lib/python3.7/dist-packages (from livelossplot) (3.2.2)\n",
            "Requirement already satisfied: decorator in /usr/local/lib/python3.7/dist-packages (from ipython==7.*->livelossplot) (4.4.2)\n",
            "Requirement already satisfied: pexpect in /usr/local/lib/python3.7/dist-packages (from ipython==7.*->livelossplot) (4.8.0)\n",
            "Requirement already satisfied: prompt-toolkit<2.1.0,>=2.0.0 in /usr/local/lib/python3.7/dist-packages (from ipython==7.*->livelossplot) (2.0.10)\n",
            "Requirement already satisfied: backcall in /usr/local/lib/python3.7/dist-packages (from ipython==7.*->livelossplot) (0.2.0)\n",
            "Requirement already satisfied: pygments in /usr/local/lib/python3.7/dist-packages (from ipython==7.*->livelossplot) (2.6.1)\n",
            "Requirement already satisfied: setuptools>=18.5 in /usr/local/lib/python3.7/dist-packages (from ipython==7.*->livelossplot) (57.4.0)\n",
            "Requirement already satisfied: pickleshare in /usr/local/lib/python3.7/dist-packages (from ipython==7.*->livelossplot) (0.7.5)\n",
            "Requirement already satisfied: traitlets>=4.2 in /usr/local/lib/python3.7/dist-packages (from ipython==7.*->livelossplot) (5.1.1)\n",
            "Collecting jedi>=0.10\n",
            "  Downloading jedi-0.18.1-py2.py3-none-any.whl (1.6 MB)\n",
            "\u001b[K     |████████████████████████████████| 1.6 MB 6.0 MB/s \n",
            "\u001b[?25hRequirement already satisfied: parso<0.9.0,>=0.8.0 in /usr/local/lib/python3.7/dist-packages (from jedi>=0.10->ipython==7.*->livelossplot) (0.8.3)\n",
            "Requirement already satisfied: wcwidth in /usr/local/lib/python3.7/dist-packages (from prompt-toolkit<2.1.0,>=2.0.0->ipython==7.*->livelossplot) (0.2.5)\n",
            "Requirement already satisfied: six>=1.9.0 in /usr/local/lib/python3.7/dist-packages (from prompt-toolkit<2.1.0,>=2.0.0->ipython==7.*->livelossplot) (1.15.0)\n",
            "Requirement already satisfied: Jinja2>=2.9 in /usr/local/lib/python3.7/dist-packages (from bokeh->livelossplot) (2.11.3)\n",
            "Requirement already satisfied: pillow>=7.1.0 in /usr/local/lib/python3.7/dist-packages (from bokeh->livelossplot) (7.1.2)\n",
            "Requirement already satisfied: typing-extensions>=3.7.4 in /usr/local/lib/python3.7/dist-packages (from bokeh->livelossplot) (4.1.1)\n",
            "Requirement already satisfied: packaging>=16.8 in /usr/local/lib/python3.7/dist-packages (from bokeh->livelossplot) (21.3)\n",
            "Requirement already satisfied: tornado>=5.1 in /usr/local/lib/python3.7/dist-packages (from bokeh->livelossplot) (5.1.1)\n",
            "Requirement already satisfied: python-dateutil>=2.1 in /usr/local/lib/python3.7/dist-packages (from bokeh->livelossplot) (2.8.2)\n",
            "Requirement already satisfied: PyYAML>=3.10 in /usr/local/lib/python3.7/dist-packages (from bokeh->livelossplot) (6.0)\n",
            "Requirement already satisfied: MarkupSafe>=0.23 in /usr/local/lib/python3.7/dist-packages (from Jinja2>=2.9->bokeh->livelossplot) (2.0.1)\n",
            "Requirement already satisfied: pyparsing!=3.0.5,>=2.0.2 in /usr/local/lib/python3.7/dist-packages (from packaging>=16.8->bokeh->livelossplot) (3.0.9)\n",
            "Requirement already satisfied: cycler>=0.10 in /usr/local/lib/python3.7/dist-packages (from matplotlib->livelossplot) (0.11.0)\n",
            "Requirement already satisfied: kiwisolver>=1.0.1 in /usr/local/lib/python3.7/dist-packages (from matplotlib->livelossplot) (1.4.4)\n",
            "Requirement already satisfied: ptyprocess>=0.5 in /usr/local/lib/python3.7/dist-packages (from pexpect->ipython==7.*->livelossplot) (0.7.0)\n",
            "Installing collected packages: jedi, livelossplot\n",
            "Successfully installed jedi-0.18.1 livelossplot-0.5.5\n"
          ]
        }
      ]
    },
    {
      "cell_type": "code",
      "source": [
        "from livelossplot import PlotLossesKerasTF"
      ],
      "metadata": {
        "id": "riVQk-w-UXPR"
      },
      "execution_count": null,
      "outputs": []
    },
    {
      "cell_type": "markdown",
      "source": [
        "#Import library"
      ],
      "metadata": {
        "id": "oJDlxHT4Bg21"
      }
    },
    {
      "cell_type": "code",
      "metadata": {
        "collapsed": true,
        "id": "JNDvGEGZvCVE"
      },
      "source": [
        "#Import the necessary library\n",
        "\n",
        "#import matplotlib.pyplot as plt\n",
        "#import pandas as pd\n",
        "import re\n",
        "from bs4 import BeautifulSoup\n",
        "from urllib.request import urlopen\n",
        "import requests\n",
        "# import required libraries\n",
        "import os\n",
        "import sys\n",
        "from PIL import Image\n",
        "import numpy as np"
      ],
      "execution_count": null,
      "outputs": []
    },
    {
      "cell_type": "code",
      "source": [
        "from tensorflow.keras import Input\n",
        "from tensorflow.keras.layers import Dense, Reshape, BatchNormalization, Conv2D, Conv2DTranspose, Conv1D, MaxPool2D, Flatten\n",
        "from tensorflow.keras import Model"
      ],
      "metadata": {
        "id": "5sY1I1zETqdy"
      },
      "execution_count": null,
      "outputs": []
    },
    {
      "cell_type": "code",
      "source": [
        "from matplotlib import pyplot as plt"
      ],
      "metadata": {
        "id": "qQefzXjaTxXT"
      },
      "execution_count": null,
      "outputs": []
    },
    {
      "cell_type": "code",
      "source": [
        "from sklearn.model_selection import train_test_split"
      ],
      "metadata": {
        "id": "wqZ2sj4NUSxx"
      },
      "execution_count": null,
      "outputs": []
    },
    {
      "cell_type": "markdown",
      "source": [
        "#HTML txt data"
      ],
      "metadata": {
        "id": "4ZbyuKw6BkZK"
      }
    },
    {
      "cell_type": "code",
      "source": [
        "html_div_txt = ''' <div class=\"MosaicGrid-module__grid___FkDSh\"><a data-testid=\"mosaic-grid-asset\" class=\"MosaicGridAsset-module__asset___KUL2E\" href=\"/photo/an-aerial-view-of-florence-italy-and-florence-cathedral-gm1205752676-347464482\" data-max-width=\"612\" data-max-height=\"407\" style=\"--width:612; --height:407;\"><img src=\"https://media.istockphoto.com/photos/an-aerial-view-of-florence-italy-and-florence-cathedral-picture-id1205752676?k=20&amp;m=1205752676&amp;s=612x612&amp;w=0&amp;h=Hn070U4SxWAZpvq183L-JaZuu0Mi7wsA4eMG8USx9G8=\" alt=\"An aerial view of Florence, Italy and Florence Cathedral\"></a><a data-testid=\"mosaic-grid-asset\" class=\"MosaicGridAsset-module__asset___KUL2E\" href=\"/photo/drone-view-of-zemun-belgrade-serbia-gm1410470892-460656114\" data-max-width=\"612\" data-max-height=\"344\" style=\"--width:612; --height:344;\"><img src=\"https://media.istockphoto.com/photos/drone-view-of-zemun-belgrade-serbia-picture-id1410470892?k=20&amp;m=1410470892&amp;s=612x612&amp;w=0&amp;h=Gihen9hcFwDlTuZp5PfIO1fk8lDYMSBBlGKk5-tGk2A=\" alt=\"Drone view of Zemun, Belgrade, Serbia.\"></a><a data-testid=\"mosaic-grid-asset\" class=\"MosaicGridAsset-module__asset___KUL2E\" href=\"/photo/sunset-over-the-old-town-gm1187412985-335409560\" data-max-width=\"612\" data-max-height=\"288\" style=\"--width:612; --height:288;\"><img src=\"https://media.istockphoto.com/photos/sunset-over-the-old-town-picture-id1187412985?k=20&amp;m=1187412985&amp;s=612x612&amp;w=0&amp;h=VBW-YFM2DRpSv4C5g1TeqPwOJ450m6rdmaKmUolh7Ak=\" alt=\"Sunset over the old town\"></a><a data-testid=\"mosaic-grid-asset\" class=\"MosaicGridAsset-module__asset___KUL2E\" href=\"/photo/view-over-the-temples-of-chaiyaphum-in-thailand-to-the-surrounding-mountains-at-gm1297003884-390256011\" data-max-width=\"612\" data-max-height=\"344\" style=\"--width:612; --height:344;\"><img src=\"https://media.istockphoto.com/photos/view-over-the-temples-of-chaiyaphum-in-thailand-to-the-surrounding-picture-id1297003884?k=20&amp;m=1297003884&amp;s=612x612&amp;w=0&amp;h=yHEybpX2YzLOfU0_Oeg32CGyzhzbYeD6NSEcqRsXUS0=\" alt=\"View over the temples of Chaiyaphum in Thailand to the surrounding mountains at sunset\"></a><a data-testid=\"mosaic-grid-asset\" class=\"MosaicGridAsset-module__asset___KUL2E\" href=\"/photo/sunset-over-florence-italy-gm1157593714-315916879\" data-max-width=\"612\" data-max-height=\"407\" style=\"--width:612; --height:407;\"><img src=\"https://media.istockphoto.com/photos/sunset-over-florence-italy-picture-id1157593714?k=20&amp;m=1157593714&amp;s=612x612&amp;w=0&amp;h=ny02hfxc4nHXQHAG8Yyvj-16VaLCRz4ZIm-x-AOWNek=\" alt=\"Sunset over Florence, Italy\"></a><a data-testid=\"mosaic-grid-asset\" class=\"MosaicGridAsset-module__asset___KUL2E\" href=\"/photo/magic-sunset-over-florence-gm1038552908-277986288\" data-max-width=\"612\" data-max-height=\"305\" style=\"--width:612; --height:305;\"><img src=\"https://media.istockphoto.com/photos/magic-sunset-over-florence-picture-id1038552908?k=20&amp;m=1038552908&amp;s=612x612&amp;w=0&amp;h=yeQIvjfMjc_LGC-KnCarWOd4pRfFLf8C_udJL6ttGps=\" alt=\"Magic sunset over Florence\"></a><a data-testid=\"mosaic-grid-asset\" class=\"MosaicGridAsset-module__asset___KUL2E\" href=\"/photo/nice-sunset-from-the-heights-of-the-city-of-madrid-gm1137342242-303262786\" data-max-width=\"408\" data-max-height=\"612\" style=\"--width:408; --height:612;\"><img src=\"https://media.istockphoto.com/photos/nice-sunset-from-the-heights-of-the-city-of-madrid-picture-id1137342242?k=20&amp;m=1137342242&amp;s=612x612&amp;w=0&amp;h=j47nuk7kcj8ZYcFDxSOb7grnl2P6SBlQ-Nxn4ObO0Fw=\" alt=\"Nice sunset from the heights of the city of Madrid\"></a><a data-testid=\"mosaic-grid-asset\" class=\"MosaicGridAsset-module__asset___KUL2E\" href=\"/photo/mosque-through-the-sunset-qasimi-mosque-view-from-the-roof-in-nuba-village-at-hebron-gm1272863211-375012838\" data-max-width=\"612\" data-max-height=\"411\" style=\"--width:612; --height:411;\"><img src=\"https://media.istockphoto.com/photos/mosque-through-the-sunset-qasimi-mosque-view-from-the-roof-in-nuba-picture-id1272863211?k=20&amp;m=1272863211&amp;s=612x612&amp;w=0&amp;h=HKpA6LBMdCTGevc4pqFhD5NN_Ra5f9Ijep43OPNa7IY=\" alt=\"Mosque Through the Sunset. Qasimi Mosque view from the roof in Nuba village at Hebron, Palestine . HDR Mosque\"></a><a data-testid=\"mosaic-grid-asset\" class=\"MosaicGridAsset-module__asset___KUL2E\" href=\"/photo/aerial-view-of-sunset-above-european-city-gm1170236115-323747786\" data-max-width=\"612\" data-max-height=\"612\" style=\"--width:612; --height:612;\"><img src=\"https://media.istockphoto.com/photos/aerial-view-of-sunset-above-european-city-picture-id1170236115?k=20&amp;m=1170236115&amp;s=612x612&amp;w=0&amp;h=VnRVcJD5fCHWfl05xx7514-gukN8hpa8xbMeJQsdKOc=\" alt=\"aerial view of sunset above european city\"></a><a data-testid=\"mosaic-grid-asset\" class=\"MosaicGridAsset-module__asset___KUL2E\" href=\"/photo/view-of-bratislava-st-martins-cathedral-from-castle-in-the-morning-gm1178176604-329198693\" data-max-width=\"612\" data-max-height=\"309\" style=\"--width:612; --height:309;\"><img src=\"https://media.istockphoto.com/photos/view-of-bratislava-st-martins-cathedral-from-castle-in-the-morning-picture-id1178176604?k=20&amp;m=1178176604&amp;s=612x612&amp;w=0&amp;h=HEyJ5lVFUS6jiBH059esKBLW-_of9aBGvD91hS1Q32o=\" alt=\"View of Bratislava St. Martin's cathedral from castle in the morning.\"></a><a data-testid=\"mosaic-grid-asset\" class=\"MosaicGridAsset-module__asset___KUL2E\" href=\"/photo/jamaa-el-fna-market-square-with-koutoubia-mosque-marrakesh-morocco-gm1199709725-343359540\" data-max-width=\"612\" data-max-height=\"407\" style=\"--width:612; --height:407;\"><img src=\"https://media.istockphoto.com/photos/jamaa-el-fna-market-square-with-koutoubia-mosque-marrakesh-morocco-picture-id1199709725?k=20&amp;m=1199709725&amp;s=612x612&amp;w=0&amp;h=erUgktLi34cLFgyBYa5j1sCO23Ewqw3m2ZUp8Hx96Jg=\" alt=\"Jamaa el Fna market square with Koutoubia mosque, Marrakesh, Morocco\"></a><a data-testid=\"mosaic-grid-asset\" class=\"MosaicGridAsset-module__asset___KUL2E\" href=\"/photo/sunset-over-florence-gm1226301319-361271669\" data-max-width=\"612\" data-max-height=\"405\" style=\"--width:612; --height:405;\"><img src=\"https://media.istockphoto.com/photos/sunset-over-florence-picture-id1226301319?k=20&amp;m=1226301319&amp;s=612x612&amp;w=0&amp;h=9dJGWPde2TxKIlT87QfQmbpiQRKdmqaUTtuQx0aAP2k=\" alt=\"Sunset over Florence\"></a><a data-testid=\"mosaic-grid-asset\" class=\"MosaicGridAsset-module__asset___KUL2E\" href=\"/photo/malaysia-mosque-with-muslim-pray-in-malaysia-gm1156855780-315453950\" data-max-width=\"612\" data-max-height=\"407\" style=\"--width:612; --height:407;\"><img src=\"https://media.istockphoto.com/photos/malaysia-mosque-with-muslim-pray-in-malaysia-picture-id1156855780?k=20&amp;m=1156855780&amp;s=612x612&amp;w=0&amp;h=RvNsKGqCmJYNiU2GTULUCfTKUCrQJBjfu6H7IFXUbvc=\" alt=\"Malaysia Mosque with Muslim pray in Malaysia\"></a><a data-testid=\"mosaic-grid-asset\" class=\"MosaicGridAsset-module__asset___KUL2E\" href=\"/photo/view-over-the-city-of-augsburg-gm1392547369-448750367\" data-max-width=\"612\" data-max-height=\"408\" style=\"--width:612; --height:408;\"><img src=\"https://media.istockphoto.com/photos/view-over-the-city-of-augsburg-picture-id1392547369?k=20&amp;m=1392547369&amp;s=612x612&amp;w=0&amp;h=-EQpjSF3XFMdibbTB0RkRQ4WdqhHhlXZ1kIm50CBNP0=\" alt=\"View over  the city of Augsburg\"></a><a data-testid=\"mosaic-grid-asset\" class=\"MosaicGridAsset-module__asset___KUL2E\" href=\"/photo/the-tall-pagoda-gm627681028-111211675\" data-max-width=\"612\" data-max-height=\"343\" style=\"--width:612; --height:343;\"><img src=\"https://media.istockphoto.com/photos/the-tall-pagoda-picture-id627681028?k=20&amp;m=627681028&amp;s=612x612&amp;w=0&amp;h=l5eeai-y1B_x8u3pakvEHTasOsLfvJEcmYKHliE9ne4=\" alt=\"the tall pagoda\"></a><a data-testid=\"mosaic-grid-asset\" class=\"MosaicGridAsset-module__asset___KUL2E\" href=\"/photo/skyline-kiev-city-with-beautiful-morning-sky-pedestrian-bridge-left-bank-the-dnieper-gm1188850124-336383263\" data-max-width=\"612\" data-max-height=\"343\" style=\"--width:612; --height:343;\"><img src=\"https://media.istockphoto.com/photos/skyline-kiev-city-with-beautiful-morning-sky-pedestrian-bridge-left-picture-id1188850124?k=20&amp;m=1188850124&amp;s=612x612&amp;w=0&amp;h=kSNOhs4iDuWRZl8RmlooYEojkqrPILgaWIoLjXAM3qA=\" alt=\"Skyline, Kiev city with beautiful morning sky. Pedestrian bridge. Left bank the Dnieper River.\"></a><a data-testid=\"mosaic-grid-asset\" class=\"MosaicGridAsset-module__asset___KUL2E\" href=\"/photo/genova-at-sunset-gm836319700-136030785\" data-max-width=\"612\" data-max-height=\"408\" style=\"--width:612; --height:408;\"><img src=\"https://media.istockphoto.com/photos/genova-at-sunset-picture-id836319700?k=20&amp;m=836319700&amp;s=612x612&amp;w=0&amp;h=75myRFGqDLeDX0QPIWPkPvw98jClbErpGNY87ghpK5Q=\" alt=\"Genova at sunset\"></a><a data-testid=\"mosaic-grid-asset\" class=\"MosaicGridAsset-module__asset___KUL2E\" href=\"/photo/florence-panorama-gm664497770-120958933\" data-max-width=\"612\" data-max-height=\"292\" style=\"--width:612; --height:292;\"><img src=\"https://media.istockphoto.com/photos/florence-panorama-picture-id664497770?k=20&amp;m=664497770&amp;s=612x612&amp;w=0&amp;h=ZNqHX7gmoYrtrwhAlB4YyRDj5O6XIf740JIw7HnVhx4=\" alt=\"Florence Panorama\"></a><a data-testid=\"mosaic-grid-asset\" class=\"MosaicGridAsset-module__asset___KUL2E\" href=\"/photo/arno-river-and-ponte-vecchio-at-sunset-florence-gm500887591-42979886\" data-max-width=\"612\" data-max-height=\"243\" style=\"--width:612; --height:243;\"><img src=\"https://media.istockphoto.com/photos/arno-river-and-ponte-vecchio-at-sunset-florence-picture-id500887591?k=20&amp;m=500887591&amp;s=612x612&amp;w=0&amp;h=rK_1I1cA04IbvgLeL4dDxG9FUTQpOi3_g9oz1WEJh7Q=\" alt=\"Arno River and Ponte Vecchio at sunset, Florence\"></a><a data-testid=\"mosaic-grid-asset\" class=\"MosaicGridAsset-module__asset___KUL2E\" href=\"/photo/winter-sunset-over-tobolsk-gm1296960101-390225844\" data-max-width=\"612\" data-max-height=\"417\" style=\"--width:612; --height:417;\"><img src=\"https://media.istockphoto.com/photos/winter-sunset-over-tobolsk-picture-id1296960101?k=20&amp;m=1296960101&amp;s=612x612&amp;w=0&amp;h=2MyT8B_ytSggEGKxkY1FfQ3YaVMLZgh2azOXYT-jeLc=\" alt=\"Winter sunset over Tobolsk\"></a><a data-testid=\"mosaic-grid-asset\" class=\"MosaicGridAsset-module__asset___KUL2E\" href=\"/photo/church-gm912363162-251174119\" data-max-width=\"612\" data-max-height=\"408\" style=\"--width:612; --height:408;\"><img src=\"https://media.istockphoto.com/photos/church-picture-id912363162?k=20&amp;m=912363162&amp;s=612x612&amp;w=0&amp;h=4OgQtksUqeLO73jvOc_Mgmw2LI1GQ7jls0-bQNtX6D4=\" alt=\"Church\"></a><a data-testid=\"mosaic-grid-asset\" class=\"MosaicGridAsset-module__asset___KUL2E\" href=\"/photo/view-terrazza-del-pincio-in-rome-at-italy-gm1326102199-410914230\" data-max-width=\"612\" data-max-height=\"408\" style=\"--width:612; --height:408;\"><img src=\"https://media.istockphoto.com/photos/view-terrazza-del-pincio-in-rome-at-italy-picture-id1326102199?k=20&amp;m=1326102199&amp;s=612x612&amp;w=0&amp;h=E6SfYeXOmk22Lc3d0zl12eG_svn4F9adE7H-8wkS4rU=\" alt=\"View Terrazza Del Pincio In Rome At Italy\"></a><a data-testid=\"mosaic-grid-asset\" class=\"MosaicGridAsset-module__asset___KUL2E\" href=\"/photo/beautiful-sunset-in-verona-veneto-region-italy-gm901614046-248735413\" data-max-width=\"405\" data-max-height=\"612\" style=\"--width:405; --height:612;\"><img src=\"https://media.istockphoto.com/photos/beautiful-sunset-in-verona-veneto-region-italy-picture-id901614046?k=20&amp;m=901614046&amp;s=612x612&amp;w=0&amp;h=gnd2YvuTstXFYQCv4pA-8DLmOQ_YA7_aAttIUTLfT4o=\" alt=\"Beautiful sunset in Verona, Veneto region, Italy.\"></a><a data-testid=\"mosaic-grid-asset\" class=\"MosaicGridAsset-module__asset___KUL2E\" href=\"/photo/view-over-florence-from-piazzale-michelangelo-gm687360854-126336249\" data-max-width=\"612\" data-max-height=\"407\" style=\"--width:612; --height:407;\"><img src=\"https://media.istockphoto.com/photos/view-over-florence-from-piazzale-michelangelo-picture-id687360854?k=20&amp;m=687360854&amp;s=612x612&amp;w=0&amp;h=2U8zMJ_Tz9-Whb6hTgKNFerZtsIzxUYGHRyN5fn8PLo=\" alt=\"View over Florence from Piazzale Michelangelo\"></a><a data-testid=\"mosaic-grid-asset\" class=\"MosaicGridAsset-module__asset___KUL2E\" href=\"/photo/florence-the-capital-of-tuscany-gm933853270-255767655\" data-max-width=\"612\" data-max-height=\"408\" style=\"--width:612; --height:408;\"><img src=\"https://media.istockphoto.com/photos/florence-the-capital-of-tuscany-picture-id933853270?k=20&amp;m=933853270&amp;s=612x612&amp;w=0&amp;h=rgS7jfUPTGN5lBucO_sHTjv102IgVxW0QPQJpXxRzec=\" alt=\"Florence - The capital of Tuscany\"></a><a data-testid=\"mosaic-grid-asset\" class=\"MosaicGridAsset-module__asset___KUL2E\" href=\"/photo/beautiful-sunset-above-voronezh-city-gm923900514-253588764\" data-max-width=\"612\" data-max-height=\"408\" style=\"--width:612; --height:408;\"><img src=\"https://media.istockphoto.com/photos/beautiful-sunset-above-voronezh-city-picture-id923900514?k=20&amp;m=923900514&amp;s=612x612&amp;w=0&amp;h=G87ypNCKXTm2ugXWDx7Z5ZJ3uBTEcItkESbWxs-_utU=\" alt=\"Beautiful sunset above Voronezh city\"></a><a data-testid=\"mosaic-grid-asset\" class=\"MosaicGridAsset-module__asset___KUL2E\" href=\"/photo/city-by-the-sea-at-sunrise-vinitsa-bulgaria-gm1309896335-399469035\" data-max-width=\"612\" data-max-height=\"191\" style=\"--width:612; --height:191;\"><img src=\"https://media.istockphoto.com/photos/city-by-the-sea-at-sunrise-vinitsa-bulgaria-picture-id1309896335?k=20&amp;m=1309896335&amp;s=612x612&amp;w=0&amp;h=gZ7Y92MaeTe_lfO_iqacHNQWXRndUPwozCO834Y2IvQ=\" alt=\"City by the Sea at Sunrise Vinitsa, Bulgaria\"></a><a data-testid=\"mosaic-grid-asset\" class=\"MosaicGridAsset-module__asset___KUL2E\" href=\"/photo/aerial-view-of-the-monument-motherland-shrouded-in-thick-fog-at-dawn-kiev-ukraine-gm1188850505-336383647\" data-max-width=\"612\" data-max-height=\"343\" style=\"--width:612; --height:343;\"><img src=\"https://media.istockphoto.com/photos/aerial-view-of-the-monument-motherland-shrouded-in-thick-fog-at-dawn-picture-id1188850505?k=20&amp;m=1188850505&amp;s=612x612&amp;w=0&amp;h=7LVOnitKQe4SkWsvvYP-29YCm2id_2GWDIomD2B-yzI=\" alt=\"Aerial view of the Monument Motherland, shrouded in thick fog at dawn, Kiev, Ukraine. The concept of the apocalyptic doomsday.\"></a><a data-testid=\"mosaic-grid-asset\" class=\"MosaicGridAsset-module__asset___KUL2E\" href=\"/photo/sunrise-or-sunset-over-the-rooftops-of-rome-gm829904894-134974697\" data-max-width=\"612\" data-max-height=\"408\" style=\"--width:612; --height:408;\"><img src=\"https://media.istockphoto.com/photos/sunrise-or-sunset-over-the-rooftops-of-rome-picture-id829904894?k=20&amp;m=829904894&amp;s=612x612&amp;w=0&amp;h=WjNt0uwvBddJejmb9zN6wTTAoss4HTOpYrVK5fidTVg=\" alt=\"Sunrise or sunset over the rooftops of Rome\"></a><a data-testid=\"mosaic-grid-asset\" class=\"MosaicGridAsset-module__asset___KUL2E\" href=\"/search/search-by-asset?assetid=1066139134&amp;assettype=image\" data-max-width=\"612\" data-max-height=\"395\" style=\"--width:612; --height:395;\"><div class=\"Overlay-module__overlay___vpiF7\" data-testid=\"mosaic-grid-overlay\"></div><div class=\"Overlay-module__overlayText___OM41u\"><div class=\"Overlay-module__count___hP7sy\">+12455</div><div class=\"Overlay-module__media___OyqRg\">Similar images</div></div><img src=\"https://media.istockphoto.com/photos/panoramic-view-of-hamburg-city-picture-id684763938?k=20&amp;m=684763938&amp;s=612x612&amp;w=0&amp;h=nYxTW9oVlSqFczo_vjUi3FYqKouE_9uqGpx5sWwP8iM=\" alt=\"panoramic view of Hamburg city\"></a></div> '''"
      ],
      "metadata": {
        "id": "AroSVhoiBq6N"
      },
      "execution_count": null,
      "outputs": []
    },
    {
      "cell_type": "code",
      "metadata": {
        "collapsed": true,
        "id": "DSdtj7uTvCVF"
      },
      "source": [
        "#Provide the url for web scraping\n",
        "url = \"https://www.istockphoto.com/photo/sunrise-in-chisinau-moldova-republic-gm1066139134-285097855\"\n",
        "base_url = \"https://www.istockphoto.com/photo/\""
      ],
      "execution_count": null,
      "outputs": []
    },
    {
      "cell_type": "markdown",
      "metadata": {
        "id": "3r5IKRpYvCVH"
      },
      "source": [
        "#Data aquisition"
      ]
    },
    {
      "cell_type": "markdown",
      "source": [
        "##Get image link from html doc"
      ],
      "metadata": {
        "id": "rZmciVHXCBpi"
      }
    },
    {
      "cell_type": "code",
      "source": [
        "soup_test = BeautifulSoup(html_div_txt, 'html.parser')"
      ],
      "metadata": {
        "id": "nTmPjZuk4wkP"
      },
      "execution_count": null,
      "outputs": []
    },
    {
      "cell_type": "code",
      "source": [
        "images = soup_test.select('div img')"
      ],
      "metadata": {
        "id": "_eoQhfir9SvI"
      },
      "execution_count": null,
      "outputs": []
    },
    {
      "cell_type": "code",
      "source": [
        "lst_img_url = []\n",
        "for image_url in images:\n",
        "  lst_img_url.append(image_url['src'])"
      ],
      "metadata": {
        "id": "ciDWSl8q9gg6"
      },
      "execution_count": null,
      "outputs": []
    },
    {
      "cell_type": "markdown",
      "source": [
        "##Create png image"
      ],
      "metadata": {
        "id": "-CmSQLGXCKas"
      }
    },
    {
      "cell_type": "code",
      "source": [
        "i = 0\n",
        "for img_url in lst_img_url:\n",
        "  img_data = requests.get(img_url).content\n",
        "  name_img_file = 'name_{}.png'.format(i)\n",
        "  i += 1\n",
        "  with open(name_img_file, 'wb') as handler:\n",
        "    handler.write(img_data)"
      ],
      "metadata": {
        "id": "avbkX80S-fAd"
      },
      "execution_count": null,
      "outputs": []
    },
    {
      "cell_type": "code",
      "source": [
        "test_img_100x100 = 'https://www.kindpng.com/picc/m/182-1823427_100-100-pixel-hd-png-download.png'"
      ],
      "metadata": {
        "id": "F8Icc_eJHUVn"
      },
      "execution_count": null,
      "outputs": []
    },
    {
      "cell_type": "code",
      "source": [
        "img_data = requests.get(test_img_100x100).content\n",
        "name_img_file = 'test_img_100x100.png'.format(i)\n",
        "with open(name_img_file, 'wb') as handler:\n",
        "  handler.write(img_data)"
      ],
      "metadata": {
        "id": "I4wXYCtUHZWS"
      },
      "execution_count": null,
      "outputs": []
    },
    {
      "cell_type": "markdown",
      "source": [
        "##Compres image"
      ],
      "metadata": {
        "id": "ibLHJaJ3COg6"
      }
    },
    {
      "cell_type": "code",
      "source": [
        "# define a function for\n",
        "# compressing an image\n",
        "def compressMe(file, verbose = False):\n",
        "    # open the image\n",
        "    picture = Image.open(file)\n",
        "\n",
        "    # Save the picture with desired quality\n",
        "    # To change the quality of image,\n",
        "    # set the quality variable at\n",
        "    # your desired level, The more\n",
        "    # the value of quality variable\n",
        "    # and lesser the compression\n",
        "    picture.save(\"Compressed_\"+file,\n",
        "                 \"JPEG\",\n",
        "                 optimize = True,\n",
        "                 quality = 10)"
      ],
      "metadata": {
        "id": "Ld6m14jtAtwL"
      },
      "execution_count": null,
      "outputs": []
    },
    {
      "cell_type": "code",
      "source": [
        "i = 0\n",
        "for img_url in lst_img_url:\n",
        "  name_img_file = 'name_{}.png'.format(i)\n",
        "  i += 1\n",
        "  compressMe(name_img_file, verbose = False)"
      ],
      "metadata": {
        "id": "5pYeHhInPNSF"
      },
      "execution_count": null,
      "outputs": []
    },
    {
      "cell_type": "markdown",
      "source": [
        "#Data manipulation"
      ],
      "metadata": {
        "id": "grrp8JawDenL"
      }
    },
    {
      "cell_type": "code",
      "source": [
        "def imgToArray(name_img):\n",
        "  img_data = Image.open(name_img).convert('RGB')\n",
        "  img_arr = np.array(img_data)\n",
        "  return img_arr\n",
        "\n",
        "def arrayToImg(data, name):\n",
        "  im = Image.fromarray(data)\n",
        "  im.save(name + \".png\")\n",
        "\n",
        "\n",
        "def arrMultiplyBy(data, split_hight, split_width):\n",
        "  hight, width, chanel = data.shape\n",
        "  if ((hight % split_hight) != 0):\n",
        "    hight = int(hight / split_hight) * split_hight\n",
        "    data = data[:hight]\n",
        "  if ((width % split_width) != 0):\n",
        "    width = int(width / split_width) * split_width\n",
        "    data = data[:,:width]\n",
        "  return data\n",
        "\n",
        "def splitArrayToBlock(data, split_high, split_width):\n",
        "  high, width, channel = data.shape\n",
        "  lst_data = []\n",
        "  arr_high_step  = np.arange(0, high, split_high)\n",
        "  arr_width_step = np.arange(0, width, split_width)\n",
        "  arr_high_block  = np.arange(split_high)\n",
        "  for i in arr_high_step:\n",
        "    for j in arr_width_step:\n",
        "      lst_tmp_line = []\n",
        "      for k in arr_high_block:\n",
        "        x = data[i+k][j:j+split_width]\n",
        "        lst_tmp_line.append(x)\n",
        "      #print('len lst {}, size arr {}'.format(len(lst_tmp_line), lst_tmp_line[0].shape))\n",
        "      lst_data.append(np.array(lst_tmp_line))\n",
        "\n",
        "  #print(lst_data[0].shape)\n",
        "  return np.array(lst_data), (high, width, channel)\n",
        "\n",
        "def joinBlockToArray(data, split_high, split_width, size):\n",
        "  high, width, channel = size\n",
        "  lst_data = []\n",
        "  nbr_high_blockS  = int(high / split_high)\n",
        "  nbr_width_blockS = int(width / split_width)\n",
        "  data = data.reshape(nbr_high_blockS, nbr_width_blockS, split_high, split_width, channel)\n",
        "  arr_high_idxS  = np.arange(nbr_high_blockS)\n",
        "  arr_width_idxS = np.arange(nbr_width_blockS)\n",
        "  arr_high_block  = np.arange(split_high)\n",
        "\n",
        "  for i in arr_high_idxS:\n",
        "    for k in arr_high_block:\n",
        "      lst_tmp_line = []\n",
        "      for j in arr_width_idxS:\n",
        "        x = data[i][j][k]\n",
        "        lst_tmp_line.append(x)\n",
        "      lst_data.append(np.array(lst_tmp_line))\n",
        "\n",
        "  return np.array(lst_data).reshape(high, width, channel)\n"
      ],
      "metadata": {
        "id": "nGuCSJAQFFav"
      },
      "execution_count": null,
      "outputs": []
    },
    {
      "cell_type": "code",
      "source": [
        "def getVecBlocks(nbr_img, prefix_name, suffix_name, split_high, split_width):\n",
        "  i = 0\n",
        "  tmp_arr = np.zeros(1* split_high* split_width* 3).reshape(1, split_high, split_width, 3)\n",
        "  while(i < nbr_img):\n",
        "    name_img_file = prefix_name + str(i) + suffix_name\n",
        "    arr = imgToArray(name_img_file)\n",
        "    #print('imgToArray  = {}'.format(arr.shape))\n",
        "    arr = arrMultiplyBy(arr, split_high, split_width)\n",
        "    #print('arrMultiplyBy  = {}'.format(arr.shape))\n",
        "    arr, _ = splitArrayToBlock(arr, split_high, split_width)\n",
        "    #print('splitArrayToBlock  = {}'.format(arr.shape))\n",
        "    tmp_arr = np.concatenate((tmp_arr, arr), axis=0)\n",
        "    #print('tmp_arr.shape = ', tmp_arr.shape)\n",
        "    i += 1\n",
        "  return tmp_arr\n"
      ],
      "metadata": {
        "id": "JMDus_OvDhjA"
      },
      "execution_count": null,
      "outputs": []
    },
    {
      "cell_type": "code",
      "source": [
        "lst_img_url = [test_img_100x100, test_img_100x100]\n",
        "prefix_name, suffix_name = 'name_', '.png'\n",
        "split_high, split_width = 16, 16"
      ],
      "metadata": {
        "id": "qkIdhrhKu6Rh"
      },
      "execution_count": null,
      "outputs": []
    },
    {
      "cell_type": "code",
      "source": [
        "lst_block_Y = getVecBlocks(30, prefix_name, suffix_name, split_high, split_width)"
      ],
      "metadata": {
        "id": "W_y21d9jvLtM"
      },
      "execution_count": null,
      "outputs": []
    },
    {
      "cell_type": "code",
      "source": [
        "prefix_name, suffix_name = 'Compressed_name_', '.png'\n",
        "lst_block_X = getVecBlocks(30, prefix_name, suffix_name, split_high, split_width)"
      ],
      "metadata": {
        "id": "ScbeemfU3r1o"
      },
      "execution_count": null,
      "outputs": []
    },
    {
      "cell_type": "code",
      "source": [
        "lst_block_Y.shape"
      ],
      "metadata": {
        "colab": {
          "base_uri": "https://localhost:8080/"
        },
        "id": "Tu-vEwTMv6-D",
        "outputId": "b5221ecc-81d5-45ff-fada-5451298f74c1"
      },
      "execution_count": null,
      "outputs": [
        {
          "output_type": "execute_result",
          "data": {
            "text/plain": [
              "(26335, 16, 16, 3)"
            ]
          },
          "metadata": {},
          "execution_count": 19
        }
      ]
    },
    {
      "cell_type": "code",
      "source": [
        "lst_block_X.shape"
      ],
      "metadata": {
        "colab": {
          "base_uri": "https://localhost:8080/"
        },
        "id": "Z9pc3Hpp38em",
        "outputId": "6c12a50b-19a7-489b-f938-590ef201b93e"
      },
      "execution_count": null,
      "outputs": [
        {
          "output_type": "execute_result",
          "data": {
            "text/plain": [
              "(26335, 16, 16, 3)"
            ]
          },
          "metadata": {},
          "execution_count": 20
        }
      ]
    },
    {
      "cell_type": "markdown",
      "source": [
        "#Model"
      ],
      "metadata": {
        "id": "vw89Owf9CTPn"
      }
    },
    {
      "cell_type": "code",
      "source": [
        "class Correction(Model):\n",
        "  def __init__(self, hight, width, channel):\n",
        "    size_array = hight * width * channel\n",
        "    self.input_layer = Input(shape=(hight, width, channel),\n",
        "    name=\"Correction\",\n",
        "    dtype=np.float32,\n",
        "    )\n",
        "    h1_layer_e = Conv2D(16, (3, 3), activation='relu')(self.input_layer)\n",
        "    self.encoder = Conv2D(8, (3, 3), activation='relu')(h1_layer_e)\n",
        "\n",
        "    h1_layer_d = Conv2DTranspose(8, kernel_size=3, activation='relu')(self.encoder)\n",
        "    h2_layer_d = Conv2DTranspose(16, kernel_size=3, activation='relu')(h1_layer_d)\n",
        "    flatten_layer = Flatten()(h2_layer_d)\n",
        "    decoder_layer = Dense(size_array, activation=\"sigmoid\")(flatten_layer)\n",
        "    self.decoder  = Reshape((hight, width, channel), input_shape=(size_array,))(decoder_layer)\n",
        "\n",
        "  def getEncoder(self):\n",
        "    return Model(self.input_layer, self.encoder)\n",
        "\n",
        "  def getDecoder(self):\n",
        "    return Model(self.encoder, self.decoder)\n",
        "\n",
        "  def getAutoencoder(self):\n",
        "    return Model(self.input_layer, self.decoder)"
      ],
      "metadata": {
        "id": "6dyJcbLpA_ZY"
      },
      "execution_count": null,
      "outputs": []
    },
    {
      "cell_type": "code",
      "source": [
        "hight, width, channel = 16, 16, 3\n",
        "model_corection = Correction(hight, width, channel)"
      ],
      "metadata": {
        "id": "g25yA8Xf8b9T"
      },
      "execution_count": null,
      "outputs": []
    },
    {
      "cell_type": "code",
      "source": [
        "correction = model_corection.getAutoencoder()"
      ],
      "metadata": {
        "id": "75E9T06xAUcX"
      },
      "execution_count": null,
      "outputs": []
    },
    {
      "cell_type": "code",
      "source": [
        "correction.summary()"
      ],
      "metadata": {
        "colab": {
          "base_uri": "https://localhost:8080/"
        },
        "id": "U3c1cXEhAcFL",
        "outputId": "370d5b92-9d20-471f-add4-0238a55eb177"
      },
      "execution_count": null,
      "outputs": [
        {
          "output_type": "stream",
          "name": "stdout",
          "text": [
            "Model: \"model\"\n",
            "_________________________________________________________________\n",
            " Layer (type)                Output Shape              Param #   \n",
            "=================================================================\n",
            " Correction (InputLayer)     [(None, 16, 16, 3)]       0         \n",
            "                                                                 \n",
            " conv2d (Conv2D)             (None, 14, 14, 16)        448       \n",
            "                                                                 \n",
            " conv2d_1 (Conv2D)           (None, 12, 12, 8)         1160      \n",
            "                                                                 \n",
            " conv2d_transpose (Conv2DTra  (None, 14, 14, 8)        584       \n",
            " nspose)                                                         \n",
            "                                                                 \n",
            " conv2d_transpose_1 (Conv2DT  (None, 16, 16, 16)       1168      \n",
            " ranspose)                                                       \n",
            "                                                                 \n",
            " flatten (Flatten)           (None, 4096)              0         \n",
            "                                                                 \n",
            " dense (Dense)               (None, 768)               3146496   \n",
            "                                                                 \n",
            " reshape (Reshape)           (None, 16, 16, 3)         0         \n",
            "                                                                 \n",
            "=================================================================\n",
            "Total params: 3,149,856\n",
            "Trainable params: 3,149,856\n",
            "Non-trainable params: 0\n",
            "_________________________________________________________________\n"
          ]
        }
      ]
    },
    {
      "cell_type": "code",
      "source": [
        "correction.compile(optimizer='adam',\n",
        "              loss='categorical_crossentropy', metrics=['accuracy'])"
      ],
      "metadata": {
        "id": "glhHTqC8Ajm_"
      },
      "execution_count": null,
      "outputs": []
    },
    {
      "cell_type": "code",
      "source": [
        "lst_block_X, lst_block_Y = lst_block_X / 255., lst_block_Y / 255."
      ],
      "metadata": {
        "id": "_DEegV8HUOwA"
      },
      "execution_count": null,
      "outputs": []
    },
    {
      "cell_type": "code",
      "source": [
        "X_train, X_test, Y_train, Y_test = train_test_split(lst_block_X, lst_block_Y, test_size=0.33, random_state=42)"
      ],
      "metadata": {
        "id": "7Wn6LVZWArY_"
      },
      "execution_count": null,
      "outputs": []
    },
    {
      "cell_type": "code",
      "source": [
        "correction.fit(X_train, Y_train,\n",
        "          validation_data=(X_test, Y_test),\n",
        "          epochs=20,\n",
        "          batch_size=100,\n",
        "          callbacks=[PlotLossesKerasTF()]\n",
        "          )"
      ],
      "metadata": {
        "colab": {
          "base_uri": "https://localhost:8080/",
          "height": 593
        },
        "id": "Rt1uzfTJApF6",
        "outputId": "1fdf30e0-92c4-49e3-fa10-42b751962fee"
      },
      "execution_count": null,
      "outputs": [
        {
          "output_type": "display_data",
          "data": {
            "text/plain": [
              "<Figure size 864x576 with 2 Axes>"
            ],
            "image/png": "[encoded data removed]"
          },
          "metadata": {
            "needs_background": "light"
          }
        },
        {
          "output_type": "stream",
          "name": "stdout",
          "text": [
            "accuracy\n",
            "\ttraining         \t (min:    0.848, max:    0.886, cur:    0.886)\n",
            "\tvalidation       \t (min:    0.871, max:    0.895, cur:    0.892)\n",
            "Loss\n",
            "\ttraining         \t (min:    1.490, max:    1.497, cur:    1.490)\n",
            "\tvalidation       \t (min:    1.517, max:    1.518, cur:    1.517)\n",
            "\b\b\b\b\b\b\b\b\b\b\b\b\b\b\b\b\b\b\b\b\b\b\b\b\b\b\b\b\b\b\b\b\b\b\b\b\b\b\b\b\b\b\b\b\b\b\b\b\b\b\b\b\b\b\b\b\b\b\b\b\b\b\b\b\b\b\b\b\b\b\b\b\b\b\b\b\b\b\b\b\b\b\b\b\r177/177 [==============================] - 22s 125ms/step - loss: 1.4896 - accuracy: 0.8862 - val_loss: 1.5169 - val_accuracy: 0.8923\n"
          ]
        },
        {
          "output_type": "execute_result",
          "data": {
            "text/plain": [
              "<keras.callbacks.History at 0x7f0c684f4310>"
            ]
          },
          "metadata": {},
          "execution_count": 32
        }
      ]
    },
    {
      "cell_type": "code",
      "source": [
        "split_high, split_width = 16, 16\n",
        "name_img_file = 'Compressed_name_0.png'\n",
        "arr_img = imgToArray(name_img_file)\n",
        "arr_16 = arrMultiplyBy(arr_img, split_high, split_width)\n",
        "del arr_img\n",
        "lst_block_img, size_r = splitArrayToBlock(arr_16, split_high, split_width)\n",
        "del arr_16\n",
        "lst_block_img = lst_block_img / 255."
      ],
      "metadata": {
        "id": "q7vgei9rDqhh"
      },
      "execution_count": null,
      "outputs": []
    },
    {
      "cell_type": "code",
      "source": [
        "lst_block_pred = correction.predict(lst_block_img)"
      ],
      "metadata": {
        "id": "bHzxVgitD_rX"
      },
      "execution_count": null,
      "outputs": []
    },
    {
      "cell_type": "code",
      "source": [
        "lst_block_pred.shape"
      ],
      "metadata": {
        "colab": {
          "base_uri": "https://localhost:8080/"
        },
        "id": "Ci3PfWDGEIPB",
        "outputId": "0525716e-2d7d-40f3-bd67-6e96aec44817"
      },
      "execution_count": null,
      "outputs": [
        {
          "output_type": "execute_result",
          "data": {
            "text/plain": [
              "(950, 16, 16, 3)"
            ]
          },
          "metadata": {},
          "execution_count": 35
        }
      ]
    },
    {
      "cell_type": "code",
      "source": [
        "arr_img = joinBlockToArray(lst_block_pred, split_high, split_width, size_r)\n",
        "arr_img = arr_img * 255. + 0.5"
      ],
      "metadata": {
        "id": "bG648tOxETaa"
      },
      "execution_count": null,
      "outputs": []
    },
    {
      "cell_type": "code",
      "source": [
        "size_r"
      ],
      "metadata": {
        "colab": {
          "base_uri": "https://localhost:8080/"
        },
        "id": "p9O8XCewEvCR",
        "outputId": "ef990beb-2787-4e9c-8d40-ca3e2d7ee2ff"
      },
      "execution_count": null,
      "outputs": [
        {
          "output_type": "execute_result",
          "data": {
            "text/plain": [
              "(400, 608, 3)"
            ]
          },
          "metadata": {},
          "execution_count": 37
        }
      ]
    },
    {
      "cell_type": "code",
      "source": [
        "arr_img = np.array(arr_img, dtype=np.uint8)"
      ],
      "metadata": {
        "id": "falTGWgFEsBw"
      },
      "execution_count": null,
      "outputs": []
    },
    {
      "cell_type": "code",
      "source": [
        "name = 'predict_0.png'\n",
        "arrayToImg(arr_img, name)"
      ],
      "metadata": {
        "id": "5XJkyZa9Egy5"
      },
      "execution_count": null,
      "outputs": []
    }
  ]
}